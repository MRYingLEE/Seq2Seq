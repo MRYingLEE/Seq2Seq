{
  "nbformat": 4,
  "nbformat_minor": 0,
  "metadata": {
    "kernelspec": {
      "display_name": "Python 3",
      "language": "python",
      "name": "python3"
    },
    "language_info": {
      "codemirror_mode": {
        "name": "ipython",
        "version": 3
      },
      "file_extension": ".py",
      "mimetype": "text/x-python",
      "name": "python",
      "nbconvert_exporter": "python",
      "pygments_lexer": "ipython3",
      "version": "3.7.1"
    },
    "colab": {
      "name": "2.Solar Generation with auto-regressive model",
      "provenance": [],
      "machine_shape": "hm"
    }
  },
  "cells": [
    {
      "cell_type": "markdown",
      "metadata": {
        "id": "m7I35Gzz78o1",
        "colab_type": "text"
      },
      "source": [
        "# Modelling Solar generation across Multiple Sites\n",
        "\n",
        "This example shows how `timeserio` helps building deep learning models for time series forecasting. Especially,\n",
        "we deal with the case of many related timeseries.\n",
        "\n",
        "We demonstrate some core functionality and concepts, without striving for model accuracy or seeking out additional features like historic weather forecasts.\n",
        "\n",
        "We will be using the dataset on solar (photo-voltaic, PV) generation potential across Europe, as collected by [SETIS](https://setis.ec.europa.eu/EMHIRES-datasets). The dataset presents solar generation, normalized to the solar capacity installed as of 2015."
      ]
    },
    {
      "cell_type": "markdown",
      "metadata": {
        "id": "HF3rw-NhGfQY",
        "colab_type": "text"
      },
      "source": [
        "## To get data from the source (temporary)"
      ]
    },
    {
      "cell_type": "markdown",
      "metadata": {
        "id": "xmOm7b2v78o3",
        "colab_type": "text"
      },
      "source": [
        "### Download the data"
      ]
    },
    {
      "cell_type": "code",
      "metadata": {
        "id": "ZF43VGYC78o5",
        "colab_type": "code",
        "colab": {
          "base_uri": "https://localhost:8080/",
          "height": 238
        },
        "outputId": "74a76c09-d5b6-4686-c146-fc0f778a8239"
      },
      "source": [
        "!mkdir -p ~/tmp/datasets; cd ~/tmp/datasets; wget https://setis.ec.europa.eu/sites/default/files/EMHIRES_DATA/Solar/EMHIRESPV_country_level.zip; unzip -o EMHIRESPV_country_level.zip; rm EMHIRESPV_country_level.zip"
      ],
      "execution_count": 1,
      "outputs": [
        {
          "output_type": "stream",
          "text": [
            "--2020-03-23 06:12:59--  https://setis.ec.europa.eu/sites/default/files/EMHIRES_DATA/Solar/EMHIRESPV_country_level.zip\n",
            "Resolving setis.ec.europa.eu (setis.ec.europa.eu)... 139.191.207.52\n",
            "Connecting to setis.ec.europa.eu (setis.ec.europa.eu)|139.191.207.52|:443... connected.\n",
            "HTTP request sent, awaiting response... 200 OK\n",
            "Length: 93401258 (89M) [application/zip]\n",
            "Saving to: ‘EMHIRESPV_country_level.zip’\n",
            "\n",
            "EMHIRESPV_country_l 100%[===================>]  89.07M  9.95MB/s    in 13s     \n",
            "\n",
            "2020-03-23 06:13:14 (6.97 MB/s) - ‘EMHIRESPV_country_level.zip’ saved [93401258/93401258]\n",
            "\n",
            "Archive:  EMHIRESPV_country_level.zip\n",
            "  inflating: EMHIRESPV_TSh_CF_Country_19862015.xlsx  \n"
          ],
          "name": "stdout"
        }
      ]
    },
    {
      "cell_type": "markdown",
      "metadata": {
        "id": "2wBXQhv978o-",
        "colab_type": "text"
      },
      "source": [
        "### Download data and save in a more performant format"
      ]
    },
    {
      "cell_type": "code",
      "metadata": {
        "id": "j-Uau75L78o_",
        "colab_type": "code",
        "colab": {}
      },
      "source": [
        "import pandas as pd\n",
        "import numpy as np"
      ],
      "execution_count": 0,
      "outputs": []
    },
    {
      "cell_type": "code",
      "metadata": {
        "id": "ZkBVOL2R78pD",
        "colab_type": "code",
        "colab": {
          "base_uri": "https://localhost:8080/",
          "height": 51
        },
        "outputId": "55e614dc-1a50-424f-ae45-b8afe7dcf8f2"
      },
      "source": [
        "%%time\n",
        "df = pd.read_excel(\"~/tmp/datasets/EMHIRESPV_TSh_CF_Country_19862015.xlsx\")"
      ],
      "execution_count": 3,
      "outputs": [
        {
          "output_type": "stream",
          "text": [
            "CPU times: user 1min 21s, sys: 649 ms, total: 1min 22s\n",
            "Wall time: 1min 22s\n"
          ],
          "name": "stdout"
        }
      ]
    },
    {
      "cell_type": "code",
      "metadata": {
        "id": "D02Lit7v78pH",
        "colab_type": "code",
        "colab": {
          "base_uri": "https://localhost:8080/",
          "height": 142
        },
        "outputId": "d3d27d8a-c131-4000-9121-783bcb084091"
      },
      "source": [
        "df.head(3)"
      ],
      "execution_count": 4,
      "outputs": [
        {
          "output_type": "execute_result",
          "data": {
            "text/html": [
              "<div>\n",
              "<style scoped>\n",
              "    .dataframe tbody tr th:only-of-type {\n",
              "        vertical-align: middle;\n",
              "    }\n",
              "\n",
              "    .dataframe tbody tr th {\n",
              "        vertical-align: top;\n",
              "    }\n",
              "\n",
              "    .dataframe thead th {\n",
              "        text-align: right;\n",
              "    }\n",
              "</style>\n",
              "<table border=\"1\" class=\"dataframe\">\n",
              "  <thead>\n",
              "    <tr style=\"text-align: right;\">\n",
              "      <th></th>\n",
              "      <th>Time_step</th>\n",
              "      <th>Date</th>\n",
              "      <th>Year</th>\n",
              "      <th>Month</th>\n",
              "      <th>Day</th>\n",
              "      <th>Hour</th>\n",
              "      <th>AL</th>\n",
              "      <th>AT</th>\n",
              "      <th>BA</th>\n",
              "      <th>BE</th>\n",
              "      <th>BG</th>\n",
              "      <th>CH</th>\n",
              "      <th>CY</th>\n",
              "      <th>CZ</th>\n",
              "      <th>DE</th>\n",
              "      <th>DK</th>\n",
              "      <th>EE</th>\n",
              "      <th>ES</th>\n",
              "      <th>FI</th>\n",
              "      <th>FR</th>\n",
              "      <th>EL</th>\n",
              "      <th>HR</th>\n",
              "      <th>HU</th>\n",
              "      <th>IE</th>\n",
              "      <th>IT</th>\n",
              "      <th>LT</th>\n",
              "      <th>LU</th>\n",
              "      <th>LV</th>\n",
              "      <th>ME</th>\n",
              "      <th>MK</th>\n",
              "      <th>NL</th>\n",
              "      <th>NO</th>\n",
              "      <th>PL</th>\n",
              "      <th>PT</th>\n",
              "      <th>RO</th>\n",
              "      <th>RS</th>\n",
              "      <th>SI</th>\n",
              "      <th>SK</th>\n",
              "      <th>SE</th>\n",
              "      <th>XK</th>\n",
              "      <th>UK</th>\n",
              "    </tr>\n",
              "  </thead>\n",
              "  <tbody>\n",
              "    <tr>\n",
              "      <th>0</th>\n",
              "      <td>1</td>\n",
              "      <td>1986-01-01 00:00:00</td>\n",
              "      <td>1986</td>\n",
              "      <td>1</td>\n",
              "      <td>1</td>\n",
              "      <td>0</td>\n",
              "      <td>0.0</td>\n",
              "      <td>0.0</td>\n",
              "      <td>0.0</td>\n",
              "      <td>0.0</td>\n",
              "      <td>0.0</td>\n",
              "      <td>0.0</td>\n",
              "      <td>0</td>\n",
              "      <td>0.0</td>\n",
              "      <td>0.0</td>\n",
              "      <td>0.0</td>\n",
              "      <td>0.0</td>\n",
              "      <td>0.0</td>\n",
              "      <td>0.0</td>\n",
              "      <td>0.0</td>\n",
              "      <td>0.0</td>\n",
              "      <td>0.0</td>\n",
              "      <td>0.0</td>\n",
              "      <td>0.0</td>\n",
              "      <td>0.0</td>\n",
              "      <td>0.0</td>\n",
              "      <td>0.0</td>\n",
              "      <td>0.0</td>\n",
              "      <td>0.0</td>\n",
              "      <td>0.0</td>\n",
              "      <td>0.0</td>\n",
              "      <td>0.0</td>\n",
              "      <td>0.0</td>\n",
              "      <td>0.0</td>\n",
              "      <td>0.0</td>\n",
              "      <td>0.0</td>\n",
              "      <td>0.0</td>\n",
              "      <td>0.0</td>\n",
              "      <td>0.0</td>\n",
              "      <td>0.0</td>\n",
              "      <td>0.0</td>\n",
              "    </tr>\n",
              "    <tr>\n",
              "      <th>1</th>\n",
              "      <td>2</td>\n",
              "      <td>1986-01-01 01:00:00</td>\n",
              "      <td>1986</td>\n",
              "      <td>1</td>\n",
              "      <td>1</td>\n",
              "      <td>1</td>\n",
              "      <td>0.0</td>\n",
              "      <td>0.0</td>\n",
              "      <td>0.0</td>\n",
              "      <td>0.0</td>\n",
              "      <td>0.0</td>\n",
              "      <td>0.0</td>\n",
              "      <td>0</td>\n",
              "      <td>0.0</td>\n",
              "      <td>0.0</td>\n",
              "      <td>0.0</td>\n",
              "      <td>0.0</td>\n",
              "      <td>0.0</td>\n",
              "      <td>0.0</td>\n",
              "      <td>0.0</td>\n",
              "      <td>0.0</td>\n",
              "      <td>0.0</td>\n",
              "      <td>0.0</td>\n",
              "      <td>0.0</td>\n",
              "      <td>0.0</td>\n",
              "      <td>0.0</td>\n",
              "      <td>0.0</td>\n",
              "      <td>0.0</td>\n",
              "      <td>0.0</td>\n",
              "      <td>0.0</td>\n",
              "      <td>0.0</td>\n",
              "      <td>0.0</td>\n",
              "      <td>0.0</td>\n",
              "      <td>0.0</td>\n",
              "      <td>0.0</td>\n",
              "      <td>0.0</td>\n",
              "      <td>0.0</td>\n",
              "      <td>0.0</td>\n",
              "      <td>0.0</td>\n",
              "      <td>0.0</td>\n",
              "      <td>0.0</td>\n",
              "    </tr>\n",
              "    <tr>\n",
              "      <th>2</th>\n",
              "      <td>3</td>\n",
              "      <td>1986-01-01 02:00:00</td>\n",
              "      <td>1986</td>\n",
              "      <td>1</td>\n",
              "      <td>1</td>\n",
              "      <td>2</td>\n",
              "      <td>0.0</td>\n",
              "      <td>0.0</td>\n",
              "      <td>0.0</td>\n",
              "      <td>0.0</td>\n",
              "      <td>0.0</td>\n",
              "      <td>0.0</td>\n",
              "      <td>0</td>\n",
              "      <td>0.0</td>\n",
              "      <td>0.0</td>\n",
              "      <td>0.0</td>\n",
              "      <td>0.0</td>\n",
              "      <td>0.0</td>\n",
              "      <td>0.0</td>\n",
              "      <td>0.0</td>\n",
              "      <td>0.0</td>\n",
              "      <td>0.0</td>\n",
              "      <td>0.0</td>\n",
              "      <td>0.0</td>\n",
              "      <td>0.0</td>\n",
              "      <td>0.0</td>\n",
              "      <td>0.0</td>\n",
              "      <td>0.0</td>\n",
              "      <td>0.0</td>\n",
              "      <td>0.0</td>\n",
              "      <td>0.0</td>\n",
              "      <td>0.0</td>\n",
              "      <td>0.0</td>\n",
              "      <td>0.0</td>\n",
              "      <td>0.0</td>\n",
              "      <td>0.0</td>\n",
              "      <td>0.0</td>\n",
              "      <td>0.0</td>\n",
              "      <td>0.0</td>\n",
              "      <td>0.0</td>\n",
              "      <td>0.0</td>\n",
              "    </tr>\n",
              "  </tbody>\n",
              "</table>\n",
              "</div>"
            ],
            "text/plain": [
              "   Time_step                Date  Year  Month  Day  ...   SI   SK   SE   XK   UK\n",
              "0          1 1986-01-01 00:00:00  1986      1    1  ...  0.0  0.0  0.0  0.0  0.0\n",
              "1          2 1986-01-01 01:00:00  1986      1    1  ...  0.0  0.0  0.0  0.0  0.0\n",
              "2          3 1986-01-01 02:00:00  1986      1    1  ...  0.0  0.0  0.0  0.0  0.0\n",
              "\n",
              "[3 rows x 41 columns]"
            ]
          },
          "metadata": {
            "tags": []
          },
          "execution_count": 4
        }
      ]
    },
    {
      "cell_type": "markdown",
      "metadata": {
        "id": "p84G29sj78pL",
        "colab_type": "text"
      },
      "source": [
        "### Reshape data to tall format\n",
        "We add a `country` column to identify each table row."
      ]
    },
    {
      "cell_type": "code",
      "metadata": {
        "id": "tST-xAnJ78pM",
        "colab_type": "code",
        "colab": {}
      },
      "source": [
        "id_vars = ['Time_step', 'Date', 'Year', 'Month', 'Day', 'Hour']\n",
        "country_vars = list(set(df.columns) - set(id_vars))\n",
        "df_tall = pd.melt(df, id_vars=id_vars, value_vars=country_vars, var_name=\"country\", value_name=\"generation\")"
      ],
      "execution_count": 0,
      "outputs": []
    },
    {
      "cell_type": "markdown",
      "metadata": {
        "id": "YFrPxsA578pi",
        "colab_type": "text"
      },
      "source": [
        "### Load the data from parquet"
      ]
    },
    {
      "cell_type": "code",
      "metadata": {
        "id": "BR8RNvXO78pj",
        "colab_type": "code",
        "colab": {}
      },
      "source": [
        "import pandas as pd\n",
        "import matplotlib.pyplot as plt\n",
        "import seaborn as sns"
      ],
      "execution_count": 0,
      "outputs": []
    },
    {
      "cell_type": "code",
      "metadata": {
        "id": "egEOQNwo78pn",
        "colab_type": "code",
        "colab": {
          "base_uri": "https://localhost:8080/",
          "height": 51
        },
        "outputId": "b997e4f1-f88f-414f-9827-fc220f23c06f"
      },
      "source": [
        "%%time\n",
        "df = df_tall"
      ],
      "execution_count": 7,
      "outputs": [
        {
          "output_type": "stream",
          "text": [
            "CPU times: user 20 µs, sys: 0 ns, total: 20 µs\n",
            "Wall time: 23.8 µs\n"
          ],
          "name": "stdout"
        }
      ]
    },
    {
      "cell_type": "markdown",
      "metadata": {
        "id": "0RxnMQ-W78qM",
        "colab_type": "text"
      },
      "source": [
        "## Split into train-test sets"
      ]
    },
    {
      "cell_type": "code",
      "metadata": {
        "id": "xp8yaG6_78qN",
        "colab_type": "code",
        "colab": {
          "base_uri": "https://localhost:8080/",
          "height": 34
        },
        "outputId": "d1804c17-457e-456b-9d27-65b3b32b63ef"
      },
      "source": [
        "df_dev = df.iloc[:100]\n",
        "df_train, df_test = df[df['Year'] < 2015], df[df['Year'] >= 2015]\n",
        "len(df_train), len(df_test)"
      ],
      "execution_count": 8,
      "outputs": [
        {
          "output_type": "execute_result",
          "data": {
            "text/plain": [
              "(8897280, 306600)"
            ]
          },
          "metadata": {
            "tags": []
          },
          "execution_count": 8
        }
      ]
    },
    {
      "cell_type": "code",
      "metadata": {
        "id": "ehwOPzGDipPI",
        "colab_type": "code",
        "colab": {
          "base_uri": "https://localhost:8080/",
          "height": 979
        },
        "outputId": "b4fc910a-e516-47c7-f8bc-18ca42ed6710"
      },
      "source": [
        "df.groupby(\"Year\").count().reset_index()"
      ],
      "execution_count": 9,
      "outputs": [
        {
          "output_type": "execute_result",
          "data": {
            "text/html": [
              "<div>\n",
              "<style scoped>\n",
              "    .dataframe tbody tr th:only-of-type {\n",
              "        vertical-align: middle;\n",
              "    }\n",
              "\n",
              "    .dataframe tbody tr th {\n",
              "        vertical-align: top;\n",
              "    }\n",
              "\n",
              "    .dataframe thead th {\n",
              "        text-align: right;\n",
              "    }\n",
              "</style>\n",
              "<table border=\"1\" class=\"dataframe\">\n",
              "  <thead>\n",
              "    <tr style=\"text-align: right;\">\n",
              "      <th></th>\n",
              "      <th>Year</th>\n",
              "      <th>Time_step</th>\n",
              "      <th>Date</th>\n",
              "      <th>Month</th>\n",
              "      <th>Day</th>\n",
              "      <th>Hour</th>\n",
              "      <th>country</th>\n",
              "      <th>generation</th>\n",
              "    </tr>\n",
              "  </thead>\n",
              "  <tbody>\n",
              "    <tr>\n",
              "      <th>0</th>\n",
              "      <td>1986</td>\n",
              "      <td>306600</td>\n",
              "      <td>306600</td>\n",
              "      <td>306600</td>\n",
              "      <td>306600</td>\n",
              "      <td>306600</td>\n",
              "      <td>306600</td>\n",
              "      <td>306600</td>\n",
              "    </tr>\n",
              "    <tr>\n",
              "      <th>1</th>\n",
              "      <td>1987</td>\n",
              "      <td>306600</td>\n",
              "      <td>306600</td>\n",
              "      <td>306600</td>\n",
              "      <td>306600</td>\n",
              "      <td>306600</td>\n",
              "      <td>306600</td>\n",
              "      <td>306600</td>\n",
              "    </tr>\n",
              "    <tr>\n",
              "      <th>2</th>\n",
              "      <td>1988</td>\n",
              "      <td>307440</td>\n",
              "      <td>307440</td>\n",
              "      <td>307440</td>\n",
              "      <td>307440</td>\n",
              "      <td>307440</td>\n",
              "      <td>307440</td>\n",
              "      <td>307440</td>\n",
              "    </tr>\n",
              "    <tr>\n",
              "      <th>3</th>\n",
              "      <td>1989</td>\n",
              "      <td>306600</td>\n",
              "      <td>306600</td>\n",
              "      <td>306600</td>\n",
              "      <td>306600</td>\n",
              "      <td>306600</td>\n",
              "      <td>306600</td>\n",
              "      <td>306600</td>\n",
              "    </tr>\n",
              "    <tr>\n",
              "      <th>4</th>\n",
              "      <td>1990</td>\n",
              "      <td>306600</td>\n",
              "      <td>306600</td>\n",
              "      <td>306600</td>\n",
              "      <td>306600</td>\n",
              "      <td>306600</td>\n",
              "      <td>306600</td>\n",
              "      <td>306600</td>\n",
              "    </tr>\n",
              "    <tr>\n",
              "      <th>5</th>\n",
              "      <td>1991</td>\n",
              "      <td>306600</td>\n",
              "      <td>306600</td>\n",
              "      <td>306600</td>\n",
              "      <td>306600</td>\n",
              "      <td>306600</td>\n",
              "      <td>306600</td>\n",
              "      <td>306600</td>\n",
              "    </tr>\n",
              "    <tr>\n",
              "      <th>6</th>\n",
              "      <td>1992</td>\n",
              "      <td>307440</td>\n",
              "      <td>307440</td>\n",
              "      <td>307440</td>\n",
              "      <td>307440</td>\n",
              "      <td>307440</td>\n",
              "      <td>307440</td>\n",
              "      <td>307440</td>\n",
              "    </tr>\n",
              "    <tr>\n",
              "      <th>7</th>\n",
              "      <td>1993</td>\n",
              "      <td>306600</td>\n",
              "      <td>306600</td>\n",
              "      <td>306600</td>\n",
              "      <td>306600</td>\n",
              "      <td>306600</td>\n",
              "      <td>306600</td>\n",
              "      <td>306600</td>\n",
              "    </tr>\n",
              "    <tr>\n",
              "      <th>8</th>\n",
              "      <td>1994</td>\n",
              "      <td>306600</td>\n",
              "      <td>306600</td>\n",
              "      <td>306600</td>\n",
              "      <td>306600</td>\n",
              "      <td>306600</td>\n",
              "      <td>306600</td>\n",
              "      <td>306600</td>\n",
              "    </tr>\n",
              "    <tr>\n",
              "      <th>9</th>\n",
              "      <td>1995</td>\n",
              "      <td>306600</td>\n",
              "      <td>306600</td>\n",
              "      <td>306600</td>\n",
              "      <td>306600</td>\n",
              "      <td>306600</td>\n",
              "      <td>306600</td>\n",
              "      <td>306600</td>\n",
              "    </tr>\n",
              "    <tr>\n",
              "      <th>10</th>\n",
              "      <td>1996</td>\n",
              "      <td>307440</td>\n",
              "      <td>307440</td>\n",
              "      <td>307440</td>\n",
              "      <td>307440</td>\n",
              "      <td>307440</td>\n",
              "      <td>307440</td>\n",
              "      <td>307440</td>\n",
              "    </tr>\n",
              "    <tr>\n",
              "      <th>11</th>\n",
              "      <td>1997</td>\n",
              "      <td>306600</td>\n",
              "      <td>306600</td>\n",
              "      <td>306600</td>\n",
              "      <td>306600</td>\n",
              "      <td>306600</td>\n",
              "      <td>306600</td>\n",
              "      <td>306600</td>\n",
              "    </tr>\n",
              "    <tr>\n",
              "      <th>12</th>\n",
              "      <td>1998</td>\n",
              "      <td>306600</td>\n",
              "      <td>306600</td>\n",
              "      <td>306600</td>\n",
              "      <td>306600</td>\n",
              "      <td>306600</td>\n",
              "      <td>306600</td>\n",
              "      <td>306600</td>\n",
              "    </tr>\n",
              "    <tr>\n",
              "      <th>13</th>\n",
              "      <td>1999</td>\n",
              "      <td>306600</td>\n",
              "      <td>306600</td>\n",
              "      <td>306600</td>\n",
              "      <td>306600</td>\n",
              "      <td>306600</td>\n",
              "      <td>306600</td>\n",
              "      <td>306600</td>\n",
              "    </tr>\n",
              "    <tr>\n",
              "      <th>14</th>\n",
              "      <td>2000</td>\n",
              "      <td>307440</td>\n",
              "      <td>307440</td>\n",
              "      <td>307440</td>\n",
              "      <td>307440</td>\n",
              "      <td>307440</td>\n",
              "      <td>307440</td>\n",
              "      <td>307440</td>\n",
              "    </tr>\n",
              "    <tr>\n",
              "      <th>15</th>\n",
              "      <td>2001</td>\n",
              "      <td>306600</td>\n",
              "      <td>306600</td>\n",
              "      <td>306600</td>\n",
              "      <td>306600</td>\n",
              "      <td>306600</td>\n",
              "      <td>306600</td>\n",
              "      <td>306600</td>\n",
              "    </tr>\n",
              "    <tr>\n",
              "      <th>16</th>\n",
              "      <td>2002</td>\n",
              "      <td>306600</td>\n",
              "      <td>306600</td>\n",
              "      <td>306600</td>\n",
              "      <td>306600</td>\n",
              "      <td>306600</td>\n",
              "      <td>306600</td>\n",
              "      <td>306600</td>\n",
              "    </tr>\n",
              "    <tr>\n",
              "      <th>17</th>\n",
              "      <td>2003</td>\n",
              "      <td>306600</td>\n",
              "      <td>306600</td>\n",
              "      <td>306600</td>\n",
              "      <td>306600</td>\n",
              "      <td>306600</td>\n",
              "      <td>306600</td>\n",
              "      <td>306600</td>\n",
              "    </tr>\n",
              "    <tr>\n",
              "      <th>18</th>\n",
              "      <td>2004</td>\n",
              "      <td>307440</td>\n",
              "      <td>307440</td>\n",
              "      <td>307440</td>\n",
              "      <td>307440</td>\n",
              "      <td>307440</td>\n",
              "      <td>307440</td>\n",
              "      <td>307440</td>\n",
              "    </tr>\n",
              "    <tr>\n",
              "      <th>19</th>\n",
              "      <td>2005</td>\n",
              "      <td>306600</td>\n",
              "      <td>306600</td>\n",
              "      <td>306600</td>\n",
              "      <td>306600</td>\n",
              "      <td>306600</td>\n",
              "      <td>306600</td>\n",
              "      <td>306600</td>\n",
              "    </tr>\n",
              "    <tr>\n",
              "      <th>20</th>\n",
              "      <td>2006</td>\n",
              "      <td>306600</td>\n",
              "      <td>306600</td>\n",
              "      <td>306600</td>\n",
              "      <td>306600</td>\n",
              "      <td>306600</td>\n",
              "      <td>306600</td>\n",
              "      <td>306600</td>\n",
              "    </tr>\n",
              "    <tr>\n",
              "      <th>21</th>\n",
              "      <td>2007</td>\n",
              "      <td>306600</td>\n",
              "      <td>306600</td>\n",
              "      <td>306600</td>\n",
              "      <td>306600</td>\n",
              "      <td>306600</td>\n",
              "      <td>306600</td>\n",
              "      <td>306600</td>\n",
              "    </tr>\n",
              "    <tr>\n",
              "      <th>22</th>\n",
              "      <td>2008</td>\n",
              "      <td>307440</td>\n",
              "      <td>307440</td>\n",
              "      <td>307440</td>\n",
              "      <td>307440</td>\n",
              "      <td>307440</td>\n",
              "      <td>307440</td>\n",
              "      <td>307440</td>\n",
              "    </tr>\n",
              "    <tr>\n",
              "      <th>23</th>\n",
              "      <td>2009</td>\n",
              "      <td>306600</td>\n",
              "      <td>306600</td>\n",
              "      <td>306600</td>\n",
              "      <td>306600</td>\n",
              "      <td>306600</td>\n",
              "      <td>306600</td>\n",
              "      <td>306600</td>\n",
              "    </tr>\n",
              "    <tr>\n",
              "      <th>24</th>\n",
              "      <td>2010</td>\n",
              "      <td>306600</td>\n",
              "      <td>306600</td>\n",
              "      <td>306600</td>\n",
              "      <td>306600</td>\n",
              "      <td>306600</td>\n",
              "      <td>306600</td>\n",
              "      <td>306600</td>\n",
              "    </tr>\n",
              "    <tr>\n",
              "      <th>25</th>\n",
              "      <td>2011</td>\n",
              "      <td>306600</td>\n",
              "      <td>306600</td>\n",
              "      <td>306600</td>\n",
              "      <td>306600</td>\n",
              "      <td>306600</td>\n",
              "      <td>306600</td>\n",
              "      <td>306600</td>\n",
              "    </tr>\n",
              "    <tr>\n",
              "      <th>26</th>\n",
              "      <td>2012</td>\n",
              "      <td>307440</td>\n",
              "      <td>307440</td>\n",
              "      <td>307440</td>\n",
              "      <td>307440</td>\n",
              "      <td>307440</td>\n",
              "      <td>307440</td>\n",
              "      <td>307440</td>\n",
              "    </tr>\n",
              "    <tr>\n",
              "      <th>27</th>\n",
              "      <td>2013</td>\n",
              "      <td>306600</td>\n",
              "      <td>306600</td>\n",
              "      <td>306600</td>\n",
              "      <td>306600</td>\n",
              "      <td>306600</td>\n",
              "      <td>306600</td>\n",
              "      <td>306600</td>\n",
              "    </tr>\n",
              "    <tr>\n",
              "      <th>28</th>\n",
              "      <td>2014</td>\n",
              "      <td>306600</td>\n",
              "      <td>306600</td>\n",
              "      <td>306600</td>\n",
              "      <td>306600</td>\n",
              "      <td>306600</td>\n",
              "      <td>306600</td>\n",
              "      <td>306600</td>\n",
              "    </tr>\n",
              "    <tr>\n",
              "      <th>29</th>\n",
              "      <td>2015</td>\n",
              "      <td>306600</td>\n",
              "      <td>306600</td>\n",
              "      <td>306600</td>\n",
              "      <td>306600</td>\n",
              "      <td>306600</td>\n",
              "      <td>306600</td>\n",
              "      <td>306600</td>\n",
              "    </tr>\n",
              "  </tbody>\n",
              "</table>\n",
              "</div>"
            ],
            "text/plain": [
              "    Year  Time_step    Date   Month     Day    Hour  country  generation\n",
              "0   1986     306600  306600  306600  306600  306600   306600      306600\n",
              "1   1987     306600  306600  306600  306600  306600   306600      306600\n",
              "2   1988     307440  307440  307440  307440  307440   307440      307440\n",
              "3   1989     306600  306600  306600  306600  306600   306600      306600\n",
              "4   1990     306600  306600  306600  306600  306600   306600      306600\n",
              "5   1991     306600  306600  306600  306600  306600   306600      306600\n",
              "6   1992     307440  307440  307440  307440  307440   307440      307440\n",
              "7   1993     306600  306600  306600  306600  306600   306600      306600\n",
              "8   1994     306600  306600  306600  306600  306600   306600      306600\n",
              "9   1995     306600  306600  306600  306600  306600   306600      306600\n",
              "10  1996     307440  307440  307440  307440  307440   307440      307440\n",
              "11  1997     306600  306600  306600  306600  306600   306600      306600\n",
              "12  1998     306600  306600  306600  306600  306600   306600      306600\n",
              "13  1999     306600  306600  306600  306600  306600   306600      306600\n",
              "14  2000     307440  307440  307440  307440  307440   307440      307440\n",
              "15  2001     306600  306600  306600  306600  306600   306600      306600\n",
              "16  2002     306600  306600  306600  306600  306600   306600      306600\n",
              "17  2003     306600  306600  306600  306600  306600   306600      306600\n",
              "18  2004     307440  307440  307440  307440  307440   307440      307440\n",
              "19  2005     306600  306600  306600  306600  306600   306600      306600\n",
              "20  2006     306600  306600  306600  306600  306600   306600      306600\n",
              "21  2007     306600  306600  306600  306600  306600   306600      306600\n",
              "22  2008     307440  307440  307440  307440  307440   307440      307440\n",
              "23  2009     306600  306600  306600  306600  306600   306600      306600\n",
              "24  2010     306600  306600  306600  306600  306600   306600      306600\n",
              "25  2011     306600  306600  306600  306600  306600   306600      306600\n",
              "26  2012     307440  307440  307440  307440  307440   307440      307440\n",
              "27  2013     306600  306600  306600  306600  306600   306600      306600\n",
              "28  2014     306600  306600  306600  306600  306600   306600      306600\n",
              "29  2015     306600  306600  306600  306600  306600   306600      306600"
            ]
          },
          "metadata": {
            "tags": []
          },
          "execution_count": 9
        }
      ]
    },
    {
      "cell_type": "code",
      "metadata": {
        "id": "tpJHQuHjwUiW",
        "colab_type": "code",
        "outputId": "71a231a1-03e1-400b-fca4-ed1ebec4c64d",
        "colab": {
          "base_uri": "https://localhost:8080/",
          "height": 51
        }
      },
      "source": [
        "%%time\n",
        "df_test.to_parquet(\"/content/test.parquet\")"
      ],
      "execution_count": 10,
      "outputs": [
        {
          "output_type": "stream",
          "text": [
            "CPU times: user 104 ms, sys: 14 ms, total: 118 ms\n",
            "Wall time: 130 ms\n"
          ],
          "name": "stdout"
        }
      ]
    },
    {
      "cell_type": "code",
      "metadata": {
        "id": "UzQcIUAlCRGW",
        "colab_type": "code",
        "outputId": "f40efed2-fdd2-4db9-a0e7-9b872382a259",
        "colab": {
          "base_uri": "https://localhost:8080/",
          "height": 68
        }
      },
      "source": [
        "!ls /content -l"
      ],
      "execution_count": 11,
      "outputs": [
        {
          "output_type": "stream",
          "text": [
            "total 3784\n",
            "drwxr-xr-x 1 root root    4096 Mar 18 16:23 sample_data\n",
            "-rw-r--r-- 1 root root 3868781 Mar 23 06:14 test.parquet\n"
          ],
          "name": "stdout"
        }
      ]
    },
    {
      "cell_type": "code",
      "metadata": {
        "id": "bF9otCaAwUij",
        "colab_type": "code",
        "outputId": "4ece3df2-699a-4a7e-cabf-44254a2a38ff",
        "colab": {
          "base_uri": "https://localhost:8080/",
          "height": 324
        }
      },
      "source": [
        "from google.colab import files\n",
        "files.download(\"/content/test.parquet\")"
      ],
      "execution_count": 12,
      "outputs": [
        {
          "output_type": "error",
          "ename": "MessageError",
          "evalue": "ignored",
          "traceback": [
            "\u001b[0;31m---------------------------------------------------------------------------\u001b[0m",
            "\u001b[0;31mMessageError\u001b[0m                              Traceback (most recent call last)",
            "\u001b[0;32m<ipython-input-12-6be00659cee5>\u001b[0m in \u001b[0;36m<module>\u001b[0;34m()\u001b[0m\n\u001b[1;32m      1\u001b[0m \u001b[0;32mfrom\u001b[0m \u001b[0mgoogle\u001b[0m\u001b[0;34m.\u001b[0m\u001b[0mcolab\u001b[0m \u001b[0;32mimport\u001b[0m \u001b[0mfiles\u001b[0m\u001b[0;34m\u001b[0m\u001b[0;34m\u001b[0m\u001b[0m\n\u001b[0;32m----> 2\u001b[0;31m \u001b[0mfiles\u001b[0m\u001b[0;34m.\u001b[0m\u001b[0mdownload\u001b[0m\u001b[0;34m(\u001b[0m\u001b[0;34m\"/content/test.parquet\"\u001b[0m\u001b[0;34m)\u001b[0m\u001b[0;34m\u001b[0m\u001b[0;34m\u001b[0m\u001b[0m\n\u001b[0m",
            "\u001b[0;32m/usr/local/lib/python3.6/dist-packages/google/colab/files.py\u001b[0m in \u001b[0;36mdownload\u001b[0;34m(filename)\u001b[0m\n\u001b[1;32m    176\u001b[0m       \u001b[0;34m'port'\u001b[0m\u001b[0;34m:\u001b[0m \u001b[0mport\u001b[0m\u001b[0;34m,\u001b[0m\u001b[0;34m\u001b[0m\u001b[0;34m\u001b[0m\u001b[0m\n\u001b[1;32m    177\u001b[0m       \u001b[0;34m'path'\u001b[0m\u001b[0;34m:\u001b[0m \u001b[0m_os\u001b[0m\u001b[0;34m.\u001b[0m\u001b[0mpath\u001b[0m\u001b[0;34m.\u001b[0m\u001b[0mabspath\u001b[0m\u001b[0;34m(\u001b[0m\u001b[0mfilename\u001b[0m\u001b[0;34m)\u001b[0m\u001b[0;34m,\u001b[0m\u001b[0;34m\u001b[0m\u001b[0;34m\u001b[0m\u001b[0m\n\u001b[0;32m--> 178\u001b[0;31m       \u001b[0;34m'name'\u001b[0m\u001b[0;34m:\u001b[0m \u001b[0m_os\u001b[0m\u001b[0;34m.\u001b[0m\u001b[0mpath\u001b[0m\u001b[0;34m.\u001b[0m\u001b[0mbasename\u001b[0m\u001b[0;34m(\u001b[0m\u001b[0mfilename\u001b[0m\u001b[0;34m)\u001b[0m\u001b[0;34m,\u001b[0m\u001b[0;34m\u001b[0m\u001b[0;34m\u001b[0m\u001b[0m\n\u001b[0m\u001b[1;32m    179\u001b[0m   })\n",
            "\u001b[0;32m/usr/local/lib/python3.6/dist-packages/google/colab/output/_js.py\u001b[0m in \u001b[0;36meval_js\u001b[0;34m(script, ignore_result)\u001b[0m\n\u001b[1;32m     37\u001b[0m   \u001b[0;32mif\u001b[0m \u001b[0mignore_result\u001b[0m\u001b[0;34m:\u001b[0m\u001b[0;34m\u001b[0m\u001b[0;34m\u001b[0m\u001b[0m\n\u001b[1;32m     38\u001b[0m     \u001b[0;32mreturn\u001b[0m\u001b[0;34m\u001b[0m\u001b[0;34m\u001b[0m\u001b[0m\n\u001b[0;32m---> 39\u001b[0;31m   \u001b[0;32mreturn\u001b[0m \u001b[0m_message\u001b[0m\u001b[0;34m.\u001b[0m\u001b[0mread_reply_from_input\u001b[0m\u001b[0;34m(\u001b[0m\u001b[0mrequest_id\u001b[0m\u001b[0;34m)\u001b[0m\u001b[0;34m\u001b[0m\u001b[0;34m\u001b[0m\u001b[0m\n\u001b[0m\u001b[1;32m     40\u001b[0m \u001b[0;34m\u001b[0m\u001b[0m\n\u001b[1;32m     41\u001b[0m \u001b[0;34m\u001b[0m\u001b[0m\n",
            "\u001b[0;32m/usr/local/lib/python3.6/dist-packages/google/colab/_message.py\u001b[0m in \u001b[0;36mread_reply_from_input\u001b[0;34m(message_id, timeout_sec)\u001b[0m\n\u001b[1;32m    104\u001b[0m         reply.get('colab_msg_id') == message_id):\n\u001b[1;32m    105\u001b[0m       \u001b[0;32mif\u001b[0m \u001b[0;34m'error'\u001b[0m \u001b[0;32min\u001b[0m \u001b[0mreply\u001b[0m\u001b[0;34m:\u001b[0m\u001b[0;34m\u001b[0m\u001b[0;34m\u001b[0m\u001b[0m\n\u001b[0;32m--> 106\u001b[0;31m         \u001b[0;32mraise\u001b[0m \u001b[0mMessageError\u001b[0m\u001b[0;34m(\u001b[0m\u001b[0mreply\u001b[0m\u001b[0;34m[\u001b[0m\u001b[0;34m'error'\u001b[0m\u001b[0;34m]\u001b[0m\u001b[0;34m)\u001b[0m\u001b[0;34m\u001b[0m\u001b[0;34m\u001b[0m\u001b[0m\n\u001b[0m\u001b[1;32m    107\u001b[0m       \u001b[0;32mreturn\u001b[0m \u001b[0mreply\u001b[0m\u001b[0;34m.\u001b[0m\u001b[0mget\u001b[0m\u001b[0;34m(\u001b[0m\u001b[0;34m'data'\u001b[0m\u001b[0;34m,\u001b[0m \u001b[0;32mNone\u001b[0m\u001b[0;34m)\u001b[0m\u001b[0;34m\u001b[0m\u001b[0;34m\u001b[0m\u001b[0m\n\u001b[1;32m    108\u001b[0m \u001b[0;34m\u001b[0m\u001b[0m\n",
            "\u001b[0;31mMessageError\u001b[0m: TypeError: Failed to fetch"
          ]
        }
      ]
    },
    {
      "cell_type": "markdown",
      "metadata": {
        "id": "Dx7XECPPBKdb",
        "colab_type": "text"
      },
      "source": [
        "## Auto-regressive model\n",
        "\n",
        "In an auto-regressive model, we treat past values of the timeseries as input features to the forecasting model.\n",
        "While the functional form of the model is important, deep learning frameworks give us an easy way to try different approaches including CNNs, RNNs, etc.\n",
        "\n",
        "A key part remains however - we must be able to supply abundant training examples, each consisting of a window of consecutive values, the target, and (optinally) the time between the end of the window and the target (the \"forecast horizon\"). A long timeseries can be used to generate many examples simply by sampling the windows randomly from the original timeseries - in fact, for a realistic timeseries, pre-generating training examples in memory is prohibitively expensive. `timeserio` provides a way to generate sequence training examples on-demand from data held in memory, or even from datasets partitioned into multiple files."
      ]
    },
    {
      "cell_type": "markdown",
      "metadata": {
        "id": "yrDGFTlTDxqE",
        "colab_type": "text"
      },
      "source": [
        "\n",
        "In [Model 1], we have explored the SETIS PV generation dataset and built a powerful and performant model using \n",
        "`timeserio`'s `MultiModel` and datetime feature generation pipelines. In this part, we instead train an auto-regressive model using more advanced batch generator features.\n",
        "\n",
        "Remember the metrics our previous model achieved on the train/test split (without any parameter tuning):\n",
        "\n",
        "|&nbsp;| train | test |\n",
        "|---|---|---|\n",
        "| MSE | 0.0063 | 0.0068 |\n",
        "| MAE | 0.0401 | 0.0424 |\n",
        "\n",
        "In this notebook, we will build a simple model to create short-range predictions (between 1 and 2 hours ahead) based on recent history (say 6h)"
      ]
    },
    {
      "cell_type": "code",
      "metadata": {
        "id": "LJWVwl0VmESV",
        "colab_type": "code",
        "colab": {
          "base_uri": "https://localhost:8080/",
          "height": 323
        },
        "outputId": "47aa5278-94f9-4fae-e716-36e864c7d3a4"
      },
      "source": [
        "!pip install timeserio"
      ],
      "execution_count": 13,
      "outputs": [
        {
          "output_type": "stream",
          "text": [
            "Requirement already satisfied: timeserio in /usr/local/lib/python3.6/dist-packages (0.10.4)\n",
            "Requirement already satisfied: s3fs in /usr/local/lib/python3.6/dist-packages (from timeserio) (0.4.0)\n",
            "Requirement already satisfied: scikit-learn==0.20.3 in /usr/local/lib/python3.6/dist-packages (from timeserio) (0.20.3)\n",
            "Requirement already satisfied: numpy in /usr/local/lib/python3.6/dist-packages (from timeserio) (1.18.2)\n",
            "Requirement already satisfied: holidays in /usr/local/lib/python3.6/dist-packages (from timeserio) (0.9.12)\n",
            "Requirement already satisfied: pandas in /usr/local/lib/python3.6/dist-packages (from timeserio) (0.25.3)\n",
            "Requirement already satisfied: joblib in /usr/local/lib/python3.6/dist-packages (from timeserio) (0.14.1)\n",
            "Requirement already satisfied: botocore>=1.12.91 in /usr/local/lib/python3.6/dist-packages (from s3fs->timeserio) (1.15.23)\n",
            "Requirement already satisfied: boto3>=1.9.91 in /usr/local/lib/python3.6/dist-packages (from s3fs->timeserio) (1.12.23)\n",
            "Requirement already satisfied: fsspec>=0.6.0 in /usr/local/lib/python3.6/dist-packages (from s3fs->timeserio) (0.6.2)\n",
            "Requirement already satisfied: scipy>=0.13.3 in /usr/local/lib/python3.6/dist-packages (from scikit-learn==0.20.3->timeserio) (1.4.1)\n",
            "Requirement already satisfied: python-dateutil in /usr/local/lib/python3.6/dist-packages (from holidays->timeserio) (2.8.1)\n",
            "Requirement already satisfied: six in /usr/local/lib/python3.6/dist-packages (from holidays->timeserio) (1.12.0)\n",
            "Requirement already satisfied: pytz>=2017.2 in /usr/local/lib/python3.6/dist-packages (from pandas->timeserio) (2018.9)\n",
            "Requirement already satisfied: urllib3<1.26,>=1.20; python_version != \"3.4\" in /usr/local/lib/python3.6/dist-packages (from botocore>=1.12.91->s3fs->timeserio) (1.24.3)\n",
            "Requirement already satisfied: jmespath<1.0.0,>=0.7.1 in /usr/local/lib/python3.6/dist-packages (from botocore>=1.12.91->s3fs->timeserio) (0.9.5)\n",
            "Requirement already satisfied: docutils<0.16,>=0.10 in /usr/local/lib/python3.6/dist-packages (from botocore>=1.12.91->s3fs->timeserio) (0.15.2)\n",
            "Requirement already satisfied: s3transfer<0.4.0,>=0.3.0 in /usr/local/lib/python3.6/dist-packages (from boto3>=1.9.91->s3fs->timeserio) (0.3.3)\n"
          ],
          "name": "stdout"
        }
      ]
    },
    {
      "cell_type": "code",
      "metadata": {
        "id": "MD0G0K_LBKdd",
        "colab_type": "code",
        "colab": {
          "base_uri": "https://localhost:8080/",
          "height": 80
        },
        "outputId": "11cd0f24-5531-4923-af39-8b39f023eb5b"
      },
      "source": [
        "from timeserio.batches.chunked.pandas import SequenceForecastBatchGenerator\n",
        "\n",
        "batchgen_train = SequenceForecastBatchGenerator(\n",
        "    df=df_train, batch_size=2**15,\n",
        "    sequence_length=6,\n",
        "    sequence_columns=[\"generation\", \"Time_step\"],\n",
        "    last_step_columns=[\"Time_step\"],\n",
        "    forecast_steps_min=1,\n",
        "    forecast_steps_max=2,\n",
        "    batch_offset=True,\n",
        "    id_column=\"country\",\n",
        "    batch_aggregator=1\n",
        ")"
      ],
      "execution_count": 14,
      "outputs": [
        {
          "output_type": "stream",
          "text": [
            "Using TensorFlow backend.\n"
          ],
          "name": "stderr"
        },
        {
          "output_type": "display_data",
          "data": {
            "text/html": [
              "<p style=\"color: red;\">\n",
              "The default version of TensorFlow in Colab will soon switch to TensorFlow 2.x.<br>\n",
              "We recommend you <a href=\"https://www.tensorflow.org/guide/migrate\" target=\"_blank\">upgrade</a> now \n",
              "or ensure your notebook will continue to use TensorFlow 1.x via the <code>%tensorflow_version 1.x</code> magic:\n",
              "<a href=\"https://colab.research.google.com/notebooks/tensorflow_version.ipynb\" target=\"_blank\">more info</a>.</p>\n"
            ],
            "text/plain": [
              "<IPython.core.display.HTML object>"
            ]
          },
          "metadata": {
            "tags": []
          }
        }
      ]
    },
    {
      "cell_type": "code",
      "metadata": {
        "id": "kWqIg9-PBKdh",
        "colab_type": "code",
        "outputId": "fd839233-4a97-4c40-84b1-bbf823b43a23",
        "colab": {
          "base_uri": "https://localhost:8080/",
          "height": 34
        }
      },
      "source": [
        "len(batchgen_train)"
      ],
      "execution_count": 15,
      "outputs": [
        {
          "output_type": "execute_result",
          "data": {
            "text/plain": [
              "70"
            ]
          },
          "metadata": {
            "tags": []
          },
          "execution_count": 15
        }
      ]
    },
    {
      "cell_type": "code",
      "metadata": {
        "id": "hB2j9pKiBKdo",
        "colab_type": "code",
        "outputId": "6afc6a91-188c-480f-d02b-d18f4ce16098",
        "colab": {
          "base_uri": "https://localhost:8080/",
          "height": 51
        }
      },
      "source": [
        "%%time\n",
        "batch = batchgen_train[0]"
      ],
      "execution_count": 16,
      "outputs": [
        {
          "output_type": "stream",
          "text": [
            "CPU times: user 517 ms, sys: 2.1 ms, total: 519 ms\n",
            "Wall time: 515 ms\n"
          ],
          "name": "stdout"
        }
      ]
    },
    {
      "cell_type": "code",
      "metadata": {
        "id": "0j4v9p6TBKds",
        "colab_type": "code",
        "outputId": "79f8e5eb-53a2-4cc2-93ba-f4cac7885302",
        "colab": {
          "base_uri": "https://localhost:8080/",
          "height": 142
        }
      },
      "source": [
        "batch.head(2)"
      ],
      "execution_count": 17,
      "outputs": [
        {
          "output_type": "execute_result",
          "data": {
            "text/html": [
              "<div>\n",
              "<style scoped>\n",
              "    .dataframe tbody tr th:only-of-type {\n",
              "        vertical-align: middle;\n",
              "    }\n",
              "\n",
              "    .dataframe tbody tr th {\n",
              "        vertical-align: top;\n",
              "    }\n",
              "\n",
              "    .dataframe thead tr th {\n",
              "        text-align: left;\n",
              "    }\n",
              "</style>\n",
              "<table border=\"1\" class=\"dataframe\">\n",
              "  <thead>\n",
              "    <tr>\n",
              "      <th></th>\n",
              "      <th>country</th>\n",
              "      <th>generation</th>\n",
              "      <th>Time_step</th>\n",
              "      <th colspan=\"6\" halign=\"left\">seq_generation</th>\n",
              "      <th colspan=\"6\" halign=\"left\">seq_Time_step</th>\n",
              "      <th>end_of_Time_step</th>\n",
              "    </tr>\n",
              "    <tr>\n",
              "      <th></th>\n",
              "      <th></th>\n",
              "      <th></th>\n",
              "      <th></th>\n",
              "      <th>0</th>\n",
              "      <th>1</th>\n",
              "      <th>2</th>\n",
              "      <th>3</th>\n",
              "      <th>4</th>\n",
              "      <th>5</th>\n",
              "      <th>0</th>\n",
              "      <th>1</th>\n",
              "      <th>2</th>\n",
              "      <th>3</th>\n",
              "      <th>4</th>\n",
              "      <th>5</th>\n",
              "      <th></th>\n",
              "    </tr>\n",
              "  </thead>\n",
              "  <tbody>\n",
              "    <tr>\n",
              "      <th>0</th>\n",
              "      <td>HR</td>\n",
              "      <td>0.014195</td>\n",
              "      <td>8</td>\n",
              "      <td>0.000000</td>\n",
              "      <td>0.000000</td>\n",
              "      <td>0.000000</td>\n",
              "      <td>0.000000</td>\n",
              "      <td>0.000000</td>\n",
              "      <td>0.000000</td>\n",
              "      <td>2</td>\n",
              "      <td>3</td>\n",
              "      <td>4</td>\n",
              "      <td>5</td>\n",
              "      <td>6</td>\n",
              "      <td>7</td>\n",
              "      <td>7</td>\n",
              "    </tr>\n",
              "    <tr>\n",
              "      <th>1</th>\n",
              "      <td>HR</td>\n",
              "      <td>0.093692</td>\n",
              "      <td>14</td>\n",
              "      <td>0.014195</td>\n",
              "      <td>0.062957</td>\n",
              "      <td>0.093344</td>\n",
              "      <td>0.091685</td>\n",
              "      <td>0.135375</td>\n",
              "      <td>0.129739</td>\n",
              "      <td>8</td>\n",
              "      <td>9</td>\n",
              "      <td>10</td>\n",
              "      <td>11</td>\n",
              "      <td>12</td>\n",
              "      <td>13</td>\n",
              "      <td>13</td>\n",
              "    </tr>\n",
              "  </tbody>\n",
              "</table>\n",
              "</div>"
            ],
            "text/plain": [
              "  country generation Time_step seq_generation  ... seq_Time_step         end_of_Time_step\n",
              "                                            0  ...             3   4   5                 \n",
              "0      HR   0.014195         8       0.000000  ...             5   6   7                7\n",
              "1      HR   0.093692        14       0.014195  ...            11  12  13               13\n",
              "\n",
              "[2 rows x 16 columns]"
            ]
          },
          "metadata": {
            "tags": []
          },
          "execution_count": 17
        }
      ]
    },
    {
      "cell_type": "code",
      "metadata": {
        "id": "prX0tVORBKdy",
        "colab_type": "code",
        "outputId": "b80d2cdb-1c4c-4e51-c4ed-fbb992e11b1c",
        "colab": {
          "base_uri": "https://localhost:8080/",
          "height": 51
        }
      },
      "source": [
        "%%time\n",
        "batch = batchgen_train[-1]"
      ],
      "execution_count": 18,
      "outputs": [
        {
          "output_type": "stream",
          "text": [
            "CPU times: user 504 ms, sys: 27 ms, total: 531 ms\n",
            "Wall time: 528 ms\n"
          ],
          "name": "stdout"
        }
      ]
    },
    {
      "cell_type": "code",
      "metadata": {
        "id": "bCEsNwHeBKd5",
        "colab_type": "code",
        "outputId": "0df9eb8e-2b7d-4070-8af2-34b0da465fdb",
        "colab": {
          "base_uri": "https://localhost:8080/",
          "height": 142
        }
      },
      "source": [
        "batch.head(2)"
      ],
      "execution_count": 19,
      "outputs": [
        {
          "output_type": "execute_result",
          "data": {
            "text/html": [
              "<div>\n",
              "<style scoped>\n",
              "    .dataframe tbody tr th:only-of-type {\n",
              "        vertical-align: middle;\n",
              "    }\n",
              "\n",
              "    .dataframe tbody tr th {\n",
              "        vertical-align: top;\n",
              "    }\n",
              "\n",
              "    .dataframe thead tr th {\n",
              "        text-align: left;\n",
              "    }\n",
              "</style>\n",
              "<table border=\"1\" class=\"dataframe\">\n",
              "  <thead>\n",
              "    <tr>\n",
              "      <th></th>\n",
              "      <th>country</th>\n",
              "      <th>generation</th>\n",
              "      <th>Time_step</th>\n",
              "      <th colspan=\"6\" halign=\"left\">seq_generation</th>\n",
              "      <th colspan=\"6\" halign=\"left\">seq_Time_step</th>\n",
              "      <th>end_of_Time_step</th>\n",
              "    </tr>\n",
              "    <tr>\n",
              "      <th></th>\n",
              "      <th></th>\n",
              "      <th></th>\n",
              "      <th></th>\n",
              "      <th>0</th>\n",
              "      <th>1</th>\n",
              "      <th>2</th>\n",
              "      <th>3</th>\n",
              "      <th>4</th>\n",
              "      <th>5</th>\n",
              "      <th>0</th>\n",
              "      <th>1</th>\n",
              "      <th>2</th>\n",
              "      <th>3</th>\n",
              "      <th>4</th>\n",
              "      <th>5</th>\n",
              "      <th></th>\n",
              "    </tr>\n",
              "  </thead>\n",
              "  <tbody>\n",
              "    <tr>\n",
              "      <th>0</th>\n",
              "      <td>PT</td>\n",
              "      <td>0.809717</td>\n",
              "      <td>196620</td>\n",
              "      <td>0.000000</td>\n",
              "      <td>0.000000</td>\n",
              "      <td>0.061342</td>\n",
              "      <td>0.184026</td>\n",
              "      <td>0.431849</td>\n",
              "      <td>0.520182</td>\n",
              "      <td>196613</td>\n",
              "      <td>196614</td>\n",
              "      <td>196615</td>\n",
              "      <td>196616</td>\n",
              "      <td>196617</td>\n",
              "      <td>196618</td>\n",
              "      <td>196618</td>\n",
              "    </tr>\n",
              "    <tr>\n",
              "      <th>1</th>\n",
              "      <td>PT</td>\n",
              "      <td>0.341062</td>\n",
              "      <td>196626</td>\n",
              "      <td>0.743467</td>\n",
              "      <td>0.809717</td>\n",
              "      <td>0.829346</td>\n",
              "      <td>0.814624</td>\n",
              "      <td>0.760643</td>\n",
              "      <td>0.667403</td>\n",
              "      <td>196619</td>\n",
              "      <td>196620</td>\n",
              "      <td>196621</td>\n",
              "      <td>196622</td>\n",
              "      <td>196623</td>\n",
              "      <td>196624</td>\n",
              "      <td>196624</td>\n",
              "    </tr>\n",
              "  </tbody>\n",
              "</table>\n",
              "</div>"
            ],
            "text/plain": [
              "  country generation Time_step  ... seq_Time_step         end_of_Time_step\n",
              "                                ...             4       5                 \n",
              "0      PT   0.809717    196620  ...        196617  196618           196618\n",
              "1      PT   0.341062    196626  ...        196623  196624           196624\n",
              "\n",
              "[2 rows x 16 columns]"
            ]
          },
          "metadata": {
            "tags": []
          },
          "execution_count": 19
        }
      ]
    },
    {
      "cell_type": "markdown",
      "metadata": {
        "id": "jslSgu-OBKd9",
        "colab_type": "text"
      },
      "source": [
        "### Sequence and Forecast horizon features"
      ]
    },
    {
      "cell_type": "code",
      "metadata": {
        "id": "lDYZ_oNEBKd-",
        "colab_type": "code",
        "colab": {}
      },
      "source": [
        "from timeserio.pipeline import Pipeline\n",
        "from timeserio.preprocessing import PandasColumnSelector, PandasValueSelector\n",
        "\n",
        "class ColumnDifferenceValues:\n",
        "    \"\"\"Compute difference feature of two columns\"\"\"\n",
        "    def __init__(self, *, col_plus, col_minus):\n",
        "        self.col_plus = col_plus\n",
        "        self.col_minus = col_minus\n",
        "    \n",
        "    def fit(self, *args, **kwargs):\n",
        "        return self\n",
        "    \n",
        "    def fit_transform(self, df, *args, **kwargs):\n",
        "        return self.transform(df, *args, **kwargs)\n",
        "\n",
        "    def transform(self, df, *args, **kwargs):\n",
        "        return (df[self.col_plus] - df[self.col_minus]).values.reshape(-1, 1)\n",
        "\n",
        "    \n",
        "seq_pipeline = PandasValueSelector(\"seq_generation\")\n",
        "fc_horizon_pipeline = ColumnDifferenceValues(col_plus=\"Time_step\", col_minus=\"end_of_Time_step\")\n",
        "target_pipeline = PandasValueSelector(\"generation\")"
      ],
      "execution_count": 0,
      "outputs": []
    },
    {
      "cell_type": "markdown",
      "metadata": {
        "id": "AxA61HJkBKeB",
        "colab_type": "text"
      },
      "source": [
        "### Define the Neural Network Architecture\n",
        "\n",
        "We define a regression network with two inputs: sequence of previous readings, and the forecast horizon"
      ]
    },
    {
      "cell_type": "code",
      "metadata": {
        "id": "Nvu1j_9LBKeC",
        "colab_type": "code",
        "colab": {}
      },
      "source": [
        "from timeserio.keras.multinetwork import MultiNetworkBase\n",
        "\n",
        "from keras.layers import Input, Dense, Flatten, Concatenate, Reshape, Permute, Conv1D, BatchNormalization, MaxPool1D, Activation\n",
        "from keras.models import Model\n",
        "from keras.optimizers import Adam\n",
        "from keras.callbacks import EarlyStopping, ReduceLROnPlateau\n",
        "\n",
        "class ARForecastingNetwork(MultiNetworkBase):\n",
        "    def _model(\n",
        "        self,\n",
        "        *,\n",
        "        seq_length=6,  # number of real-valued features\n",
        "        filters=(1, ),\n",
        "        kernel_sizes=(1, ),\n",
        "        strides=(1, ),\n",
        "        pools=(1, ),\n",
        "        hidden_units=(8, 8),\n",
        "        lr=0.01\n",
        "    ):\n",
        "        horizon_input = Input(shape=(1,), name='horizon')\n",
        "        seq_input = Input(shape=(seq_length,), name='sequence')\n",
        "        encoding = Reshape(\n",
        "            target_shape=(-1, 1)\n",
        "        )(seq_input)\n",
        "                \n",
        "        for idx, (_filters, _kernel_size, _strides, _pool) in enumerate(zip(filters, kernel_sizes, strides, pools)):\n",
        "            encoding = Conv1D(filters=_filters, kernel_size=_kernel_size, strides=_strides, padding=\"same\", name=f\"conv_{idx}\")(encoding)\n",
        "            encoding = BatchNormalization()(encoding)\n",
        "            encoding = Activation(activation='relu')(encoding)\n",
        "            encoding = MaxPool1D(pool_size=_pool)(encoding)\n",
        "        encoding = Flatten()(encoding)\n",
        "\n",
        "        output = Concatenate(name='concatenate')([encoding, horizon_input])\n",
        "        for idx, _hidden_units in enumerate(hidden_units):\n",
        "            output = Dense(_hidden_units, activation='relu', name=f'dense_{idx}')(output)\n",
        "        output = Dense(1, name='generation', activation='relu')(output)\n",
        "        \n",
        "        encoding_model = Model(seq_input, encoding)\n",
        "        forecasting_model = Model([seq_input, horizon_input], output)\n",
        "        \n",
        "        optimizer = Adam(lr=lr)\n",
        "        forecasting_model.compile(optimizer=optimizer, loss='mse', metrics=['mae'])\n",
        "        \n",
        "        return {'encoder': encoding_model, 'forecast': forecasting_model}\n",
        "\n",
        "    \n",
        "multinetwork = ARForecastingNetwork(seq_length=6, lr=0.001)"
      ],
      "execution_count": 0,
      "outputs": []
    },
    {
      "cell_type": "code",
      "metadata": {
        "id": "LnOlhZ0xBKeG",
        "colab_type": "code",
        "colab": {}
      },
      "source": [
        "from keras.utils.vis_utils import model_to_dot\n",
        "from IPython.display import SVG\n",
        "\n",
        "def vis_model(model, show_shapes=False, show_layer_names=True, rankdir='TB'):\n",
        "    \"\"\"Visualize model in a notebook.\"\"\"\n",
        "    return SVG(\n",
        "        model_to_dot(\n",
        "            model, show_shapes=show_shapes, show_layer_names=show_layer_names, rankdir=rankdir\n",
        "        ).create(prog='dot', format='svg')\n",
        "    )"
      ],
      "execution_count": 0,
      "outputs": []
    },
    {
      "cell_type": "code",
      "metadata": {
        "id": "KnaGCVl8BKeM",
        "colab_type": "code",
        "colab": {
          "base_uri": "https://localhost:8080/",
          "height": 743
        },
        "outputId": "39d0e792-029d-46e0-c9ef-2f4b3199b225"
      },
      "source": [
        "vis_model(multinetwork.model[\"forecast\"], show_shapes=True, rankdir=\"LR\")"
      ],
      "execution_count": 23,
      "outputs": [
        {
          "output_type": "stream",
          "text": [
            "WARNING:tensorflow:From /usr/local/lib/python3.6/dist-packages/keras/backend/tensorflow_backend.py:541: The name tf.placeholder is deprecated. Please use tf.compat.v1.placeholder instead.\n",
            "\n",
            "WARNING:tensorflow:From /usr/local/lib/python3.6/dist-packages/keras/backend/tensorflow_backend.py:66: The name tf.get_default_graph is deprecated. Please use tf.compat.v1.get_default_graph instead.\n",
            "\n",
            "WARNING:tensorflow:From /usr/local/lib/python3.6/dist-packages/keras/backend/tensorflow_backend.py:4432: The name tf.random_uniform is deprecated. Please use tf.random.uniform instead.\n",
            "\n",
            "WARNING:tensorflow:From /usr/local/lib/python3.6/dist-packages/keras/backend/tensorflow_backend.py:148: The name tf.placeholder_with_default is deprecated. Please use tf.compat.v1.placeholder_with_default instead.\n",
            "\n",
            "WARNING:tensorflow:From /usr/local/lib/python3.6/dist-packages/keras/backend/tensorflow_backend.py:4267: The name tf.nn.max_pool is deprecated. Please use tf.nn.max_pool2d instead.\n",
            "\n",
            "WARNING:tensorflow:From /usr/local/lib/python3.6/dist-packages/keras/optimizers.py:793: The name tf.train.Optimizer is deprecated. Please use tf.compat.v1.train.Optimizer instead.\n",
            "\n",
            "WARNING:tensorflow:From /usr/local/lib/python3.6/dist-packages/keras/backend/tensorflow_backend.py:190: The name tf.get_default_session is deprecated. Please use tf.compat.v1.get_default_session instead.\n",
            "\n",
            "WARNING:tensorflow:From /usr/local/lib/python3.6/dist-packages/keras/backend/tensorflow_backend.py:197: The name tf.ConfigProto is deprecated. Please use tf.compat.v1.ConfigProto instead.\n",
            "\n",
            "WARNING:tensorflow:From /usr/local/lib/python3.6/dist-packages/keras/backend/tensorflow_backend.py:203: The name tf.Session is deprecated. Please use tf.compat.v1.Session instead.\n",
            "\n",
            "WARNING:tensorflow:From /usr/local/lib/python3.6/dist-packages/keras/backend/tensorflow_backend.py:207: The name tf.global_variables is deprecated. Please use tf.compat.v1.global_variables instead.\n",
            "\n",
            "WARNING:tensorflow:From /usr/local/lib/python3.6/dist-packages/keras/backend/tensorflow_backend.py:216: The name tf.is_variable_initialized is deprecated. Please use tf.compat.v1.is_variable_initialized instead.\n",
            "\n",
            "WARNING:tensorflow:From /usr/local/lib/python3.6/dist-packages/keras/backend/tensorflow_backend.py:223: The name tf.variables_initializer is deprecated. Please use tf.compat.v1.variables_initializer instead.\n",
            "\n"
          ],
          "name": "stdout"
        },
        {
          "output_type": "execute_result",
          "data": {
            "text/plain": [
              "<IPython.core.display.SVG object>"
            ],
            "image/svg+xml": "<svg height=\"221pt\" viewBox=\"0.00 0.00 2318.00 166.00\" width=\"3091pt\" xmlns=\"http://www.w3.org/2000/svg\" xmlns:xlink=\"http://www.w3.org/1999/xlink\">\n<g class=\"graph\" id=\"graph0\" transform=\"scale(1.3333 1.3333) rotate(0) translate(4 162)\">\n<title>G</title>\n<polygon fill=\"#ffffff\" points=\"-4,4 -4,-162 2314,-162 2314,4 -4,4\" stroke=\"transparent\"/>\n<!-- 140321309771256 -->\n<g class=\"node\" id=\"node1\">\n<title>140321309771256</title>\n<polygon fill=\"none\" points=\"0,-88.5 0,-157.5 144,-157.5 144,-88.5 0,-88.5\" stroke=\"#000000\"/>\n<text fill=\"#000000\" font-family=\"Times,serif\" font-size=\"14.00\" text-anchor=\"middle\" x=\"72\" y=\"-142.3\">sequence: InputLayer</text>\n<polyline fill=\"none\" points=\"0,-134.5 144,-134.5 \" stroke=\"#000000\"/>\n<text fill=\"#000000\" font-family=\"Times,serif\" font-size=\"14.00\" text-anchor=\"middle\" x=\"34\" y=\"-119.3\">input:</text>\n<polyline fill=\"none\" points=\"68,-111.5 68,-134.5 \" stroke=\"#000000\"/>\n<text fill=\"#000000\" font-family=\"Times,serif\" font-size=\"14.00\" text-anchor=\"middle\" x=\"106\" y=\"-119.3\">output:</text>\n<polyline fill=\"none\" points=\"0,-111.5 144,-111.5 \" stroke=\"#000000\"/>\n<text fill=\"#000000\" font-family=\"Times,serif\" font-size=\"14.00\" text-anchor=\"middle\" x=\"36\" y=\"-96.3\">(None, 6)</text>\n<polyline fill=\"none\" points=\"72,-88.5 72,-111.5 \" stroke=\"#000000\"/>\n<text fill=\"#000000\" font-family=\"Times,serif\" font-size=\"14.00\" text-anchor=\"middle\" x=\"108\" y=\"-96.3\">(None, 6)</text>\n</g>\n<!-- 140321309770752 -->\n<g class=\"node\" id=\"node2\">\n<title>140321309770752</title>\n<polygon fill=\"none\" points=\"180,-88.5 180,-157.5 339,-157.5 339,-88.5 180,-88.5\" stroke=\"#000000\"/>\n<text fill=\"#000000\" font-family=\"Times,serif\" font-size=\"14.00\" text-anchor=\"middle\" x=\"259.5\" y=\"-142.3\">reshape_1: Reshape</text>\n<polyline fill=\"none\" points=\"180,-134.5 339,-134.5 \" stroke=\"#000000\"/>\n<text fill=\"#000000\" font-family=\"Times,serif\" font-size=\"14.00\" text-anchor=\"middle\" x=\"217.5\" y=\"-119.3\">input:</text>\n<polyline fill=\"none\" points=\"255,-111.5 255,-134.5 \" stroke=\"#000000\"/>\n<text fill=\"#000000\" font-family=\"Times,serif\" font-size=\"14.00\" text-anchor=\"middle\" x=\"297\" y=\"-119.3\">output:</text>\n<polyline fill=\"none\" points=\"180,-111.5 339,-111.5 \" stroke=\"#000000\"/>\n<text fill=\"#000000\" font-family=\"Times,serif\" font-size=\"14.00\" text-anchor=\"middle\" x=\"216\" y=\"-96.3\">(None, 6)</text>\n<polyline fill=\"none\" points=\"252,-88.5 252,-111.5 \" stroke=\"#000000\"/>\n<text fill=\"#000000\" font-family=\"Times,serif\" font-size=\"14.00\" text-anchor=\"middle\" x=\"295.5\" y=\"-96.3\">(None, 6, 1)</text>\n</g>\n<!-- 140321309771256&#45;&gt;140321309770752 -->\n<g class=\"edge\" id=\"edge1\">\n<title>140321309771256-&gt;140321309770752</title>\n<path d=\"M144.2242,-123C152.603,-123 161.2242,-123 169.8002,-123\" fill=\"none\" stroke=\"#000000\"/>\n<polygon fill=\"#000000\" points=\"169.8297,-126.5001 179.8297,-123 169.8296,-119.5001 169.8297,-126.5001\" stroke=\"#000000\"/>\n</g>\n<!-- 140321309772432 -->\n<g class=\"node\" id=\"node3\">\n<title>140321309772432</title>\n<polygon fill=\"none\" points=\"375,-88.5 375,-157.5 549,-157.5 549,-88.5 375,-88.5\" stroke=\"#000000\"/>\n<text fill=\"#000000\" font-family=\"Times,serif\" font-size=\"14.00\" text-anchor=\"middle\" x=\"462\" y=\"-142.3\">conv_0: Conv1D</text>\n<polyline fill=\"none\" points=\"375,-134.5 549,-134.5 \" stroke=\"#000000\"/>\n<text fill=\"#000000\" font-family=\"Times,serif\" font-size=\"14.00\" text-anchor=\"middle\" x=\"416.5\" y=\"-119.3\">input:</text>\n<polyline fill=\"none\" points=\"458,-111.5 458,-134.5 \" stroke=\"#000000\"/>\n<text fill=\"#000000\" font-family=\"Times,serif\" font-size=\"14.00\" text-anchor=\"middle\" x=\"503.5\" y=\"-119.3\">output:</text>\n<polyline fill=\"none\" points=\"375,-111.5 549,-111.5 \" stroke=\"#000000\"/>\n<text fill=\"#000000\" font-family=\"Times,serif\" font-size=\"14.00\" text-anchor=\"middle\" x=\"418.5\" y=\"-96.3\">(None, 6, 1)</text>\n<polyline fill=\"none\" points=\"462,-88.5 462,-111.5 \" stroke=\"#000000\"/>\n<text fill=\"#000000\" font-family=\"Times,serif\" font-size=\"14.00\" text-anchor=\"middle\" x=\"505.5\" y=\"-96.3\">(None, 6, 1)</text>\n</g>\n<!-- 140321309770752&#45;&gt;140321309772432 -->\n<g class=\"edge\" id=\"edge2\">\n<title>140321309770752-&gt;140321309772432</title>\n<path d=\"M339.2427,-123C347.675,-123 356.3159,-123 364.9167,-123\" fill=\"none\" stroke=\"#000000\"/>\n<polygon fill=\"#000000\" points=\"364.9799,-126.5001 374.9799,-123 364.9798,-119.5001 364.9799,-126.5001\" stroke=\"#000000\"/>\n</g>\n<!-- 140321309773608 -->\n<g class=\"node\" id=\"node4\">\n<title>140321309773608</title>\n<polygon fill=\"none\" points=\"585,-88.5 585,-157.5 856,-157.5 856,-88.5 585,-88.5\" stroke=\"#000000\"/>\n<text fill=\"#000000\" font-family=\"Times,serif\" font-size=\"14.00\" text-anchor=\"middle\" x=\"720.5\" y=\"-142.3\">batch_normalization_1: BatchNormalization</text>\n<polyline fill=\"none\" points=\"585,-134.5 856,-134.5 \" stroke=\"#000000\"/>\n<text fill=\"#000000\" font-family=\"Times,serif\" font-size=\"14.00\" text-anchor=\"middle\" x=\"650.5\" y=\"-119.3\">input:</text>\n<polyline fill=\"none\" points=\"716,-111.5 716,-134.5 \" stroke=\"#000000\"/>\n<text fill=\"#000000\" font-family=\"Times,serif\" font-size=\"14.00\" text-anchor=\"middle\" x=\"786\" y=\"-119.3\">output:</text>\n<polyline fill=\"none\" points=\"585,-111.5 856,-111.5 \" stroke=\"#000000\"/>\n<text fill=\"#000000\" font-family=\"Times,serif\" font-size=\"14.00\" text-anchor=\"middle\" x=\"652.5\" y=\"-96.3\">(None, 6, 1)</text>\n<polyline fill=\"none\" points=\"720,-88.5 720,-111.5 \" stroke=\"#000000\"/>\n<text fill=\"#000000\" font-family=\"Times,serif\" font-size=\"14.00\" text-anchor=\"middle\" x=\"788\" y=\"-96.3\">(None, 6, 1)</text>\n</g>\n<!-- 140321309772432&#45;&gt;140321309773608 -->\n<g class=\"edge\" id=\"edge3\">\n<title>140321309772432-&gt;140321309773608</title>\n<path d=\"M549.1559,-123C557.4785,-123 566.0625,-123 574.7476,-123\" fill=\"none\" stroke=\"#000000\"/>\n<polygon fill=\"#000000\" points=\"574.9799,-126.5001 584.9799,-123 574.9798,-119.5001 574.9799,-126.5001\" stroke=\"#000000\"/>\n</g>\n<!-- 140321309725024 -->\n<g class=\"node\" id=\"node5\">\n<title>140321309725024</title>\n<polygon fill=\"none\" points=\"892,-88.5 892,-157.5 1066,-157.5 1066,-88.5 892,-88.5\" stroke=\"#000000\"/>\n<text fill=\"#000000\" font-family=\"Times,serif\" font-size=\"14.00\" text-anchor=\"middle\" x=\"979\" y=\"-142.3\">activation_1: Activation</text>\n<polyline fill=\"none\" points=\"892,-134.5 1066,-134.5 \" stroke=\"#000000\"/>\n<text fill=\"#000000\" font-family=\"Times,serif\" font-size=\"14.00\" text-anchor=\"middle\" x=\"933.5\" y=\"-119.3\">input:</text>\n<polyline fill=\"none\" points=\"975,-111.5 975,-134.5 \" stroke=\"#000000\"/>\n<text fill=\"#000000\" font-family=\"Times,serif\" font-size=\"14.00\" text-anchor=\"middle\" x=\"1020.5\" y=\"-119.3\">output:</text>\n<polyline fill=\"none\" points=\"892,-111.5 1066,-111.5 \" stroke=\"#000000\"/>\n<text fill=\"#000000\" font-family=\"Times,serif\" font-size=\"14.00\" text-anchor=\"middle\" x=\"935.5\" y=\"-96.3\">(None, 6, 1)</text>\n<polyline fill=\"none\" points=\"979,-88.5 979,-111.5 \" stroke=\"#000000\"/>\n<text fill=\"#000000\" font-family=\"Times,serif\" font-size=\"14.00\" text-anchor=\"middle\" x=\"1022.5\" y=\"-96.3\">(None, 6, 1)</text>\n</g>\n<!-- 140321309773608&#45;&gt;140321309725024 -->\n<g class=\"edge\" id=\"edge4\">\n<title>140321309773608-&gt;140321309725024</title>\n<path d=\"M856.1849,-123C864.7642,-123 873.3057,-123 881.6575,-123\" fill=\"none\" stroke=\"#000000\"/>\n<polygon fill=\"#000000\" points=\"881.7407,-126.5001 891.7406,-123 881.7406,-119.5001 881.7407,-126.5001\" stroke=\"#000000\"/>\n</g>\n<!-- 140321309372200 -->\n<g class=\"node\" id=\"node6\">\n<title>140321309372200</title>\n<polygon fill=\"none\" points=\"1102,-88.5 1102,-157.5 1323,-157.5 1323,-88.5 1102,-88.5\" stroke=\"#000000\"/>\n<text fill=\"#000000\" font-family=\"Times,serif\" font-size=\"14.00\" text-anchor=\"middle\" x=\"1212.5\" y=\"-142.3\">max_pooling1d_1: MaxPooling1D</text>\n<polyline fill=\"none\" points=\"1102,-134.5 1323,-134.5 \" stroke=\"#000000\"/>\n<text fill=\"#000000\" font-family=\"Times,serif\" font-size=\"14.00\" text-anchor=\"middle\" x=\"1155\" y=\"-119.3\">input:</text>\n<polyline fill=\"none\" points=\"1208,-111.5 1208,-134.5 \" stroke=\"#000000\"/>\n<text fill=\"#000000\" font-family=\"Times,serif\" font-size=\"14.00\" text-anchor=\"middle\" x=\"1265.5\" y=\"-119.3\">output:</text>\n<polyline fill=\"none\" points=\"1102,-111.5 1323,-111.5 \" stroke=\"#000000\"/>\n<text fill=\"#000000\" font-family=\"Times,serif\" font-size=\"14.00\" text-anchor=\"middle\" x=\"1157\" y=\"-96.3\">(None, 6, 1)</text>\n<polyline fill=\"none\" points=\"1212,-88.5 1212,-111.5 \" stroke=\"#000000\"/>\n<text fill=\"#000000\" font-family=\"Times,serif\" font-size=\"14.00\" text-anchor=\"middle\" x=\"1267.5\" y=\"-96.3\">(None, 6, 1)</text>\n</g>\n<!-- 140321309725024&#45;&gt;140321309372200 -->\n<g class=\"edge\" id=\"edge5\">\n<title>140321309725024-&gt;140321309372200</title>\n<path d=\"M1066.2788,-123C1074.5651,-123 1083.0632,-123 1091.591,-123\" fill=\"none\" stroke=\"#000000\"/>\n<polygon fill=\"#000000\" points=\"1091.6046,-126.5001 1101.6046,-123 1091.6046,-119.5001 1091.6046,-126.5001\" stroke=\"#000000\"/>\n</g>\n<!-- 140321309771200 -->\n<g class=\"node\" id=\"node7\">\n<title>140321309771200</title>\n<polygon fill=\"none\" points=\"1359,-88.5 1359,-157.5 1518,-157.5 1518,-88.5 1359,-88.5\" stroke=\"#000000\"/>\n<text fill=\"#000000\" font-family=\"Times,serif\" font-size=\"14.00\" text-anchor=\"middle\" x=\"1438.5\" y=\"-142.3\">flatten_1: Flatten</text>\n<polyline fill=\"none\" points=\"1359,-134.5 1518,-134.5 \" stroke=\"#000000\"/>\n<text fill=\"#000000\" font-family=\"Times,serif\" font-size=\"14.00\" text-anchor=\"middle\" x=\"1396.5\" y=\"-119.3\">input:</text>\n<polyline fill=\"none\" points=\"1434,-111.5 1434,-134.5 \" stroke=\"#000000\"/>\n<text fill=\"#000000\" font-family=\"Times,serif\" font-size=\"14.00\" text-anchor=\"middle\" x=\"1476\" y=\"-119.3\">output:</text>\n<polyline fill=\"none\" points=\"1359,-111.5 1518,-111.5 \" stroke=\"#000000\"/>\n<text fill=\"#000000\" font-family=\"Times,serif\" font-size=\"14.00\" text-anchor=\"middle\" x=\"1402.5\" y=\"-96.3\">(None, 6, 1)</text>\n<polyline fill=\"none\" points=\"1446,-88.5 1446,-111.5 \" stroke=\"#000000\"/>\n<text fill=\"#000000\" font-family=\"Times,serif\" font-size=\"14.00\" text-anchor=\"middle\" x=\"1482\" y=\"-96.3\">(None, 6)</text>\n</g>\n<!-- 140321309372200&#45;&gt;140321309771200 -->\n<g class=\"edge\" id=\"edge6\">\n<title>140321309372200-&gt;140321309771200</title>\n<path d=\"M1323.1828,-123C1331.7699,-123 1340.3749,-123 1348.7993,-123\" fill=\"none\" stroke=\"#000000\"/>\n<polygon fill=\"#000000\" points=\"1348.9724,-126.5001 1358.9723,-123 1348.9723,-119.5001 1348.9724,-126.5001\" stroke=\"#000000\"/>\n</g>\n<!-- 140321309773216 -->\n<g class=\"node\" id=\"node9\">\n<title>140321309773216</title>\n<polygon fill=\"none\" points=\"1554,-44.5 1554,-113.5 1770,-113.5 1770,-44.5 1554,-44.5\" stroke=\"#000000\"/>\n<text fill=\"#000000\" font-family=\"Times,serif\" font-size=\"14.00\" text-anchor=\"middle\" x=\"1662\" y=\"-98.3\">concatenate: Concatenate</text>\n<polyline fill=\"none\" points=\"1554,-90.5 1770,-90.5 \" stroke=\"#000000\"/>\n<text fill=\"#000000\" font-family=\"Times,serif\" font-size=\"14.00\" text-anchor=\"middle\" x=\"1606\" y=\"-75.3\">input:</text>\n<polyline fill=\"none\" points=\"1658,-67.5 1658,-90.5 \" stroke=\"#000000\"/>\n<text fill=\"#000000\" font-family=\"Times,serif\" font-size=\"14.00\" text-anchor=\"middle\" x=\"1714\" y=\"-75.3\">output:</text>\n<polyline fill=\"none\" points=\"1554,-67.5 1770,-67.5 \" stroke=\"#000000\"/>\n<text fill=\"#000000\" font-family=\"Times,serif\" font-size=\"14.00\" text-anchor=\"middle\" x=\"1626\" y=\"-52.3\">[(None, 6), (None, 1)]</text>\n<polyline fill=\"none\" points=\"1698,-44.5 1698,-67.5 \" stroke=\"#000000\"/>\n<text fill=\"#000000\" font-family=\"Times,serif\" font-size=\"14.00\" text-anchor=\"middle\" x=\"1734\" y=\"-52.3\">(None, 7)</text>\n</g>\n<!-- 140321309771200&#45;&gt;140321309773216 -->\n<g class=\"edge\" id=\"edge7\">\n<title>140321309771200-&gt;140321309773216</title>\n<path d=\"M1518.2421,-107.3013C1526.6218,-105.6516 1535.2638,-103.9503 1543.9567,-102.2389\" fill=\"none\" stroke=\"#000000\"/>\n<polygon fill=\"#000000\" points=\"1544.6462,-105.6705 1553.7817,-100.3047 1543.294,-98.8023 1544.6462,-105.6705\" stroke=\"#000000\"/>\n</g>\n<!-- 140321309726368 -->\n<g class=\"node\" id=\"node8\">\n<title>140321309726368</title>\n<polygon fill=\"none\" points=\"1366.5,-.5 1366.5,-69.5 1510.5,-69.5 1510.5,-.5 1366.5,-.5\" stroke=\"#000000\"/>\n<text fill=\"#000000\" font-family=\"Times,serif\" font-size=\"14.00\" text-anchor=\"middle\" x=\"1438.5\" y=\"-54.3\">horizon: InputLayer</text>\n<polyline fill=\"none\" points=\"1366.5,-46.5 1510.5,-46.5 \" stroke=\"#000000\"/>\n<text fill=\"#000000\" font-family=\"Times,serif\" font-size=\"14.00\" text-anchor=\"middle\" x=\"1400.5\" y=\"-31.3\">input:</text>\n<polyline fill=\"none\" points=\"1434.5,-23.5 1434.5,-46.5 \" stroke=\"#000000\"/>\n<text fill=\"#000000\" font-family=\"Times,serif\" font-size=\"14.00\" text-anchor=\"middle\" x=\"1472.5\" y=\"-31.3\">output:</text>\n<polyline fill=\"none\" points=\"1366.5,-23.5 1510.5,-23.5 \" stroke=\"#000000\"/>\n<text fill=\"#000000\" font-family=\"Times,serif\" font-size=\"14.00\" text-anchor=\"middle\" x=\"1402.5\" y=\"-8.3\">(None, 1)</text>\n<polyline fill=\"none\" points=\"1438.5,-.5 1438.5,-23.5 \" stroke=\"#000000\"/>\n<text fill=\"#000000\" font-family=\"Times,serif\" font-size=\"14.00\" text-anchor=\"middle\" x=\"1474.5\" y=\"-8.3\">(None, 1)</text>\n</g>\n<!-- 140321309726368&#45;&gt;140321309773216 -->\n<g class=\"edge\" id=\"edge8\">\n<title>140321309726368-&gt;140321309773216</title>\n<path d=\"M1510.7554,-49.2248C1521.4087,-51.3221 1532.6115,-53.5276 1543.9011,-55.7501\" fill=\"none\" stroke=\"#000000\"/>\n<polygon fill=\"#000000\" points=\"1543.3451,-59.2078 1553.8329,-57.7054 1544.6973,-52.3396 1543.3451,-59.2078\" stroke=\"#000000\"/>\n</g>\n<!-- 140321308772168 -->\n<g class=\"node\" id=\"node10\">\n<title>140321308772168</title>\n<polygon fill=\"none\" points=\"1806,-44.5 1806,-113.5 1950,-113.5 1950,-44.5 1806,-44.5\" stroke=\"#000000\"/>\n<text fill=\"#000000\" font-family=\"Times,serif\" font-size=\"14.00\" text-anchor=\"middle\" x=\"1878\" y=\"-98.3\">dense_0: Dense</text>\n<polyline fill=\"none\" points=\"1806,-90.5 1950,-90.5 \" stroke=\"#000000\"/>\n<text fill=\"#000000\" font-family=\"Times,serif\" font-size=\"14.00\" text-anchor=\"middle\" x=\"1840\" y=\"-75.3\">input:</text>\n<polyline fill=\"none\" points=\"1874,-67.5 1874,-90.5 \" stroke=\"#000000\"/>\n<text fill=\"#000000\" font-family=\"Times,serif\" font-size=\"14.00\" text-anchor=\"middle\" x=\"1912\" y=\"-75.3\">output:</text>\n<polyline fill=\"none\" points=\"1806,-67.5 1950,-67.5 \" stroke=\"#000000\"/>\n<text fill=\"#000000\" font-family=\"Times,serif\" font-size=\"14.00\" text-anchor=\"middle\" x=\"1842\" y=\"-52.3\">(None, 7)</text>\n<polyline fill=\"none\" points=\"1878,-44.5 1878,-67.5 \" stroke=\"#000000\"/>\n<text fill=\"#000000\" font-family=\"Times,serif\" font-size=\"14.00\" text-anchor=\"middle\" x=\"1914\" y=\"-52.3\">(None, 8)</text>\n</g>\n<!-- 140321309773216&#45;&gt;140321308772168 -->\n<g class=\"edge\" id=\"edge9\">\n<title>140321309773216-&gt;140321308772168</title>\n<path d=\"M1770.3164,-79C1778.8476,-79 1787.3761,-79 1795.6891,-79\" fill=\"none\" stroke=\"#000000\"/>\n<polygon fill=\"#000000\" points=\"1795.708,-82.5001 1805.7079,-79 1795.7079,-75.5001 1795.708,-82.5001\" stroke=\"#000000\"/>\n</g>\n<!-- 140321308770992 -->\n<g class=\"node\" id=\"node11\">\n<title>140321308770992</title>\n<polygon fill=\"none\" points=\"1986,-44.5 1986,-113.5 2130,-113.5 2130,-44.5 1986,-44.5\" stroke=\"#000000\"/>\n<text fill=\"#000000\" font-family=\"Times,serif\" font-size=\"14.00\" text-anchor=\"middle\" x=\"2058\" y=\"-98.3\">dense_1: Dense</text>\n<polyline fill=\"none\" points=\"1986,-90.5 2130,-90.5 \" stroke=\"#000000\"/>\n<text fill=\"#000000\" font-family=\"Times,serif\" font-size=\"14.00\" text-anchor=\"middle\" x=\"2020\" y=\"-75.3\">input:</text>\n<polyline fill=\"none\" points=\"2054,-67.5 2054,-90.5 \" stroke=\"#000000\"/>\n<text fill=\"#000000\" font-family=\"Times,serif\" font-size=\"14.00\" text-anchor=\"middle\" x=\"2092\" y=\"-75.3\">output:</text>\n<polyline fill=\"none\" points=\"1986,-67.5 2130,-67.5 \" stroke=\"#000000\"/>\n<text fill=\"#000000\" font-family=\"Times,serif\" font-size=\"14.00\" text-anchor=\"middle\" x=\"2022\" y=\"-52.3\">(None, 8)</text>\n<polyline fill=\"none\" points=\"2058,-44.5 2058,-67.5 \" stroke=\"#000000\"/>\n<text fill=\"#000000\" font-family=\"Times,serif\" font-size=\"14.00\" text-anchor=\"middle\" x=\"2094\" y=\"-52.3\">(None, 8)</text>\n</g>\n<!-- 140321308772168&#45;&gt;140321308770992 -->\n<g class=\"edge\" id=\"edge10\">\n<title>140321308772168-&gt;140321308770992</title>\n<path d=\"M1950.1757,-79C1958.5199,-79 1967.0771,-79 1975.5445,-79\" fill=\"none\" stroke=\"#000000\"/>\n<polygon fill=\"#000000\" points=\"1975.8081,-82.5001 1985.8081,-79 1975.808,-75.5001 1975.8081,-82.5001\" stroke=\"#000000\"/>\n</g>\n<!-- 140321309773328 -->\n<g class=\"node\" id=\"node12\">\n<title>140321309773328</title>\n<polygon fill=\"none\" points=\"2166,-44.5 2166,-113.5 2310,-113.5 2310,-44.5 2166,-44.5\" stroke=\"#000000\"/>\n<text fill=\"#000000\" font-family=\"Times,serif\" font-size=\"14.00\" text-anchor=\"middle\" x=\"2238\" y=\"-98.3\">generation: Dense</text>\n<polyline fill=\"none\" points=\"2166,-90.5 2310,-90.5 \" stroke=\"#000000\"/>\n<text fill=\"#000000\" font-family=\"Times,serif\" font-size=\"14.00\" text-anchor=\"middle\" x=\"2200\" y=\"-75.3\">input:</text>\n<polyline fill=\"none\" points=\"2234,-67.5 2234,-90.5 \" stroke=\"#000000\"/>\n<text fill=\"#000000\" font-family=\"Times,serif\" font-size=\"14.00\" text-anchor=\"middle\" x=\"2272\" y=\"-75.3\">output:</text>\n<polyline fill=\"none\" points=\"2166,-67.5 2310,-67.5 \" stroke=\"#000000\"/>\n<text fill=\"#000000\" font-family=\"Times,serif\" font-size=\"14.00\" text-anchor=\"middle\" x=\"2202\" y=\"-52.3\">(None, 8)</text>\n<polyline fill=\"none\" points=\"2238,-44.5 2238,-67.5 \" stroke=\"#000000\"/>\n<text fill=\"#000000\" font-family=\"Times,serif\" font-size=\"14.00\" text-anchor=\"middle\" x=\"2274\" y=\"-52.3\">(None, 1)</text>\n</g>\n<!-- 140321308770992&#45;&gt;140321309773328 -->\n<g class=\"edge\" id=\"edge11\">\n<title>140321308770992-&gt;140321309773328</title>\n<path d=\"M2130.1757,-79C2138.5199,-79 2147.0771,-79 2155.5445,-79\" fill=\"none\" stroke=\"#000000\"/>\n<polygon fill=\"#000000\" points=\"2155.8081,-82.5001 2165.8081,-79 2155.808,-75.5001 2155.8081,-82.5001\" stroke=\"#000000\"/>\n</g>\n</g>\n</svg>"
          },
          "metadata": {
            "tags": []
          },
          "execution_count": 23
        }
      ]
    },
    {
      "cell_type": "markdown",
      "metadata": {
        "id": "LAyAcdZZBKeQ",
        "colab_type": "text"
      },
      "source": [
        "### Connect feature pipelines to the neural network"
      ]
    },
    {
      "cell_type": "code",
      "metadata": {
        "id": "chARUG6WBKeR",
        "colab_type": "code",
        "colab": {}
      },
      "source": [
        "from timeserio.pipeline import MultiPipeline"
      ],
      "execution_count": 0,
      "outputs": []
    },
    {
      "cell_type": "code",
      "metadata": {
        "id": "7fZpcQstBKeV",
        "colab_type": "code",
        "colab": {}
      },
      "source": [
        "multipipeline = MultiPipeline({\n",
        "    \"sequence\": seq_pipeline,\n",
        "    \"horizon\": fc_horizon_pipeline,\n",
        "    \"target\": target_pipeline\n",
        "})"
      ],
      "execution_count": 0,
      "outputs": []
    },
    {
      "cell_type": "code",
      "metadata": {
        "id": "6oAq1WYuBKea",
        "colab_type": "code",
        "colab": {}
      },
      "source": [
        "from timeserio.multimodel import MultiModel\n",
        "\n",
        "manifold = {\n",
        "    # keras_model_name: (input_pipes, output_pipes)\n",
        "    \"encoder\": (\"sequence\", None),\n",
        "    \"forecast\": ([\"sequence\", \"horizon\"], \"target\")\n",
        "}\n",
        "\n",
        "multimodel = MultiModel(\n",
        "    multinetwork=multinetwork,\n",
        "    multipipeline=multipipeline,\n",
        "    manifold=manifold\n",
        ")"
      ],
      "execution_count": 0,
      "outputs": []
    },
    {
      "cell_type": "markdown",
      "metadata": {
        "id": "XMT83C6BBKed",
        "colab_type": "text"
      },
      "source": [
        "### Fit model from the batch generator\n",
        "\n",
        "`multimodel.fit_generator()` will apply pipelines correctly to the training batch generator, and, if `validation_data` is provided in the form of another (pandas) batch generator,\n",
        "evaluate the relevant metrics. In addition, feature extraction for each batch will benefit from the `workers` parallelism."
      ]
    },
    {
      "cell_type": "code",
      "metadata": {
        "id": "L6cuAZXADihe",
        "colab_type": "code",
        "colab": {
          "base_uri": "https://localhost:8080/",
          "height": 34
        },
        "outputId": "97ce5907-41ee-4d40-e92b-d66a694c2557"
      },
      "source": [
        "!pip install kerashistoryplot"
      ],
      "execution_count": 27,
      "outputs": [
        {
          "output_type": "stream",
          "text": [
            "Requirement already satisfied: kerashistoryplot in /usr/local/lib/python3.6/dist-packages (0.0.10)\n"
          ],
          "name": "stdout"
        }
      ]
    },
    {
      "cell_type": "code",
      "metadata": {
        "id": "n49WMi0rBKee",
        "colab_type": "code",
        "colab": {
          "base_uri": "https://localhost:8080/",
          "height": 442
        },
        "outputId": "8e5cfe18-6454-4193-f978-c147a81f8d87"
      },
      "source": [
        "from kerashistoryplot.callbacks import PlotHistory\n",
        "#plot_callback = PlotHistory(figsize=(15, 3), n_cols=3, batches=False)\n",
        "\n",
        "multimodel.fit_generator(\n",
        "    batchgen_train, model=\"forecast\", verbose=1, epochs=10,\n",
        "    reset_weights=True,\n",
        "    workers=4\n",
        "    #, callbacks=[plot_callback]\n",
        ")"
      ],
      "execution_count": 28,
      "outputs": [
        {
          "output_type": "stream",
          "text": [
            "WARNING:tensorflow:From /usr/local/lib/python3.6/dist-packages/keras/backend/tensorflow_backend.py:1033: The name tf.assign_add is deprecated. Please use tf.compat.v1.assign_add instead.\n",
            "\n",
            "WARNING:tensorflow:From /usr/local/lib/python3.6/dist-packages/keras/backend/tensorflow_backend.py:1020: The name tf.assign is deprecated. Please use tf.compat.v1.assign instead.\n",
            "\n",
            "Epoch 1/10\n",
            "70/70 [==============================] - 40s 566ms/step - loss: 0.0441 - mean_absolute_error: 0.1659\n",
            "Epoch 2/10\n",
            "70/70 [==============================] - 36s 515ms/step - loss: 0.0289 - mean_absolute_error: 0.1222\n",
            "Epoch 3/10\n",
            "70/70 [==============================] - 38s 546ms/step - loss: 0.0221 - mean_absolute_error: 0.0974\n",
            "Epoch 4/10\n",
            "70/70 [==============================] - 38s 544ms/step - loss: 0.0190 - mean_absolute_error: 0.0888\n",
            "Epoch 5/10\n",
            "70/70 [==============================] - 38s 543ms/step - loss: 0.0163 - mean_absolute_error: 0.0790\n",
            "Epoch 6/10\n",
            "70/70 [==============================] - 38s 544ms/step - loss: 0.0161 - mean_absolute_error: 0.0768\n",
            "Epoch 7/10\n",
            "70/70 [==============================] - 38s 545ms/step - loss: 0.0159 - mean_absolute_error: 0.0743\n",
            "Epoch 8/10\n",
            "70/70 [==============================] - 38s 542ms/step - loss: 0.0148 - mean_absolute_error: 0.0721\n",
            "Epoch 9/10\n",
            "70/70 [==============================] - 39s 563ms/step - loss: 0.0146 - mean_absolute_error: 0.0725\n",
            "Epoch 10/10\n",
            "70/70 [==============================] - 36s 520ms/step - loss: 0.0155 - mean_absolute_error: 0.0736\n"
          ],
          "name": "stdout"
        },
        {
          "output_type": "execute_result",
          "data": {
            "text/plain": [
              "<timeserio.keras.callbacks.HistoryLogger at 0x7f9f14118240>"
            ]
          },
          "metadata": {
            "tags": []
          },
          "execution_count": 28
        }
      ]
    },
    {
      "cell_type": "markdown",
      "metadata": {
        "id": "VfOTeLQ6BKej",
        "colab_type": "text"
      },
      "source": [
        "persist the model:"
      ]
    },
    {
      "cell_type": "code",
      "metadata": {
        "id": "ad8xS6LXmF0w",
        "colab_type": "code",
        "colab": {}
      },
      "source": [
        "model_file=\"/tmp/model.pickle\"\n",
        "network_file=\"/tmp/network.pickle\"\n",
        "weights_file=\"/tmp/weights.pickle\""
      ],
      "execution_count": 0,
      "outputs": []
    },
    {
      "cell_type": "code",
      "metadata": {
        "id": "pmOgE2qFBKek",
        "colab_type": "code",
        "colab": {}
      },
      "source": [
        "from timeserio.utils.pickle import loadf, dumpf\n",
        "dumpf(multimodel, model_file)\n",
        "dumpf(multinetwork, network_file)\n",
        "dumpf(multinetwork.weights, weights_file)"
      ],
      "execution_count": 0,
      "outputs": []
    },
    {
      "cell_type": "code",
      "metadata": {
        "id": "qTpxWNznlsHx",
        "colab_type": "code",
        "colab": {
          "base_uri": "https://localhost:8080/",
          "height": 358
        },
        "outputId": "32a01c0b-5825-4c66-94c7-f3649a8e0f17"
      },
      "source": [
        "from google.colab import files\n",
        "files.download(model_file)\n",
        "files.download(network_file)\n",
        "files.download(weights_file)"
      ],
      "execution_count": 31,
      "outputs": [
        {
          "output_type": "error",
          "ename": "MessageError",
          "evalue": "ignored",
          "traceback": [
            "\u001b[0;31m---------------------------------------------------------------------------\u001b[0m",
            "\u001b[0;31mMessageError\u001b[0m                              Traceback (most recent call last)",
            "\u001b[0;32m<ipython-input-31-8495eba1ddf7>\u001b[0m in \u001b[0;36m<module>\u001b[0;34m()\u001b[0m\n\u001b[1;32m      1\u001b[0m \u001b[0;32mfrom\u001b[0m \u001b[0mgoogle\u001b[0m\u001b[0;34m.\u001b[0m\u001b[0mcolab\u001b[0m \u001b[0;32mimport\u001b[0m \u001b[0mfiles\u001b[0m\u001b[0;34m\u001b[0m\u001b[0;34m\u001b[0m\u001b[0m\n\u001b[0;32m----> 2\u001b[0;31m \u001b[0mfiles\u001b[0m\u001b[0;34m.\u001b[0m\u001b[0mdownload\u001b[0m\u001b[0;34m(\u001b[0m\u001b[0mmodel_file\u001b[0m\u001b[0;34m)\u001b[0m\u001b[0;34m\u001b[0m\u001b[0;34m\u001b[0m\u001b[0m\n\u001b[0m\u001b[1;32m      3\u001b[0m \u001b[0mfiles\u001b[0m\u001b[0;34m.\u001b[0m\u001b[0mdownload\u001b[0m\u001b[0;34m(\u001b[0m\u001b[0mnetwork_file\u001b[0m\u001b[0;34m)\u001b[0m\u001b[0;34m\u001b[0m\u001b[0;34m\u001b[0m\u001b[0m\n\u001b[1;32m      4\u001b[0m \u001b[0mfiles\u001b[0m\u001b[0;34m.\u001b[0m\u001b[0mdownload\u001b[0m\u001b[0;34m(\u001b[0m\u001b[0mweights_file\u001b[0m\u001b[0;34m)\u001b[0m\u001b[0;34m\u001b[0m\u001b[0;34m\u001b[0m\u001b[0m\n",
            "\u001b[0;32m/usr/local/lib/python3.6/dist-packages/google/colab/files.py\u001b[0m in \u001b[0;36mdownload\u001b[0;34m(filename)\u001b[0m\n\u001b[1;32m    176\u001b[0m       \u001b[0;34m'port'\u001b[0m\u001b[0;34m:\u001b[0m \u001b[0mport\u001b[0m\u001b[0;34m,\u001b[0m\u001b[0;34m\u001b[0m\u001b[0;34m\u001b[0m\u001b[0m\n\u001b[1;32m    177\u001b[0m       \u001b[0;34m'path'\u001b[0m\u001b[0;34m:\u001b[0m \u001b[0m_os\u001b[0m\u001b[0;34m.\u001b[0m\u001b[0mpath\u001b[0m\u001b[0;34m.\u001b[0m\u001b[0mabspath\u001b[0m\u001b[0;34m(\u001b[0m\u001b[0mfilename\u001b[0m\u001b[0;34m)\u001b[0m\u001b[0;34m,\u001b[0m\u001b[0;34m\u001b[0m\u001b[0;34m\u001b[0m\u001b[0m\n\u001b[0;32m--> 178\u001b[0;31m       \u001b[0;34m'name'\u001b[0m\u001b[0;34m:\u001b[0m \u001b[0m_os\u001b[0m\u001b[0;34m.\u001b[0m\u001b[0mpath\u001b[0m\u001b[0;34m.\u001b[0m\u001b[0mbasename\u001b[0m\u001b[0;34m(\u001b[0m\u001b[0mfilename\u001b[0m\u001b[0;34m)\u001b[0m\u001b[0;34m,\u001b[0m\u001b[0;34m\u001b[0m\u001b[0;34m\u001b[0m\u001b[0m\n\u001b[0m\u001b[1;32m    179\u001b[0m   })\n",
            "\u001b[0;32m/usr/local/lib/python3.6/dist-packages/google/colab/output/_js.py\u001b[0m in \u001b[0;36meval_js\u001b[0;34m(script, ignore_result)\u001b[0m\n\u001b[1;32m     37\u001b[0m   \u001b[0;32mif\u001b[0m \u001b[0mignore_result\u001b[0m\u001b[0;34m:\u001b[0m\u001b[0;34m\u001b[0m\u001b[0;34m\u001b[0m\u001b[0m\n\u001b[1;32m     38\u001b[0m     \u001b[0;32mreturn\u001b[0m\u001b[0;34m\u001b[0m\u001b[0;34m\u001b[0m\u001b[0m\n\u001b[0;32m---> 39\u001b[0;31m   \u001b[0;32mreturn\u001b[0m \u001b[0m_message\u001b[0m\u001b[0;34m.\u001b[0m\u001b[0mread_reply_from_input\u001b[0m\u001b[0;34m(\u001b[0m\u001b[0mrequest_id\u001b[0m\u001b[0;34m)\u001b[0m\u001b[0;34m\u001b[0m\u001b[0;34m\u001b[0m\u001b[0m\n\u001b[0m\u001b[1;32m     40\u001b[0m \u001b[0;34m\u001b[0m\u001b[0m\n\u001b[1;32m     41\u001b[0m \u001b[0;34m\u001b[0m\u001b[0m\n",
            "\u001b[0;32m/usr/local/lib/python3.6/dist-packages/google/colab/_message.py\u001b[0m in \u001b[0;36mread_reply_from_input\u001b[0;34m(message_id, timeout_sec)\u001b[0m\n\u001b[1;32m    104\u001b[0m         reply.get('colab_msg_id') == message_id):\n\u001b[1;32m    105\u001b[0m       \u001b[0;32mif\u001b[0m \u001b[0;34m'error'\u001b[0m \u001b[0;32min\u001b[0m \u001b[0mreply\u001b[0m\u001b[0;34m:\u001b[0m\u001b[0;34m\u001b[0m\u001b[0;34m\u001b[0m\u001b[0m\n\u001b[0;32m--> 106\u001b[0;31m         \u001b[0;32mraise\u001b[0m \u001b[0mMessageError\u001b[0m\u001b[0;34m(\u001b[0m\u001b[0mreply\u001b[0m\u001b[0;34m[\u001b[0m\u001b[0;34m'error'\u001b[0m\u001b[0;34m]\u001b[0m\u001b[0;34m)\u001b[0m\u001b[0;34m\u001b[0m\u001b[0;34m\u001b[0m\u001b[0m\n\u001b[0m\u001b[1;32m    107\u001b[0m       \u001b[0;32mreturn\u001b[0m \u001b[0mreply\u001b[0m\u001b[0;34m.\u001b[0m\u001b[0mget\u001b[0m\u001b[0;34m(\u001b[0m\u001b[0;34m'data'\u001b[0m\u001b[0;34m,\u001b[0m \u001b[0;32mNone\u001b[0m\u001b[0;34m)\u001b[0m\u001b[0;34m\u001b[0m\u001b[0;34m\u001b[0m\u001b[0m\n\u001b[1;32m    108\u001b[0m \u001b[0;34m\u001b[0m\u001b[0m\n",
            "\u001b[0;31mMessageError\u001b[0m: TypeError: Failed to fetch"
          ]
        }
      ]
    },
    {
      "cell_type": "code",
      "metadata": {
        "id": "TEpoZ9dUTTRp",
        "colab_type": "code",
        "colab": {
          "base_uri": "https://localhost:8080/",
          "height": 952
        },
        "outputId": "4a4e95ad-b542-43ec-8c49-67ad30d5af6a"
      },
      "source": [
        "multimodel.multinetwork.weights"
      ],
      "execution_count": 32,
      "outputs": [
        {
          "output_type": "execute_result",
          "data": {
            "text/plain": [
              "{'encoder': [array([[[-0.19326153]]], dtype=float32),\n",
              "  array([-0.01388481], dtype=float32),\n",
              "  array([1.001507], dtype=float32),\n",
              "  array([0.1724715], dtype=float32),\n",
              "  array([-0.04395088], dtype=float32),\n",
              "  array([0.00157916], dtype=float32)],\n",
              " 'forecast': [array([[[-0.19326153]]], dtype=float32),\n",
              "  array([-0.01388481], dtype=float32),\n",
              "  array([1.001507], dtype=float32),\n",
              "  array([0.1724715], dtype=float32),\n",
              "  array([-0.04395088], dtype=float32),\n",
              "  array([0.00157916], dtype=float32),\n",
              "  array([[ 0.43342778,  0.37757066,  0.6303462 ,  0.71829   ,  0.29318696,\n",
              "          -0.4383042 , -0.42728963,  0.54490477],\n",
              "         [-0.0376397 ,  0.5487245 ,  0.5358355 ,  0.43267414,  0.23670724,\n",
              "           0.4768411 , -0.29845628, -0.06619695],\n",
              "         [ 0.25497553,  0.13796303, -0.42512372,  0.46833453,  0.57893   ,\n",
              "           0.25583443,  0.5749272 ,  0.18844144],\n",
              "         [-0.6698033 , -0.05163093, -0.26994517, -0.4319419 ,  0.34235328,\n",
              "          -0.54363394, -0.21543871, -0.13967685],\n",
              "         [-0.28191382,  0.5012723 , -0.22604911, -0.06465642,  0.14303659,\n",
              "          -0.17458114,  0.06914259,  0.48418438],\n",
              "         [ 0.25151205, -0.3410487 , -0.3525212 , -0.84941936, -0.01046094,\n",
              "           0.6343724 ,  0.1359275 ,  0.39661467],\n",
              "         [ 0.29603276, -0.24648537,  0.05695876, -0.07640775,  0.53107053,\n",
              "          -0.27728814,  0.61695915, -0.04636918]], dtype=float32),\n",
              "  array([ 0.03269209, -0.03288496,  0.09210459,  0.2730348 ,  0.00748931,\n",
              "          0.08635996,  0.0571113 ,  0.06709039], dtype=float32),\n",
              "  array([[ 0.01253319, -0.54435915, -0.25998262, -0.13793305, -0.43480372,\n",
              "           0.15693496, -0.06547916, -0.29948625],\n",
              "         [-0.26066983, -0.37905407,  0.3676554 , -0.5384253 ,  0.14690115,\n",
              "           0.36620712, -0.32343313, -0.10573012],\n",
              "         [-0.500609  ,  0.03618103,  0.13863802,  0.08835955, -0.4332923 ,\n",
              "           0.56630504, -0.5282013 , -0.43969652],\n",
              "         [-0.34959248, -0.04757875, -0.27353808, -0.20262095, -0.82663596,\n",
              "           0.23996936, -0.19687103,  0.14941841],\n",
              "         [-0.19975692,  0.393703  , -0.4095866 ,  0.41460526,  0.5008808 ,\n",
              "           0.23611064,  0.07697377, -0.14482188],\n",
              "         [ 0.22466409, -0.31558913,  0.5860434 , -0.60829663,  0.7633838 ,\n",
              "          -0.6033208 , -0.13652553, -0.30555755],\n",
              "         [-0.28544167, -0.51564425, -0.07274193, -0.53047705,  0.30856395,\n",
              "           0.04674709, -0.4129235 , -0.4808072 ],\n",
              "         [ 0.22304994, -0.40012717, -0.4522869 ,  0.2720149 ,  0.42575803,\n",
              "          -0.4834761 ,  0.46548977,  0.02590668]], dtype=float32),\n",
              "  array([ 0.        , -0.00292404,  0.        , -0.03844162, -0.01101631,\n",
              "          0.04074562, -0.0735948 ,  0.        ], dtype=float32),\n",
              "  array([[-0.6122876 ],\n",
              "         [ 0.71454906],\n",
              "         [-0.5839056 ],\n",
              "         [ 0.13504079],\n",
              "         [-0.17114563],\n",
              "         [ 0.4288186 ],\n",
              "         [ 0.35436186],\n",
              "         [-0.3970187 ]], dtype=float32),\n",
              "  array([0.04161951], dtype=float32)]}"
            ]
          },
          "metadata": {
            "tags": []
          },
          "execution_count": 32
        }
      ]
    },
    {
      "cell_type": "markdown",
      "metadata": {
        "id": "sEvo9LMxBKep",
        "colab_type": "text"
      },
      "source": [
        "### Evaluate performance on test data\n",
        "We can evaluate the model on the validation data generator, which can also be out-of-memory:"
      ]
    },
    {
      "cell_type": "code",
      "metadata": {
        "id": "Z2WZjvmwBKes",
        "colab_type": "code",
        "colab": {}
      },
      "source": [
        "batchgen_test = SequenceForecastBatchGenerator(\n",
        "    df=df_test, batch_size=2**15,\n",
        "    sequence_length=6,\n",
        "    sequence_columns=[\"generation\", \"Time_step\"],\n",
        "    last_step_columns=[\"Time_step\"],\n",
        "    forecast_steps_min=1,\n",
        "    forecast_steps_max=2,\n",
        "    batch_offset=False,\n",
        "    id_column=\"country\",\n",
        "    batch_aggregator=1\n",
        ")"
      ],
      "execution_count": 0,
      "outputs": []
    },
    {
      "cell_type": "code",
      "metadata": {
        "id": "QOBayckeBKev",
        "colab_type": "code",
        "colab": {
          "base_uri": "https://localhost:8080/",
          "height": 51
        },
        "outputId": "3ba6cb13-278d-4500-bf5d-15baf2a33e41"
      },
      "source": [
        "multimodel.evaluate_generator(batchgen_test, model=\"forecast\", verbose=1)"
      ],
      "execution_count": 34,
      "outputs": [
        {
          "output_type": "stream",
          "text": [
            "35/35 [==============================] - 2s 43ms/step\n"
          ],
          "name": "stdout"
        },
        {
          "output_type": "execute_result",
          "data": {
            "text/plain": [
              "[0.01902832679583558, 0.08507909572550229]"
            ]
          },
          "metadata": {
            "tags": []
          },
          "execution_count": 34
        }
      ]
    },
    {
      "cell_type": "markdown",
      "metadata": {
        "id": "bp7Z1fsMBKey",
        "colab_type": "text"
      },
      "source": [
        "While the model takes longer to train (and longer still with practical encoder architectures), it can be tuned to achieve higher performanec, especially if encodings are combined with datetime features."
      ]
    },
    {
      "cell_type": "code",
      "metadata": {
        "id": "XdJBSf6QHNGx",
        "colab_type": "code",
        "colab": {
          "base_uri": "https://localhost:8080/",
          "height": 225
        },
        "outputId": "0d90f831-0e67-4f25-d110-556f550aec3b"
      },
      "source": [
        "from kerashistoryplot.plot import plot_history\n",
        "history = multimodel.history[-1][\"history\"]\n",
        "plot_history(history, figsize=(15, 3), n_cols=3);"
      ],
      "execution_count": 35,
      "outputs": [
        {
          "output_type": "display_data",
          "data": {
            "image/png": "[encoded data removed]",
            "text/plain": [
              "<Figure size 1080x216 with 3 Axes>"
            ]
          },
          "metadata": {
            "tags": []
          }
        }
      ]
    },
    {
      "cell_type": "code",
      "metadata": {
        "id": "aPtnwIhw1Zz_",
        "colab_type": "code",
        "colab": {}
      },
      "source": [
        ""
      ],
      "execution_count": 0,
      "outputs": []
    }
  ]
}