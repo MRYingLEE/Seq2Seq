{
  "nbformat": 4,
  "nbformat_minor": 0,
  "metadata": {
    "kernelspec": {
      "display_name": "Python 3",
      "language": "python",
      "name": "python3"
    },
    "language_info": {
      "codemirror_mode": {
        "name": "ipython",
        "version": 3
      },
      "file_extension": ".py",
      "mimetype": "text/x-python",
      "name": "python",
      "nbconvert_exporter": "python",
      "pygments_lexer": "ipython3",
      "version": "3.7.1"
    },
    "colab": {
      "name": "1. Solar Generation Data Preparation",
      "provenance": [],
      "machine_shape": "hm"
    }
  },
  "cells": [
    {
      "cell_type": "markdown",
      "metadata": {
        "id": "m7I35Gzz78o1",
        "colab_type": "text"
      },
      "source": [
        "# Modelling Solar generation across Multiple Sites\n",
        "\n",
        "This example shows how `timeserio` helps building deep learning models for time series forecasting. Especially,\n",
        "we deal with the case of many related timeseries.\n",
        "\n",
        "We demonstrate some core functionality and concepts, without striving for model accuracy or seeking out additional features like historic weather forecasts.\n",
        "\n",
        "We will be using the dataset on solar (photo-voltaic, PV) generation potential across Europe, as collected by [SETIS](https://setis.ec.europa.eu/EMHIRES-datasets). The dataset presents solar generation, normalized to the solar capacity installed as of 2015."
      ]
    },
    {
      "cell_type": "markdown",
      "metadata": {
        "id": "xmOm7b2v78o3",
        "colab_type": "text"
      },
      "source": [
        "## Download the data"
      ]
    },
    {
      "cell_type": "code",
      "metadata": {
        "id": "ZF43VGYC78o5",
        "colab_type": "code",
        "outputId": "80dd4565-2506-46e6-9c2d-a46380cf595d",
        "colab": {
          "base_uri": "https://localhost:8080/",
          "height": 238
        }
      },
      "source": [
        "!mkdir -p ~/tmp/datasets; cd ~/tmp/datasets; wget https://setis.ec.europa.eu/sites/default/files/EMHIRES_DATA/Solar/EMHIRESPV_country_level.zip; unzip -o EMHIRESPV_country_level.zip; rm EMHIRESPV_country_level.zip"
      ],
      "execution_count": 1,
      "outputs": [
        {
          "output_type": "stream",
          "text": [
            "--2020-03-23 00:32:13--  https://setis.ec.europa.eu/sites/default/files/EMHIRES_DATA/Solar/EMHIRESPV_country_level.zip\n",
            "Resolving setis.ec.europa.eu (setis.ec.europa.eu)... 139.191.207.52\n",
            "Connecting to setis.ec.europa.eu (setis.ec.europa.eu)|139.191.207.52|:443... connected.\n",
            "HTTP request sent, awaiting response... 200 OK\n",
            "Length: 93401258 (89M) [application/zip]\n",
            "Saving to: ‘EMHIRESPV_country_level.zip’\n",
            "\n",
            "EMHIRESPV_country_l 100%[===================>]  89.07M  6.04MB/s    in 17s     \n",
            "\n",
            "2020-03-23 00:32:32 (5.31 MB/s) - ‘EMHIRESPV_country_level.zip’ saved [93401258/93401258]\n",
            "\n",
            "Archive:  EMHIRESPV_country_level.zip\n",
            "  inflating: EMHIRESPV_TSh_CF_Country_19862015.xlsx  \n"
          ],
          "name": "stdout"
        }
      ]
    },
    {
      "cell_type": "markdown",
      "metadata": {
        "id": "2wBXQhv978o-",
        "colab_type": "text"
      },
      "source": [
        "## Download data and save in a more performant format"
      ]
    },
    {
      "cell_type": "code",
      "metadata": {
        "id": "j-Uau75L78o_",
        "colab_type": "code",
        "colab": {}
      },
      "source": [
        "import pandas as pd\n",
        "import numpy as np"
      ],
      "execution_count": 0,
      "outputs": []
    },
    {
      "cell_type": "code",
      "metadata": {
        "id": "ZkBVOL2R78pD",
        "colab_type": "code",
        "outputId": "a07d3694-d82c-4527-db74-b0e4f023b8ec",
        "colab": {
          "base_uri": "https://localhost:8080/",
          "height": 51
        }
      },
      "source": [
        "%%time\n",
        "df = pd.read_excel(\"~/tmp/datasets/EMHIRESPV_TSh_CF_Country_19862015.xlsx\")"
      ],
      "execution_count": 3,
      "outputs": [
        {
          "output_type": "stream",
          "text": [
            "CPU times: user 1min 24s, sys: 662 ms, total: 1min 24s\n",
            "Wall time: 1min 24s\n"
          ],
          "name": "stdout"
        }
      ]
    },
    {
      "cell_type": "code",
      "metadata": {
        "id": "D02Lit7v78pH",
        "colab_type": "code",
        "outputId": "2c9ade8d-e6d9-47b0-ab5b-f785ce5d3a6e",
        "colab": {
          "base_uri": "https://localhost:8080/",
          "height": 142
        }
      },
      "source": [
        "df.head(3)"
      ],
      "execution_count": 4,
      "outputs": [
        {
          "output_type": "execute_result",
          "data": {
            "text/html": [
              "<div>\n",
              "<style scoped>\n",
              "    .dataframe tbody tr th:only-of-type {\n",
              "        vertical-align: middle;\n",
              "    }\n",
              "\n",
              "    .dataframe tbody tr th {\n",
              "        vertical-align: top;\n",
              "    }\n",
              "\n",
              "    .dataframe thead th {\n",
              "        text-align: right;\n",
              "    }\n",
              "</style>\n",
              "<table border=\"1\" class=\"dataframe\">\n",
              "  <thead>\n",
              "    <tr style=\"text-align: right;\">\n",
              "      <th></th>\n",
              "      <th>Time_step</th>\n",
              "      <th>Date</th>\n",
              "      <th>Year</th>\n",
              "      <th>Month</th>\n",
              "      <th>Day</th>\n",
              "      <th>Hour</th>\n",
              "      <th>AL</th>\n",
              "      <th>AT</th>\n",
              "      <th>BA</th>\n",
              "      <th>BE</th>\n",
              "      <th>BG</th>\n",
              "      <th>CH</th>\n",
              "      <th>CY</th>\n",
              "      <th>CZ</th>\n",
              "      <th>DE</th>\n",
              "      <th>DK</th>\n",
              "      <th>EE</th>\n",
              "      <th>ES</th>\n",
              "      <th>FI</th>\n",
              "      <th>FR</th>\n",
              "      <th>EL</th>\n",
              "      <th>HR</th>\n",
              "      <th>HU</th>\n",
              "      <th>IE</th>\n",
              "      <th>IT</th>\n",
              "      <th>LT</th>\n",
              "      <th>LU</th>\n",
              "      <th>LV</th>\n",
              "      <th>ME</th>\n",
              "      <th>MK</th>\n",
              "      <th>NL</th>\n",
              "      <th>NO</th>\n",
              "      <th>PL</th>\n",
              "      <th>PT</th>\n",
              "      <th>RO</th>\n",
              "      <th>RS</th>\n",
              "      <th>SI</th>\n",
              "      <th>SK</th>\n",
              "      <th>SE</th>\n",
              "      <th>XK</th>\n",
              "      <th>UK</th>\n",
              "    </tr>\n",
              "  </thead>\n",
              "  <tbody>\n",
              "    <tr>\n",
              "      <th>0</th>\n",
              "      <td>1</td>\n",
              "      <td>1986-01-01 00:00:00</td>\n",
              "      <td>1986</td>\n",
              "      <td>1</td>\n",
              "      <td>1</td>\n",
              "      <td>0</td>\n",
              "      <td>0.0</td>\n",
              "      <td>0.0</td>\n",
              "      <td>0.0</td>\n",
              "      <td>0.0</td>\n",
              "      <td>0.0</td>\n",
              "      <td>0.0</td>\n",
              "      <td>0</td>\n",
              "      <td>0.0</td>\n",
              "      <td>0.0</td>\n",
              "      <td>0.0</td>\n",
              "      <td>0.0</td>\n",
              "      <td>0.0</td>\n",
              "      <td>0.0</td>\n",
              "      <td>0.0</td>\n",
              "      <td>0.0</td>\n",
              "      <td>0.0</td>\n",
              "      <td>0.0</td>\n",
              "      <td>0.0</td>\n",
              "      <td>0.0</td>\n",
              "      <td>0.0</td>\n",
              "      <td>0.0</td>\n",
              "      <td>0.0</td>\n",
              "      <td>0.0</td>\n",
              "      <td>0.0</td>\n",
              "      <td>0.0</td>\n",
              "      <td>0.0</td>\n",
              "      <td>0.0</td>\n",
              "      <td>0.0</td>\n",
              "      <td>0.0</td>\n",
              "      <td>0.0</td>\n",
              "      <td>0.0</td>\n",
              "      <td>0.0</td>\n",
              "      <td>0.0</td>\n",
              "      <td>0.0</td>\n",
              "      <td>0.0</td>\n",
              "    </tr>\n",
              "    <tr>\n",
              "      <th>1</th>\n",
              "      <td>2</td>\n",
              "      <td>1986-01-01 01:00:00</td>\n",
              "      <td>1986</td>\n",
              "      <td>1</td>\n",
              "      <td>1</td>\n",
              "      <td>1</td>\n",
              "      <td>0.0</td>\n",
              "      <td>0.0</td>\n",
              "      <td>0.0</td>\n",
              "      <td>0.0</td>\n",
              "      <td>0.0</td>\n",
              "      <td>0.0</td>\n",
              "      <td>0</td>\n",
              "      <td>0.0</td>\n",
              "      <td>0.0</td>\n",
              "      <td>0.0</td>\n",
              "      <td>0.0</td>\n",
              "      <td>0.0</td>\n",
              "      <td>0.0</td>\n",
              "      <td>0.0</td>\n",
              "      <td>0.0</td>\n",
              "      <td>0.0</td>\n",
              "      <td>0.0</td>\n",
              "      <td>0.0</td>\n",
              "      <td>0.0</td>\n",
              "      <td>0.0</td>\n",
              "      <td>0.0</td>\n",
              "      <td>0.0</td>\n",
              "      <td>0.0</td>\n",
              "      <td>0.0</td>\n",
              "      <td>0.0</td>\n",
              "      <td>0.0</td>\n",
              "      <td>0.0</td>\n",
              "      <td>0.0</td>\n",
              "      <td>0.0</td>\n",
              "      <td>0.0</td>\n",
              "      <td>0.0</td>\n",
              "      <td>0.0</td>\n",
              "      <td>0.0</td>\n",
              "      <td>0.0</td>\n",
              "      <td>0.0</td>\n",
              "    </tr>\n",
              "    <tr>\n",
              "      <th>2</th>\n",
              "      <td>3</td>\n",
              "      <td>1986-01-01 02:00:00</td>\n",
              "      <td>1986</td>\n",
              "      <td>1</td>\n",
              "      <td>1</td>\n",
              "      <td>2</td>\n",
              "      <td>0.0</td>\n",
              "      <td>0.0</td>\n",
              "      <td>0.0</td>\n",
              "      <td>0.0</td>\n",
              "      <td>0.0</td>\n",
              "      <td>0.0</td>\n",
              "      <td>0</td>\n",
              "      <td>0.0</td>\n",
              "      <td>0.0</td>\n",
              "      <td>0.0</td>\n",
              "      <td>0.0</td>\n",
              "      <td>0.0</td>\n",
              "      <td>0.0</td>\n",
              "      <td>0.0</td>\n",
              "      <td>0.0</td>\n",
              "      <td>0.0</td>\n",
              "      <td>0.0</td>\n",
              "      <td>0.0</td>\n",
              "      <td>0.0</td>\n",
              "      <td>0.0</td>\n",
              "      <td>0.0</td>\n",
              "      <td>0.0</td>\n",
              "      <td>0.0</td>\n",
              "      <td>0.0</td>\n",
              "      <td>0.0</td>\n",
              "      <td>0.0</td>\n",
              "      <td>0.0</td>\n",
              "      <td>0.0</td>\n",
              "      <td>0.0</td>\n",
              "      <td>0.0</td>\n",
              "      <td>0.0</td>\n",
              "      <td>0.0</td>\n",
              "      <td>0.0</td>\n",
              "      <td>0.0</td>\n",
              "      <td>0.0</td>\n",
              "    </tr>\n",
              "  </tbody>\n",
              "</table>\n",
              "</div>"
            ],
            "text/plain": [
              "   Time_step                Date  Year  Month  Day  ...   SI   SK   SE   XK   UK\n",
              "0          1 1986-01-01 00:00:00  1986      1    1  ...  0.0  0.0  0.0  0.0  0.0\n",
              "1          2 1986-01-01 01:00:00  1986      1    1  ...  0.0  0.0  0.0  0.0  0.0\n",
              "2          3 1986-01-01 02:00:00  1986      1    1  ...  0.0  0.0  0.0  0.0  0.0\n",
              "\n",
              "[3 rows x 41 columns]"
            ]
          },
          "metadata": {
            "tags": []
          },
          "execution_count": 4
        }
      ]
    },
    {
      "cell_type": "markdown",
      "metadata": {
        "id": "p84G29sj78pL",
        "colab_type": "text"
      },
      "source": [
        "### Reshape data to tall format\n",
        "We add a `country` column to identify each table row."
      ]
    },
    {
      "cell_type": "code",
      "metadata": {
        "id": "tST-xAnJ78pM",
        "colab_type": "code",
        "colab": {}
      },
      "source": [
        "id_vars = ['Time_step', 'Date', 'Year', 'Month', 'Day', 'Hour']\n",
        "country_vars = list(set(df.columns) - set(id_vars))\n",
        "df_tall = pd.melt(df, id_vars=id_vars, value_vars=country_vars, var_name=\"country\", value_name=\"generation\")"
      ],
      "execution_count": 0,
      "outputs": []
    },
    {
      "cell_type": "code",
      "metadata": {
        "id": "P9UUdSRo_dOz",
        "colab_type": "code",
        "outputId": "9d5742c6-0253-440c-b70d-ceb1ee6b9499",
        "colab": {
          "base_uri": "https://localhost:8080/",
          "height": 359
        }
      },
      "source": [
        "df_tall.head(10)"
      ],
      "execution_count": 6,
      "outputs": [
        {
          "output_type": "execute_result",
          "data": {
            "text/html": [
              "<div>\n",
              "<style scoped>\n",
              "    .dataframe tbody tr th:only-of-type {\n",
              "        vertical-align: middle;\n",
              "    }\n",
              "\n",
              "    .dataframe tbody tr th {\n",
              "        vertical-align: top;\n",
              "    }\n",
              "\n",
              "    .dataframe thead th {\n",
              "        text-align: right;\n",
              "    }\n",
              "</style>\n",
              "<table border=\"1\" class=\"dataframe\">\n",
              "  <thead>\n",
              "    <tr style=\"text-align: right;\">\n",
              "      <th></th>\n",
              "      <th>Time_step</th>\n",
              "      <th>Date</th>\n",
              "      <th>Year</th>\n",
              "      <th>Month</th>\n",
              "      <th>Day</th>\n",
              "      <th>Hour</th>\n",
              "      <th>country</th>\n",
              "      <th>generation</th>\n",
              "    </tr>\n",
              "  </thead>\n",
              "  <tbody>\n",
              "    <tr>\n",
              "      <th>0</th>\n",
              "      <td>1</td>\n",
              "      <td>1986-01-01 00:00:00</td>\n",
              "      <td>1986</td>\n",
              "      <td>1</td>\n",
              "      <td>1</td>\n",
              "      <td>0</td>\n",
              "      <td>RO</td>\n",
              "      <td>0.000000</td>\n",
              "    </tr>\n",
              "    <tr>\n",
              "      <th>1</th>\n",
              "      <td>2</td>\n",
              "      <td>1986-01-01 01:00:00</td>\n",
              "      <td>1986</td>\n",
              "      <td>1</td>\n",
              "      <td>1</td>\n",
              "      <td>1</td>\n",
              "      <td>RO</td>\n",
              "      <td>0.000000</td>\n",
              "    </tr>\n",
              "    <tr>\n",
              "      <th>2</th>\n",
              "      <td>3</td>\n",
              "      <td>1986-01-01 02:00:00</td>\n",
              "      <td>1986</td>\n",
              "      <td>1</td>\n",
              "      <td>1</td>\n",
              "      <td>2</td>\n",
              "      <td>RO</td>\n",
              "      <td>0.000000</td>\n",
              "    </tr>\n",
              "    <tr>\n",
              "      <th>3</th>\n",
              "      <td>4</td>\n",
              "      <td>1986-01-01 03:00:00</td>\n",
              "      <td>1986</td>\n",
              "      <td>1</td>\n",
              "      <td>1</td>\n",
              "      <td>3</td>\n",
              "      <td>RO</td>\n",
              "      <td>0.000000</td>\n",
              "    </tr>\n",
              "    <tr>\n",
              "      <th>4</th>\n",
              "      <td>5</td>\n",
              "      <td>1986-01-01 04:00:00</td>\n",
              "      <td>1986</td>\n",
              "      <td>1</td>\n",
              "      <td>1</td>\n",
              "      <td>4</td>\n",
              "      <td>RO</td>\n",
              "      <td>0.000000</td>\n",
              "    </tr>\n",
              "    <tr>\n",
              "      <th>5</th>\n",
              "      <td>6</td>\n",
              "      <td>1986-01-01 05:00:00</td>\n",
              "      <td>1986</td>\n",
              "      <td>1</td>\n",
              "      <td>1</td>\n",
              "      <td>5</td>\n",
              "      <td>RO</td>\n",
              "      <td>0.000000</td>\n",
              "    </tr>\n",
              "    <tr>\n",
              "      <th>6</th>\n",
              "      <td>7</td>\n",
              "      <td>1986-01-01 06:00:00</td>\n",
              "      <td>1986</td>\n",
              "      <td>1</td>\n",
              "      <td>1</td>\n",
              "      <td>6</td>\n",
              "      <td>RO</td>\n",
              "      <td>0.000000</td>\n",
              "    </tr>\n",
              "    <tr>\n",
              "      <th>7</th>\n",
              "      <td>8</td>\n",
              "      <td>1986-01-01 07:00:00</td>\n",
              "      <td>1986</td>\n",
              "      <td>1</td>\n",
              "      <td>1</td>\n",
              "      <td>7</td>\n",
              "      <td>RO</td>\n",
              "      <td>0.059359</td>\n",
              "    </tr>\n",
              "    <tr>\n",
              "      <th>8</th>\n",
              "      <td>9</td>\n",
              "      <td>1986-01-01 08:00:00</td>\n",
              "      <td>1986</td>\n",
              "      <td>1</td>\n",
              "      <td>1</td>\n",
              "      <td>8</td>\n",
              "      <td>RO</td>\n",
              "      <td>0.098980</td>\n",
              "    </tr>\n",
              "    <tr>\n",
              "      <th>9</th>\n",
              "      <td>10</td>\n",
              "      <td>1986-01-01 09:00:00</td>\n",
              "      <td>1986</td>\n",
              "      <td>1</td>\n",
              "      <td>1</td>\n",
              "      <td>9</td>\n",
              "      <td>RO</td>\n",
              "      <td>0.111118</td>\n",
              "    </tr>\n",
              "  </tbody>\n",
              "</table>\n",
              "</div>"
            ],
            "text/plain": [
              "   Time_step                Date  Year  Month  Day  Hour country  generation\n",
              "0          1 1986-01-01 00:00:00  1986      1    1     0      RO    0.000000\n",
              "1          2 1986-01-01 01:00:00  1986      1    1     1      RO    0.000000\n",
              "2          3 1986-01-01 02:00:00  1986      1    1     2      RO    0.000000\n",
              "3          4 1986-01-01 03:00:00  1986      1    1     3      RO    0.000000\n",
              "4          5 1986-01-01 04:00:00  1986      1    1     4      RO    0.000000\n",
              "5          6 1986-01-01 05:00:00  1986      1    1     5      RO    0.000000\n",
              "6          7 1986-01-01 06:00:00  1986      1    1     6      RO    0.000000\n",
              "7          8 1986-01-01 07:00:00  1986      1    1     7      RO    0.059359\n",
              "8          9 1986-01-01 08:00:00  1986      1    1     8      RO    0.098980\n",
              "9         10 1986-01-01 09:00:00  1986      1    1     9      RO    0.111118"
            ]
          },
          "metadata": {
            "tags": []
          },
          "execution_count": 6
        }
      ]
    },
    {
      "cell_type": "markdown",
      "metadata": {
        "id": "YFrPxsA578pi",
        "colab_type": "text"
      },
      "source": [
        "## Data Exploratory"
      ]
    },
    {
      "cell_type": "code",
      "metadata": {
        "id": "BR8RNvXO78pj",
        "colab_type": "code",
        "colab": {}
      },
      "source": [
        "import pandas as pd\n",
        "import matplotlib.pyplot as plt\n",
        "import seaborn as sns"
      ],
      "execution_count": 0,
      "outputs": []
    },
    {
      "cell_type": "code",
      "metadata": {
        "id": "egEOQNwo78pn",
        "colab_type": "code",
        "outputId": "c6ccd26c-584f-4873-bc2b-f387ef3b0262",
        "colab": {
          "base_uri": "https://localhost:8080/",
          "height": 51
        }
      },
      "source": [
        "%%time\n",
        "df = df_tall"
      ],
      "execution_count": 8,
      "outputs": [
        {
          "output_type": "stream",
          "text": [
            "CPU times: user 29 µs, sys: 0 ns, total: 29 µs\n",
            "Wall time: 33.6 µs\n"
          ],
          "name": "stdout"
        }
      ]
    },
    {
      "cell_type": "code",
      "metadata": {
        "id": "3x96zbR278pq",
        "colab_type": "code",
        "outputId": "f6e82559-ecc0-40dd-d83e-ba4bcc4b9f88",
        "colab": {
          "base_uri": "https://localhost:8080/",
          "height": 34
        }
      },
      "source": [
        "print(' '.join(sorted(df['country'].unique())))"
      ],
      "execution_count": 9,
      "outputs": [
        {
          "output_type": "stream",
          "text": [
            "AL AT BA BE BG CH CY CZ DE DK EE EL ES FI FR HR HU IE IT LT LU LV ME MK NL NO PL PT RO RS SE SI SK UK XK\n"
          ],
          "name": "stdout"
        }
      ]
    },
    {
      "cell_type": "code",
      "metadata": {
        "id": "-hlmipwZ78pu",
        "colab_type": "code",
        "colab": {}
      },
      "source": [
        "plot_countries = ['ES', 'UK', 'FI', ]"
      ],
      "execution_count": 0,
      "outputs": []
    },
    {
      "cell_type": "code",
      "metadata": {
        "id": "pHL7XfO078pz",
        "colab_type": "code",
        "outputId": "1cc5705e-d0ad-4b04-b0a1-6a4c13c35ee2",
        "colab": {
          "base_uri": "https://localhost:8080/",
          "height": 364
        }
      },
      "source": [
        "plt.figure(figsize=(15, 3))\n",
        "sns.lineplot(\n",
        "    data=df[(df['Time_step'] < 500) & (df['country'].isin(plot_countries))],\n",
        "    x='Date', y='generation', hue='country',\n",
        ")"
      ],
      "execution_count": 11,
      "outputs": [
        {
          "output_type": "stream",
          "text": [
            "/usr/local/lib/python3.6/dist-packages/pandas/plotting/_matplotlib/converter.py:103: FutureWarning: Using an implicitly registered datetime converter for a matplotlib plotting method. The converter was registered by pandas on import. Future versions of pandas will require you to explicitly register matplotlib converters.\n",
            "\n",
            "To register the converters:\n",
            "\t>>> from pandas.plotting import register_matplotlib_converters\n",
            "\t>>> register_matplotlib_converters()\n",
            "  warnings.warn(msg, FutureWarning)\n"
          ],
          "name": "stderr"
        },
        {
          "output_type": "execute_result",
          "data": {
            "text/plain": [
              "<matplotlib.axes._subplots.AxesSubplot at 0x7f19872e06a0>"
            ]
          },
          "metadata": {
            "tags": []
          },
          "execution_count": 11
        },
        {
          "output_type": "display_data",
          "data": {
            "image/png": "[encoded data removed]",
            "text/plain": [
              "<Figure size 1080x216 with 1 Axes>"
            ]
          },
          "metadata": {
            "tags": []
          }
        }
      ]
    },
    {
      "cell_type": "code",
      "metadata": {
        "id": "G88lEZ5u78p3",
        "colab_type": "code",
        "colab": {}
      },
      "source": [
        "df_monthly = df.groupby(['Month', 'country']).mean().reset_index()"
      ],
      "execution_count": 0,
      "outputs": []
    },
    {
      "cell_type": "code",
      "metadata": {
        "id": "V3NH2xER78p6",
        "colab_type": "code",
        "outputId": "fccd87cc-987d-4171-9af0-377dc8b81e3d",
        "colab": {
          "base_uri": "https://localhost:8080/",
          "height": 242
        }
      },
      "source": [
        "plt.figure(figsize=(15, 3))\n",
        "sns.lineplot(\n",
        "    data=df_monthly[df_monthly['country'].isin(plot_countries)],\n",
        "    x='Month', y='generation', hue='country',\n",
        ")"
      ],
      "execution_count": 13,
      "outputs": [
        {
          "output_type": "execute_result",
          "data": {
            "text/plain": [
              "<matplotlib.axes._subplots.AxesSubplot at 0x7f1986d3d710>"
            ]
          },
          "metadata": {
            "tags": []
          },
          "execution_count": 13
        },
        {
          "output_type": "display_data",
          "data": {
            "image/png": "[encoded data removed]",
            "text/plain": [
              "<Figure size 1080x216 with 1 Axes>"
            ]
          },
          "metadata": {
            "tags": []
          }
        }
      ]
    },
    {
      "cell_type": "code",
      "metadata": {
        "id": "LgZqgorv78p-",
        "colab_type": "code",
        "colab": {}
      },
      "source": [
        "df_daily = df.groupby(['Hour', 'country']).mean().reset_index()"
      ],
      "execution_count": 0,
      "outputs": []
    },
    {
      "cell_type": "code",
      "metadata": {
        "id": "IQsDAG8K78qB",
        "colab_type": "code",
        "outputId": "84d2221e-49fd-4bef-8090-3d66f4ae54c8",
        "colab": {
          "base_uri": "https://localhost:8080/",
          "height": 242
        }
      },
      "source": [
        "plt.figure(figsize=(15, 3))\n",
        "sns.lineplot(\n",
        "    data=df_daily[df_daily['country'].isin(plot_countries)],\n",
        "    x='Hour', y='generation', hue='country',\n",
        ")"
      ],
      "execution_count": 15,
      "outputs": [
        {
          "output_type": "execute_result",
          "data": {
            "text/plain": [
              "<matplotlib.axes._subplots.AxesSubplot at 0x7f19854db1d0>"
            ]
          },
          "metadata": {
            "tags": []
          },
          "execution_count": 15
        },
        {
          "output_type": "display_data",
          "data": {
            "image/png": "[encoded data removed]",
            "text/plain": [
              "<Figure size 1080x216 with 1 Axes>"
            ]
          },
          "metadata": {
            "tags": []
          }
        }
      ]
    },
    {
      "cell_type": "code",
      "metadata": {
        "id": "EY6WEObB78qE",
        "colab_type": "code",
        "colab": {}
      },
      "source": [
        "df_yearly = df.groupby(['Year', 'country']).mean().reset_index()"
      ],
      "execution_count": 0,
      "outputs": []
    },
    {
      "cell_type": "code",
      "metadata": {
        "id": "KOi2qIRf78qI",
        "colab_type": "code",
        "outputId": "4a42e7dd-040f-4d18-e146-871bbabdb29a",
        "colab": {
          "base_uri": "https://localhost:8080/",
          "height": 242
        }
      },
      "source": [
        "plt.figure(figsize=(15, 3))\n",
        "sns.lineplot(\n",
        "    data=df_yearly[df_yearly['country'].isin(plot_countries)],\n",
        "    x='Year', y='generation', hue='country',\n",
        ")"
      ],
      "execution_count": 17,
      "outputs": [
        {
          "output_type": "execute_result",
          "data": {
            "text/plain": [
              "<matplotlib.axes._subplots.AxesSubplot at 0x7f1985493e48>"
            ]
          },
          "metadata": {
            "tags": []
          },
          "execution_count": 17
        },
        {
          "output_type": "display_data",
          "data": {
            "image/png": "[encoded data removed]",
            "text/plain": [
              "<Figure size 1080x216 with 1 Axes>"
            ]
          },
          "metadata": {
            "tags": []
          }
        }
      ]
    },
    {
      "cell_type": "markdown",
      "metadata": {
        "id": "w1l0YV4U78qL",
        "colab_type": "text"
      },
      "source": [
        "### Preliminary observations\n",
        "\n",
        "The timeseries for different countries exhibit a lot of similarity - they will have similar daily and seaonal shapes. At the same time, the curves have different scaling (due to latitudes and weather), and different time offsets (due to longitude). We can build models to incorporate these as external features, or learn the relevant features from the available data only!"
      ]
    },
    {
      "cell_type": "markdown",
      "metadata": {
        "id": "2_xsYzthwUiV",
        "colab_type": "text"
      },
      "source": [
        "### Store to parquet\n",
        "[Apache Parquet](https://parquet.apache.org/documentation/latest/) is a much preferred data format for columnar numerical data - it is much faster to read (see below), is fully compatible with tools like `pandas` and Spark, and allows easy partitioning of large datasets."
      ]
    },
    {
      "cell_type": "code",
      "metadata": {
        "id": "tpJHQuHjwUiW",
        "colab_type": "code",
        "outputId": "95a495fb-161d-4fdb-a2cf-4fb5847f82f0",
        "colab": {
          "base_uri": "https://localhost:8080/",
          "height": 51
        }
      },
      "source": [
        "%%time\n",
        "df_tall.to_parquet(\"/content/tall.parquet\")"
      ],
      "execution_count": 18,
      "outputs": [
        {
          "output_type": "stream",
          "text": [
            "CPU times: user 1.88 s, sys: 237 ms, total: 2.11 s\n",
            "Wall time: 2.08 s\n"
          ],
          "name": "stdout"
        }
      ]
    },
    {
      "cell_type": "code",
      "metadata": {
        "id": "UzQcIUAlCRGW",
        "colab_type": "code",
        "outputId": "d5d5b80e-6591-426c-f8b7-08f5ba0d24dc",
        "colab": {
          "base_uri": "https://localhost:8080/",
          "height": 68
        }
      },
      "source": [
        "!ls /content -l"
      ],
      "execution_count": 19,
      "outputs": [
        {
          "output_type": "stream",
          "text": [
            "total 126464\n",
            "drwxr-xr-x 1 root root      4096 Mar 18 16:23 sample_data\n",
            "-rw-r--r-- 1 root root 129492873 Mar 23 00:34 tall.parquet\n"
          ],
          "name": "stdout"
        }
      ]
    },
    {
      "cell_type": "code",
      "metadata": {
        "id": "bF9otCaAwUij",
        "colab_type": "code",
        "colab": {}
      },
      "source": [
        "from google.colab import files\n",
        "files.download(\"/content/tall.parquet\")"
      ],
      "execution_count": 0,
      "outputs": []
    },
    {
      "cell_type": "markdown",
      "metadata": {
        "id": "ARaXenQwwUia",
        "colab_type": "text"
      },
      "source": [
        "### Store to partitioned parquet (For Distributed Environment)\n",
        "\n",
        "\n",
        "```python\n",
        "%%time\n",
        "df_tall.to_parquet(\"~/tmp/datasets/EMHIRESPV_TSh_CF_Country_19862015_partitioned/\", partition_cols=[\"country\"])\n",
        "\n",
        "!tree -h --filelimit=10 ~/tmp/datasets\n",
        "```"
      ]
    }
  ]
}