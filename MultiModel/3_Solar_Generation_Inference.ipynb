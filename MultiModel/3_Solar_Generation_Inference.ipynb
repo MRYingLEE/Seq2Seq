{
  "nbformat": 4,
  "nbformat_minor": 0,
  "metadata": {
    "kernelspec": {
      "display_name": "Python 3",
      "language": "python",
      "name": "python3"
    },
    "language_info": {
      "codemirror_mode": {
        "name": "ipython",
        "version": 3
      },
      "file_extension": ".py",
      "mimetype": "text/x-python",
      "name": "python",
      "nbconvert_exporter": "python",
      "pygments_lexer": "ipython3",
      "version": "3.7.1"
    },
    "colab": {
      "name": "3. Solar Generation Inference",
      "provenance": [],
      "machine_shape": "hm"
    }
  },
  "cells": [
    {
      "cell_type": "markdown",
      "metadata": {
        "id": "m7I35Gzz78o1",
        "colab_type": "text"
      },
      "source": [
        "# Modelling Solar generation across Multiple Sites\n",
        "\n",
        "This example shows how `timeserio` helps building deep learning models for time series forecasting. Especially,\n",
        "we deal with the case of many related timeseries.\n",
        "\n",
        "We demonstrate some core functionality and concepts, without striving for model accuracy or seeking out additional features like historic weather forecasts.\n",
        "\n",
        "We will be using the dataset on solar (photo-voltaic, PV) generation potential across Europe, as collected by [SETIS](https://setis.ec.europa.eu/EMHIRES-datasets). The dataset presents solar generation, normalized to the solar capacity installed as of 2015."
      ]
    },
    {
      "cell_type": "code",
      "metadata": {
        "id": "BR8RNvXO78pj",
        "colab_type": "code",
        "colab": {}
      },
      "source": [
        "import pandas as pd\n",
        "import matplotlib.pyplot as plt\n",
        "import seaborn as sns"
      ],
      "execution_count": 0,
      "outputs": []
    },
    {
      "cell_type": "code",
      "metadata": {
        "id": "fKCWVUdYlcy4",
        "colab_type": "code",
        "colab": {}
      },
      "source": [
        "from google.colab import files\n",
        "import os\n",
        "import os.path\n",
        "from os import path"
      ],
      "execution_count": 0,
      "outputs": []
    },
    {
      "cell_type": "code",
      "metadata": {
        "id": "KPumjlwOBZmz",
        "colab_type": "code",
        "colab": {}
      },
      "source": [
        "from google.colab import files\n",
        "def upload_1_file():\n",
        "  uploaded = files.upload()\n",
        "\n",
        "  for fn in uploaded.keys():\n",
        "    print('User uploaded file \"{name}\" with length {length} bytes'.format(\n",
        "        name=fn, length=len(uploaded[fn])))\n",
        "    return fn\n",
        "\n",
        "  return \"\"\n"
      ],
      "execution_count": 0,
      "outputs": []
    },
    {
      "cell_type": "code",
      "metadata": {
        "id": "WbVwi1u1dpRA",
        "colab_type": "code",
        "cellView": "both",
        "colab": {}
      },
      "source": [
        "def download_1_file(http_path):\n",
        "  import requests\n",
        "  import shutil\n",
        "  response = requests.get(http_path, stream=True)\n",
        "\n",
        "  import tempfile\n",
        "  fname = tempfile.mkstemp()[1]\n",
        "  \n",
        "  #print(fname)\n",
        "  with open(fname, 'wb') as fin:\n",
        "      shutil.copyfileobj(response.raw, fin)\n",
        "\n",
        "  return fname # Works!"
      ],
      "execution_count": 0,
      "outputs": []
    },
    {
      "cell_type": "code",
      "metadata": {
        "id": "sH51WPU6jjb1",
        "colab_type": "code",
        "colab": {}
      },
      "source": [
        "def download_or_upload_1_file(http_or_file_path):\n",
        "  if (path.exists(http_or_file_path) and (path.isfile(http_or_file_path))):\n",
        "    return http_or_file_path\n",
        "\n",
        "  if (http_or_file_path==\"\"):\n",
        "    encoder_input_file=upload_1_file()\n",
        "    return encoder_input_file\n",
        "  else:\n",
        "    print(http_or_file_path)\n",
        "    return download_1_file(http_or_file_path)"
      ],
      "execution_count": 0,
      "outputs": []
    },
    {
      "cell_type": "markdown",
      "metadata": {
        "id": "YFrPxsA578pi",
        "colab_type": "text"
      },
      "source": [
        "## Load the data from parquet"
      ]
    },
    {
      "cell_type": "code",
      "metadata": {
        "id": "b66yLlDxjgDp",
        "colab_type": "code",
        "colab": {}
      },
      "source": [
        "test_path=\"https://MrYingLee.Github.io/MultiModel/test.parquet\""
      ],
      "execution_count": 0,
      "outputs": []
    },
    {
      "cell_type": "code",
      "metadata": {
        "id": "t5KrqfHOkAq4",
        "colab_type": "code",
        "outputId": "be30053f-6860-442d-f5b8-d0ceb037625f",
        "colab": {
          "base_uri": "https://localhost:8080/",
          "height": 34
        }
      },
      "source": [
        "data_file=download_or_upload_1_file(test_path)"
      ],
      "execution_count": 202,
      "outputs": [
        {
          "output_type": "stream",
          "text": [
            "https://MrYingLee.Github.io/MultiModel/test.parquet\n"
          ],
          "name": "stdout"
        }
      ]
    },
    {
      "cell_type": "code",
      "metadata": {
        "id": "wkStn0qBBKdL",
        "colab_type": "code",
        "outputId": "89a56467-f487-44fd-cb83-082aa244e4b9",
        "colab": {
          "base_uri": "https://localhost:8080/",
          "height": 51
        }
      },
      "source": [
        "%%time\n",
        "df_test = pd.read_parquet(data_file)"
      ],
      "execution_count": 203,
      "outputs": [
        {
          "output_type": "stream",
          "text": [
            "CPU times: user 48.4 ms, sys: 7.99 ms, total: 56.4 ms\n",
            "Wall time: 32.7 ms\n"
          ],
          "name": "stdout"
        }
      ]
    },
    {
      "cell_type": "code",
      "metadata": {
        "id": "-NxCMTegx0vA",
        "colab_type": "code",
        "colab": {}
      },
      "source": [
        "plot_countries = ['ES'] # ['ES', 'UK', 'FI', ]"
      ],
      "execution_count": 0,
      "outputs": []
    },
    {
      "cell_type": "code",
      "metadata": {
        "id": "TX_74_8i1t1J",
        "colab_type": "code",
        "colab": {}
      },
      "source": [
        "df_test=df_test[df_test['country'].isin(plot_countries)] # We only test one country"
      ],
      "execution_count": 0,
      "outputs": []
    },
    {
      "cell_type": "code",
      "metadata": {
        "id": "4O34kIqTp4D9",
        "colab_type": "code",
        "outputId": "d776becd-6da7-45c6-e1d3-ad01b05bfb2d",
        "colab": {
          "base_uri": "https://localhost:8080/",
          "height": 359
        }
      },
      "source": [
        "df_test.head(10)"
      ],
      "execution_count": 206,
      "outputs": [
        {
          "output_type": "execute_result",
          "data": {
            "text/html": [
              "<div>\n",
              "<style scoped>\n",
              "    .dataframe tbody tr th:only-of-type {\n",
              "        vertical-align: middle;\n",
              "    }\n",
              "\n",
              "    .dataframe tbody tr th {\n",
              "        vertical-align: top;\n",
              "    }\n",
              "\n",
              "    .dataframe thead th {\n",
              "        text-align: right;\n",
              "    }\n",
              "</style>\n",
              "<table border=\"1\" class=\"dataframe\">\n",
              "  <thead>\n",
              "    <tr style=\"text-align: right;\">\n",
              "      <th></th>\n",
              "      <th>Time_step</th>\n",
              "      <th>Date</th>\n",
              "      <th>Year</th>\n",
              "      <th>Month</th>\n",
              "      <th>Day</th>\n",
              "      <th>Hour</th>\n",
              "      <th>country</th>\n",
              "      <th>generation</th>\n",
              "    </tr>\n",
              "  </thead>\n",
              "  <tbody>\n",
              "    <tr>\n",
              "      <th>7091376</th>\n",
              "      <td>254209</td>\n",
              "      <td>2015-01-01 00:00:00</td>\n",
              "      <td>2015</td>\n",
              "      <td>1</td>\n",
              "      <td>1</td>\n",
              "      <td>0</td>\n",
              "      <td>ES</td>\n",
              "      <td>0.000000</td>\n",
              "    </tr>\n",
              "    <tr>\n",
              "      <th>7091377</th>\n",
              "      <td>254210</td>\n",
              "      <td>2015-01-01 01:00:00</td>\n",
              "      <td>2015</td>\n",
              "      <td>1</td>\n",
              "      <td>1</td>\n",
              "      <td>1</td>\n",
              "      <td>ES</td>\n",
              "      <td>0.000000</td>\n",
              "    </tr>\n",
              "    <tr>\n",
              "      <th>7091378</th>\n",
              "      <td>254211</td>\n",
              "      <td>2015-01-01 02:00:00</td>\n",
              "      <td>2015</td>\n",
              "      <td>1</td>\n",
              "      <td>1</td>\n",
              "      <td>2</td>\n",
              "      <td>ES</td>\n",
              "      <td>0.000000</td>\n",
              "    </tr>\n",
              "    <tr>\n",
              "      <th>7091379</th>\n",
              "      <td>254212</td>\n",
              "      <td>2015-01-01 03:00:00</td>\n",
              "      <td>2015</td>\n",
              "      <td>1</td>\n",
              "      <td>1</td>\n",
              "      <td>3</td>\n",
              "      <td>ES</td>\n",
              "      <td>0.000000</td>\n",
              "    </tr>\n",
              "    <tr>\n",
              "      <th>7091380</th>\n",
              "      <td>254213</td>\n",
              "      <td>2015-01-01 04:00:00</td>\n",
              "      <td>2015</td>\n",
              "      <td>1</td>\n",
              "      <td>1</td>\n",
              "      <td>4</td>\n",
              "      <td>ES</td>\n",
              "      <td>0.000000</td>\n",
              "    </tr>\n",
              "    <tr>\n",
              "      <th>7091381</th>\n",
              "      <td>254214</td>\n",
              "      <td>2015-01-01 05:00:00</td>\n",
              "      <td>2015</td>\n",
              "      <td>1</td>\n",
              "      <td>1</td>\n",
              "      <td>5</td>\n",
              "      <td>ES</td>\n",
              "      <td>0.000000</td>\n",
              "    </tr>\n",
              "    <tr>\n",
              "      <th>7091382</th>\n",
              "      <td>254215</td>\n",
              "      <td>2015-01-01 06:00:00</td>\n",
              "      <td>2015</td>\n",
              "      <td>1</td>\n",
              "      <td>1</td>\n",
              "      <td>6</td>\n",
              "      <td>ES</td>\n",
              "      <td>0.000000</td>\n",
              "    </tr>\n",
              "    <tr>\n",
              "      <th>7091383</th>\n",
              "      <td>254216</td>\n",
              "      <td>2015-01-01 07:00:00</td>\n",
              "      <td>2015</td>\n",
              "      <td>1</td>\n",
              "      <td>1</td>\n",
              "      <td>7</td>\n",
              "      <td>ES</td>\n",
              "      <td>0.000000</td>\n",
              "    </tr>\n",
              "    <tr>\n",
              "      <th>7091384</th>\n",
              "      <td>254217</td>\n",
              "      <td>2015-01-01 08:00:00</td>\n",
              "      <td>2015</td>\n",
              "      <td>1</td>\n",
              "      <td>1</td>\n",
              "      <td>8</td>\n",
              "      <td>ES</td>\n",
              "      <td>0.140595</td>\n",
              "    </tr>\n",
              "    <tr>\n",
              "      <th>7091385</th>\n",
              "      <td>254218</td>\n",
              "      <td>2015-01-01 09:00:00</td>\n",
              "      <td>2015</td>\n",
              "      <td>1</td>\n",
              "      <td>1</td>\n",
              "      <td>9</td>\n",
              "      <td>ES</td>\n",
              "      <td>0.368293</td>\n",
              "    </tr>\n",
              "  </tbody>\n",
              "</table>\n",
              "</div>"
            ],
            "text/plain": [
              "         Time_step                Date  Year  ...  Hour  country  generation\n",
              "7091376     254209 2015-01-01 00:00:00  2015  ...     0       ES    0.000000\n",
              "7091377     254210 2015-01-01 01:00:00  2015  ...     1       ES    0.000000\n",
              "7091378     254211 2015-01-01 02:00:00  2015  ...     2       ES    0.000000\n",
              "7091379     254212 2015-01-01 03:00:00  2015  ...     3       ES    0.000000\n",
              "7091380     254213 2015-01-01 04:00:00  2015  ...     4       ES    0.000000\n",
              "7091381     254214 2015-01-01 05:00:00  2015  ...     5       ES    0.000000\n",
              "7091382     254215 2015-01-01 06:00:00  2015  ...     6       ES    0.000000\n",
              "7091383     254216 2015-01-01 07:00:00  2015  ...     7       ES    0.000000\n",
              "7091384     254217 2015-01-01 08:00:00  2015  ...     8       ES    0.140595\n",
              "7091385     254218 2015-01-01 09:00:00  2015  ...     9       ES    0.368293\n",
              "\n",
              "[10 rows x 8 columns]"
            ]
          },
          "metadata": {
            "tags": []
          },
          "execution_count": 206
        }
      ]
    },
    {
      "cell_type": "markdown",
      "metadata": {
        "id": "b4tCJGeO6b4F",
        "colab_type": "text"
      },
      "source": [
        "## To load multimodel"
      ]
    },
    {
      "cell_type": "code",
      "metadata": {
        "id": "nRSHKJWc7ebc",
        "colab_type": "code",
        "colab": {}
      },
      "source": [
        "from timeserio.utils.pickle import loadf, dumpf"
      ],
      "execution_count": 0,
      "outputs": []
    },
    {
      "cell_type": "code",
      "metadata": {
        "id": "LJWVwl0VmESV",
        "colab_type": "code",
        "outputId": "2e568efb-3b40-4b84-9668-319f062c5bf4",
        "colab": {
          "base_uri": "https://localhost:8080/",
          "height": 323
        }
      },
      "source": [
        "!pip install timeserio"
      ],
      "execution_count": 208,
      "outputs": [
        {
          "output_type": "stream",
          "text": [
            "Requirement already satisfied: timeserio in /usr/local/lib/python3.6/dist-packages (0.10.4)\n",
            "Requirement already satisfied: holidays in /usr/local/lib/python3.6/dist-packages (from timeserio) (0.9.12)\n",
            "Requirement already satisfied: numpy in /usr/local/lib/python3.6/dist-packages (from timeserio) (1.18.2)\n",
            "Requirement already satisfied: pandas in /usr/local/lib/python3.6/dist-packages (from timeserio) (0.25.3)\n",
            "Requirement already satisfied: scikit-learn==0.20.3 in /usr/local/lib/python3.6/dist-packages (from timeserio) (0.20.3)\n",
            "Requirement already satisfied: s3fs in /usr/local/lib/python3.6/dist-packages (from timeserio) (0.4.0)\n",
            "Requirement already satisfied: joblib in /usr/local/lib/python3.6/dist-packages (from timeserio) (0.14.1)\n",
            "Requirement already satisfied: six in /usr/local/lib/python3.6/dist-packages (from holidays->timeserio) (1.12.0)\n",
            "Requirement already satisfied: python-dateutil in /usr/local/lib/python3.6/dist-packages (from holidays->timeserio) (2.8.1)\n",
            "Requirement already satisfied: pytz>=2017.2 in /usr/local/lib/python3.6/dist-packages (from pandas->timeserio) (2018.9)\n",
            "Requirement already satisfied: scipy>=0.13.3 in /usr/local/lib/python3.6/dist-packages (from scikit-learn==0.20.3->timeserio) (1.4.1)\n",
            "Requirement already satisfied: fsspec>=0.6.0 in /usr/local/lib/python3.6/dist-packages (from s3fs->timeserio) (0.6.2)\n",
            "Requirement already satisfied: boto3>=1.9.91 in /usr/local/lib/python3.6/dist-packages (from s3fs->timeserio) (1.12.23)\n",
            "Requirement already satisfied: botocore>=1.12.91 in /usr/local/lib/python3.6/dist-packages (from s3fs->timeserio) (1.15.23)\n",
            "Requirement already satisfied: jmespath<1.0.0,>=0.7.1 in /usr/local/lib/python3.6/dist-packages (from boto3>=1.9.91->s3fs->timeserio) (0.9.5)\n",
            "Requirement already satisfied: s3transfer<0.4.0,>=0.3.0 in /usr/local/lib/python3.6/dist-packages (from boto3>=1.9.91->s3fs->timeserio) (0.3.3)\n",
            "Requirement already satisfied: docutils<0.16,>=0.10 in /usr/local/lib/python3.6/dist-packages (from botocore>=1.12.91->s3fs->timeserio) (0.15.2)\n",
            "Requirement already satisfied: urllib3<1.26,>=1.20; python_version != \"3.4\" in /usr/local/lib/python3.6/dist-packages (from botocore>=1.12.91->s3fs->timeserio) (1.24.3)\n"
          ],
          "name": "stdout"
        }
      ]
    },
    {
      "cell_type": "code",
      "metadata": {
        "id": "k0h4P2ODgpve",
        "colab_type": "code",
        "outputId": "4b8dfbeb-7b90-46c9-b644-4326273dde7d",
        "colab": {
          "base_uri": "https://localhost:8080/",
          "height": 34
        }
      },
      "source": [
        "model_file_path=\"https://MrYingLee.Github.io/MultiModel/model.pickle\"\n",
        "\n",
        "model_file=download_or_upload_1_file(model_file_path)\n",
        "model_file\n",
        "\n",
        "multimodel=loadf(model_file)"
      ],
      "execution_count": 209,
      "outputs": [
        {
          "output_type": "stream",
          "text": [
            "https://MrYingLee.Github.io/MultiModel/model.pickle\n"
          ],
          "name": "stdout"
        }
      ]
    },
    {
      "cell_type": "code",
      "metadata": {
        "id": "CvVBuXPdoreM",
        "colab_type": "code",
        "colab": {}
      },
      "source": [
        "from keras.utils.vis_utils import model_to_dot\n",
        "from IPython.display import SVG\n",
        "\n",
        "def vis_model(model, show_shapes=False, show_layer_names=True, rankdir='TB'):\n",
        "    \"\"\"Visualize model in a notebook.\"\"\"\n",
        "    return SVG(\n",
        "        model_to_dot(\n",
        "            model, show_shapes=show_shapes, show_layer_names=show_layer_names, rankdir=rankdir\n",
        "        ).create(prog='dot', format='svg')\n",
        "    )"
      ],
      "execution_count": 0,
      "outputs": []
    },
    {
      "cell_type": "code",
      "metadata": {
        "id": "PXud349FpHiv",
        "colab_type": "code",
        "outputId": "0da98e3c-0bf2-4de9-d8b2-047321250159",
        "colab": {
          "base_uri": "https://localhost:8080/",
          "height": 34
        }
      },
      "source": [
        "multimodel.multinetwork.model_names"
      ],
      "execution_count": 211,
      "outputs": [
        {
          "output_type": "execute_result",
          "data": {
            "text/plain": [
              "['encoder', 'forecast']"
            ]
          },
          "metadata": {
            "tags": []
          },
          "execution_count": 211
        }
      ]
    },
    {
      "cell_type": "code",
      "metadata": {
        "id": "KzV4Sw-hocP2",
        "colab_type": "code",
        "outputId": "23e90e20-fe18-43b6-b615-d6b1e36ffc0f",
        "colab": {
          "base_uri": "https://localhost:8080/",
          "height": 335
        }
      },
      "source": [
        "vis_model(multimodel.multinetwork.model[\"forecast\"], show_shapes=True, rankdir=\"LR\")"
      ],
      "execution_count": 212,
      "outputs": [
        {
          "output_type": "execute_result",
          "data": {
            "text/plain": [
              "<IPython.core.display.SVG object>"
            ],
            "image/svg+xml": "<svg height=\"221pt\" viewBox=\"0.00 0.00 2318.00 166.00\" width=\"3091pt\" xmlns=\"http://www.w3.org/2000/svg\" xmlns:xlink=\"http://www.w3.org/1999/xlink\">\n<g class=\"graph\" id=\"graph0\" transform=\"scale(1.3333 1.3333) rotate(0) translate(4 162)\">\n<title>G</title>\n<polygon fill=\"#ffffff\" points=\"-4,4 -4,-162 2314,-162 2314,4 -4,4\" stroke=\"transparent\"/>\n<!-- 140516344319280 -->\n<g class=\"node\" id=\"node1\">\n<title>140516344319280</title>\n<polygon fill=\"none\" points=\"0,-88.5 0,-157.5 144,-157.5 144,-88.5 0,-88.5\" stroke=\"#000000\"/>\n<text fill=\"#000000\" font-family=\"Times,serif\" font-size=\"14.00\" text-anchor=\"middle\" x=\"72\" y=\"-142.3\">sequence: InputLayer</text>\n<polyline fill=\"none\" points=\"0,-134.5 144,-134.5 \" stroke=\"#000000\"/>\n<text fill=\"#000000\" font-family=\"Times,serif\" font-size=\"14.00\" text-anchor=\"middle\" x=\"34\" y=\"-119.3\">input:</text>\n<polyline fill=\"none\" points=\"68,-111.5 68,-134.5 \" stroke=\"#000000\"/>\n<text fill=\"#000000\" font-family=\"Times,serif\" font-size=\"14.00\" text-anchor=\"middle\" x=\"106\" y=\"-119.3\">output:</text>\n<polyline fill=\"none\" points=\"0,-111.5 144,-111.5 \" stroke=\"#000000\"/>\n<text fill=\"#000000\" font-family=\"Times,serif\" font-size=\"14.00\" text-anchor=\"middle\" x=\"36\" y=\"-96.3\">(None, 6)</text>\n<polyline fill=\"none\" points=\"72,-88.5 72,-111.5 \" stroke=\"#000000\"/>\n<text fill=\"#000000\" font-family=\"Times,serif\" font-size=\"14.00\" text-anchor=\"middle\" x=\"108\" y=\"-96.3\">(None, 6)</text>\n</g>\n<!-- 140516344318608 -->\n<g class=\"node\" id=\"node2\">\n<title>140516344318608</title>\n<polygon fill=\"none\" points=\"180,-88.5 180,-157.5 339,-157.5 339,-88.5 180,-88.5\" stroke=\"#000000\"/>\n<text fill=\"#000000\" font-family=\"Times,serif\" font-size=\"14.00\" text-anchor=\"middle\" x=\"259.5\" y=\"-142.3\">reshape_7: Reshape</text>\n<polyline fill=\"none\" points=\"180,-134.5 339,-134.5 \" stroke=\"#000000\"/>\n<text fill=\"#000000\" font-family=\"Times,serif\" font-size=\"14.00\" text-anchor=\"middle\" x=\"217.5\" y=\"-119.3\">input:</text>\n<polyline fill=\"none\" points=\"255,-111.5 255,-134.5 \" stroke=\"#000000\"/>\n<text fill=\"#000000\" font-family=\"Times,serif\" font-size=\"14.00\" text-anchor=\"middle\" x=\"297\" y=\"-119.3\">output:</text>\n<polyline fill=\"none\" points=\"180,-111.5 339,-111.5 \" stroke=\"#000000\"/>\n<text fill=\"#000000\" font-family=\"Times,serif\" font-size=\"14.00\" text-anchor=\"middle\" x=\"216\" y=\"-96.3\">(None, 6)</text>\n<polyline fill=\"none\" points=\"252,-88.5 252,-111.5 \" stroke=\"#000000\"/>\n<text fill=\"#000000\" font-family=\"Times,serif\" font-size=\"14.00\" text-anchor=\"middle\" x=\"295.5\" y=\"-96.3\">(None, 6, 1)</text>\n</g>\n<!-- 140516344319280&#45;&gt;140516344318608 -->\n<g class=\"edge\" id=\"edge1\">\n<title>140516344319280-&gt;140516344318608</title>\n<path d=\"M144.2242,-123C152.603,-123 161.2242,-123 169.8002,-123\" fill=\"none\" stroke=\"#000000\"/>\n<polygon fill=\"#000000\" points=\"169.8297,-126.5001 179.8297,-123 169.8296,-119.5001 169.8297,-126.5001\" stroke=\"#000000\"/>\n</g>\n<!-- 140516344453216 -->\n<g class=\"node\" id=\"node3\">\n<title>140516344453216</title>\n<polygon fill=\"none\" points=\"375,-88.5 375,-157.5 549,-157.5 549,-88.5 375,-88.5\" stroke=\"#000000\"/>\n<text fill=\"#000000\" font-family=\"Times,serif\" font-size=\"14.00\" text-anchor=\"middle\" x=\"462\" y=\"-142.3\">conv_0: Conv1D</text>\n<polyline fill=\"none\" points=\"375,-134.5 549,-134.5 \" stroke=\"#000000\"/>\n<text fill=\"#000000\" font-family=\"Times,serif\" font-size=\"14.00\" text-anchor=\"middle\" x=\"416.5\" y=\"-119.3\">input:</text>\n<polyline fill=\"none\" points=\"458,-111.5 458,-134.5 \" stroke=\"#000000\"/>\n<text fill=\"#000000\" font-family=\"Times,serif\" font-size=\"14.00\" text-anchor=\"middle\" x=\"503.5\" y=\"-119.3\">output:</text>\n<polyline fill=\"none\" points=\"375,-111.5 549,-111.5 \" stroke=\"#000000\"/>\n<text fill=\"#000000\" font-family=\"Times,serif\" font-size=\"14.00\" text-anchor=\"middle\" x=\"418.5\" y=\"-96.3\">(None, 6, 1)</text>\n<polyline fill=\"none\" points=\"462,-88.5 462,-111.5 \" stroke=\"#000000\"/>\n<text fill=\"#000000\" font-family=\"Times,serif\" font-size=\"14.00\" text-anchor=\"middle\" x=\"505.5\" y=\"-96.3\">(None, 6, 1)</text>\n</g>\n<!-- 140516344318608&#45;&gt;140516344453216 -->\n<g class=\"edge\" id=\"edge2\">\n<title>140516344318608-&gt;140516344453216</title>\n<path d=\"M339.2427,-123C347.675,-123 356.3159,-123 364.9167,-123\" fill=\"none\" stroke=\"#000000\"/>\n<polygon fill=\"#000000\" points=\"364.9799,-126.5001 374.9799,-123 364.9798,-119.5001 364.9799,-126.5001\" stroke=\"#000000\"/>\n</g>\n<!-- 140516344421736 -->\n<g class=\"node\" id=\"node4\">\n<title>140516344421736</title>\n<polygon fill=\"none\" points=\"585,-88.5 585,-157.5 856,-157.5 856,-88.5 585,-88.5\" stroke=\"#000000\"/>\n<text fill=\"#000000\" font-family=\"Times,serif\" font-size=\"14.00\" text-anchor=\"middle\" x=\"720.5\" y=\"-142.3\">batch_normalization_7: BatchNormalization</text>\n<polyline fill=\"none\" points=\"585,-134.5 856,-134.5 \" stroke=\"#000000\"/>\n<text fill=\"#000000\" font-family=\"Times,serif\" font-size=\"14.00\" text-anchor=\"middle\" x=\"650.5\" y=\"-119.3\">input:</text>\n<polyline fill=\"none\" points=\"716,-111.5 716,-134.5 \" stroke=\"#000000\"/>\n<text fill=\"#000000\" font-family=\"Times,serif\" font-size=\"14.00\" text-anchor=\"middle\" x=\"786\" y=\"-119.3\">output:</text>\n<polyline fill=\"none\" points=\"585,-111.5 856,-111.5 \" stroke=\"#000000\"/>\n<text fill=\"#000000\" font-family=\"Times,serif\" font-size=\"14.00\" text-anchor=\"middle\" x=\"652.5\" y=\"-96.3\">(None, 6, 1)</text>\n<polyline fill=\"none\" points=\"720,-88.5 720,-111.5 \" stroke=\"#000000\"/>\n<text fill=\"#000000\" font-family=\"Times,serif\" font-size=\"14.00\" text-anchor=\"middle\" x=\"788\" y=\"-96.3\">(None, 6, 1)</text>\n</g>\n<!-- 140516344453216&#45;&gt;140516344421736 -->\n<g class=\"edge\" id=\"edge3\">\n<title>140516344453216-&gt;140516344421736</title>\n<path d=\"M549.1559,-123C557.4785,-123 566.0625,-123 574.7476,-123\" fill=\"none\" stroke=\"#000000\"/>\n<polygon fill=\"#000000\" points=\"574.9799,-126.5001 584.9799,-123 574.9798,-119.5001 574.9799,-126.5001\" stroke=\"#000000\"/>\n</g>\n<!-- 140516346646712 -->\n<g class=\"node\" id=\"node5\">\n<title>140516346646712</title>\n<polygon fill=\"none\" points=\"892,-88.5 892,-157.5 1066,-157.5 1066,-88.5 892,-88.5\" stroke=\"#000000\"/>\n<text fill=\"#000000\" font-family=\"Times,serif\" font-size=\"14.00\" text-anchor=\"middle\" x=\"979\" y=\"-142.3\">activation_7: Activation</text>\n<polyline fill=\"none\" points=\"892,-134.5 1066,-134.5 \" stroke=\"#000000\"/>\n<text fill=\"#000000\" font-family=\"Times,serif\" font-size=\"14.00\" text-anchor=\"middle\" x=\"933.5\" y=\"-119.3\">input:</text>\n<polyline fill=\"none\" points=\"975,-111.5 975,-134.5 \" stroke=\"#000000\"/>\n<text fill=\"#000000\" font-family=\"Times,serif\" font-size=\"14.00\" text-anchor=\"middle\" x=\"1020.5\" y=\"-119.3\">output:</text>\n<polyline fill=\"none\" points=\"892,-111.5 1066,-111.5 \" stroke=\"#000000\"/>\n<text fill=\"#000000\" font-family=\"Times,serif\" font-size=\"14.00\" text-anchor=\"middle\" x=\"935.5\" y=\"-96.3\">(None, 6, 1)</text>\n<polyline fill=\"none\" points=\"979,-88.5 979,-111.5 \" stroke=\"#000000\"/>\n<text fill=\"#000000\" font-family=\"Times,serif\" font-size=\"14.00\" text-anchor=\"middle\" x=\"1022.5\" y=\"-96.3\">(None, 6, 1)</text>\n</g>\n<!-- 140516344421736&#45;&gt;140516346646712 -->\n<g class=\"edge\" id=\"edge4\">\n<title>140516344421736-&gt;140516346646712</title>\n<path d=\"M856.1849,-123C864.7642,-123 873.3057,-123 881.6575,-123\" fill=\"none\" stroke=\"#000000\"/>\n<polygon fill=\"#000000\" points=\"881.7407,-126.5001 891.7406,-123 881.7406,-119.5001 881.7407,-126.5001\" stroke=\"#000000\"/>\n</g>\n<!-- 140516343432080 -->\n<g class=\"node\" id=\"node6\">\n<title>140516343432080</title>\n<polygon fill=\"none\" points=\"1102,-88.5 1102,-157.5 1323,-157.5 1323,-88.5 1102,-88.5\" stroke=\"#000000\"/>\n<text fill=\"#000000\" font-family=\"Times,serif\" font-size=\"14.00\" text-anchor=\"middle\" x=\"1212.5\" y=\"-142.3\">max_pooling1d_7: MaxPooling1D</text>\n<polyline fill=\"none\" points=\"1102,-134.5 1323,-134.5 \" stroke=\"#000000\"/>\n<text fill=\"#000000\" font-family=\"Times,serif\" font-size=\"14.00\" text-anchor=\"middle\" x=\"1155\" y=\"-119.3\">input:</text>\n<polyline fill=\"none\" points=\"1208,-111.5 1208,-134.5 \" stroke=\"#000000\"/>\n<text fill=\"#000000\" font-family=\"Times,serif\" font-size=\"14.00\" text-anchor=\"middle\" x=\"1265.5\" y=\"-119.3\">output:</text>\n<polyline fill=\"none\" points=\"1102,-111.5 1323,-111.5 \" stroke=\"#000000\"/>\n<text fill=\"#000000\" font-family=\"Times,serif\" font-size=\"14.00\" text-anchor=\"middle\" x=\"1157\" y=\"-96.3\">(None, 6, 1)</text>\n<polyline fill=\"none\" points=\"1212,-88.5 1212,-111.5 \" stroke=\"#000000\"/>\n<text fill=\"#000000\" font-family=\"Times,serif\" font-size=\"14.00\" text-anchor=\"middle\" x=\"1267.5\" y=\"-96.3\">(None, 6, 1)</text>\n</g>\n<!-- 140516346646712&#45;&gt;140516343432080 -->\n<g class=\"edge\" id=\"edge5\">\n<title>140516346646712-&gt;140516343432080</title>\n<path d=\"M1066.2788,-123C1074.5651,-123 1083.0632,-123 1091.591,-123\" fill=\"none\" stroke=\"#000000\"/>\n<polygon fill=\"#000000\" points=\"1091.6046,-126.5001 1101.6046,-123 1091.6046,-119.5001 1091.6046,-126.5001\" stroke=\"#000000\"/>\n</g>\n<!-- 140516344319056 -->\n<g class=\"node\" id=\"node7\">\n<title>140516344319056</title>\n<polygon fill=\"none\" points=\"1359,-88.5 1359,-157.5 1518,-157.5 1518,-88.5 1359,-88.5\" stroke=\"#000000\"/>\n<text fill=\"#000000\" font-family=\"Times,serif\" font-size=\"14.00\" text-anchor=\"middle\" x=\"1438.5\" y=\"-142.3\">flatten_7: Flatten</text>\n<polyline fill=\"none\" points=\"1359,-134.5 1518,-134.5 \" stroke=\"#000000\"/>\n<text fill=\"#000000\" font-family=\"Times,serif\" font-size=\"14.00\" text-anchor=\"middle\" x=\"1396.5\" y=\"-119.3\">input:</text>\n<polyline fill=\"none\" points=\"1434,-111.5 1434,-134.5 \" stroke=\"#000000\"/>\n<text fill=\"#000000\" font-family=\"Times,serif\" font-size=\"14.00\" text-anchor=\"middle\" x=\"1476\" y=\"-119.3\">output:</text>\n<polyline fill=\"none\" points=\"1359,-111.5 1518,-111.5 \" stroke=\"#000000\"/>\n<text fill=\"#000000\" font-family=\"Times,serif\" font-size=\"14.00\" text-anchor=\"middle\" x=\"1402.5\" y=\"-96.3\">(None, 6, 1)</text>\n<polyline fill=\"none\" points=\"1446,-88.5 1446,-111.5 \" stroke=\"#000000\"/>\n<text fill=\"#000000\" font-family=\"Times,serif\" font-size=\"14.00\" text-anchor=\"middle\" x=\"1482\" y=\"-96.3\">(None, 6)</text>\n</g>\n<!-- 140516343432080&#45;&gt;140516344319056 -->\n<g class=\"edge\" id=\"edge6\">\n<title>140516343432080-&gt;140516344319056</title>\n<path d=\"M1323.1828,-123C1331.7699,-123 1340.3749,-123 1348.7993,-123\" fill=\"none\" stroke=\"#000000\"/>\n<polygon fill=\"#000000\" points=\"1348.9724,-126.5001 1358.9723,-123 1348.9723,-119.5001 1348.9724,-126.5001\" stroke=\"#000000\"/>\n</g>\n<!-- 140516344831448 -->\n<g class=\"node\" id=\"node9\">\n<title>140516344831448</title>\n<polygon fill=\"none\" points=\"1554,-44.5 1554,-113.5 1770,-113.5 1770,-44.5 1554,-44.5\" stroke=\"#000000\"/>\n<text fill=\"#000000\" font-family=\"Times,serif\" font-size=\"14.00\" text-anchor=\"middle\" x=\"1662\" y=\"-98.3\">concatenate: Concatenate</text>\n<polyline fill=\"none\" points=\"1554,-90.5 1770,-90.5 \" stroke=\"#000000\"/>\n<text fill=\"#000000\" font-family=\"Times,serif\" font-size=\"14.00\" text-anchor=\"middle\" x=\"1606\" y=\"-75.3\">input:</text>\n<polyline fill=\"none\" points=\"1658,-67.5 1658,-90.5 \" stroke=\"#000000\"/>\n<text fill=\"#000000\" font-family=\"Times,serif\" font-size=\"14.00\" text-anchor=\"middle\" x=\"1714\" y=\"-75.3\">output:</text>\n<polyline fill=\"none\" points=\"1554,-67.5 1770,-67.5 \" stroke=\"#000000\"/>\n<text fill=\"#000000\" font-family=\"Times,serif\" font-size=\"14.00\" text-anchor=\"middle\" x=\"1626\" y=\"-52.3\">[(None, 6), (None, 1)]</text>\n<polyline fill=\"none\" points=\"1698,-44.5 1698,-67.5 \" stroke=\"#000000\"/>\n<text fill=\"#000000\" font-family=\"Times,serif\" font-size=\"14.00\" text-anchor=\"middle\" x=\"1734\" y=\"-52.3\">(None, 7)</text>\n</g>\n<!-- 140516344319056&#45;&gt;140516344831448 -->\n<g class=\"edge\" id=\"edge7\">\n<title>140516344319056-&gt;140516344831448</title>\n<path d=\"M1518.2421,-107.3013C1526.6218,-105.6516 1535.2638,-103.9503 1543.9567,-102.2389\" fill=\"none\" stroke=\"#000000\"/>\n<polygon fill=\"#000000\" points=\"1544.6462,-105.6705 1553.7817,-100.3047 1543.294,-98.8023 1544.6462,-105.6705\" stroke=\"#000000\"/>\n</g>\n<!-- 140516344318104 -->\n<g class=\"node\" id=\"node8\">\n<title>140516344318104</title>\n<polygon fill=\"none\" points=\"1366.5,-.5 1366.5,-69.5 1510.5,-69.5 1510.5,-.5 1366.5,-.5\" stroke=\"#000000\"/>\n<text fill=\"#000000\" font-family=\"Times,serif\" font-size=\"14.00\" text-anchor=\"middle\" x=\"1438.5\" y=\"-54.3\">horizon: InputLayer</text>\n<polyline fill=\"none\" points=\"1366.5,-46.5 1510.5,-46.5 \" stroke=\"#000000\"/>\n<text fill=\"#000000\" font-family=\"Times,serif\" font-size=\"14.00\" text-anchor=\"middle\" x=\"1400.5\" y=\"-31.3\">input:</text>\n<polyline fill=\"none\" points=\"1434.5,-23.5 1434.5,-46.5 \" stroke=\"#000000\"/>\n<text fill=\"#000000\" font-family=\"Times,serif\" font-size=\"14.00\" text-anchor=\"middle\" x=\"1472.5\" y=\"-31.3\">output:</text>\n<polyline fill=\"none\" points=\"1366.5,-23.5 1510.5,-23.5 \" stroke=\"#000000\"/>\n<text fill=\"#000000\" font-family=\"Times,serif\" font-size=\"14.00\" text-anchor=\"middle\" x=\"1402.5\" y=\"-8.3\">(None, 1)</text>\n<polyline fill=\"none\" points=\"1438.5,-.5 1438.5,-23.5 \" stroke=\"#000000\"/>\n<text fill=\"#000000\" font-family=\"Times,serif\" font-size=\"14.00\" text-anchor=\"middle\" x=\"1474.5\" y=\"-8.3\">(None, 1)</text>\n</g>\n<!-- 140516344318104&#45;&gt;140516344831448 -->\n<g class=\"edge\" id=\"edge8\">\n<title>140516344318104-&gt;140516344831448</title>\n<path d=\"M1510.7554,-49.2248C1521.4087,-51.3221 1532.6115,-53.5276 1543.9011,-55.7501\" fill=\"none\" stroke=\"#000000\"/>\n<polygon fill=\"#000000\" points=\"1543.3451,-59.2078 1553.8329,-57.7054 1544.6973,-52.3396 1543.3451,-59.2078\" stroke=\"#000000\"/>\n</g>\n<!-- 140516343196864 -->\n<g class=\"node\" id=\"node10\">\n<title>140516343196864</title>\n<polygon fill=\"none\" points=\"1806,-44.5 1806,-113.5 1950,-113.5 1950,-44.5 1806,-44.5\" stroke=\"#000000\"/>\n<text fill=\"#000000\" font-family=\"Times,serif\" font-size=\"14.00\" text-anchor=\"middle\" x=\"1878\" y=\"-98.3\">dense_0: Dense</text>\n<polyline fill=\"none\" points=\"1806,-90.5 1950,-90.5 \" stroke=\"#000000\"/>\n<text fill=\"#000000\" font-family=\"Times,serif\" font-size=\"14.00\" text-anchor=\"middle\" x=\"1840\" y=\"-75.3\">input:</text>\n<polyline fill=\"none\" points=\"1874,-67.5 1874,-90.5 \" stroke=\"#000000\"/>\n<text fill=\"#000000\" font-family=\"Times,serif\" font-size=\"14.00\" text-anchor=\"middle\" x=\"1912\" y=\"-75.3\">output:</text>\n<polyline fill=\"none\" points=\"1806,-67.5 1950,-67.5 \" stroke=\"#000000\"/>\n<text fill=\"#000000\" font-family=\"Times,serif\" font-size=\"14.00\" text-anchor=\"middle\" x=\"1842\" y=\"-52.3\">(None, 7)</text>\n<polyline fill=\"none\" points=\"1878,-44.5 1878,-67.5 \" stroke=\"#000000\"/>\n<text fill=\"#000000\" font-family=\"Times,serif\" font-size=\"14.00\" text-anchor=\"middle\" x=\"1914\" y=\"-52.3\">(None, 8)</text>\n</g>\n<!-- 140516344831448&#45;&gt;140516343196864 -->\n<g class=\"edge\" id=\"edge9\">\n<title>140516344831448-&gt;140516343196864</title>\n<path d=\"M1770.3164,-79C1778.8476,-79 1787.3761,-79 1795.6891,-79\" fill=\"none\" stroke=\"#000000\"/>\n<polygon fill=\"#000000\" points=\"1795.708,-82.5001 1805.7079,-79 1795.7079,-75.5001 1795.708,-82.5001\" stroke=\"#000000\"/>\n</g>\n<!-- 140516343222624 -->\n<g class=\"node\" id=\"node11\">\n<title>140516343222624</title>\n<polygon fill=\"none\" points=\"1986,-44.5 1986,-113.5 2130,-113.5 2130,-44.5 1986,-44.5\" stroke=\"#000000\"/>\n<text fill=\"#000000\" font-family=\"Times,serif\" font-size=\"14.00\" text-anchor=\"middle\" x=\"2058\" y=\"-98.3\">dense_1: Dense</text>\n<polyline fill=\"none\" points=\"1986,-90.5 2130,-90.5 \" stroke=\"#000000\"/>\n<text fill=\"#000000\" font-family=\"Times,serif\" font-size=\"14.00\" text-anchor=\"middle\" x=\"2020\" y=\"-75.3\">input:</text>\n<polyline fill=\"none\" points=\"2054,-67.5 2054,-90.5 \" stroke=\"#000000\"/>\n<text fill=\"#000000\" font-family=\"Times,serif\" font-size=\"14.00\" text-anchor=\"middle\" x=\"2092\" y=\"-75.3\">output:</text>\n<polyline fill=\"none\" points=\"1986,-67.5 2130,-67.5 \" stroke=\"#000000\"/>\n<text fill=\"#000000\" font-family=\"Times,serif\" font-size=\"14.00\" text-anchor=\"middle\" x=\"2022\" y=\"-52.3\">(None, 8)</text>\n<polyline fill=\"none\" points=\"2058,-44.5 2058,-67.5 \" stroke=\"#000000\"/>\n<text fill=\"#000000\" font-family=\"Times,serif\" font-size=\"14.00\" text-anchor=\"middle\" x=\"2094\" y=\"-52.3\">(None, 8)</text>\n</g>\n<!-- 140516343196864&#45;&gt;140516343222624 -->\n<g class=\"edge\" id=\"edge10\">\n<title>140516343196864-&gt;140516343222624</title>\n<path d=\"M1950.1757,-79C1958.5199,-79 1967.0771,-79 1975.5445,-79\" fill=\"none\" stroke=\"#000000\"/>\n<polygon fill=\"#000000\" points=\"1975.8081,-82.5001 1985.8081,-79 1975.808,-75.5001 1975.8081,-82.5001\" stroke=\"#000000\"/>\n</g>\n<!-- 140516344831560 -->\n<g class=\"node\" id=\"node12\">\n<title>140516344831560</title>\n<polygon fill=\"none\" points=\"2166,-44.5 2166,-113.5 2310,-113.5 2310,-44.5 2166,-44.5\" stroke=\"#000000\"/>\n<text fill=\"#000000\" font-family=\"Times,serif\" font-size=\"14.00\" text-anchor=\"middle\" x=\"2238\" y=\"-98.3\">generation: Dense</text>\n<polyline fill=\"none\" points=\"2166,-90.5 2310,-90.5 \" stroke=\"#000000\"/>\n<text fill=\"#000000\" font-family=\"Times,serif\" font-size=\"14.00\" text-anchor=\"middle\" x=\"2200\" y=\"-75.3\">input:</text>\n<polyline fill=\"none\" points=\"2234,-67.5 2234,-90.5 \" stroke=\"#000000\"/>\n<text fill=\"#000000\" font-family=\"Times,serif\" font-size=\"14.00\" text-anchor=\"middle\" x=\"2272\" y=\"-75.3\">output:</text>\n<polyline fill=\"none\" points=\"2166,-67.5 2310,-67.5 \" stroke=\"#000000\"/>\n<text fill=\"#000000\" font-family=\"Times,serif\" font-size=\"14.00\" text-anchor=\"middle\" x=\"2202\" y=\"-52.3\">(None, 8)</text>\n<polyline fill=\"none\" points=\"2238,-44.5 2238,-67.5 \" stroke=\"#000000\"/>\n<text fill=\"#000000\" font-family=\"Times,serif\" font-size=\"14.00\" text-anchor=\"middle\" x=\"2274\" y=\"-52.3\">(None, 1)</text>\n</g>\n<!-- 140516343222624&#45;&gt;140516344831560 -->\n<g class=\"edge\" id=\"edge11\">\n<title>140516343222624-&gt;140516344831560</title>\n<path d=\"M2130.1757,-79C2138.5199,-79 2147.0771,-79 2155.5445,-79\" fill=\"none\" stroke=\"#000000\"/>\n<polygon fill=\"#000000\" points=\"2155.8081,-82.5001 2165.8081,-79 2155.808,-75.5001 2155.8081,-82.5001\" stroke=\"#000000\"/>\n</g>\n</g>\n</svg>"
          },
          "metadata": {
            "tags": []
          },
          "execution_count": 212
        }
      ]
    },
    {
      "cell_type": "code",
      "metadata": {
        "id": "FquzqWyt6wvy",
        "colab_type": "code",
        "outputId": "7dca79f5-d8c1-4598-82e5-67b81bca8536",
        "colab": {
          "base_uri": "https://localhost:8080/",
          "height": 952
        }
      },
      "source": [
        "multimodel.multinetwork.weights"
      ],
      "execution_count": 213,
      "outputs": [
        {
          "output_type": "execute_result",
          "data": {
            "text/plain": [
              "{'encoder': [array([[[1.2862799]]], dtype=float32),\n",
              "  array([-0.01069735], dtype=float32),\n",
              "  array([0.9635353], dtype=float32),\n",
              "  array([0.2514492], dtype=float32),\n",
              "  array([0.15108357], dtype=float32),\n",
              "  array([0.06109345], dtype=float32)],\n",
              " 'forecast': [array([[[1.2862799]]], dtype=float32),\n",
              "  array([-0.01069735], dtype=float32),\n",
              "  array([0.9635353], dtype=float32),\n",
              "  array([0.2514492], dtype=float32),\n",
              "  array([0.15108357], dtype=float32),\n",
              "  array([0.06109345], dtype=float32),\n",
              "  array([[ 0.37674558, -0.69299096,  0.15766162, -0.38274324, -0.11812772,\n",
              "           0.16316333, -0.11590993, -0.7878848 ],\n",
              "         [ 0.291856  , -0.04302638, -0.4055402 ,  0.27658978,  0.16002707,\n",
              "          -0.35782614, -0.45621198, -0.40238425],\n",
              "         [ 0.246488  ,  0.12667932,  0.07121038,  0.07976387,  0.41237524,\n",
              "           0.58928645, -0.40972263, -0.56397396],\n",
              "         [-0.32339808, -0.54589206,  0.08344628,  0.36926416, -0.2969358 ,\n",
              "          -0.3929164 ,  0.00567013, -0.06762659],\n",
              "         [ 0.41223627,  0.0336607 , -0.6612618 ,  0.08000136,  0.09842713,\n",
              "          -0.08197024, -0.5420499 ,  0.4952583 ],\n",
              "         [ 0.27634385,  0.10167354,  0.48173985, -0.6878541 ,  0.547175  ,\n",
              "           0.29477182, -0.48247236, -0.05794241],\n",
              "         [ 0.25122017,  0.11096241,  0.01788741,  0.24739683, -0.08356442,\n",
              "          -0.40828255, -0.15259483,  0.64049155]], dtype=float32),\n",
              "  array([-0.04290995, -0.00841824, -0.0907888 ,  0.01492473,  0.08672876,\n",
              "         -0.01095229,  0.        ,  0.05270313], dtype=float32),\n",
              "  array([[-0.43360695, -0.295666  ,  0.00122239, -0.22492364,  0.4047575 ,\n",
              "          -0.2621296 , -0.10531257,  0.21479762],\n",
              "         [ 0.5760612 ,  0.1482376 ,  0.276181  ,  0.4652768 , -0.46385548,\n",
              "           0.3973105 , -0.15596269,  0.43312523],\n",
              "         [-0.00566306, -0.11156888,  0.5864002 , -0.3441376 , -0.0523828 ,\n",
              "          -0.559405  , -0.5037681 , -0.46593755],\n",
              "         [ 0.41834372,  0.41987377,  0.12937792, -0.10324694,  0.08083829,\n",
              "           0.22840683,  0.3340478 , -0.46904245],\n",
              "         [-0.41746756,  0.62705004,  0.43123123,  0.18138324,  0.07886182,\n",
              "          -0.19830638,  0.5790743 ,  0.29535344],\n",
              "         [ 0.3848459 , -0.37149796, -0.40763906, -0.5715607 , -0.07205202,\n",
              "           0.6926958 , -0.45747277, -0.21005572],\n",
              "         [ 0.46406132, -0.00717419, -0.57086134,  0.3664096 , -0.2501039 ,\n",
              "           0.04934222,  0.1408934 ,  0.08782852],\n",
              "         [-0.1287276 , -0.24040386, -0.2938588 ,  0.48068455, -0.08967143,\n",
              "           0.3652768 , -0.34402966,  0.40650642]], dtype=float32),\n",
              "  array([-0.03349703, -0.04404428,  0.1057114 ,  0.00173639, -0.02710073,\n",
              "          0.0533    ,  0.04918764,  0.02653315], dtype=float32),\n",
              "  array([[ 0.44956866],\n",
              "         [-0.2714245 ],\n",
              "         [ 0.1254942 ],\n",
              "         [ 0.20878267],\n",
              "         [-0.6411948 ],\n",
              "         [-0.5891644 ],\n",
              "         [ 0.7079448 ],\n",
              "         [ 0.4961862 ]], dtype=float32),\n",
              "  array([0.02691415], dtype=float32)]}"
            ]
          },
          "metadata": {
            "tags": []
          },
          "execution_count": 213
        }
      ]
    },
    {
      "cell_type": "markdown",
      "metadata": {
        "id": "SRuQ-bDt6g6L",
        "colab_type": "text"
      },
      "source": [
        "## To load multinetwork\n",
        "\n",
        "After testing, this is not neccesary.\n",
        "\n",
        "~~~python\n",
        "network_file_path=\"https://MrYingLee.Github.io/MultiModel/network.pickle\"\n",
        "network_file=download_or_upload_1_file(network_file_path)\n",
        "network_file\n",
        "multinetwork=loadf(network_file)\n",
        "multinetwork.weights\n",
        "\n",
        "~~~"
      ]
    },
    {
      "cell_type": "markdown",
      "metadata": {
        "id": "O-SK3m6h7IDt",
        "colab_type": "text"
      },
      "source": [
        "## To load weights\n"
      ]
    },
    {
      "cell_type": "markdown",
      "metadata": {
        "id": "GXKsP2Zd792D",
        "colab_type": "text"
      },
      "source": [
        "\n",
        "After testing, actually the loading weights is not necessary.\n",
        "```python\n",
        "weights_file_path=\"https://MrYingLee.Github.io/MultiModel/weights.pickle\"\n",
        "weights_file=download_or_upload_1_file(weights_file_path)\n",
        "weights_file\n",
        "\n",
        "#weights=loadf(weights_file))\n",
        "#multinetwork.weights=weights \n",
        "```\n"
      ]
    },
    {
      "cell_type": "markdown",
      "metadata": {
        "colab_type": "text",
        "id": "_RdgUt8Wr1wY"
      },
      "source": [
        "## Evaluate performance on test data\n",
        "We can evaluate the model on the validation data generator, which can also be out-of-memory:"
      ]
    },
    {
      "cell_type": "code",
      "metadata": {
        "colab_type": "code",
        "id": "vuO-71cer1wh",
        "colab": {}
      },
      "source": [
        "from timeserio.batches.chunked.pandas import SequenceForecastBatchGenerator\n",
        "\n",
        "batchgen_test = SequenceForecastBatchGenerator(\n",
        "    df=df_test, batch_size=2**15,\n",
        "    sequence_length=6,\n",
        "    sequence_columns=[\"generation\", \"Time_step\"],\n",
        "    last_step_columns=[\"Time_step\"],\n",
        "    forecast_steps_min=1,\n",
        "    forecast_steps_max=2,\n",
        "    batch_offset=False,\n",
        "    id_column=\"country\",\n",
        "    batch_aggregator=1\n",
        ")"
      ],
      "execution_count": 0,
      "outputs": []
    },
    {
      "cell_type": "code",
      "metadata": {
        "id": "Nj_0WAQdAe9f",
        "colab_type": "code",
        "outputId": "602fd3bf-1a17-4fcf-abf3-2c75fe3b10f5",
        "colab": {
          "base_uri": "https://localhost:8080/",
          "height": 34
        }
      },
      "source": [
        "batchgen_test.chunks"
      ],
      "execution_count": 215,
      "outputs": [
        {
          "output_type": "execute_result",
          "data": {
            "text/plain": [
              "array(['ES'], dtype=object)"
            ]
          },
          "metadata": {
            "tags": []
          },
          "execution_count": 215
        }
      ]
    },
    {
      "cell_type": "code",
      "metadata": {
        "colab_type": "code",
        "outputId": "34c71cb1-5430-4555-87dd-adfbeb6ec18c",
        "id": "eUhBLwQor1wq",
        "colab": {
          "base_uri": "https://localhost:8080/",
          "height": 51
        }
      },
      "source": [
        "multimodel.evaluate_generator(batchgen_test, model=\"forecast\", verbose=1)"
      ],
      "execution_count": 216,
      "outputs": [
        {
          "output_type": "stream",
          "text": [
            "\r1/1 [==============================] - 0s 152ms/step\n"
          ],
          "name": "stdout"
        },
        {
          "output_type": "execute_result",
          "data": {
            "text/plain": [
              "[0.002567433286458254, 0.03292470425367355]"
            ]
          },
          "metadata": {
            "tags": []
          },
          "execution_count": 216
        }
      ]
    },
    {
      "cell_type": "markdown",
      "metadata": {
        "id": "N7mt29xl78rN",
        "colab_type": "text"
      },
      "source": [
        "## Look at predictions"
      ]
    },
    {
      "cell_type": "code",
      "metadata": {
        "id": "UWOPMQ_IsEWn",
        "colab_type": "code",
        "outputId": "09424308-c367-48f4-bea7-223296e19e02",
        "colab": {
          "base_uri": "https://localhost:8080/",
          "height": 51
        }
      },
      "source": [
        "%%time\n",
        "test_hat= multimodel.predict_generator(batchgen_test, model=\"forecast\", verbose=5)"
      ],
      "execution_count": 217,
      "outputs": [
        {
          "output_type": "stream",
          "text": [
            "CPU times: user 151 ms, sys: 3.96 ms, total: 155 ms\n",
            "Wall time: 205 ms\n"
          ],
          "name": "stdout"
        }
      ]
    },
    {
      "cell_type": "code",
      "metadata": {
        "id": "OlKp1mHdKMNw",
        "colab_type": "code",
        "outputId": "e6dbe0e1-da7c-49b0-d59c-86342647ba19",
        "colab": {
          "base_uri": "https://localhost:8080/",
          "height": 34
        }
      },
      "source": [
        "test_hat.sum()"
      ],
      "execution_count": 218,
      "outputs": [
        {
          "output_type": "execute_result",
          "data": {
            "text/plain": [
              "223.60886"
            ]
          },
          "metadata": {
            "tags": []
          },
          "execution_count": 218
        }
      ]
    },
    {
      "cell_type": "code",
      "metadata": {
        "id": "VUUT3zX9PXjM",
        "colab_type": "code",
        "outputId": "f705e475-7930-4416-8647-d316ef10acee",
        "colab": {
          "base_uri": "https://localhost:8080/",
          "height": 34
        }
      },
      "source": [
        "test_hat.shape"
      ],
      "execution_count": 219,
      "outputs": [
        {
          "output_type": "execute_result",
          "data": {
            "text/plain": [
              "(1459, 1)"
            ]
          },
          "metadata": {
            "tags": []
          },
          "execution_count": 219
        }
      ]
    },
    {
      "cell_type": "code",
      "metadata": {
        "id": "bQzVj7LuQyCh",
        "colab_type": "code",
        "colab": {}
      },
      "source": [
        "import numpy as np\n",
        "test_hat=np.reshape(test_hat,(test_hat.shape[0]))"
      ],
      "execution_count": 0,
      "outputs": []
    },
    {
      "cell_type": "code",
      "metadata": {
        "id": "qv1eKvIbPsw9",
        "colab_type": "code",
        "colab": {}
      },
      "source": [
        "df_test_hat=pd.DataFrame({\"prediction\": test_hat},index=range(test_hat.shape[0]))"
      ],
      "execution_count": 0,
      "outputs": []
    },
    {
      "cell_type": "code",
      "metadata": {
        "id": "6E95b5c-PeA7",
        "colab_type": "code",
        "outputId": "5d832920-7091-44a0-bf35-8b55a3bef38a",
        "colab": {
          "base_uri": "https://localhost:8080/",
          "height": 34
        }
      },
      "source": [
        "df_test.shape"
      ],
      "execution_count": 222,
      "outputs": [
        {
          "output_type": "execute_result",
          "data": {
            "text/plain": [
              "(8760, 8)"
            ]
          },
          "metadata": {
            "tags": []
          },
          "execution_count": 222
        }
      ]
    },
    {
      "cell_type": "code",
      "metadata": {
        "id": "jwCkVgYr3REB",
        "colab_type": "code",
        "outputId": "192dd14d-16f5-494e-d754-4b012ab54925",
        "colab": {
          "base_uri": "https://localhost:8080/",
          "height": 34
        }
      },
      "source": [
        "df_test_hat.shape"
      ],
      "execution_count": 223,
      "outputs": [
        {
          "output_type": "execute_result",
          "data": {
            "text/plain": [
              "(1459, 1)"
            ]
          },
          "metadata": {
            "tags": []
          },
          "execution_count": 223
        }
      ]
    },
    {
      "cell_type": "code",
      "metadata": {
        "id": "Xu3fosTi78rS",
        "colab_type": "code",
        "outputId": "2a26522a-56e2-4885-da77-f9b52295b70c",
        "colab": {
          "base_uri": "https://localhost:8080/",
          "height": 391
        }
      },
      "source": [
        "fig, axes = plt.subplots(nrows=2, figsize=(15, 6))\n",
        "#df_plot = df_test[(df_test['Year'] == 2000) & (df_test['Month'] == 4) & (df_test['Day'] < 15) & (df_test['country'].isin(plot_countries))]\n",
        "\n",
        "sns.lineplot(\n",
        "    data=df_test,\n",
        "    x='Date', y='generation', hue='country',\n",
        "    ax=axes[0]\n",
        ")\n",
        "\n",
        "sns.lineplot(\n",
        "    data=df_test_hat,\n",
        "    dashes=True,\n",
        "    ax=axes[1]\n",
        ")"
      ],
      "execution_count": 224,
      "outputs": [
        {
          "output_type": "execute_result",
          "data": {
            "text/plain": [
              "<matplotlib.axes._subplots.AxesSubplot at 0x7fcc82a0c518>"
            ]
          },
          "metadata": {
            "tags": []
          },
          "execution_count": 224
        },
        {
          "output_type": "display_data",
          "data": {
            "image/png": "[encoded data removed]",
            "text/plain": [
              "<Figure size 1080x432 with 2 Axes>"
            ]
          },
          "metadata": {
            "tags": []
          }
        }
      ]
    },
    {
      "cell_type": "markdown",
      "metadata": {
        "id": "0quslTho78rr",
        "colab_type": "text"
      },
      "source": [
        "While our predictions do not capture short-range weather changes, they are excellent at seasonal level. Remember that all features such as location-specific scaling and time difference has been learned from the data!"
      ]
    }
  ]
}