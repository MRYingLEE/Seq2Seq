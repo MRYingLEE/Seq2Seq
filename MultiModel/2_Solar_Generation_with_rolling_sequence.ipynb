{
  "nbformat": 4,
  "nbformat_minor": 0,
  "metadata": {
    "kernelspec": {
      "display_name": "Python 3",
      "language": "python",
      "name": "python3"
    },
    "language_info": {
      "codemirror_mode": {
        "name": "ipython",
        "version": 3
      },
      "file_extension": ".py",
      "mimetype": "text/x-python",
      "name": "python",
      "nbconvert_exporter": "python",
      "pygments_lexer": "ipython3",
      "version": "3.7.1"
    },
    "colab": {
      "name": "Solar Generation with rolling sequence",
      "provenance": [],
      "machine_shape": "hm"
    }
  },
  "cells": [
    {
      "cell_type": "markdown",
      "metadata": {
        "id": "m7I35Gzz78o1",
        "colab_type": "text"
      },
      "source": [
        "# Modelling Solar generation across Multiple Sites\n",
        "\n",
        "This example shows how `timeserio` helps building deep learning models for time series forecasting. Especially,\n",
        "we deal with the case of many related timeseries.\n",
        "\n",
        "We demonstrate some core functionality and concepts, without striving for model accuracy or seeking out additional features like historic weather forecasts.\n",
        "\n",
        "We will be using the dataset on solar (photo-voltaic, PV) generation potential across Europe, as collected by [SETIS](https://setis.ec.europa.eu/EMHIRES-datasets). The dataset presents solar generation, normalized to the solar capacity installed as of 2015."
      ]
    },
    {
      "cell_type": "code",
      "metadata": {
        "id": "bV5HEW69o3vH",
        "colab_type": "code",
        "outputId": "07af3434-b124-4735-d98b-c87f7928f5d6",
        "colab": {
          "base_uri": "https://localhost:8080/",
          "height": 36
        }
      },
      "source": [
        "# Restart runtime using 'Runtime' -> 'Restart runtime...'\n",
        "%tensorflow_version 1.x\n",
        "import tensorflow as tf\n",
        "print(tf.__version__)"
      ],
      "execution_count": 0,
      "outputs": [
        {
          "output_type": "stream",
          "text": [
            "1.15.0\n"
          ],
          "name": "stdout"
        }
      ]
    },
    {
      "cell_type": "code",
      "metadata": {
        "id": "BR8RNvXO78pj",
        "colab_type": "code",
        "colab": {}
      },
      "source": [
        "import pandas as pd\n",
        "import matplotlib.pyplot as plt\n",
        "import seaborn as sns"
      ],
      "execution_count": 0,
      "outputs": []
    },
    {
      "cell_type": "code",
      "metadata": {
        "id": "fKCWVUdYlcy4",
        "colab_type": "code",
        "colab": {}
      },
      "source": [
        "from google.colab import files\n",
        "import os\n",
        "import os.path\n",
        "from os import path"
      ],
      "execution_count": 0,
      "outputs": []
    },
    {
      "cell_type": "code",
      "metadata": {
        "id": "KPumjlwOBZmz",
        "colab_type": "code",
        "colab": {}
      },
      "source": [
        "from google.colab import files\n",
        "def upload_1_file():\n",
        "  uploaded = files.upload()\n",
        "\n",
        "  for fn in uploaded.keys():\n",
        "    print('User uploaded file \"{name}\" with length {length} bytes'.format(\n",
        "        name=fn, length=len(uploaded[fn])))\n",
        "    return fn\n",
        "\n",
        "  return \"\"\n"
      ],
      "execution_count": 0,
      "outputs": []
    },
    {
      "cell_type": "code",
      "metadata": {
        "id": "WbVwi1u1dpRA",
        "colab_type": "code",
        "cellView": "both",
        "colab": {}
      },
      "source": [
        "def download_1_file(http_path):\n",
        "  import requests\n",
        "  import shutil\n",
        "  response = requests.get(http_path, stream=True)\n",
        "\n",
        "  import tempfile\n",
        "  fname = tempfile.mkstemp()[1]\n",
        "  \n",
        "  #print(fname)\n",
        "  with open(fname, 'wb') as fin:\n",
        "      shutil.copyfileobj(response.raw, fin)\n",
        "\n",
        "  return fname # Works!"
      ],
      "execution_count": 0,
      "outputs": []
    },
    {
      "cell_type": "code",
      "metadata": {
        "id": "sH51WPU6jjb1",
        "colab_type": "code",
        "colab": {}
      },
      "source": [
        "def download_or_upload_1_file(http_or_file_path):\n",
        "  if (path.exists(http_or_file_path) and (path.isfile(http_or_file_path))):\n",
        "    return http_or_file_path\n",
        "\n",
        "  if (http_or_file_path==\"\"):\n",
        "    encoder_input_file=upload_1_file()\n",
        "    return encoder_input_file\n",
        "  else:\n",
        "    print(http_or_file_path)\n",
        "    return download_1_file(http_or_file_path)"
      ],
      "execution_count": 0,
      "outputs": []
    },
    {
      "cell_type": "markdown",
      "metadata": {
        "id": "YFrPxsA578pi",
        "colab_type": "text"
      },
      "source": [
        "## Load the data from parquet"
      ]
    },
    {
      "cell_type": "code",
      "metadata": {
        "id": "b66yLlDxjgDp",
        "colab_type": "code",
        "colab": {}
      },
      "source": [
        "selected_path=\"https://MrYingLee.Github.io/MultiModel/selected.parquet\""
      ],
      "execution_count": 0,
      "outputs": []
    },
    {
      "cell_type": "code",
      "metadata": {
        "id": "t5KrqfHOkAq4",
        "colab_type": "code",
        "outputId": "2e221c93-5d2e-42fe-a638-aafd29bc92d1",
        "colab": {
          "base_uri": "https://localhost:8080/",
          "height": 36
        }
      },
      "source": [
        "data_file=download_or_upload_1_file(selected_path)"
      ],
      "execution_count": 0,
      "outputs": [
        {
          "output_type": "stream",
          "text": [
            "https://MrYingLee.Github.io/MultiModel/selected.parquet\n"
          ],
          "name": "stdout"
        }
      ]
    },
    {
      "cell_type": "code",
      "metadata": {
        "id": "wkStn0qBBKdL",
        "colab_type": "code",
        "outputId": "189856d7-1fcb-4fc8-f30f-1217657b54ea",
        "colab": {
          "base_uri": "https://localhost:8080/",
          "height": 55
        }
      },
      "source": [
        "%%time\n",
        "df = pd.read_parquet(data_file)"
      ],
      "execution_count": 0,
      "outputs": [
        {
          "output_type": "stream",
          "text": [
            "CPU times: user 81.8 ms, sys: 51.7 ms, total: 133 ms\n",
            "Wall time: 61.2 ms\n"
          ],
          "name": "stdout"
        }
      ]
    },
    {
      "cell_type": "code",
      "metadata": {
        "id": "4O34kIqTp4D9",
        "colab_type": "code",
        "outputId": "cf3531d4-c93e-4841-c605-7f80b3dcd6db",
        "colab": {
          "base_uri": "https://localhost:8080/",
          "height": 355
        }
      },
      "source": [
        "df.head(10)"
      ],
      "execution_count": 0,
      "outputs": [
        {
          "output_type": "execute_result",
          "data": {
            "text/html": [
              "<div>\n",
              "<style scoped>\n",
              "    .dataframe tbody tr th:only-of-type {\n",
              "        vertical-align: middle;\n",
              "    }\n",
              "\n",
              "    .dataframe tbody tr th {\n",
              "        vertical-align: top;\n",
              "    }\n",
              "\n",
              "    .dataframe thead th {\n",
              "        text-align: right;\n",
              "    }\n",
              "</style>\n",
              "<table border=\"1\" class=\"dataframe\">\n",
              "  <thead>\n",
              "    <tr style=\"text-align: right;\">\n",
              "      <th></th>\n",
              "      <th>Time_step</th>\n",
              "      <th>Date</th>\n",
              "      <th>Year</th>\n",
              "      <th>Month</th>\n",
              "      <th>Day</th>\n",
              "      <th>Hour</th>\n",
              "      <th>country</th>\n",
              "      <th>generation</th>\n",
              "    </tr>\n",
              "  </thead>\n",
              "  <tbody>\n",
              "    <tr>\n",
              "      <th>1051872</th>\n",
              "      <td>1</td>\n",
              "      <td>1986-01-01 00:00:00</td>\n",
              "      <td>1986</td>\n",
              "      <td>1</td>\n",
              "      <td>1</td>\n",
              "      <td>0</td>\n",
              "      <td>UK</td>\n",
              "      <td>0.000000</td>\n",
              "    </tr>\n",
              "    <tr>\n",
              "      <th>1051873</th>\n",
              "      <td>2</td>\n",
              "      <td>1986-01-01 01:00:00</td>\n",
              "      <td>1986</td>\n",
              "      <td>1</td>\n",
              "      <td>1</td>\n",
              "      <td>1</td>\n",
              "      <td>UK</td>\n",
              "      <td>0.000000</td>\n",
              "    </tr>\n",
              "    <tr>\n",
              "      <th>1051874</th>\n",
              "      <td>3</td>\n",
              "      <td>1986-01-01 02:00:00</td>\n",
              "      <td>1986</td>\n",
              "      <td>1</td>\n",
              "      <td>1</td>\n",
              "      <td>2</td>\n",
              "      <td>UK</td>\n",
              "      <td>0.000000</td>\n",
              "    </tr>\n",
              "    <tr>\n",
              "      <th>1051875</th>\n",
              "      <td>4</td>\n",
              "      <td>1986-01-01 03:00:00</td>\n",
              "      <td>1986</td>\n",
              "      <td>1</td>\n",
              "      <td>1</td>\n",
              "      <td>3</td>\n",
              "      <td>UK</td>\n",
              "      <td>0.000000</td>\n",
              "    </tr>\n",
              "    <tr>\n",
              "      <th>1051876</th>\n",
              "      <td>5</td>\n",
              "      <td>1986-01-01 04:00:00</td>\n",
              "      <td>1986</td>\n",
              "      <td>1</td>\n",
              "      <td>1</td>\n",
              "      <td>4</td>\n",
              "      <td>UK</td>\n",
              "      <td>0.000000</td>\n",
              "    </tr>\n",
              "    <tr>\n",
              "      <th>1051877</th>\n",
              "      <td>6</td>\n",
              "      <td>1986-01-01 05:00:00</td>\n",
              "      <td>1986</td>\n",
              "      <td>1</td>\n",
              "      <td>1</td>\n",
              "      <td>5</td>\n",
              "      <td>UK</td>\n",
              "      <td>0.000000</td>\n",
              "    </tr>\n",
              "    <tr>\n",
              "      <th>1051878</th>\n",
              "      <td>7</td>\n",
              "      <td>1986-01-01 06:00:00</td>\n",
              "      <td>1986</td>\n",
              "      <td>1</td>\n",
              "      <td>1</td>\n",
              "      <td>6</td>\n",
              "      <td>UK</td>\n",
              "      <td>0.000000</td>\n",
              "    </tr>\n",
              "    <tr>\n",
              "      <th>1051879</th>\n",
              "      <td>8</td>\n",
              "      <td>1986-01-01 07:00:00</td>\n",
              "      <td>1986</td>\n",
              "      <td>1</td>\n",
              "      <td>1</td>\n",
              "      <td>7</td>\n",
              "      <td>UK</td>\n",
              "      <td>0.000000</td>\n",
              "    </tr>\n",
              "    <tr>\n",
              "      <th>1051880</th>\n",
              "      <td>9</td>\n",
              "      <td>1986-01-01 08:00:00</td>\n",
              "      <td>1986</td>\n",
              "      <td>1</td>\n",
              "      <td>1</td>\n",
              "      <td>8</td>\n",
              "      <td>UK</td>\n",
              "      <td>0.000000</td>\n",
              "    </tr>\n",
              "    <tr>\n",
              "      <th>1051881</th>\n",
              "      <td>10</td>\n",
              "      <td>1986-01-01 09:00:00</td>\n",
              "      <td>1986</td>\n",
              "      <td>1</td>\n",
              "      <td>1</td>\n",
              "      <td>9</td>\n",
              "      <td>UK</td>\n",
              "      <td>0.047485</td>\n",
              "    </tr>\n",
              "  </tbody>\n",
              "</table>\n",
              "</div>"
            ],
            "text/plain": [
              "         Time_step                Date  Year  ...  Hour  country  generation\n",
              "1051872          1 1986-01-01 00:00:00  1986  ...     0       UK    0.000000\n",
              "1051873          2 1986-01-01 01:00:00  1986  ...     1       UK    0.000000\n",
              "1051874          3 1986-01-01 02:00:00  1986  ...     2       UK    0.000000\n",
              "1051875          4 1986-01-01 03:00:00  1986  ...     3       UK    0.000000\n",
              "1051876          5 1986-01-01 04:00:00  1986  ...     4       UK    0.000000\n",
              "1051877          6 1986-01-01 05:00:00  1986  ...     5       UK    0.000000\n",
              "1051878          7 1986-01-01 06:00:00  1986  ...     6       UK    0.000000\n",
              "1051879          8 1986-01-01 07:00:00  1986  ...     7       UK    0.000000\n",
              "1051880          9 1986-01-01 08:00:00  1986  ...     8       UK    0.000000\n",
              "1051881         10 1986-01-01 09:00:00  1986  ...     9       UK    0.047485\n",
              "\n",
              "[10 rows x 8 columns]"
            ]
          },
          "metadata": {
            "tags": []
          },
          "execution_count": 10
        }
      ]
    },
    {
      "cell_type": "markdown",
      "metadata": {
        "id": "0RxnMQ-W78qM",
        "colab_type": "text"
      },
      "source": [
        "## Split into train-test sets"
      ]
    },
    {
      "cell_type": "code",
      "metadata": {
        "id": "xp8yaG6_78qN",
        "colab_type": "code",
        "outputId": "c9d5e562-4486-417d-9014-16d260d15695",
        "colab": {
          "base_uri": "https://localhost:8080/",
          "height": 36
        }
      },
      "source": [
        "df_dev = df.iloc[:100]\n",
        "df_train, df_test = df[df['Year'] < 2015], df[df['Year'] >= 2015]\n",
        "len(df_train), len(df_test)"
      ],
      "execution_count": 0,
      "outputs": [
        {
          "output_type": "execute_result",
          "data": {
            "text/plain": [
              "(508416, 17520)"
            ]
          },
          "metadata": {
            "tags": []
          },
          "execution_count": 11
        }
      ]
    },
    {
      "cell_type": "code",
      "metadata": {
        "id": "ehwOPzGDipPI",
        "colab_type": "code",
        "outputId": "610e53cf-c21e-45e6-af8c-6920586d2414",
        "colab": {
          "base_uri": "https://localhost:8080/",
          "height": 969
        }
      },
      "source": [
        "df.groupby(\"Year\").count().reset_index()"
      ],
      "execution_count": 0,
      "outputs": [
        {
          "output_type": "execute_result",
          "data": {
            "text/html": [
              "<div>\n",
              "<style scoped>\n",
              "    .dataframe tbody tr th:only-of-type {\n",
              "        vertical-align: middle;\n",
              "    }\n",
              "\n",
              "    .dataframe tbody tr th {\n",
              "        vertical-align: top;\n",
              "    }\n",
              "\n",
              "    .dataframe thead th {\n",
              "        text-align: right;\n",
              "    }\n",
              "</style>\n",
              "<table border=\"1\" class=\"dataframe\">\n",
              "  <thead>\n",
              "    <tr style=\"text-align: right;\">\n",
              "      <th></th>\n",
              "      <th>Year</th>\n",
              "      <th>Time_step</th>\n",
              "      <th>Date</th>\n",
              "      <th>Month</th>\n",
              "      <th>Day</th>\n",
              "      <th>Hour</th>\n",
              "      <th>country</th>\n",
              "      <th>generation</th>\n",
              "    </tr>\n",
              "  </thead>\n",
              "  <tbody>\n",
              "    <tr>\n",
              "      <th>0</th>\n",
              "      <td>1986</td>\n",
              "      <td>17520</td>\n",
              "      <td>17520</td>\n",
              "      <td>17520</td>\n",
              "      <td>17520</td>\n",
              "      <td>17520</td>\n",
              "      <td>17520</td>\n",
              "      <td>17520</td>\n",
              "    </tr>\n",
              "    <tr>\n",
              "      <th>1</th>\n",
              "      <td>1987</td>\n",
              "      <td>17520</td>\n",
              "      <td>17520</td>\n",
              "      <td>17520</td>\n",
              "      <td>17520</td>\n",
              "      <td>17520</td>\n",
              "      <td>17520</td>\n",
              "      <td>17520</td>\n",
              "    </tr>\n",
              "    <tr>\n",
              "      <th>2</th>\n",
              "      <td>1988</td>\n",
              "      <td>17568</td>\n",
              "      <td>17568</td>\n",
              "      <td>17568</td>\n",
              "      <td>17568</td>\n",
              "      <td>17568</td>\n",
              "      <td>17568</td>\n",
              "      <td>17568</td>\n",
              "    </tr>\n",
              "    <tr>\n",
              "      <th>3</th>\n",
              "      <td>1989</td>\n",
              "      <td>17520</td>\n",
              "      <td>17520</td>\n",
              "      <td>17520</td>\n",
              "      <td>17520</td>\n",
              "      <td>17520</td>\n",
              "      <td>17520</td>\n",
              "      <td>17520</td>\n",
              "    </tr>\n",
              "    <tr>\n",
              "      <th>4</th>\n",
              "      <td>1990</td>\n",
              "      <td>17520</td>\n",
              "      <td>17520</td>\n",
              "      <td>17520</td>\n",
              "      <td>17520</td>\n",
              "      <td>17520</td>\n",
              "      <td>17520</td>\n",
              "      <td>17520</td>\n",
              "    </tr>\n",
              "    <tr>\n",
              "      <th>5</th>\n",
              "      <td>1991</td>\n",
              "      <td>17520</td>\n",
              "      <td>17520</td>\n",
              "      <td>17520</td>\n",
              "      <td>17520</td>\n",
              "      <td>17520</td>\n",
              "      <td>17520</td>\n",
              "      <td>17520</td>\n",
              "    </tr>\n",
              "    <tr>\n",
              "      <th>6</th>\n",
              "      <td>1992</td>\n",
              "      <td>17568</td>\n",
              "      <td>17568</td>\n",
              "      <td>17568</td>\n",
              "      <td>17568</td>\n",
              "      <td>17568</td>\n",
              "      <td>17568</td>\n",
              "      <td>17568</td>\n",
              "    </tr>\n",
              "    <tr>\n",
              "      <th>7</th>\n",
              "      <td>1993</td>\n",
              "      <td>17520</td>\n",
              "      <td>17520</td>\n",
              "      <td>17520</td>\n",
              "      <td>17520</td>\n",
              "      <td>17520</td>\n",
              "      <td>17520</td>\n",
              "      <td>17520</td>\n",
              "    </tr>\n",
              "    <tr>\n",
              "      <th>8</th>\n",
              "      <td>1994</td>\n",
              "      <td>17520</td>\n",
              "      <td>17520</td>\n",
              "      <td>17520</td>\n",
              "      <td>17520</td>\n",
              "      <td>17520</td>\n",
              "      <td>17520</td>\n",
              "      <td>17520</td>\n",
              "    </tr>\n",
              "    <tr>\n",
              "      <th>9</th>\n",
              "      <td>1995</td>\n",
              "      <td>17520</td>\n",
              "      <td>17520</td>\n",
              "      <td>17520</td>\n",
              "      <td>17520</td>\n",
              "      <td>17520</td>\n",
              "      <td>17520</td>\n",
              "      <td>17520</td>\n",
              "    </tr>\n",
              "    <tr>\n",
              "      <th>10</th>\n",
              "      <td>1996</td>\n",
              "      <td>17568</td>\n",
              "      <td>17568</td>\n",
              "      <td>17568</td>\n",
              "      <td>17568</td>\n",
              "      <td>17568</td>\n",
              "      <td>17568</td>\n",
              "      <td>17568</td>\n",
              "    </tr>\n",
              "    <tr>\n",
              "      <th>11</th>\n",
              "      <td>1997</td>\n",
              "      <td>17520</td>\n",
              "      <td>17520</td>\n",
              "      <td>17520</td>\n",
              "      <td>17520</td>\n",
              "      <td>17520</td>\n",
              "      <td>17520</td>\n",
              "      <td>17520</td>\n",
              "    </tr>\n",
              "    <tr>\n",
              "      <th>12</th>\n",
              "      <td>1998</td>\n",
              "      <td>17520</td>\n",
              "      <td>17520</td>\n",
              "      <td>17520</td>\n",
              "      <td>17520</td>\n",
              "      <td>17520</td>\n",
              "      <td>17520</td>\n",
              "      <td>17520</td>\n",
              "    </tr>\n",
              "    <tr>\n",
              "      <th>13</th>\n",
              "      <td>1999</td>\n",
              "      <td>17520</td>\n",
              "      <td>17520</td>\n",
              "      <td>17520</td>\n",
              "      <td>17520</td>\n",
              "      <td>17520</td>\n",
              "      <td>17520</td>\n",
              "      <td>17520</td>\n",
              "    </tr>\n",
              "    <tr>\n",
              "      <th>14</th>\n",
              "      <td>2000</td>\n",
              "      <td>17568</td>\n",
              "      <td>17568</td>\n",
              "      <td>17568</td>\n",
              "      <td>17568</td>\n",
              "      <td>17568</td>\n",
              "      <td>17568</td>\n",
              "      <td>17568</td>\n",
              "    </tr>\n",
              "    <tr>\n",
              "      <th>15</th>\n",
              "      <td>2001</td>\n",
              "      <td>17520</td>\n",
              "      <td>17520</td>\n",
              "      <td>17520</td>\n",
              "      <td>17520</td>\n",
              "      <td>17520</td>\n",
              "      <td>17520</td>\n",
              "      <td>17520</td>\n",
              "    </tr>\n",
              "    <tr>\n",
              "      <th>16</th>\n",
              "      <td>2002</td>\n",
              "      <td>17520</td>\n",
              "      <td>17520</td>\n",
              "      <td>17520</td>\n",
              "      <td>17520</td>\n",
              "      <td>17520</td>\n",
              "      <td>17520</td>\n",
              "      <td>17520</td>\n",
              "    </tr>\n",
              "    <tr>\n",
              "      <th>17</th>\n",
              "      <td>2003</td>\n",
              "      <td>17520</td>\n",
              "      <td>17520</td>\n",
              "      <td>17520</td>\n",
              "      <td>17520</td>\n",
              "      <td>17520</td>\n",
              "      <td>17520</td>\n",
              "      <td>17520</td>\n",
              "    </tr>\n",
              "    <tr>\n",
              "      <th>18</th>\n",
              "      <td>2004</td>\n",
              "      <td>17568</td>\n",
              "      <td>17568</td>\n",
              "      <td>17568</td>\n",
              "      <td>17568</td>\n",
              "      <td>17568</td>\n",
              "      <td>17568</td>\n",
              "      <td>17568</td>\n",
              "    </tr>\n",
              "    <tr>\n",
              "      <th>19</th>\n",
              "      <td>2005</td>\n",
              "      <td>17520</td>\n",
              "      <td>17520</td>\n",
              "      <td>17520</td>\n",
              "      <td>17520</td>\n",
              "      <td>17520</td>\n",
              "      <td>17520</td>\n",
              "      <td>17520</td>\n",
              "    </tr>\n",
              "    <tr>\n",
              "      <th>20</th>\n",
              "      <td>2006</td>\n",
              "      <td>17520</td>\n",
              "      <td>17520</td>\n",
              "      <td>17520</td>\n",
              "      <td>17520</td>\n",
              "      <td>17520</td>\n",
              "      <td>17520</td>\n",
              "      <td>17520</td>\n",
              "    </tr>\n",
              "    <tr>\n",
              "      <th>21</th>\n",
              "      <td>2007</td>\n",
              "      <td>17520</td>\n",
              "      <td>17520</td>\n",
              "      <td>17520</td>\n",
              "      <td>17520</td>\n",
              "      <td>17520</td>\n",
              "      <td>17520</td>\n",
              "      <td>17520</td>\n",
              "    </tr>\n",
              "    <tr>\n",
              "      <th>22</th>\n",
              "      <td>2008</td>\n",
              "      <td>17568</td>\n",
              "      <td>17568</td>\n",
              "      <td>17568</td>\n",
              "      <td>17568</td>\n",
              "      <td>17568</td>\n",
              "      <td>17568</td>\n",
              "      <td>17568</td>\n",
              "    </tr>\n",
              "    <tr>\n",
              "      <th>23</th>\n",
              "      <td>2009</td>\n",
              "      <td>17520</td>\n",
              "      <td>17520</td>\n",
              "      <td>17520</td>\n",
              "      <td>17520</td>\n",
              "      <td>17520</td>\n",
              "      <td>17520</td>\n",
              "      <td>17520</td>\n",
              "    </tr>\n",
              "    <tr>\n",
              "      <th>24</th>\n",
              "      <td>2010</td>\n",
              "      <td>17520</td>\n",
              "      <td>17520</td>\n",
              "      <td>17520</td>\n",
              "      <td>17520</td>\n",
              "      <td>17520</td>\n",
              "      <td>17520</td>\n",
              "      <td>17520</td>\n",
              "    </tr>\n",
              "    <tr>\n",
              "      <th>25</th>\n",
              "      <td>2011</td>\n",
              "      <td>17520</td>\n",
              "      <td>17520</td>\n",
              "      <td>17520</td>\n",
              "      <td>17520</td>\n",
              "      <td>17520</td>\n",
              "      <td>17520</td>\n",
              "      <td>17520</td>\n",
              "    </tr>\n",
              "    <tr>\n",
              "      <th>26</th>\n",
              "      <td>2012</td>\n",
              "      <td>17568</td>\n",
              "      <td>17568</td>\n",
              "      <td>17568</td>\n",
              "      <td>17568</td>\n",
              "      <td>17568</td>\n",
              "      <td>17568</td>\n",
              "      <td>17568</td>\n",
              "    </tr>\n",
              "    <tr>\n",
              "      <th>27</th>\n",
              "      <td>2013</td>\n",
              "      <td>17520</td>\n",
              "      <td>17520</td>\n",
              "      <td>17520</td>\n",
              "      <td>17520</td>\n",
              "      <td>17520</td>\n",
              "      <td>17520</td>\n",
              "      <td>17520</td>\n",
              "    </tr>\n",
              "    <tr>\n",
              "      <th>28</th>\n",
              "      <td>2014</td>\n",
              "      <td>17520</td>\n",
              "      <td>17520</td>\n",
              "      <td>17520</td>\n",
              "      <td>17520</td>\n",
              "      <td>17520</td>\n",
              "      <td>17520</td>\n",
              "      <td>17520</td>\n",
              "    </tr>\n",
              "    <tr>\n",
              "      <th>29</th>\n",
              "      <td>2015</td>\n",
              "      <td>17520</td>\n",
              "      <td>17520</td>\n",
              "      <td>17520</td>\n",
              "      <td>17520</td>\n",
              "      <td>17520</td>\n",
              "      <td>17520</td>\n",
              "      <td>17520</td>\n",
              "    </tr>\n",
              "  </tbody>\n",
              "</table>\n",
              "</div>"
            ],
            "text/plain": [
              "    Year  Time_step   Date  Month    Day   Hour  country  generation\n",
              "0   1986      17520  17520  17520  17520  17520    17520       17520\n",
              "1   1987      17520  17520  17520  17520  17520    17520       17520\n",
              "2   1988      17568  17568  17568  17568  17568    17568       17568\n",
              "3   1989      17520  17520  17520  17520  17520    17520       17520\n",
              "4   1990      17520  17520  17520  17520  17520    17520       17520\n",
              "5   1991      17520  17520  17520  17520  17520    17520       17520\n",
              "6   1992      17568  17568  17568  17568  17568    17568       17568\n",
              "7   1993      17520  17520  17520  17520  17520    17520       17520\n",
              "8   1994      17520  17520  17520  17520  17520    17520       17520\n",
              "9   1995      17520  17520  17520  17520  17520    17520       17520\n",
              "10  1996      17568  17568  17568  17568  17568    17568       17568\n",
              "11  1997      17520  17520  17520  17520  17520    17520       17520\n",
              "12  1998      17520  17520  17520  17520  17520    17520       17520\n",
              "13  1999      17520  17520  17520  17520  17520    17520       17520\n",
              "14  2000      17568  17568  17568  17568  17568    17568       17568\n",
              "15  2001      17520  17520  17520  17520  17520    17520       17520\n",
              "16  2002      17520  17520  17520  17520  17520    17520       17520\n",
              "17  2003      17520  17520  17520  17520  17520    17520       17520\n",
              "18  2004      17568  17568  17568  17568  17568    17568       17568\n",
              "19  2005      17520  17520  17520  17520  17520    17520       17520\n",
              "20  2006      17520  17520  17520  17520  17520    17520       17520\n",
              "21  2007      17520  17520  17520  17520  17520    17520       17520\n",
              "22  2008      17568  17568  17568  17568  17568    17568       17568\n",
              "23  2009      17520  17520  17520  17520  17520    17520       17520\n",
              "24  2010      17520  17520  17520  17520  17520    17520       17520\n",
              "25  2011      17520  17520  17520  17520  17520    17520       17520\n",
              "26  2012      17568  17568  17568  17568  17568    17568       17568\n",
              "27  2013      17520  17520  17520  17520  17520    17520       17520\n",
              "28  2014      17520  17520  17520  17520  17520    17520       17520\n",
              "29  2015      17520  17520  17520  17520  17520    17520       17520"
            ]
          },
          "metadata": {
            "tags": []
          },
          "execution_count": 12
        }
      ]
    },
    {
      "cell_type": "code",
      "metadata": {
        "id": "tpJHQuHjwUiW",
        "colab_type": "code",
        "outputId": "60e36899-b5fc-41c5-d9a8-c70197cd2dbd",
        "colab": {
          "base_uri": "https://localhost:8080/",
          "height": 55
        }
      },
      "source": [
        "%%time\n",
        "df_test.to_parquet(\"/content/test.parquet\")"
      ],
      "execution_count": 0,
      "outputs": [
        {
          "output_type": "stream",
          "text": [
            "CPU times: user 12.9 ms, sys: 3.24 ms, total: 16.2 ms\n",
            "Wall time: 19 ms\n"
          ],
          "name": "stdout"
        }
      ]
    },
    {
      "cell_type": "code",
      "metadata": {
        "id": "UzQcIUAlCRGW",
        "colab_type": "code",
        "outputId": "1b70a58d-9ebd-4337-9f1f-d597807906aa",
        "colab": {
          "base_uri": "https://localhost:8080/",
          "height": 73
        }
      },
      "source": [
        "!ls /content -l"
      ],
      "execution_count": 0,
      "outputs": [
        {
          "output_type": "stream",
          "text": [
            "total 312\n",
            "drwxr-xr-x 1 root root   4096 Mar 18 16:23 sample_data\n",
            "-rw-r--r-- 1 root root 313274 Mar 26 02:20 test.parquet\n"
          ],
          "name": "stdout"
        }
      ]
    },
    {
      "cell_type": "code",
      "metadata": {
        "id": "bF9otCaAwUij",
        "colab_type": "code",
        "colab": {}
      },
      "source": [
        "#from google.colab import files\n",
        "#files.download(\"/content/test.parquet\")"
      ],
      "execution_count": 0,
      "outputs": []
    },
    {
      "cell_type": "markdown",
      "metadata": {
        "id": "Dx7XECPPBKdb",
        "colab_type": "text"
      },
      "source": [
        "## Auto-regressive model\n",
        "\n",
        "In an auto-regressive model, we treat past values of the timeseries as input features to the forecasting model.\n",
        "While the functional form of the model is important, deep learning frameworks give us an easy way to try different approaches including CNNs, RNNs, etc.\n",
        "\n",
        "A key part remains however - we must be able to supply abundant training examples, each consisting of a window of consecutive values, the target, and (optinally) the time between the end of the window and the target (the \"forecast horizon\"). A long timeseries can be used to generate many examples simply by sampling the windows randomly from the original timeseries - in fact, for a realistic timeseries, pre-generating training examples in memory is prohibitively expensive. `timeserio` provides a way to generate sequence training examples on-demand from data held in memory, or even from datasets partitioned into multiple files."
      ]
    },
    {
      "cell_type": "markdown",
      "metadata": {
        "id": "yrDGFTlTDxqE",
        "colab_type": "text"
      },
      "source": [
        "\n",
        "In [Model 1], we have explored the SETIS PV generation dataset and built a powerful and performant model using \n",
        "`timeserio`'s `MultiModel` and datetime feature generation pipelines. In this part, we instead train an auto-regressive model using more advanced batch generator features.\n",
        "\n",
        "Remember the metrics our previous model achieved on the train/test split (without any parameter tuning):\n",
        "\n",
        "|&nbsp;| train | test |\n",
        "|---|---|---|\n",
        "| MSE | 0.0063 | 0.0068 |\n",
        "| MAE | 0.0401 | 0.0424 |\n",
        "\n",
        "In this notebook, we will build a simple model to create short-range predictions (between 1 and 2 hours ahead) based on recent history (say 6h)"
      ]
    },
    {
      "cell_type": "code",
      "metadata": {
        "id": "LJWVwl0VmESV",
        "colab_type": "code",
        "outputId": "4e5d1359-ea87-4490-a93a-212a907b2da8",
        "colab": {
          "base_uri": "https://localhost:8080/",
          "height": 353
        }
      },
      "source": [
        "!pip install timeserio"
      ],
      "execution_count": 0,
      "outputs": [
        {
          "output_type": "stream",
          "text": [
            "Requirement already satisfied: timeserio in /usr/local/lib/python3.6/dist-packages (0.10.4)\n",
            "Requirement already satisfied: joblib in /usr/local/lib/python3.6/dist-packages (from timeserio) (0.14.1)\n",
            "Requirement already satisfied: s3fs in /usr/local/lib/python3.6/dist-packages (from timeserio) (0.4.0)\n",
            "Requirement already satisfied: numpy in /usr/local/lib/python3.6/dist-packages (from timeserio) (1.18.2)\n",
            "Requirement already satisfied: holidays in /usr/local/lib/python3.6/dist-packages (from timeserio) (0.9.12)\n",
            "Requirement already satisfied: pandas in /usr/local/lib/python3.6/dist-packages (from timeserio) (0.25.3)\n",
            "Requirement already satisfied: scikit-learn==0.20.3 in /usr/local/lib/python3.6/dist-packages (from timeserio) (0.20.3)\n",
            "Requirement already satisfied: boto3>=1.9.91 in /usr/local/lib/python3.6/dist-packages (from s3fs->timeserio) (1.12.26)\n",
            "Requirement already satisfied: botocore>=1.12.91 in /usr/local/lib/python3.6/dist-packages (from s3fs->timeserio) (1.15.26)\n",
            "Requirement already satisfied: fsspec>=0.6.0 in /usr/local/lib/python3.6/dist-packages (from s3fs->timeserio) (0.6.3)\n",
            "Requirement already satisfied: six in /usr/local/lib/python3.6/dist-packages (from holidays->timeserio) (1.12.0)\n",
            "Requirement already satisfied: python-dateutil in /usr/local/lib/python3.6/dist-packages (from holidays->timeserio) (2.8.1)\n",
            "Requirement already satisfied: pytz>=2017.2 in /usr/local/lib/python3.6/dist-packages (from pandas->timeserio) (2018.9)\n",
            "Requirement already satisfied: scipy>=0.13.3 in /usr/local/lib/python3.6/dist-packages (from scikit-learn==0.20.3->timeserio) (1.4.1)\n",
            "Requirement already satisfied: jmespath<1.0.0,>=0.7.1 in /usr/local/lib/python3.6/dist-packages (from boto3>=1.9.91->s3fs->timeserio) (0.9.5)\n",
            "Requirement already satisfied: s3transfer<0.4.0,>=0.3.0 in /usr/local/lib/python3.6/dist-packages (from boto3>=1.9.91->s3fs->timeserio) (0.3.3)\n",
            "Requirement already satisfied: docutils<0.16,>=0.10 in /usr/local/lib/python3.6/dist-packages (from botocore>=1.12.91->s3fs->timeserio) (0.15.2)\n",
            "Requirement already satisfied: urllib3<1.26,>=1.20; python_version != \"3.4\" in /usr/local/lib/python3.6/dist-packages (from botocore>=1.12.91->s3fs->timeserio) (1.24.3)\n"
          ],
          "name": "stdout"
        }
      ]
    },
    {
      "cell_type": "code",
      "metadata": {
        "id": "MD0G0K_LBKdd",
        "colab_type": "code",
        "outputId": "3c462180-f9c6-40cb-d286-0d9f75d3d8c1",
        "colab": {
          "base_uri": "https://localhost:8080/",
          "height": 36
        }
      },
      "source": [
        "from timeserio.batches.chunked.pandas import SequenceForecastBatchGenerator\n",
        "\n",
        "batchgen_train = SequenceForecastBatchGenerator(\n",
        "    df=df_train, batch_size=2**15,\n",
        "    sequence_length=6,\n",
        "    sequence_columns=[\"generation\", \"Time_step\"],\n",
        "    last_step_columns=[\"Time_step\"],\n",
        "    forecast_steps_min=1,\n",
        "    forecast_steps_max=2,\n",
        "    batch_offset=True,\n",
        "    id_column=\"country\",\n",
        "    batch_aggregator=1\n",
        ")"
      ],
      "execution_count": 0,
      "outputs": [
        {
          "output_type": "stream",
          "text": [
            "Using TensorFlow backend.\n"
          ],
          "name": "stderr"
        }
      ]
    },
    {
      "cell_type": "code",
      "metadata": {
        "id": "kWqIg9-PBKdh",
        "colab_type": "code",
        "outputId": "ff21fd39-a569-4ed0-f2cd-50cff034da49",
        "colab": {
          "base_uri": "https://localhost:8080/",
          "height": 36
        }
      },
      "source": [
        "len(batchgen_train)"
      ],
      "execution_count": 0,
      "outputs": [
        {
          "output_type": "execute_result",
          "data": {
            "text/plain": [
              "4"
            ]
          },
          "metadata": {
            "tags": []
          },
          "execution_count": 18
        }
      ]
    },
    {
      "cell_type": "code",
      "metadata": {
        "id": "hB2j9pKiBKdo",
        "colab_type": "code",
        "outputId": "61e5047a-edf9-4f93-f9b0-a15c4d00b916",
        "colab": {
          "base_uri": "https://localhost:8080/",
          "height": 55
        }
      },
      "source": [
        "%%time\n",
        "batch = batchgen_train[0]"
      ],
      "execution_count": 0,
      "outputs": [
        {
          "output_type": "stream",
          "text": [
            "CPU times: user 57.9 ms, sys: 15 ms, total: 72.9 ms\n",
            "Wall time: 72 ms\n"
          ],
          "name": "stdout"
        }
      ]
    },
    {
      "cell_type": "code",
      "metadata": {
        "id": "0j4v9p6TBKds",
        "colab_type": "code",
        "outputId": "2f343c69-7efb-46bc-e76f-de92d8bc2f20",
        "colab": {
          "base_uri": "https://localhost:8080/",
          "height": 141
        }
      },
      "source": [
        "batch.head(2)"
      ],
      "execution_count": 0,
      "outputs": [
        {
          "output_type": "execute_result",
          "data": {
            "text/html": [
              "<div>\n",
              "<style scoped>\n",
              "    .dataframe tbody tr th:only-of-type {\n",
              "        vertical-align: middle;\n",
              "    }\n",
              "\n",
              "    .dataframe tbody tr th {\n",
              "        vertical-align: top;\n",
              "    }\n",
              "\n",
              "    .dataframe thead tr th {\n",
              "        text-align: left;\n",
              "    }\n",
              "</style>\n",
              "<table border=\"1\" class=\"dataframe\">\n",
              "  <thead>\n",
              "    <tr>\n",
              "      <th></th>\n",
              "      <th>country</th>\n",
              "      <th>generation</th>\n",
              "      <th>Time_step</th>\n",
              "      <th colspan=\"6\" halign=\"left\">seq_generation</th>\n",
              "      <th colspan=\"6\" halign=\"left\">seq_Time_step</th>\n",
              "      <th>end_of_Time_step</th>\n",
              "    </tr>\n",
              "    <tr>\n",
              "      <th></th>\n",
              "      <th></th>\n",
              "      <th></th>\n",
              "      <th></th>\n",
              "      <th>0</th>\n",
              "      <th>1</th>\n",
              "      <th>2</th>\n",
              "      <th>3</th>\n",
              "      <th>4</th>\n",
              "      <th>5</th>\n",
              "      <th>0</th>\n",
              "      <th>1</th>\n",
              "      <th>2</th>\n",
              "      <th>3</th>\n",
              "      <th>4</th>\n",
              "      <th>5</th>\n",
              "      <th></th>\n",
              "    </tr>\n",
              "  </thead>\n",
              "  <tbody>\n",
              "    <tr>\n",
              "      <th>0</th>\n",
              "      <td>UK</td>\n",
              "      <td>0.164216</td>\n",
              "      <td>12</td>\n",
              "      <td>0.000000</td>\n",
              "      <td>0.00000</td>\n",
              "      <td>0.00000</td>\n",
              "      <td>0.000000</td>\n",
              "      <td>0.047485</td>\n",
              "      <td>0.109517</td>\n",
              "      <td>6</td>\n",
              "      <td>7</td>\n",
              "      <td>8</td>\n",
              "      <td>9</td>\n",
              "      <td>10</td>\n",
              "      <td>11</td>\n",
              "      <td>11</td>\n",
              "    </tr>\n",
              "    <tr>\n",
              "      <th>1</th>\n",
              "      <td>UK</td>\n",
              "      <td>0.000000</td>\n",
              "      <td>18</td>\n",
              "      <td>0.164216</td>\n",
              "      <td>0.15582</td>\n",
              "      <td>0.12249</td>\n",
              "      <td>0.070279</td>\n",
              "      <td>0.043466</td>\n",
              "      <td>0.016774</td>\n",
              "      <td>12</td>\n",
              "      <td>13</td>\n",
              "      <td>14</td>\n",
              "      <td>15</td>\n",
              "      <td>16</td>\n",
              "      <td>17</td>\n",
              "      <td>17</td>\n",
              "    </tr>\n",
              "  </tbody>\n",
              "</table>\n",
              "</div>"
            ],
            "text/plain": [
              "  country generation Time_step seq_generation  ... seq_Time_step         end_of_Time_step\n",
              "                                            0  ...             3   4   5                 \n",
              "0      UK   0.164216        12       0.000000  ...             9  10  11               11\n",
              "1      UK   0.000000        18       0.164216  ...            15  16  17               17\n",
              "\n",
              "[2 rows x 16 columns]"
            ]
          },
          "metadata": {
            "tags": []
          },
          "execution_count": 20
        }
      ]
    },
    {
      "cell_type": "code",
      "metadata": {
        "id": "prX0tVORBKdy",
        "colab_type": "code",
        "outputId": "ae5d56bd-8acb-467b-8305-3c55bfc0c8cf",
        "colab": {
          "base_uri": "https://localhost:8080/",
          "height": 55
        }
      },
      "source": [
        "%%time\n",
        "batch = batchgen_train[-1]"
      ],
      "execution_count": 0,
      "outputs": [
        {
          "output_type": "stream",
          "text": [
            "CPU times: user 61 ms, sys: 4.73 ms, total: 65.7 ms\n",
            "Wall time: 65.1 ms\n"
          ],
          "name": "stdout"
        }
      ]
    },
    {
      "cell_type": "code",
      "metadata": {
        "id": "bCEsNwHeBKd5",
        "colab_type": "code",
        "outputId": "157f38a5-760d-4fee-c47a-1bd9ec2f8aa9",
        "colab": {
          "base_uri": "https://localhost:8080/",
          "height": 161
        }
      },
      "source": [
        "batch.head(2)"
      ],
      "execution_count": 0,
      "outputs": [
        {
          "output_type": "execute_result",
          "data": {
            "text/html": [
              "<div>\n",
              "<style scoped>\n",
              "    .dataframe tbody tr th:only-of-type {\n",
              "        vertical-align: middle;\n",
              "    }\n",
              "\n",
              "    .dataframe tbody tr th {\n",
              "        vertical-align: top;\n",
              "    }\n",
              "\n",
              "    .dataframe thead tr th {\n",
              "        text-align: left;\n",
              "    }\n",
              "</style>\n",
              "<table border=\"1\" class=\"dataframe\">\n",
              "  <thead>\n",
              "    <tr>\n",
              "      <th></th>\n",
              "      <th>country</th>\n",
              "      <th>generation</th>\n",
              "      <th>Time_step</th>\n",
              "      <th colspan=\"6\" halign=\"left\">seq_generation</th>\n",
              "      <th colspan=\"6\" halign=\"left\">seq_Time_step</th>\n",
              "      <th>end_of_Time_step</th>\n",
              "    </tr>\n",
              "    <tr>\n",
              "      <th></th>\n",
              "      <th></th>\n",
              "      <th></th>\n",
              "      <th></th>\n",
              "      <th>0</th>\n",
              "      <th>1</th>\n",
              "      <th>2</th>\n",
              "      <th>3</th>\n",
              "      <th>4</th>\n",
              "      <th>5</th>\n",
              "      <th>0</th>\n",
              "      <th>1</th>\n",
              "      <th>2</th>\n",
              "      <th>3</th>\n",
              "      <th>4</th>\n",
              "      <th>5</th>\n",
              "      <th></th>\n",
              "    </tr>\n",
              "  </thead>\n",
              "  <tbody>\n",
              "    <tr>\n",
              "      <th>0</th>\n",
              "      <td>ES</td>\n",
              "      <td>0.591977</td>\n",
              "      <td>196620</td>\n",
              "      <td>0.027444</td>\n",
              "      <td>0.080617</td>\n",
              "      <td>0.211192</td>\n",
              "      <td>0.318396</td>\n",
              "      <td>0.493836</td>\n",
              "      <td>0.515103</td>\n",
              "      <td>196614</td>\n",
              "      <td>196615</td>\n",
              "      <td>196616</td>\n",
              "      <td>196617</td>\n",
              "      <td>196618</td>\n",
              "      <td>196619</td>\n",
              "      <td>196619</td>\n",
              "    </tr>\n",
              "    <tr>\n",
              "      <th>1</th>\n",
              "      <td>ES</td>\n",
              "      <td>0.088870</td>\n",
              "      <td>196627</td>\n",
              "      <td>0.591977</td>\n",
              "      <td>0.621796</td>\n",
              "      <td>0.608276</td>\n",
              "      <td>0.565962</td>\n",
              "      <td>0.474634</td>\n",
              "      <td>0.345412</td>\n",
              "      <td>196620</td>\n",
              "      <td>196621</td>\n",
              "      <td>196622</td>\n",
              "      <td>196623</td>\n",
              "      <td>196624</td>\n",
              "      <td>196625</td>\n",
              "      <td>196625</td>\n",
              "    </tr>\n",
              "  </tbody>\n",
              "</table>\n",
              "</div>"
            ],
            "text/plain": [
              "  country generation Time_step  ... seq_Time_step         end_of_Time_step\n",
              "                                ...             4       5                 \n",
              "0      ES   0.591977    196620  ...        196618  196619           196619\n",
              "1      ES   0.088870    196627  ...        196624  196625           196625\n",
              "\n",
              "[2 rows x 16 columns]"
            ]
          },
          "metadata": {
            "tags": []
          },
          "execution_count": 22
        }
      ]
    },
    {
      "cell_type": "markdown",
      "metadata": {
        "id": "jslSgu-OBKd9",
        "colab_type": "text"
      },
      "source": [
        "### Sequence and Forecast horizon features"
      ]
    },
    {
      "cell_type": "code",
      "metadata": {
        "id": "lDYZ_oNEBKd-",
        "colab_type": "code",
        "colab": {}
      },
      "source": [
        "from timeserio.pipeline import Pipeline\n",
        "from timeserio.preprocessing import PandasColumnSelector, PandasValueSelector\n",
        "\n",
        "class ColumnDifferenceValues:\n",
        "    \"\"\"Compute difference feature of two columns\"\"\"\n",
        "    def __init__(self, *, col_plus, col_minus):\n",
        "        self.col_plus = col_plus\n",
        "        self.col_minus = col_minus\n",
        "    \n",
        "    def fit(self, *args, **kwargs):\n",
        "        return self\n",
        "    \n",
        "    def fit_transform(self, df, *args, **kwargs):\n",
        "        return self.transform(df, *args, **kwargs)\n",
        "\n",
        "    def transform(self, df, *args, **kwargs):\n",
        "        return (df[self.col_plus] - df[self.col_minus]).values.reshape(-1, 1)\n",
        "\n",
        "    \n",
        "seq_pipeline = PandasValueSelector(\"back_generation\")\n",
        "fc_horizon_pipeline = ColumnDifferenceValues(col_plus=\"Time_step\", col_minus=\"end_of_Time_step\")\n",
        "target_pipeline = PandasValueSelector(\"fore_generation\")"
      ],
      "execution_count": 0,
      "outputs": []
    },
    {
      "cell_type": "markdown",
      "metadata": {
        "id": "AxA61HJkBKeB",
        "colab_type": "text"
      },
      "source": [
        "### Define the Neural Network Architecture\n",
        "\n",
        "We define a regression network with two inputs: sequence of previous readings, and the forecast horizon"
      ]
    },
    {
      "cell_type": "code",
      "metadata": {
        "id": "Nvu1j_9LBKeC",
        "colab_type": "code",
        "colab": {}
      },
      "source": [
        "from timeserio.keras.multinetwork import MultiNetworkBase\n",
        "\n",
        "from keras.layers import Input, Dense, Flatten, Concatenate, Reshape, Permute, Conv1D, BatchNormalization, MaxPool1D, Activation\n",
        "from keras.models import Model\n",
        "from keras.optimizers import Adam\n",
        "from keras.callbacks import EarlyStopping, ReduceLROnPlateau\n",
        "\n",
        "class ARForecastingNetwork(MultiNetworkBase):\n",
        "    def _model(\n",
        "        self,\n",
        "        *,\n",
        "        seq_length=6,  # number of real-valued features\n",
        "        filters=(1, ),\n",
        "        kernel_sizes=(1, ),\n",
        "        strides=(1, ),\n",
        "        pools=(1, ),\n",
        "        hidden_units=(8, 8),\n",
        "        lr=0.01\n",
        "    ):\n",
        "        horizon_input = Input(shape=(1,), name='horizon')\n",
        "        seq_input = Input(shape=(seq_length,), name='sequence')\n",
        "        encoding = Reshape(\n",
        "            target_shape=(-1, 1)\n",
        "        )(seq_input)\n",
        "                \n",
        "        for idx, (_filters, _kernel_size, _strides, _pool) in enumerate(zip(filters, kernel_sizes, strides, pools)):\n",
        "            encoding = Conv1D(filters=_filters, kernel_size=_kernel_size, strides=_strides, padding=\"same\", name=f\"conv_{idx}\")(encoding)\n",
        "            encoding = BatchNormalization()(encoding)\n",
        "            encoding = Activation(activation='relu')(encoding)\n",
        "            encoding = MaxPool1D(pool_size=_pool)(encoding)\n",
        "        encoding = Flatten()(encoding)\n",
        "\n",
        "        output = Concatenate(name='concatenate')([encoding, horizon_input])\n",
        "        for idx, _hidden_units in enumerate(hidden_units):\n",
        "            output = Dense(_hidden_units, activation='relu', name=f'dense_{idx}')(output)\n",
        "        output = Dense(2, name='fore_generation', activation='relu')(output) # 1=>2\n",
        "        \n",
        "        encoding_model = Model(seq_input, encoding)\n",
        "        forecasting_model = Model([seq_input, horizon_input], output)\n",
        "        \n",
        "        optimizer = Adam(lr=lr)\n",
        "        forecasting_model.compile(optimizer=optimizer, loss='mse', metrics=['mae'])\n",
        "        \n",
        "        return {'encoder': encoding_model, 'forecast': forecasting_model}\n",
        "\n",
        "    \n",
        "multinetwork = ARForecastingNetwork(seq_length=6, lr=0.001)"
      ],
      "execution_count": 0,
      "outputs": []
    },
    {
      "cell_type": "code",
      "metadata": {
        "id": "LnOlhZ0xBKeG",
        "colab_type": "code",
        "colab": {}
      },
      "source": [
        "from keras.utils.vis_utils import model_to_dot\n",
        "from IPython.display import SVG\n",
        "\n",
        "def vis_model(model, show_shapes=False, show_layer_names=True, rankdir='TB'):\n",
        "    \"\"\"Visualize model in a notebook.\"\"\"\n",
        "    return SVG(\n",
        "        model_to_dot(\n",
        "            model, show_shapes=show_shapes, show_layer_names=show_layer_names, rankdir=rankdir\n",
        "        ).create(prog='dot', format='svg')\n",
        "    )"
      ],
      "execution_count": 0,
      "outputs": []
    },
    {
      "cell_type": "code",
      "metadata": {
        "id": "KnaGCVl8BKeM",
        "colab_type": "code",
        "outputId": "7755d222-6a28-48c4-80ec-b33e185f7598",
        "colab": {
          "base_uri": "https://localhost:8080/",
          "height": 785
        }
      },
      "source": [
        "vis_model(multinetwork.model[\"forecast\"], show_shapes=True, rankdir=\"LR\")"
      ],
      "execution_count": 0,
      "outputs": [
        {
          "output_type": "stream",
          "text": [
            "WARNING:tensorflow:From /usr/local/lib/python3.6/dist-packages/keras/backend/tensorflow_backend.py:541: The name tf.placeholder is deprecated. Please use tf.compat.v1.placeholder instead.\n",
            "\n",
            "WARNING:tensorflow:From /usr/local/lib/python3.6/dist-packages/keras/backend/tensorflow_backend.py:66: The name tf.get_default_graph is deprecated. Please use tf.compat.v1.get_default_graph instead.\n",
            "\n",
            "WARNING:tensorflow:From /usr/local/lib/python3.6/dist-packages/keras/backend/tensorflow_backend.py:4432: The name tf.random_uniform is deprecated. Please use tf.random.uniform instead.\n",
            "\n",
            "WARNING:tensorflow:From /usr/local/lib/python3.6/dist-packages/keras/backend/tensorflow_backend.py:148: The name tf.placeholder_with_default is deprecated. Please use tf.compat.v1.placeholder_with_default instead.\n",
            "\n",
            "WARNING:tensorflow:From /usr/local/lib/python3.6/dist-packages/keras/backend/tensorflow_backend.py:4267: The name tf.nn.max_pool is deprecated. Please use tf.nn.max_pool2d instead.\n",
            "\n",
            "WARNING:tensorflow:From /usr/local/lib/python3.6/dist-packages/keras/optimizers.py:793: The name tf.train.Optimizer is deprecated. Please use tf.compat.v1.train.Optimizer instead.\n",
            "\n",
            "WARNING:tensorflow:From /usr/local/lib/python3.6/dist-packages/keras/backend/tensorflow_backend.py:190: The name tf.get_default_session is deprecated. Please use tf.compat.v1.get_default_session instead.\n",
            "\n",
            "WARNING:tensorflow:From /usr/local/lib/python3.6/dist-packages/keras/backend/tensorflow_backend.py:197: The name tf.ConfigProto is deprecated. Please use tf.compat.v1.ConfigProto instead.\n",
            "\n",
            "WARNING:tensorflow:From /usr/local/lib/python3.6/dist-packages/keras/backend/tensorflow_backend.py:203: The name tf.Session is deprecated. Please use tf.compat.v1.Session instead.\n",
            "\n",
            "WARNING:tensorflow:From /usr/local/lib/python3.6/dist-packages/keras/backend/tensorflow_backend.py:207: The name tf.global_variables is deprecated. Please use tf.compat.v1.global_variables instead.\n",
            "\n",
            "WARNING:tensorflow:From /usr/local/lib/python3.6/dist-packages/keras/backend/tensorflow_backend.py:216: The name tf.is_variable_initialized is deprecated. Please use tf.compat.v1.is_variable_initialized instead.\n",
            "\n",
            "WARNING:tensorflow:From /usr/local/lib/python3.6/dist-packages/keras/backend/tensorflow_backend.py:223: The name tf.variables_initializer is deprecated. Please use tf.compat.v1.variables_initializer instead.\n",
            "\n"
          ],
          "name": "stdout"
        },
        {
          "output_type": "execute_result",
          "data": {
            "text/plain": [
              "<IPython.core.display.SVG object>"
            ],
            "image/svg+xml": "<svg height=\"221pt\" viewBox=\"0.00 0.00 2323.00 166.00\" width=\"3097pt\" xmlns=\"http://www.w3.org/2000/svg\" xmlns:xlink=\"http://www.w3.org/1999/xlink\">\n<g class=\"graph\" id=\"graph0\" transform=\"scale(1.3333 1.3333) rotate(0) translate(4 162)\">\n<title>G</title>\n<polygon fill=\"#ffffff\" points=\"-4,4 -4,-162 2319,-162 2319,4 -4,4\" stroke=\"transparent\"/>\n<!-- 140408460501680 -->\n<g class=\"node\" id=\"node1\">\n<title>140408460501680</title>\n<polygon fill=\"none\" points=\"0,-88.5 0,-157.5 144,-157.5 144,-88.5 0,-88.5\" stroke=\"#000000\"/>\n<text fill=\"#000000\" font-family=\"Times,serif\" font-size=\"14.00\" text-anchor=\"middle\" x=\"72\" y=\"-142.3\">sequence: InputLayer</text>\n<polyline fill=\"none\" points=\"0,-134.5 144,-134.5 \" stroke=\"#000000\"/>\n<text fill=\"#000000\" font-family=\"Times,serif\" font-size=\"14.00\" text-anchor=\"middle\" x=\"34\" y=\"-119.3\">input:</text>\n<polyline fill=\"none\" points=\"68,-111.5 68,-134.5 \" stroke=\"#000000\"/>\n<text fill=\"#000000\" font-family=\"Times,serif\" font-size=\"14.00\" text-anchor=\"middle\" x=\"106\" y=\"-119.3\">output:</text>\n<polyline fill=\"none\" points=\"0,-111.5 144,-111.5 \" stroke=\"#000000\"/>\n<text fill=\"#000000\" font-family=\"Times,serif\" font-size=\"14.00\" text-anchor=\"middle\" x=\"36\" y=\"-96.3\">(None, 6)</text>\n<polyline fill=\"none\" points=\"72,-88.5 72,-111.5 \" stroke=\"#000000\"/>\n<text fill=\"#000000\" font-family=\"Times,serif\" font-size=\"14.00\" text-anchor=\"middle\" x=\"108\" y=\"-96.3\">(None, 6)</text>\n</g>\n<!-- 140408460501904 -->\n<g class=\"node\" id=\"node2\">\n<title>140408460501904</title>\n<polygon fill=\"none\" points=\"180,-88.5 180,-157.5 339,-157.5 339,-88.5 180,-88.5\" stroke=\"#000000\"/>\n<text fill=\"#000000\" font-family=\"Times,serif\" font-size=\"14.00\" text-anchor=\"middle\" x=\"259.5\" y=\"-142.3\">reshape_1: Reshape</text>\n<polyline fill=\"none\" points=\"180,-134.5 339,-134.5 \" stroke=\"#000000\"/>\n<text fill=\"#000000\" font-family=\"Times,serif\" font-size=\"14.00\" text-anchor=\"middle\" x=\"217.5\" y=\"-119.3\">input:</text>\n<polyline fill=\"none\" points=\"255,-111.5 255,-134.5 \" stroke=\"#000000\"/>\n<text fill=\"#000000\" font-family=\"Times,serif\" font-size=\"14.00\" text-anchor=\"middle\" x=\"297\" y=\"-119.3\">output:</text>\n<polyline fill=\"none\" points=\"180,-111.5 339,-111.5 \" stroke=\"#000000\"/>\n<text fill=\"#000000\" font-family=\"Times,serif\" font-size=\"14.00\" text-anchor=\"middle\" x=\"216\" y=\"-96.3\">(None, 6)</text>\n<polyline fill=\"none\" points=\"252,-88.5 252,-111.5 \" stroke=\"#000000\"/>\n<text fill=\"#000000\" font-family=\"Times,serif\" font-size=\"14.00\" text-anchor=\"middle\" x=\"295.5\" y=\"-96.3\">(None, 6, 1)</text>\n</g>\n<!-- 140408460501680&#45;&gt;140408460501904 -->\n<g class=\"edge\" id=\"edge1\">\n<title>140408460501680-&gt;140408460501904</title>\n<path d=\"M144.2242,-123C152.603,-123 161.2242,-123 169.8002,-123\" fill=\"none\" stroke=\"#000000\"/>\n<polygon fill=\"#000000\" points=\"169.8297,-126.5001 179.8297,-123 169.8296,-119.5001 169.8297,-126.5001\" stroke=\"#000000\"/>\n</g>\n<!-- 140408719839128 -->\n<g class=\"node\" id=\"node3\">\n<title>140408719839128</title>\n<polygon fill=\"none\" points=\"375,-88.5 375,-157.5 549,-157.5 549,-88.5 375,-88.5\" stroke=\"#000000\"/>\n<text fill=\"#000000\" font-family=\"Times,serif\" font-size=\"14.00\" text-anchor=\"middle\" x=\"462\" y=\"-142.3\">conv_0: Conv1D</text>\n<polyline fill=\"none\" points=\"375,-134.5 549,-134.5 \" stroke=\"#000000\"/>\n<text fill=\"#000000\" font-family=\"Times,serif\" font-size=\"14.00\" text-anchor=\"middle\" x=\"416.5\" y=\"-119.3\">input:</text>\n<polyline fill=\"none\" points=\"458,-111.5 458,-134.5 \" stroke=\"#000000\"/>\n<text fill=\"#000000\" font-family=\"Times,serif\" font-size=\"14.00\" text-anchor=\"middle\" x=\"503.5\" y=\"-119.3\">output:</text>\n<polyline fill=\"none\" points=\"375,-111.5 549,-111.5 \" stroke=\"#000000\"/>\n<text fill=\"#000000\" font-family=\"Times,serif\" font-size=\"14.00\" text-anchor=\"middle\" x=\"418.5\" y=\"-96.3\">(None, 6, 1)</text>\n<polyline fill=\"none\" points=\"462,-88.5 462,-111.5 \" stroke=\"#000000\"/>\n<text fill=\"#000000\" font-family=\"Times,serif\" font-size=\"14.00\" text-anchor=\"middle\" x=\"505.5\" y=\"-96.3\">(None, 6, 1)</text>\n</g>\n<!-- 140408460501904&#45;&gt;140408719839128 -->\n<g class=\"edge\" id=\"edge2\">\n<title>140408460501904-&gt;140408719839128</title>\n<path d=\"M339.2427,-123C347.675,-123 356.3159,-123 364.9167,-123\" fill=\"none\" stroke=\"#000000\"/>\n<polygon fill=\"#000000\" points=\"364.9799,-126.5001 374.9799,-123 364.9798,-119.5001 364.9799,-126.5001\" stroke=\"#000000\"/>\n</g>\n<!-- 140408460356240 -->\n<g class=\"node\" id=\"node4\">\n<title>140408460356240</title>\n<polygon fill=\"none\" points=\"585,-88.5 585,-157.5 856,-157.5 856,-88.5 585,-88.5\" stroke=\"#000000\"/>\n<text fill=\"#000000\" font-family=\"Times,serif\" font-size=\"14.00\" text-anchor=\"middle\" x=\"720.5\" y=\"-142.3\">batch_normalization_1: BatchNormalization</text>\n<polyline fill=\"none\" points=\"585,-134.5 856,-134.5 \" stroke=\"#000000\"/>\n<text fill=\"#000000\" font-family=\"Times,serif\" font-size=\"14.00\" text-anchor=\"middle\" x=\"650.5\" y=\"-119.3\">input:</text>\n<polyline fill=\"none\" points=\"716,-111.5 716,-134.5 \" stroke=\"#000000\"/>\n<text fill=\"#000000\" font-family=\"Times,serif\" font-size=\"14.00\" text-anchor=\"middle\" x=\"786\" y=\"-119.3\">output:</text>\n<polyline fill=\"none\" points=\"585,-111.5 856,-111.5 \" stroke=\"#000000\"/>\n<text fill=\"#000000\" font-family=\"Times,serif\" font-size=\"14.00\" text-anchor=\"middle\" x=\"652.5\" y=\"-96.3\">(None, 6, 1)</text>\n<polyline fill=\"none\" points=\"720,-88.5 720,-111.5 \" stroke=\"#000000\"/>\n<text fill=\"#000000\" font-family=\"Times,serif\" font-size=\"14.00\" text-anchor=\"middle\" x=\"788\" y=\"-96.3\">(None, 6, 1)</text>\n</g>\n<!-- 140408719839128&#45;&gt;140408460356240 -->\n<g class=\"edge\" id=\"edge3\">\n<title>140408719839128-&gt;140408460356240</title>\n<path d=\"M549.1559,-123C557.4785,-123 566.0625,-123 574.7476,-123\" fill=\"none\" stroke=\"#000000\"/>\n<polygon fill=\"#000000\" points=\"574.9799,-126.5001 584.9799,-123 574.9798,-119.5001 574.9799,-126.5001\" stroke=\"#000000\"/>\n</g>\n<!-- 140408460356128 -->\n<g class=\"node\" id=\"node5\">\n<title>140408460356128</title>\n<polygon fill=\"none\" points=\"892,-88.5 892,-157.5 1066,-157.5 1066,-88.5 892,-88.5\" stroke=\"#000000\"/>\n<text fill=\"#000000\" font-family=\"Times,serif\" font-size=\"14.00\" text-anchor=\"middle\" x=\"979\" y=\"-142.3\">activation_1: Activation</text>\n<polyline fill=\"none\" points=\"892,-134.5 1066,-134.5 \" stroke=\"#000000\"/>\n<text fill=\"#000000\" font-family=\"Times,serif\" font-size=\"14.00\" text-anchor=\"middle\" x=\"933.5\" y=\"-119.3\">input:</text>\n<polyline fill=\"none\" points=\"975,-111.5 975,-134.5 \" stroke=\"#000000\"/>\n<text fill=\"#000000\" font-family=\"Times,serif\" font-size=\"14.00\" text-anchor=\"middle\" x=\"1020.5\" y=\"-119.3\">output:</text>\n<polyline fill=\"none\" points=\"892,-111.5 1066,-111.5 \" stroke=\"#000000\"/>\n<text fill=\"#000000\" font-family=\"Times,serif\" font-size=\"14.00\" text-anchor=\"middle\" x=\"935.5\" y=\"-96.3\">(None, 6, 1)</text>\n<polyline fill=\"none\" points=\"979,-88.5 979,-111.5 \" stroke=\"#000000\"/>\n<text fill=\"#000000\" font-family=\"Times,serif\" font-size=\"14.00\" text-anchor=\"middle\" x=\"1022.5\" y=\"-96.3\">(None, 6, 1)</text>\n</g>\n<!-- 140408460356240&#45;&gt;140408460356128 -->\n<g class=\"edge\" id=\"edge4\">\n<title>140408460356240-&gt;140408460356128</title>\n<path d=\"M856.1849,-123C864.7642,-123 873.3057,-123 881.6575,-123\" fill=\"none\" stroke=\"#000000\"/>\n<polygon fill=\"#000000\" points=\"881.7407,-126.5001 891.7406,-123 881.7406,-119.5001 881.7407,-126.5001\" stroke=\"#000000\"/>\n</g>\n<!-- 140408460089944 -->\n<g class=\"node\" id=\"node6\">\n<title>140408460089944</title>\n<polygon fill=\"none\" points=\"1102,-88.5 1102,-157.5 1323,-157.5 1323,-88.5 1102,-88.5\" stroke=\"#000000\"/>\n<text fill=\"#000000\" font-family=\"Times,serif\" font-size=\"14.00\" text-anchor=\"middle\" x=\"1212.5\" y=\"-142.3\">max_pooling1d_1: MaxPooling1D</text>\n<polyline fill=\"none\" points=\"1102,-134.5 1323,-134.5 \" stroke=\"#000000\"/>\n<text fill=\"#000000\" font-family=\"Times,serif\" font-size=\"14.00\" text-anchor=\"middle\" x=\"1155\" y=\"-119.3\">input:</text>\n<polyline fill=\"none\" points=\"1208,-111.5 1208,-134.5 \" stroke=\"#000000\"/>\n<text fill=\"#000000\" font-family=\"Times,serif\" font-size=\"14.00\" text-anchor=\"middle\" x=\"1265.5\" y=\"-119.3\">output:</text>\n<polyline fill=\"none\" points=\"1102,-111.5 1323,-111.5 \" stroke=\"#000000\"/>\n<text fill=\"#000000\" font-family=\"Times,serif\" font-size=\"14.00\" text-anchor=\"middle\" x=\"1157\" y=\"-96.3\">(None, 6, 1)</text>\n<polyline fill=\"none\" points=\"1212,-88.5 1212,-111.5 \" stroke=\"#000000\"/>\n<text fill=\"#000000\" font-family=\"Times,serif\" font-size=\"14.00\" text-anchor=\"middle\" x=\"1267.5\" y=\"-96.3\">(None, 6, 1)</text>\n</g>\n<!-- 140408460356128&#45;&gt;140408460089944 -->\n<g class=\"edge\" id=\"edge5\">\n<title>140408460356128-&gt;140408460089944</title>\n<path d=\"M1066.2788,-123C1074.5651,-123 1083.0632,-123 1091.591,-123\" fill=\"none\" stroke=\"#000000\"/>\n<polygon fill=\"#000000\" points=\"1091.6046,-126.5001 1101.6046,-123 1091.6046,-119.5001 1091.6046,-126.5001\" stroke=\"#000000\"/>\n</g>\n<!-- 140408460501960 -->\n<g class=\"node\" id=\"node7\">\n<title>140408460501960</title>\n<polygon fill=\"none\" points=\"1359,-88.5 1359,-157.5 1518,-157.5 1518,-88.5 1359,-88.5\" stroke=\"#000000\"/>\n<text fill=\"#000000\" font-family=\"Times,serif\" font-size=\"14.00\" text-anchor=\"middle\" x=\"1438.5\" y=\"-142.3\">flatten_1: Flatten</text>\n<polyline fill=\"none\" points=\"1359,-134.5 1518,-134.5 \" stroke=\"#000000\"/>\n<text fill=\"#000000\" font-family=\"Times,serif\" font-size=\"14.00\" text-anchor=\"middle\" x=\"1396.5\" y=\"-119.3\">input:</text>\n<polyline fill=\"none\" points=\"1434,-111.5 1434,-134.5 \" stroke=\"#000000\"/>\n<text fill=\"#000000\" font-family=\"Times,serif\" font-size=\"14.00\" text-anchor=\"middle\" x=\"1476\" y=\"-119.3\">output:</text>\n<polyline fill=\"none\" points=\"1359,-111.5 1518,-111.5 \" stroke=\"#000000\"/>\n<text fill=\"#000000\" font-family=\"Times,serif\" font-size=\"14.00\" text-anchor=\"middle\" x=\"1402.5\" y=\"-96.3\">(None, 6, 1)</text>\n<polyline fill=\"none\" points=\"1446,-88.5 1446,-111.5 \" stroke=\"#000000\"/>\n<text fill=\"#000000\" font-family=\"Times,serif\" font-size=\"14.00\" text-anchor=\"middle\" x=\"1482\" y=\"-96.3\">(None, 6)</text>\n</g>\n<!-- 140408460089944&#45;&gt;140408460501960 -->\n<g class=\"edge\" id=\"edge6\">\n<title>140408460089944-&gt;140408460501960</title>\n<path d=\"M1323.1828,-123C1331.7699,-123 1340.3749,-123 1348.7993,-123\" fill=\"none\" stroke=\"#000000\"/>\n<polygon fill=\"#000000\" points=\"1348.9724,-126.5001 1358.9723,-123 1348.9723,-119.5001 1348.9724,-126.5001\" stroke=\"#000000\"/>\n</g>\n<!-- 140408460321456 -->\n<g class=\"node\" id=\"node9\">\n<title>140408460321456</title>\n<polygon fill=\"none\" points=\"1554,-44.5 1554,-113.5 1770,-113.5 1770,-44.5 1554,-44.5\" stroke=\"#000000\"/>\n<text fill=\"#000000\" font-family=\"Times,serif\" font-size=\"14.00\" text-anchor=\"middle\" x=\"1662\" y=\"-98.3\">concatenate: Concatenate</text>\n<polyline fill=\"none\" points=\"1554,-90.5 1770,-90.5 \" stroke=\"#000000\"/>\n<text fill=\"#000000\" font-family=\"Times,serif\" font-size=\"14.00\" text-anchor=\"middle\" x=\"1606\" y=\"-75.3\">input:</text>\n<polyline fill=\"none\" points=\"1658,-67.5 1658,-90.5 \" stroke=\"#000000\"/>\n<text fill=\"#000000\" font-family=\"Times,serif\" font-size=\"14.00\" text-anchor=\"middle\" x=\"1714\" y=\"-75.3\">output:</text>\n<polyline fill=\"none\" points=\"1554,-67.5 1770,-67.5 \" stroke=\"#000000\"/>\n<text fill=\"#000000\" font-family=\"Times,serif\" font-size=\"14.00\" text-anchor=\"middle\" x=\"1626\" y=\"-52.3\">[(None, 6), (None, 1)]</text>\n<polyline fill=\"none\" points=\"1698,-44.5 1698,-67.5 \" stroke=\"#000000\"/>\n<text fill=\"#000000\" font-family=\"Times,serif\" font-size=\"14.00\" text-anchor=\"middle\" x=\"1734\" y=\"-52.3\">(None, 7)</text>\n</g>\n<!-- 140408460501960&#45;&gt;140408460321456 -->\n<g class=\"edge\" id=\"edge7\">\n<title>140408460501960-&gt;140408460321456</title>\n<path d=\"M1518.2421,-107.3013C1526.6218,-105.6516 1535.2638,-103.9503 1543.9567,-102.2389\" fill=\"none\" stroke=\"#000000\"/>\n<polygon fill=\"#000000\" points=\"1544.6462,-105.6705 1553.7817,-100.3047 1543.294,-98.8023 1544.6462,-105.6705\" stroke=\"#000000\"/>\n</g>\n<!-- 140408460501064 -->\n<g class=\"node\" id=\"node8\">\n<title>140408460501064</title>\n<polygon fill=\"none\" points=\"1366.5,-.5 1366.5,-69.5 1510.5,-69.5 1510.5,-.5 1366.5,-.5\" stroke=\"#000000\"/>\n<text fill=\"#000000\" font-family=\"Times,serif\" font-size=\"14.00\" text-anchor=\"middle\" x=\"1438.5\" y=\"-54.3\">horizon: InputLayer</text>\n<polyline fill=\"none\" points=\"1366.5,-46.5 1510.5,-46.5 \" stroke=\"#000000\"/>\n<text fill=\"#000000\" font-family=\"Times,serif\" font-size=\"14.00\" text-anchor=\"middle\" x=\"1400.5\" y=\"-31.3\">input:</text>\n<polyline fill=\"none\" points=\"1434.5,-23.5 1434.5,-46.5 \" stroke=\"#000000\"/>\n<text fill=\"#000000\" font-family=\"Times,serif\" font-size=\"14.00\" text-anchor=\"middle\" x=\"1472.5\" y=\"-31.3\">output:</text>\n<polyline fill=\"none\" points=\"1366.5,-23.5 1510.5,-23.5 \" stroke=\"#000000\"/>\n<text fill=\"#000000\" font-family=\"Times,serif\" font-size=\"14.00\" text-anchor=\"middle\" x=\"1402.5\" y=\"-8.3\">(None, 1)</text>\n<polyline fill=\"none\" points=\"1438.5,-.5 1438.5,-23.5 \" stroke=\"#000000\"/>\n<text fill=\"#000000\" font-family=\"Times,serif\" font-size=\"14.00\" text-anchor=\"middle\" x=\"1474.5\" y=\"-8.3\">(None, 1)</text>\n</g>\n<!-- 140408460501064&#45;&gt;140408460321456 -->\n<g class=\"edge\" id=\"edge8\">\n<title>140408460501064-&gt;140408460321456</title>\n<path d=\"M1510.7554,-49.2248C1521.4087,-51.3221 1532.6115,-53.5276 1543.9011,-55.7501\" fill=\"none\" stroke=\"#000000\"/>\n<polygon fill=\"#000000\" points=\"1543.3451,-59.2078 1553.8329,-57.7054 1544.6973,-52.3396 1543.3451,-59.2078\" stroke=\"#000000\"/>\n</g>\n<!-- 140408459972336 -->\n<g class=\"node\" id=\"node10\">\n<title>140408459972336</title>\n<polygon fill=\"none\" points=\"1806,-44.5 1806,-113.5 1950,-113.5 1950,-44.5 1806,-44.5\" stroke=\"#000000\"/>\n<text fill=\"#000000\" font-family=\"Times,serif\" font-size=\"14.00\" text-anchor=\"middle\" x=\"1878\" y=\"-98.3\">dense_0: Dense</text>\n<polyline fill=\"none\" points=\"1806,-90.5 1950,-90.5 \" stroke=\"#000000\"/>\n<text fill=\"#000000\" font-family=\"Times,serif\" font-size=\"14.00\" text-anchor=\"middle\" x=\"1840\" y=\"-75.3\">input:</text>\n<polyline fill=\"none\" points=\"1874,-67.5 1874,-90.5 \" stroke=\"#000000\"/>\n<text fill=\"#000000\" font-family=\"Times,serif\" font-size=\"14.00\" text-anchor=\"middle\" x=\"1912\" y=\"-75.3\">output:</text>\n<polyline fill=\"none\" points=\"1806,-67.5 1950,-67.5 \" stroke=\"#000000\"/>\n<text fill=\"#000000\" font-family=\"Times,serif\" font-size=\"14.00\" text-anchor=\"middle\" x=\"1842\" y=\"-52.3\">(None, 7)</text>\n<polyline fill=\"none\" points=\"1878,-44.5 1878,-67.5 \" stroke=\"#000000\"/>\n<text fill=\"#000000\" font-family=\"Times,serif\" font-size=\"14.00\" text-anchor=\"middle\" x=\"1914\" y=\"-52.3\">(None, 8)</text>\n</g>\n<!-- 140408460321456&#45;&gt;140408459972336 -->\n<g class=\"edge\" id=\"edge9\">\n<title>140408460321456-&gt;140408459972336</title>\n<path d=\"M1770.3164,-79C1778.8476,-79 1787.3761,-79 1795.6891,-79\" fill=\"none\" stroke=\"#000000\"/>\n<polygon fill=\"#000000\" points=\"1795.708,-82.5001 1805.7079,-79 1795.7079,-75.5001 1795.708,-82.5001\" stroke=\"#000000\"/>\n</g>\n<!-- 140408459478072 -->\n<g class=\"node\" id=\"node11\">\n<title>140408459478072</title>\n<polygon fill=\"none\" points=\"1986,-44.5 1986,-113.5 2130,-113.5 2130,-44.5 1986,-44.5\" stroke=\"#000000\"/>\n<text fill=\"#000000\" font-family=\"Times,serif\" font-size=\"14.00\" text-anchor=\"middle\" x=\"2058\" y=\"-98.3\">dense_1: Dense</text>\n<polyline fill=\"none\" points=\"1986,-90.5 2130,-90.5 \" stroke=\"#000000\"/>\n<text fill=\"#000000\" font-family=\"Times,serif\" font-size=\"14.00\" text-anchor=\"middle\" x=\"2020\" y=\"-75.3\">input:</text>\n<polyline fill=\"none\" points=\"2054,-67.5 2054,-90.5 \" stroke=\"#000000\"/>\n<text fill=\"#000000\" font-family=\"Times,serif\" font-size=\"14.00\" text-anchor=\"middle\" x=\"2092\" y=\"-75.3\">output:</text>\n<polyline fill=\"none\" points=\"1986,-67.5 2130,-67.5 \" stroke=\"#000000\"/>\n<text fill=\"#000000\" font-family=\"Times,serif\" font-size=\"14.00\" text-anchor=\"middle\" x=\"2022\" y=\"-52.3\">(None, 8)</text>\n<polyline fill=\"none\" points=\"2058,-44.5 2058,-67.5 \" stroke=\"#000000\"/>\n<text fill=\"#000000\" font-family=\"Times,serif\" font-size=\"14.00\" text-anchor=\"middle\" x=\"2094\" y=\"-52.3\">(None, 8)</text>\n</g>\n<!-- 140408459972336&#45;&gt;140408459478072 -->\n<g class=\"edge\" id=\"edge10\">\n<title>140408459972336-&gt;140408459478072</title>\n<path d=\"M1950.1757,-79C1958.5199,-79 1967.0771,-79 1975.5445,-79\" fill=\"none\" stroke=\"#000000\"/>\n<polygon fill=\"#000000\" points=\"1975.8081,-82.5001 1985.8081,-79 1975.808,-75.5001 1975.8081,-82.5001\" stroke=\"#000000\"/>\n</g>\n<!-- 140408460322576 -->\n<g class=\"node\" id=\"node12\">\n<title>140408460322576</title>\n<polygon fill=\"none\" points=\"2166,-44.5 2166,-113.5 2315,-113.5 2315,-44.5 2166,-44.5\" stroke=\"#000000\"/>\n<text fill=\"#000000\" font-family=\"Times,serif\" font-size=\"14.00\" text-anchor=\"middle\" x=\"2240.5\" y=\"-98.3\">fore_generation: Dense</text>\n<polyline fill=\"none\" points=\"2166,-90.5 2315,-90.5 \" stroke=\"#000000\"/>\n<text fill=\"#000000\" font-family=\"Times,serif\" font-size=\"14.00\" text-anchor=\"middle\" x=\"2201\" y=\"-75.3\">input:</text>\n<polyline fill=\"none\" points=\"2236,-67.5 2236,-90.5 \" stroke=\"#000000\"/>\n<text fill=\"#000000\" font-family=\"Times,serif\" font-size=\"14.00\" text-anchor=\"middle\" x=\"2275.5\" y=\"-75.3\">output:</text>\n<polyline fill=\"none\" points=\"2166,-67.5 2315,-67.5 \" stroke=\"#000000\"/>\n<text fill=\"#000000\" font-family=\"Times,serif\" font-size=\"14.00\" text-anchor=\"middle\" x=\"2203\" y=\"-52.3\">(None, 8)</text>\n<polyline fill=\"none\" points=\"2240,-44.5 2240,-67.5 \" stroke=\"#000000\"/>\n<text fill=\"#000000\" font-family=\"Times,serif\" font-size=\"14.00\" text-anchor=\"middle\" x=\"2277.5\" y=\"-52.3\">(None, 2)</text>\n</g>\n<!-- 140408459478072&#45;&gt;140408460322576 -->\n<g class=\"edge\" id=\"edge11\">\n<title>140408459478072-&gt;140408460322576</title>\n<path d=\"M2130.1288,-79C2138.5789,-79 2147.2581,-79 2155.8585,-79\" fill=\"none\" stroke=\"#000000\"/>\n<polygon fill=\"#000000\" points=\"2155.9001,-82.5001 2165.9001,-79 2155.9,-75.5001 2155.9001,-82.5001\" stroke=\"#000000\"/>\n</g>\n</g>\n</svg>"
          },
          "metadata": {
            "tags": []
          },
          "execution_count": 26
        }
      ]
    },
    {
      "cell_type": "markdown",
      "metadata": {
        "id": "LAyAcdZZBKeQ",
        "colab_type": "text"
      },
      "source": [
        "### Connect feature pipelines to the neural network"
      ]
    },
    {
      "cell_type": "code",
      "metadata": {
        "id": "chARUG6WBKeR",
        "colab_type": "code",
        "colab": {}
      },
      "source": [
        "from timeserio.pipeline import MultiPipeline"
      ],
      "execution_count": 0,
      "outputs": []
    },
    {
      "cell_type": "code",
      "metadata": {
        "id": "7fZpcQstBKeV",
        "colab_type": "code",
        "colab": {}
      },
      "source": [
        "multipipeline = MultiPipeline({\n",
        "    \"sequence\": seq_pipeline,\n",
        "    \"horizon\": fc_horizon_pipeline,\n",
        "    \"target\": target_pipeline\n",
        "})"
      ],
      "execution_count": 0,
      "outputs": []
    },
    {
      "cell_type": "code",
      "metadata": {
        "id": "6oAq1WYuBKea",
        "colab_type": "code",
        "colab": {}
      },
      "source": [
        "from timeserio.multimodel import MultiModel\n",
        "\n",
        "manifold = {\n",
        "    # keras_model_name: (input_pipes, output_pipes)\n",
        "    \"encoder\": (\"sequence\", None),\n",
        "    \"forecast\": ([\"sequence\", \"horizon\"], \"target\")\n",
        "}\n",
        "\n",
        "multimodel = MultiModel(\n",
        "    multinetwork=multinetwork,\n",
        "    multipipeline=multipipeline,\n",
        "    manifold=manifold\n",
        ")"
      ],
      "execution_count": 0,
      "outputs": []
    },
    {
      "cell_type": "markdown",
      "metadata": {
        "id": "XMT83C6BBKed",
        "colab_type": "text"
      },
      "source": [
        "### Fit model from the batch generator\n",
        "\n",
        "`multimodel.fit_generator()` will apply pipelines correctly to the training batch generator, and, if `validation_data` is provided in the form of another (pandas) batch generator,\n",
        "evaluate the relevant metrics. In addition, feature extraction for each batch will benefit from the `workers` parallelism."
      ]
    },
    {
      "cell_type": "code",
      "metadata": {
        "id": "L6cuAZXADihe",
        "colab_type": "code",
        "outputId": "76767281-9b3d-40b0-8bcd-5ed58ce35dc5",
        "colab": {
          "base_uri": "https://localhost:8080/",
          "height": 36
        }
      },
      "source": [
        "!pip install kerashistoryplot"
      ],
      "execution_count": 0,
      "outputs": [
        {
          "output_type": "stream",
          "text": [
            "Requirement already satisfied: kerashistoryplot in /usr/local/lib/python3.6/dist-packages (0.0.10)\n"
          ],
          "name": "stdout"
        }
      ]
    },
    {
      "cell_type": "markdown",
      "metadata": {
        "id": "aVwK7Epz-oMR",
        "colab_type": "text"
      },
      "source": [
        "### Rolling Generator"
      ]
    },
    {
      "cell_type": "code",
      "metadata": {
        "id": "Nn6s34xY-nD0",
        "colab_type": "code",
        "colab": {}
      },
      "source": [
        ""
      ],
      "execution_count": 0,
      "outputs": []
    },
    {
      "cell_type": "code",
      "metadata": {
        "id": "zdf1oiTgGV1q",
        "colab_type": "code",
        "colab": {}
      },
      "source": [
        "import numpy as np\n",
        "import pandas as pd\n",
        "import pytest\n",
        "\n",
        "import timeserio.ini as ini\n",
        "from timeserio.data.mock import mock_fit_data, mock_raw_data\n",
        "from timeserio.batches.single.sequence import (\n",
        "    SamplingForecastBatchGenerator, SequenceForecastBatchGenerator, ForecastBatchGeneratorBase, BatchGenerator\n",
        ")\n",
        "from numpy.testing import assert_array_equal"
      ],
      "execution_count": 0,
      "outputs": []
    },
    {
      "cell_type": "code",
      "metadata": {
        "id": "Aypt_3kbJggA",
        "colab_type": "code",
        "colab": {}
      },
      "source": [
        "import abc\n",
        "import functools\n",
        "from typing import Union\n",
        "\n",
        "import numpy as np\n",
        "\n",
        "from  timeserio import ini\n",
        "from timeserio.preprocessing.pandas import array_to_dataframe\n",
        "from timeserio.batches.utils import ceiling_division"
      ],
      "execution_count": 0,
      "outputs": []
    },
    {
      "cell_type": "code",
      "metadata": {
        "id": "ZMyaMEkjiJZ0",
        "colab_type": "code",
        "colab": {}
      },
      "source": [
        "class RollingSequenceBatchGenerator(BatchGenerator):\n",
        "   \"\"\"Generate batches of sequence forecast examples.\n",
        "   Assume single continuous timeseries.\n",
        "   \"\"\"\n",
        "   def __init__(\n",
        "       self,\n",
        "       *,\n",
        "       df,\n",
        "       batch_size: Union[None, int] = None,\n",
        " \n",
        "       lookback_steps=2, # The steps of look back (history)\n",
        "       lookback_columns=[ini.Columns.datetime, ini.Columns.target],\n",
        "       lookback_prefix='back_',\n",
        "       \n",
        "       forecast_steps=1,  # The steps of forecasting\n",
        "       forecast_columns=[ini.Columns.target],\n",
        "       forecast_prefix='fore_',\n",
        "              \n",
        "       id_column=None,\n",
        "       last_step_columns=[ini.Columns.datetime],\n",
        "       last_step_prefix='end_of_',\n",
        "       dt_column=ini.Columns.datetime,\n",
        "       start_time=None\n",
        "   ):\n",
        "       self.df = df\n",
        "       self.batch_size = batch_size\n",
        "       self.lookback_steps = lookback_steps\n",
        "       self.lookback_columns = lookback_columns\n",
        "       self.lookback_prefix = lookback_prefix\n",
        " \n",
        "       self.forecast_steps = forecast_steps\n",
        "       self.forecast_columns = forecast_columns\n",
        "       self.forecast_prefix = forecast_prefix\n",
        "              \n",
        "       self.last_step_columns = last_step_columns\n",
        "       self.last_step_prefix = last_step_prefix\n",
        " \n",
        "       if lookback_columns:\n",
        "           if not lookback_prefix:\n",
        "               raise ValueError('`lookback_prefix` must be non-empty')\n",
        " \n",
        "       if last_step_columns:\n",
        "           if not (set(last_step_columns) <= set(lookback_columns)):\n",
        "               raise ValueError('`last_step_columns` must be a subset of '\n",
        "                                '`lookback_columns`')\n",
        "       if not forecast_columns:\n",
        "           raise ValueError('`forecast_columns` must be non-empty')\n",
        " \n",
        "       if not (set(forecast_columns) <= set(lookback_columns)):\n",
        "           raise ValueError('`forecast_columns` must be a subset of '\n",
        "                                '`lookback_columns`')\n",
        "       if not last_step_prefix:\n",
        "           raise ValueError('`last_step_prefix` must be non-empty')\n",
        "      \n",
        "       if last_step_prefix == lookback_prefix:\n",
        "            raise ValueError('`last_step_prefix` must be '\n",
        "                            'different from `lookback_prefix`')\n",
        "\n",
        "       self.dt_column = dt_column\n",
        "       self.start_time = start_time\n",
        " \n",
        "   @property\n",
        "   def num_points(self):\n",
        "       \"\"\"Return number of rows in original timeseries.\"\"\"\n",
        "       return len(self.df)\n",
        " \n",
        "   @property  # type: ignore\n",
        "   @functools.lru_cache(None)\n",
        "   def first_index(self):\n",
        "       if self.start_time is None:\n",
        "           return 0\n",
        "       times = self.df[self.dt_column].dt.time.values\n",
        "       first_idx = np.argmax(times == self.start_time)\n",
        "       if not first_idx and times[0] != self.start_time:\n",
        "           raise ValueError(f'Start time {self.start_time} not found in df')\n",
        "       return first_idx\n",
        " \n",
        "   @property\n",
        "   def num_examples(self):\n",
        "       \"\"\"Return number of examples to yield in one epoch.\"\"\"\n",
        "       return max(0,self.num_points-self.lookback_steps - self.forecast_steps -self.first_index+1)\n",
        "      \n",
        "   @property\n",
        "   def _eff_batch_size(self):\n",
        "       return self.batch_size or self.num_examples\n",
        " \n",
        "   def __len__(self):\n",
        "       return ceiling_division(self.num_examples, self._eff_batch_size)\n",
        " \n",
        "   def batch_seq_start_indices(self, batch_idx):\n",
        "       start_indices = np.arange(\n",
        "           self._eff_batch_size * batch_idx,\n",
        "           min(self._eff_batch_size * (batch_idx + 1), self.num_examples)\n",
        "       )\n",
        "       return self.first_index + start_indices\n",
        " \n",
        "   def _get_lookback_values(self, column, start_indices):\n",
        "       values = self.df[column].values\n",
        "       cols = [\n",
        "           values[start_indices + s] for s in range(self.lookback_steps)\n",
        "       ]\n",
        "       seq_values = np.vstack(cols).T\n",
        "       return seq_values\n",
        "      \n",
        "   def _get_forecast_values(self, column, start_indices):\n",
        "       values = self.df[column].values\n",
        "       cols = [\n",
        "           values[start_indices + self.lookback_steps + s ] for s in range(self.forecast_steps)\n",
        "       ]\n",
        "       seq_values = np.vstack(cols).T\n",
        "       return seq_values\n",
        " \n",
        "   def __getitem__(self, batch_idx):\n",
        "       if not len(self):\n",
        "           raise IndexError('Batch index out of range: Empty batch generator')\n",
        "       batch_idx = batch_idx % len(self)\n",
        "       start_indices = self.batch_seq_start_indices(batch_idx)\n",
        "       batch_size = len(start_indices)\n",
        "       end_indices = start_indices + self.lookback_steps\n",
        "       fc_indices = end_indices\n",
        "       cols = []\n",
        "       lookback_columns = self.lookback_columns or []\n",
        "       forecast_columns = self.forecast_columns or []\n",
        "       last_step_columns = self.last_step_columns or []\n",
        " \n",
        "       cols = cols + lookback_columns\n",
        "       batch_df = self.df[cols].iloc[fc_indices].copy()\n",
        "       batch_df.reset_index(drop=True, inplace=True)\n",
        "       for column in lookback_columns:\n",
        "           seq_values = self._get_lookback_values(\n",
        "               column, start_indices\n",
        "           )\n",
        "           seq_col_name = self.lookback_prefix + column\n",
        "           batch_df = array_to_dataframe(\n",
        "               seq_values,\n",
        "               column=seq_col_name,\n",
        "               df=batch_df\n",
        "           )\n",
        "\n",
        "       #if forecast_steps>1: \n",
        "       for column in forecast_columns:\n",
        "           seq_values = self._get_forecast_values(\n",
        "               column, start_indices\n",
        "           )\n",
        "           seq_col_name = self.forecast_prefix + column\n",
        "           batch_df = array_to_dataframe(\n",
        "               seq_values,\n",
        "               column=seq_col_name,\n",
        "               df=batch_df\n",
        "           )\n",
        "\n",
        "       for column in last_step_columns:\n",
        "           seq_col_name = self.lookback_prefix + column\n",
        "           last_step_col_name = self.last_step_prefix + column\n",
        "           batch_df[last_step_col_name] = batch_df[seq_col_name].iloc[:, -1]\n",
        " \n",
        "       return batch_df\n"
      ],
      "execution_count": 0,
      "outputs": []
    },
    {
      "cell_type": "code",
      "metadata": {
        "id": "_oqEcw8vjY87",
        "colab_type": "code",
        "colab": {}
      },
      "source": [
        "\"\"\"Generate batches from pandas DataFrame.\"\"\"\n",
        "from typing import Union\n",
        "\n",
        "from timeserio.batches.chunked.base import ChunkedBatchGenerator\n",
        "from timeserio import ini\n",
        "\n",
        "single_sequence= RollingSequenceBatchGenerator"
      ],
      "execution_count": 0,
      "outputs": []
    },
    {
      "cell_type": "code",
      "metadata": {
        "id": "6zVbcbD5bi_D",
        "colab_type": "code",
        "colab": {}
      },
      "source": [
        "class RollingForecastBatchGeneratorChunked(ChunkedBatchGenerator):\n",
        "    def __init__(\n",
        "        self,\n",
        "        *,\n",
        "        df,\n",
        "        batch_size: Union[None, int] = None,\n",
        "\n",
        "        lookback_steps=2, # The steps of look back (history)\n",
        "        lookback_columns=[ini.Columns.datetime, ini.Columns.target],\n",
        "        lookback_prefix='back_',\n",
        "        \n",
        "        forecast_steps=1,  # The steps of forecasting\n",
        "        forecast_columns=[ini.Columns.target],\n",
        "        forecast_prefix='fore_',\n",
        "                \n",
        "        id_column=None,\n",
        "        last_step_columns=[ini.Columns.datetime],\n",
        "        last_step_prefix='end_of_',\n",
        "        dt_column=ini.Columns.datetime,\n",
        "        start_time=None,\n",
        "\n",
        "        batch_aggregator=1\n",
        "    ):\n",
        "        super().__init__()\n",
        "\n",
        "        self.df = df\n",
        "        self.batch_size = batch_size\n",
        "        self.lookback_steps = lookback_steps\n",
        "        self.lookback_columns = lookback_columns\n",
        "        self.lookback_prefix = lookback_prefix\n",
        "  \n",
        "        self.forecast_steps = forecast_steps\n",
        "        self.forecast_columns = forecast_columns\n",
        "        self.forecast_prefix = forecast_prefix\n",
        "                \n",
        "        self.last_step_columns = last_step_columns\n",
        "        self.last_step_prefix = last_step_prefix\n",
        "  \n",
        "        if lookback_columns:\n",
        "            if not lookback_prefix:\n",
        "                raise ValueError('`lookback_prefix` must be non-empty')\n",
        "  \n",
        "        if last_step_columns:\n",
        "            if not (set(last_step_columns) <= set(lookback_columns)):\n",
        "                raise ValueError('`last_step_columns` must be a subset of '\n",
        "                                  '`lookback_columns`')\n",
        "        if not forecast_columns:\n",
        "            raise ValueError('`forecast_columns` must be non-empty')\n",
        "  \n",
        "        if not (set(forecast_columns) <= set(lookback_columns)):\n",
        "            raise ValueError('`forecast_columns` must be a subset of '\n",
        "                                  '`lookback_columns`')\n",
        "        if not last_step_prefix:\n",
        "            raise ValueError('`last_step_prefix` must be non-empty')\n",
        "        \n",
        "        if last_step_prefix == lookback_prefix:\n",
        "              raise ValueError('`last_step_prefix` must be '\n",
        "                              'different from `lookback_prefix`')\n",
        "\n",
        "        self.id_column = id_column\n",
        "        self.dt_column = dt_column\n",
        "        self.start_time = start_time\n",
        "       \n",
        "        self.subgens = []  # type: ignore\n",
        "        self.batch_aggregator = batch_aggregator\n",
        "        self.unique_ids = self.df[self.id_column].unique()\n",
        "\n",
        "    @property\n",
        "    def chunks(self):\n",
        "        return self.unique_ids\n",
        "\n",
        "    def make_subgen(self, chunk):\n",
        "        cust_id = chunk\n",
        "        subgen = single_sequence(\n",
        "            df=self.df[self.df[self.id_column] == cust_id],\n",
        "            batch_size=self.batch_size,\n",
        "            id_column=self.id_column,\n",
        "            \n",
        "            last_step_columns=self.last_step_columns,\n",
        "            last_step_prefix=self.last_step_prefix,\n",
        "            \n",
        "            dt_column=self.dt_column,\n",
        "            start_time=self.start_time,\n",
        " \n",
        "            lookback_steps=self.lookback_steps, # The steps of look back (history)\n",
        "            lookback_columns=self.lookback_columns,\n",
        "            lookback_prefix=self.lookback_prefix,\n",
        "            \n",
        "            forecast_steps=self.forecast_steps,  # The steps of forecasting\n",
        "            forecast_columns=self.forecast_columns,\n",
        "            forecast_prefix=self.forecast_prefix\n",
        "        )\n",
        "        return subgen"
      ],
      "execution_count": 0,
      "outputs": []
    },
    {
      "cell_type": "markdown",
      "metadata": {
        "id": "WUROxEiPCMvG",
        "colab_type": "text"
      },
      "source": [
        "### Rolling Generator declare"
      ]
    },
    {
      "cell_type": "code",
      "metadata": {
        "id": "99muFhJ0-8ju",
        "colab_type": "code",
        "colab": {}
      },
      "source": [
        "rolling_chunked=RollingForecastBatchGeneratorChunked(\n",
        "    df=df_train,id_column=\"country\",lookback_steps=6,forecast_steps=2,lookback_columns=[\"generation\", \"Time_step\"],\n",
        "    forecast_columns=[\"generation\"],\n",
        "     last_step_columns=[\"Time_step\"] ,batch_size=2**15,\n",
        "     )"
      ],
      "execution_count": 0,
      "outputs": []
    },
    {
      "cell_type": "code",
      "metadata": {
        "id": "HSsEo93RAc5X",
        "colab_type": "code",
        "outputId": "5bc8be51-dee4-4c5f-d5ad-2d76701c4329",
        "colab": {
          "base_uri": "https://localhost:8080/",
          "height": 36
        }
      },
      "source": [
        "rolling_chunked.chunks"
      ],
      "execution_count": 0,
      "outputs": [
        {
          "output_type": "execute_result",
          "data": {
            "text/plain": [
              "array(['UK', 'ES'], dtype=object)"
            ]
          },
          "metadata": {
            "tags": []
          },
          "execution_count": 37
        }
      ]
    },
    {
      "cell_type": "code",
      "metadata": {
        "id": "joeUeh7sAgm9",
        "colab_type": "code",
        "outputId": "91d39c6f-8e64-4db2-b12f-d2838a1f9594",
        "colab": {
          "base_uri": "https://localhost:8080/",
          "height": 466
        }
      },
      "source": [
        "sub0=rolling_chunked.make_subgen('UK')\n",
        "sub0[0]"
      ],
      "execution_count": 0,
      "outputs": [
        {
          "output_type": "execute_result",
          "data": {
            "text/html": [
              "<div>\n",
              "<style scoped>\n",
              "    .dataframe tbody tr th:only-of-type {\n",
              "        vertical-align: middle;\n",
              "    }\n",
              "\n",
              "    .dataframe tbody tr th {\n",
              "        vertical-align: top;\n",
              "    }\n",
              "\n",
              "    .dataframe thead tr th {\n",
              "        text-align: left;\n",
              "    }\n",
              "</style>\n",
              "<table border=\"1\" class=\"dataframe\">\n",
              "  <thead>\n",
              "    <tr>\n",
              "      <th></th>\n",
              "      <th>generation</th>\n",
              "      <th>Time_step</th>\n",
              "      <th colspan=\"6\" halign=\"left\">back_generation</th>\n",
              "      <th colspan=\"6\" halign=\"left\">back_Time_step</th>\n",
              "      <th colspan=\"2\" halign=\"left\">fore_generation</th>\n",
              "      <th>end_of_Time_step</th>\n",
              "    </tr>\n",
              "    <tr>\n",
              "      <th></th>\n",
              "      <th></th>\n",
              "      <th></th>\n",
              "      <th>0</th>\n",
              "      <th>1</th>\n",
              "      <th>2</th>\n",
              "      <th>3</th>\n",
              "      <th>4</th>\n",
              "      <th>5</th>\n",
              "      <th>0</th>\n",
              "      <th>1</th>\n",
              "      <th>2</th>\n",
              "      <th>3</th>\n",
              "      <th>4</th>\n",
              "      <th>5</th>\n",
              "      <th>0</th>\n",
              "      <th>1</th>\n",
              "      <th></th>\n",
              "    </tr>\n",
              "  </thead>\n",
              "  <tbody>\n",
              "    <tr>\n",
              "      <th>0</th>\n",
              "      <td>0.000000</td>\n",
              "      <td>7</td>\n",
              "      <td>0.000000</td>\n",
              "      <td>0.000000</td>\n",
              "      <td>0.000000</td>\n",
              "      <td>0.000000</td>\n",
              "      <td>0.000000</td>\n",
              "      <td>0.000000</td>\n",
              "      <td>1</td>\n",
              "      <td>2</td>\n",
              "      <td>3</td>\n",
              "      <td>4</td>\n",
              "      <td>5</td>\n",
              "      <td>6</td>\n",
              "      <td>0.000000</td>\n",
              "      <td>0.000000</td>\n",
              "      <td>6</td>\n",
              "    </tr>\n",
              "    <tr>\n",
              "      <th>1</th>\n",
              "      <td>0.000000</td>\n",
              "      <td>8</td>\n",
              "      <td>0.000000</td>\n",
              "      <td>0.000000</td>\n",
              "      <td>0.000000</td>\n",
              "      <td>0.000000</td>\n",
              "      <td>0.000000</td>\n",
              "      <td>0.000000</td>\n",
              "      <td>2</td>\n",
              "      <td>3</td>\n",
              "      <td>4</td>\n",
              "      <td>5</td>\n",
              "      <td>6</td>\n",
              "      <td>7</td>\n",
              "      <td>0.000000</td>\n",
              "      <td>0.000000</td>\n",
              "      <td>7</td>\n",
              "    </tr>\n",
              "    <tr>\n",
              "      <th>2</th>\n",
              "      <td>0.000000</td>\n",
              "      <td>9</td>\n",
              "      <td>0.000000</td>\n",
              "      <td>0.000000</td>\n",
              "      <td>0.000000</td>\n",
              "      <td>0.000000</td>\n",
              "      <td>0.000000</td>\n",
              "      <td>0.000000</td>\n",
              "      <td>3</td>\n",
              "      <td>4</td>\n",
              "      <td>5</td>\n",
              "      <td>6</td>\n",
              "      <td>7</td>\n",
              "      <td>8</td>\n",
              "      <td>0.000000</td>\n",
              "      <td>0.047485</td>\n",
              "      <td>8</td>\n",
              "    </tr>\n",
              "    <tr>\n",
              "      <th>3</th>\n",
              "      <td>0.047485</td>\n",
              "      <td>10</td>\n",
              "      <td>0.000000</td>\n",
              "      <td>0.000000</td>\n",
              "      <td>0.000000</td>\n",
              "      <td>0.000000</td>\n",
              "      <td>0.000000</td>\n",
              "      <td>0.000000</td>\n",
              "      <td>4</td>\n",
              "      <td>5</td>\n",
              "      <td>6</td>\n",
              "      <td>7</td>\n",
              "      <td>8</td>\n",
              "      <td>9</td>\n",
              "      <td>0.047485</td>\n",
              "      <td>0.109517</td>\n",
              "      <td>9</td>\n",
              "    </tr>\n",
              "    <tr>\n",
              "      <th>4</th>\n",
              "      <td>0.109517</td>\n",
              "      <td>11</td>\n",
              "      <td>0.000000</td>\n",
              "      <td>0.000000</td>\n",
              "      <td>0.000000</td>\n",
              "      <td>0.000000</td>\n",
              "      <td>0.000000</td>\n",
              "      <td>0.047485</td>\n",
              "      <td>5</td>\n",
              "      <td>6</td>\n",
              "      <td>7</td>\n",
              "      <td>8</td>\n",
              "      <td>9</td>\n",
              "      <td>10</td>\n",
              "      <td>0.109517</td>\n",
              "      <td>0.164216</td>\n",
              "      <td>10</td>\n",
              "    </tr>\n",
              "    <tr>\n",
              "      <th>...</th>\n",
              "      <td>...</td>\n",
              "      <td>...</td>\n",
              "      <td>...</td>\n",
              "      <td>...</td>\n",
              "      <td>...</td>\n",
              "      <td>...</td>\n",
              "      <td>...</td>\n",
              "      <td>...</td>\n",
              "      <td>...</td>\n",
              "      <td>...</td>\n",
              "      <td>...</td>\n",
              "      <td>...</td>\n",
              "      <td>...</td>\n",
              "      <td>...</td>\n",
              "      <td>...</td>\n",
              "      <td>...</td>\n",
              "      <td>...</td>\n",
              "    </tr>\n",
              "    <tr>\n",
              "      <th>32763</th>\n",
              "      <td>0.121928</td>\n",
              "      <td>32770</td>\n",
              "      <td>0.000000</td>\n",
              "      <td>0.000000</td>\n",
              "      <td>0.000000</td>\n",
              "      <td>0.000000</td>\n",
              "      <td>0.040072</td>\n",
              "      <td>0.085509</td>\n",
              "      <td>32764</td>\n",
              "      <td>32765</td>\n",
              "      <td>32766</td>\n",
              "      <td>32767</td>\n",
              "      <td>32768</td>\n",
              "      <td>32769</td>\n",
              "      <td>0.121928</td>\n",
              "      <td>0.147955</td>\n",
              "      <td>32769</td>\n",
              "    </tr>\n",
              "    <tr>\n",
              "      <th>32764</th>\n",
              "      <td>0.147955</td>\n",
              "      <td>32771</td>\n",
              "      <td>0.000000</td>\n",
              "      <td>0.000000</td>\n",
              "      <td>0.000000</td>\n",
              "      <td>0.040072</td>\n",
              "      <td>0.085509</td>\n",
              "      <td>0.121928</td>\n",
              "      <td>32765</td>\n",
              "      <td>32766</td>\n",
              "      <td>32767</td>\n",
              "      <td>32768</td>\n",
              "      <td>32769</td>\n",
              "      <td>32770</td>\n",
              "      <td>0.147955</td>\n",
              "      <td>0.163166</td>\n",
              "      <td>32770</td>\n",
              "    </tr>\n",
              "    <tr>\n",
              "      <th>32765</th>\n",
              "      <td>0.163166</td>\n",
              "      <td>32772</td>\n",
              "      <td>0.000000</td>\n",
              "      <td>0.000000</td>\n",
              "      <td>0.040072</td>\n",
              "      <td>0.085509</td>\n",
              "      <td>0.121928</td>\n",
              "      <td>0.147955</td>\n",
              "      <td>32766</td>\n",
              "      <td>32767</td>\n",
              "      <td>32768</td>\n",
              "      <td>32769</td>\n",
              "      <td>32770</td>\n",
              "      <td>32771</td>\n",
              "      <td>0.163166</td>\n",
              "      <td>0.129599</td>\n",
              "      <td>32771</td>\n",
              "    </tr>\n",
              "    <tr>\n",
              "      <th>32766</th>\n",
              "      <td>0.129599</td>\n",
              "      <td>32773</td>\n",
              "      <td>0.000000</td>\n",
              "      <td>0.040072</td>\n",
              "      <td>0.085509</td>\n",
              "      <td>0.121928</td>\n",
              "      <td>0.147955</td>\n",
              "      <td>0.163166</td>\n",
              "      <td>32767</td>\n",
              "      <td>32768</td>\n",
              "      <td>32769</td>\n",
              "      <td>32770</td>\n",
              "      <td>32771</td>\n",
              "      <td>32772</td>\n",
              "      <td>0.129599</td>\n",
              "      <td>0.122734</td>\n",
              "      <td>32772</td>\n",
              "    </tr>\n",
              "    <tr>\n",
              "      <th>32767</th>\n",
              "      <td>0.122734</td>\n",
              "      <td>32774</td>\n",
              "      <td>0.040072</td>\n",
              "      <td>0.085509</td>\n",
              "      <td>0.121928</td>\n",
              "      <td>0.147955</td>\n",
              "      <td>0.163166</td>\n",
              "      <td>0.129599</td>\n",
              "      <td>32768</td>\n",
              "      <td>32769</td>\n",
              "      <td>32770</td>\n",
              "      <td>32771</td>\n",
              "      <td>32772</td>\n",
              "      <td>32773</td>\n",
              "      <td>0.122734</td>\n",
              "      <td>0.097022</td>\n",
              "      <td>32773</td>\n",
              "    </tr>\n",
              "  </tbody>\n",
              "</table>\n",
              "<p>32768 rows × 17 columns</p>\n",
              "</div>"
            ],
            "text/plain": [
              "      generation Time_step  ... fore_generation end_of_Time_step\n",
              "                            ...               1                 \n",
              "0       0.000000         7  ...        0.000000                6\n",
              "1       0.000000         8  ...        0.000000                7\n",
              "2       0.000000         9  ...        0.047485                8\n",
              "3       0.047485        10  ...        0.109517                9\n",
              "4       0.109517        11  ...        0.164216               10\n",
              "...          ...       ...  ...             ...              ...\n",
              "32763   0.121928     32770  ...        0.147955            32769\n",
              "32764   0.147955     32771  ...        0.163166            32770\n",
              "32765   0.163166     32772  ...        0.129599            32771\n",
              "32766   0.129599     32773  ...        0.122734            32772\n",
              "32767   0.122734     32774  ...        0.097022            32773\n",
              "\n",
              "[32768 rows x 17 columns]"
            ]
          },
          "metadata": {
            "tags": []
          },
          "execution_count": 38
        }
      ]
    },
    {
      "cell_type": "code",
      "metadata": {
        "id": "n49WMi0rBKee",
        "colab_type": "code",
        "outputId": "4322da9c-107a-4406-a38a-5d4879c23dcc",
        "colab": {
          "base_uri": "https://localhost:8080/",
          "height": 504
        }
      },
      "source": [
        "from kerashistoryplot.callbacks import PlotHistory\n",
        "#plot_callback = PlotHistory(figsize=(15, 3), n_cols=3, batches=False)\n",
        "\n",
        "multimodel.fit_generator(\n",
        "    rolling_chunked, model=\"forecast\", verbose=1, epochs=10,\n",
        "    reset_weights=True,\n",
        "    workers=4\n",
        "    #, callbacks=[plot_callback]\n",
        ")"
      ],
      "execution_count": 0,
      "outputs": [
        {
          "output_type": "stream",
          "text": [
            "WARNING:tensorflow:From /usr/local/lib/python3.6/dist-packages/keras/backend/tensorflow_backend.py:1033: The name tf.assign_add is deprecated. Please use tf.compat.v1.assign_add instead.\n",
            "\n",
            "WARNING:tensorflow:From /usr/local/lib/python3.6/dist-packages/keras/backend/tensorflow_backend.py:1020: The name tf.assign is deprecated. Please use tf.compat.v1.assign instead.\n",
            "\n",
            "Epoch 1/10\n",
            "16/16 [==============================] - 2s 113ms/step - loss: 0.0366 - mean_absolute_error: 0.1092\n",
            "Epoch 2/10\n",
            "16/16 [==============================] - 2s 101ms/step - loss: 0.0242 - mean_absolute_error: 0.1002\n",
            "Epoch 3/10\n",
            "16/16 [==============================] - 2s 97ms/step - loss: 0.0187 - mean_absolute_error: 0.0921\n",
            "Epoch 4/10\n",
            "16/16 [==============================] - 2s 102ms/step - loss: 0.0152 - mean_absolute_error: 0.0834\n",
            "Epoch 5/10\n",
            "16/16 [==============================] - 2s 99ms/step - loss: 0.0130 - mean_absolute_error: 0.0779\n",
            "Epoch 6/10\n",
            "16/16 [==============================] - 2s 104ms/step - loss: 0.0116 - mean_absolute_error: 0.0739\n",
            "Epoch 7/10\n",
            "16/16 [==============================] - 1s 92ms/step - loss: 0.0103 - mean_absolute_error: 0.0699\n",
            "Epoch 8/10\n",
            "16/16 [==============================] - 2s 100ms/step - loss: 0.0094 - mean_absolute_error: 0.0665\n",
            "Epoch 9/10\n",
            "16/16 [==============================] - 2s 106ms/step - loss: 0.0087 - mean_absolute_error: 0.0642\n",
            "Epoch 10/10\n",
            "16/16 [==============================] - 2s 101ms/step - loss: 0.0082 - mean_absolute_error: 0.0613\n"
          ],
          "name": "stdout"
        },
        {
          "output_type": "execute_result",
          "data": {
            "text/plain": [
              "<timeserio.keras.callbacks.HistoryLogger at 0x7fb35aa639b0>"
            ]
          },
          "metadata": {
            "tags": []
          },
          "execution_count": 39
        }
      ]
    },
    {
      "cell_type": "markdown",
      "metadata": {
        "id": "VfOTeLQ6BKej",
        "colab_type": "text"
      },
      "source": [
        "persist the model:"
      ]
    },
    {
      "cell_type": "code",
      "metadata": {
        "id": "ad8xS6LXmF0w",
        "colab_type": "code",
        "colab": {}
      },
      "source": [
        "model_file=\"/tmp/model.pickle\"\n",
        "network_file=\"/tmp/network.pickle\"\n",
        "weights_file=\"/tmp/weights.pickle\""
      ],
      "execution_count": 0,
      "outputs": []
    },
    {
      "cell_type": "code",
      "metadata": {
        "id": "pmOgE2qFBKek",
        "colab_type": "code",
        "colab": {}
      },
      "source": [
        "from timeserio.utils.pickle import loadf, dumpf\n",
        "dumpf(multimodel, model_file)\n",
        "dumpf(multinetwork, network_file)\n",
        "dumpf(multinetwork.weights, weights_file)"
      ],
      "execution_count": 0,
      "outputs": []
    },
    {
      "cell_type": "code",
      "metadata": {
        "id": "qTpxWNznlsHx",
        "colab_type": "code",
        "colab": {}
      },
      "source": [
        "from google.colab import files\n",
        "files.download(model_file)\n",
        "files.download(network_file)\n",
        "files.download(weights_file)"
      ],
      "execution_count": 0,
      "outputs": []
    },
    {
      "cell_type": "code",
      "metadata": {
        "id": "TEpoZ9dUTTRp",
        "colab_type": "code",
        "outputId": "50fa5a45-9589-460d-edfe-587734929f94",
        "colab": {
          "base_uri": "https://localhost:8080/",
          "height": 1000
        }
      },
      "source": [
        "multimodel.multinetwork.weights"
      ],
      "execution_count": 0,
      "outputs": [
        {
          "output_type": "execute_result",
          "data": {
            "text/plain": [
              "{'encoder': [array([[[0.24813499]]], dtype=float32),\n",
              "  array([0.00163302], dtype=float32),\n",
              "  array([1.0501057], dtype=float32),\n",
              "  array([0.11739083], dtype=float32),\n",
              "  array([0.03460965], dtype=float32),\n",
              "  array([0.00223897], dtype=float32)],\n",
              " 'forecast': [array([[[0.24813499]]], dtype=float32),\n",
              "  array([0.00163302], dtype=float32),\n",
              "  array([1.0501057], dtype=float32),\n",
              "  array([0.11739083], dtype=float32),\n",
              "  array([0.03460965], dtype=float32),\n",
              "  array([0.00223897], dtype=float32),\n",
              "  array([[ 0.2842112 , -0.5701866 ,  0.12303936, -0.31303486,  0.34182647,\n",
              "           0.22236133,  0.4843851 , -0.03378399],\n",
              "         [-0.24248841,  0.54876417,  0.59752405, -0.23054275, -0.0557189 ,\n",
              "           0.27279264,  0.42946422, -0.5015413 ],\n",
              "         [ 0.38957378, -0.09641979,  0.24506073, -0.28375766, -0.49676055,\n",
              "           0.41025755, -0.2153305 ,  0.41597456],\n",
              "         [ 0.627032  , -0.4362499 , -0.56706876, -0.45808616, -0.12986566,\n",
              "           0.09596018, -0.01438249,  0.5095536 ],\n",
              "         [ 0.19646725, -0.45259818,  0.5811543 , -0.37319058, -0.1258243 ,\n",
              "           0.2665749 ,  0.11988477,  0.19078411],\n",
              "         [-0.53358936, -0.04561362,  0.58978295,  0.7126915 , -0.13509671,\n",
              "           0.09948167, -0.20511676,  0.32246616],\n",
              "         [ 0.6476337 , -0.11289365,  0.37200958, -0.05426198,  0.14210585,\n",
              "           0.2745294 , -0.4288272 , -0.15140787]], dtype=float32),\n",
              "  array([ 0.02691156, -0.02003043,  0.02990297,  0.09055232, -0.01360983,\n",
              "          0.0035215 , -0.01429082,  0.03771398], dtype=float32),\n",
              "  array([[-0.2715934 , -0.07541662,  0.26889166, -0.41315255, -0.17522581,\n",
              "          -0.5039476 ,  0.49787363, -0.12865351],\n",
              "         [-0.08667169, -0.334741  ,  0.34280202, -0.28206813, -0.17593141,\n",
              "          -0.42933148,  0.43470994, -0.24743974],\n",
              "         [-0.19142342,  0.5395536 , -0.06558125, -0.14819063, -0.08092739,\n",
              "          -0.27866256,  0.54791445,  0.04785928],\n",
              "         [ 0.18578327,  0.26024657, -0.3463274 , -0.16097647, -0.62980074,\n",
              "          -0.298759  ,  0.51921636, -0.6971616 ],\n",
              "         [ 0.42968756, -0.08712895,  0.11233088, -0.24971771,  0.21823113,\n",
              "          -0.4193551 , -0.584756  ,  0.16020516],\n",
              "         [ 0.32800964,  0.33294964,  0.45624328,  0.6037684 ,  0.24448475,\n",
              "          -0.34581894, -0.4282642 ,  0.4822129 ],\n",
              "         [-0.34587878,  0.1413651 ,  0.32886964,  0.08179951, -0.18184075,\n",
              "          -0.1886845 , -0.23058169,  0.19907679],\n",
              "         [-0.14093725, -0.3325799 , -0.4767196 ,  0.13697237,  0.2259784 ,\n",
              "          -0.33859217,  0.21953505, -0.339103  ]], dtype=float32),\n",
              "  array([-0.0172146 ,  0.0294539 ,  0.01166283,  0.10955931, -0.03384056,\n",
              "          0.        ,  0.0316782 ,  0.03803404], dtype=float32),\n",
              "  array([[ 0.2916956 , -0.32092574],\n",
              "         [-0.08069722,  0.08476583],\n",
              "         [-0.545896  , -0.17700067],\n",
              "         [ 0.11575575,  0.4768864 ],\n",
              "         [-0.34425196, -0.21776348],\n",
              "         [-0.3550478 , -0.7041948 ],\n",
              "         [ 0.4266486 ,  0.15326738],\n",
              "         [ 0.393907  , -0.47421688]], dtype=float32),\n",
              "  array([0.01062865, 0.07582617], dtype=float32)]}"
            ]
          },
          "metadata": {
            "tags": []
          },
          "execution_count": 43
        }
      ]
    },
    {
      "cell_type": "markdown",
      "metadata": {
        "id": "sEvo9LMxBKep",
        "colab_type": "text"
      },
      "source": [
        "### Evaluate performance on test data\n",
        "We can evaluate the model on the validation data generator, which can also be out-of-memory:"
      ]
    },
    {
      "cell_type": "code",
      "metadata": {
        "id": "Z2WZjvmwBKes",
        "colab_type": "code",
        "colab": {}
      },
      "source": [
        "rolling_chunked_test=RollingForecastBatchGeneratorChunked(\n",
        "    df=df_test,id_column=\"country\",lookback_steps=6,forecast_steps=2,lookback_columns=[\"generation\", \"Time_step\"],\n",
        "    forecast_columns=[\"generation\", \"Time_step\"],\n",
        "     last_step_columns=[\"Time_step\"],batch_size=2**15,\n",
        "     )"
      ],
      "execution_count": 0,
      "outputs": []
    },
    {
      "cell_type": "code",
      "metadata": {
        "id": "QOBayckeBKev",
        "colab_type": "code",
        "outputId": "81317c8f-558f-4949-90a5-cc2d9f6083af",
        "colab": {
          "base_uri": "https://localhost:8080/",
          "height": 55
        }
      },
      "source": [
        "multimodel.evaluate_generator(rolling_chunked_test, model=\"forecast\", verbose=1)"
      ],
      "execution_count": 0,
      "outputs": [
        {
          "output_type": "stream",
          "text": [
            "2/2 [==============================] - 0s 60ms/step\n"
          ],
          "name": "stdout"
        },
        {
          "output_type": "execute_result",
          "data": {
            "text/plain": [
              "[0.006176444236189127, 0.053669482469558716]"
            ]
          },
          "metadata": {
            "tags": []
          },
          "execution_count": 45
        }
      ]
    },
    {
      "cell_type": "markdown",
      "metadata": {
        "id": "bp7Z1fsMBKey",
        "colab_type": "text"
      },
      "source": [
        "While the model takes longer to train (and longer still with practical encoder architectures), it can be tuned to achieve higher performanec, especially if encodings are combined with datetime features."
      ]
    },
    {
      "cell_type": "code",
      "metadata": {
        "id": "XdJBSf6QHNGx",
        "colab_type": "code",
        "outputId": "45afe2b1-d144-4a3e-e761-33de91a2cfbe",
        "colab": {
          "base_uri": "https://localhost:8080/",
          "height": 225
        }
      },
      "source": [
        "from kerashistoryplot.plot import plot_history\n",
        "history = multimodel.history[-1][\"history\"]\n",
        "plot_history(history, figsize=(15, 3), n_cols=3);"
      ],
      "execution_count": 0,
      "outputs": [
        {
          "output_type": "display_data",
          "data": {
            "image/png": "[encoded data removed]",
            "text/plain": [
              "<Figure size 1080x216 with 3 Axes>"
            ]
          },
          "metadata": {
            "tags": []
          }
        }
      ]
    }
  ]
}