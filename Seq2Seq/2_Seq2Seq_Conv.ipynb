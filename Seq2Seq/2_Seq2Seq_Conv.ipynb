{
  "nbformat": 4,
  "nbformat_minor": 0,
  "metadata": {
    "kernelspec": {
      "display_name": "Python 3",
      "language": "python",
      "name": "python3"
    },
    "language_info": {
      "codemirror_mode": {
        "name": "ipython",
        "version": 3
      },
      "file_extension": ".py",
      "mimetype": "text/x-python",
      "name": "python",
      "nbconvert_exporter": "python",
      "pygments_lexer": "ipython3",
      "version": "3.6.2"
    },
    "colab": {
      "name": "2. Seq2Seq_Conv.ipynb",
      "provenance": [],
      "collapsed_sections": []
    }
  },
  "cells": [
    {
      "cell_type": "markdown",
      "metadata": {
        "id": "MeEN6dXxgWn5",
        "colab_type": "text"
      },
      "source": [
        "# Time Series Forecasting with Convolutional Neural Networks \n",
        "The core part of this notebook was digested from https://github.com/JEddy92/TimeSeries_Seq2Seq/blob/master/notebooks/TS_Seq2Seq_Conv_Full_Exog.ipynb. \n",
        "\n",
        "I mainly added \n",
        "\n",
        "**0. Utilities**\n",
        "\n",
        "**1. Loading Data**\n",
        "\n",
        "**4. Saving Model with weights**"
      ]
    },
    {
      "cell_type": "markdown",
      "metadata": {
        "id": "SX9wumcOlv-Z",
        "colab_type": "text"
      },
      "source": [
        "## 0. Utilities"
      ]
    },
    {
      "cell_type": "code",
      "metadata": {
        "id": "DwC97OUMfn6T",
        "colab_type": "code",
        "colab": {}
      },
      "source": [
        "import pandas as pd\n",
        "import numpy as np\n",
        "import matplotlib.pyplot as plt\n",
        "%matplotlib inline\n",
        "\n",
        "import seaborn as sns\n",
        "sns.set()"
      ],
      "execution_count": 0,
      "outputs": []
    },
    {
      "cell_type": "code",
      "metadata": {
        "id": "vbcvDPPR0jcx",
        "colab_type": "code",
        "colab": {}
      },
      "source": [
        "from google.colab import files\n",
        "import os\n",
        "import os.path\n",
        "from os import path"
      ],
      "execution_count": 0,
      "outputs": []
    },
    {
      "cell_type": "markdown",
      "metadata": {
        "id": "03vG8zspoCCn",
        "colab_type": "text"
      },
      "source": [
        "Please check the **real file name** after uploading.\n",
        "There is no bug, but this upload solution is not perfect."
      ]
    },
    {
      "cell_type": "code",
      "metadata": {
        "id": "zazYkvKbhZ3R",
        "colab_type": "code",
        "colab": {}
      },
      "source": [
        "def upload_1_file():\n",
        "  uploaded = files.upload()\n",
        "\n",
        "  for fn in uploaded.keys():\n",
        "    print('User uploaded file \"{name}\" with length {length} bytes'.format(\n",
        "        name=fn, length=len(uploaded[fn])))\n",
        "    return fn\n",
        "\n",
        "  return \"\"\n"
      ],
      "execution_count": 0,
      "outputs": []
    },
    {
      "cell_type": "code",
      "metadata": {
        "id": "WbVwi1u1dpRA",
        "colab_type": "code",
        "cellView": "both",
        "colab": {}
      },
      "source": [
        "def download_1_file(http_path):\n",
        "  import requests\n",
        "  import shutil\n",
        "  response = requests.get(http_path, stream=True)\n",
        "\n",
        "  import tempfile\n",
        "  fname = tempfile.mkstemp()[1]\n",
        "  \n",
        "  #print(fname)\n",
        "  with open(fname, 'wb') as fin:\n",
        "      shutil.copyfileobj(response.raw, fin)\n",
        "\n",
        "  return fname # Works!"
      ],
      "execution_count": 0,
      "outputs": []
    },
    {
      "cell_type": "code",
      "metadata": {
        "id": "sH51WPU6jjb1",
        "colab_type": "code",
        "colab": {}
      },
      "source": [
        "def download_or_upload_1_file(http_or_file_path):\n",
        "  if (path.exists(http_or_file_path) and (path.isfile(http_or_file_path))):\n",
        "    return http_or_file_path\n",
        "\n",
        "  if (http_or_file_path==\"\"):\n",
        "    encoder_input_file=upload_1_file()\n",
        "    return encoder_input_file\n",
        "  else:\n",
        "    print(http_or_file_path)\n",
        "    return download_1_file(http_or_file_path)"
      ],
      "execution_count": 0,
      "outputs": []
    },
    {
      "cell_type": "markdown",
      "metadata": {
        "id": "Jbl1FmmQg8E_",
        "colab_type": "text"
      },
      "source": [
        "## 1. Loading Data\n",
        "\n"
      ]
    },
    {
      "cell_type": "markdown",
      "metadata": {
        "id": "jztCPS8ShyIv",
        "colab_type": "text"
      },
      "source": [
        "For convinence, I uploaded the cleaned data to the following web path."
      ]
    },
    {
      "cell_type": "code",
      "metadata": {
        "id": "9QojLKy_hkgu",
        "colab_type": "code",
        "colab": {}
      },
      "source": [
        "encoder_input_web_or_local=\"https://MrYingLee.Github.io/Seq2Seq/encoder_input.npy\"\n",
        "decoder_target_web_or_local=\"https://MrYingLee.Github.io/Seq2Seq/decoder_target.npy\""
      ],
      "execution_count": 0,
      "outputs": []
    },
    {
      "cell_type": "markdown",
      "metadata": {
        "id": "9Jd__n9T1a4s",
        "colab_type": "text"
      },
      "source": [
        "### Encoder File"
      ]
    },
    {
      "cell_type": "code",
      "metadata": {
        "id": "_A9UKELx90i5",
        "colab_type": "code",
        "outputId": "00e4a7b3-06de-4d83-a3af-b7b163f4acdd",
        "colab": {
          "base_uri": "https://localhost:8080/",
          "height": 34
        }
      },
      "source": [
        "file1=download_or_upload_1_file(encoder_input_web_or_local)\n",
        "encoder_input_data=np.load(file1)"
      ],
      "execution_count": 7,
      "outputs": [
        {
          "output_type": "stream",
          "text": [
            "https://MrYingLee.Github.io/Seq2Seq/encoder_input.npy\n"
          ],
          "name": "stdout"
        }
      ]
    },
    {
      "cell_type": "code",
      "metadata": {
        "id": "FIXhePOz2wbJ",
        "colab_type": "code",
        "outputId": "d9c0b0e7-f3f0-458f-808a-56e65f622620",
        "colab": {
          "base_uri": "https://localhost:8080/",
          "height": 34
        }
      },
      "source": [
        "encoder_input_data.shape"
      ],
      "execution_count": 8,
      "outputs": [
        {
          "output_type": "execute_result",
          "data": {
            "text/plain": [
              "(13, 489, 11)"
            ]
          },
          "metadata": {
            "tags": []
          },
          "execution_count": 8
        }
      ]
    },
    {
      "cell_type": "markdown",
      "metadata": {
        "id": "szQhe5dF1j8_",
        "colab_type": "text"
      },
      "source": [
        "### Decoder File\n",
        "\n",
        "Please check the **real file name** after uploading."
      ]
    },
    {
      "cell_type": "code",
      "metadata": {
        "id": "IX-J_URT-aoo",
        "colab_type": "code",
        "outputId": "ced70151-692d-4792-dafb-be9aa8431f8b",
        "colab": {
          "base_uri": "https://localhost:8080/",
          "height": 34
        }
      },
      "source": [
        "file2=download_or_upload_1_file(decoder_target_web_or_local)\n",
        "decoder_target_data=np.load(file2)"
      ],
      "execution_count": 9,
      "outputs": [
        {
          "output_type": "stream",
          "text": [
            "https://MrYingLee.Github.io/Seq2Seq/decoder_target.npy\n"
          ],
          "name": "stdout"
        }
      ]
    },
    {
      "cell_type": "code",
      "metadata": {
        "id": "H1wf5IEbhawE",
        "colab_type": "code",
        "outputId": "fe5e1998-7a0c-4110-ec2c-618227bd4bc4",
        "colab": {
          "base_uri": "https://localhost:8080/",
          "height": 34
        }
      },
      "source": [
        "decoder_target_data.shape"
      ],
      "execution_count": 10,
      "outputs": [
        {
          "output_type": "execute_result",
          "data": {
            "text/plain": [
              "(13, 60, 1)"
            ]
          },
          "metadata": {
            "tags": []
          },
          "execution_count": 10
        }
      ]
    },
    {
      "cell_type": "markdown",
      "metadata": {
        "id": "P_QO46Q_gWpX",
        "colab_type": "text"
      },
      "source": [
        "## 2. Building the Model - Architecture\n",
        "\n",
        "This convolutional architecture is a full-fledged version of the [WaveNet model](https://deepmind.com/blog/wavenet-generative-model-raw-audio/), designed as a generative model for audio (in particular, for text-to-speech applications). The wavenet model can be abstracted beyond audio to apply to any time series forecasting problem, providing a nice structure for capturing long-term dependencies without an excessive number of learned weights. Exogenous features can be integrated into WaveNet simply by extending the 3rd dimension (feature dimension) of the tensors that we feed to the model.\n",
        "\n",
        "The core of the wavenet model can be described as a **stack of residual blocks** that utilize **dilated causal convolutions**, visualized by the two diagrams from the wavenet paper below. I've gone into detailed discussion of these model components in the two previous notebooks of this series ([part 1](https://github.com/JEddy92/TimeSeries_Seq2Seq/blob/master/notebooks/TS_Seq2Seq_Conv_Intro.ipynb), [part 2](https://github.com/JEddy92/TimeSeries_Seq2Seq/blob/master/notebooks/TS_Seq2Seq_Conv_Full.ipynb)), so I'd recommend checking those out if you want to build familiarity.\n",
        "\n",
        "![dilatedconv](https://github.com/JEddy92/TimeSeries_Seq2Seq/blob/master/notebooks/images/WaveNet_dilatedconv.png?raw=1)  \n",
        "\n",
        "![blocks](https://github.com/JEddy92/TimeSeries_Seq2Seq/blob/master/notebooks/images/WaveNet_residblock.png?raw=1)        \n",
        "\n",
        "\n",
        "### **Our Architecture**\n",
        "\n",
        "With all of our components now laid out, here's what we'll use:\n",
        "\n",
        "* 16 dilated causal convolutional blocks\n",
        "    * Preprocessing and postprocessing (time distributed) fully connected layers (convolutions with filter width 1): 32 output units\n",
        "    * 32 filters of width 2 per block\n",
        "    * Exponentially increasing dilation rate with a reset (1, 2, 4, 8, ..., 128, 1, 2, ..., 128) \n",
        "    * Gated activations\n",
        "    * Residual and skip connections\n",
        "* 2 (time distributed) fully connected layers to map sum of skip outputs to final output \n",
        "\n",
        "Note that the only change in architecture from the previous notebook (without exogenous features) is an increase in units from 16 to 32 for the pre and postprocessing layers. This increase lets us better handle the larger number of input features (before we only used 1 feature!). \n",
        "\n",
        "As in the previous notebook, we'll extract the last 60 steps from the output sequence as our predicted output for training. We'll also use teacher forcing again during training, and write a separate function for iterative inference (section 5). "
      ]
    },
    {
      "cell_type": "code",
      "metadata": {
        "id": "T-rvzIWKgWpY",
        "colab_type": "code",
        "colab": {}
      },
      "source": [
        "def create_conv_model(input_last_length):\n",
        "  import tensorflow as tf\n",
        "  tf.logging.set_verbosity(tf.logging.FATAL) # suppress unhelpful tf warnings\n",
        "\n",
        "  from keras.models import Model\n",
        "  from keras.layers import Input, Conv1D, Dense, Activation, Dropout, Lambda, Multiply, Add, Concatenate\n",
        "\n",
        "  # convolutional operation parameters\n",
        "  n_filters = 32 # 32 \n",
        "  filter_width = 2\n",
        "  dilation_rates = [2**i for i in range(8)] * 2 \n",
        "\n",
        "  # define an input history series and pass it through a stack of dilated causal convolution blocks. \n",
        "  # Note the feature input dimension corresponds to the raw series and all exogenous features  \n",
        "  history_seq = Input(shape=(None, input_last_length))\n",
        "  x = history_seq\n",
        "\n",
        "  skips = []\n",
        "  for dilation_rate in dilation_rates:\n",
        "      \n",
        "      # preprocessing - equivalent to time-distributed dense\n",
        "      x = Conv1D(32, 1, padding='same', activation='relu')(x) \n",
        "      \n",
        "      # filter convolution\n",
        "      x_f = Conv1D(filters=n_filters,\n",
        "                  kernel_size=filter_width, \n",
        "                  padding='causal',\n",
        "                  dilation_rate=dilation_rate)(x)\n",
        "      \n",
        "      # gating convolution\n",
        "      x_g = Conv1D(filters=n_filters,\n",
        "                  kernel_size=filter_width, \n",
        "                  padding='causal',\n",
        "                  dilation_rate=dilation_rate)(x)\n",
        "      \n",
        "      # multiply filter and gating branches\n",
        "      z = Multiply()([Activation('tanh')(x_f),\n",
        "                      Activation('sigmoid')(x_g)])\n",
        "      \n",
        "      # postprocessing - equivalent to time-distributed dense\n",
        "      z = Conv1D(32, 1, padding='same', activation='relu')(z)\n",
        "      \n",
        "      # residual connection\n",
        "      x = Add()([x, z])    \n",
        "      \n",
        "      # collect skip connections\n",
        "      skips.append(z)\n",
        "\n",
        "  # add all skip connection outputs \n",
        "  out = Activation('relu')(Add()(skips))\n",
        "\n",
        "  # final time-distributed dense layers \n",
        "  out = Conv1D(128, 1, padding='same')(out)\n",
        "  out = Activation('relu')(out)\n",
        "  out = Dropout(.2)(out)\n",
        "  out = Conv1D(1, 1, padding='same')(out)\n",
        "\n",
        "  # extract the last 60 time steps as the training target\n",
        "  def slice(x, seq_length):\n",
        "      return x[:,-seq_length:,:]\n",
        "\n",
        "  pred_seq_train = Lambda(slice, arguments={'seq_length':60})(out)\n",
        "\n",
        "  model = Model(history_seq, pred_seq_train)\n",
        "  return model"
      ],
      "execution_count": 0,
      "outputs": []
    },
    {
      "cell_type": "code",
      "metadata": {
        "id": "qXcUg5IYk_iP",
        "colab_type": "code",
        "outputId": "554eb031-0a56-4b56-ca1d-e7ad6ad86976",
        "colab": {
          "base_uri": "https://localhost:8080/",
          "height": 79
        }
      },
      "source": [
        "from keras.optimizers import Adam\n",
        "conv_model=create_conv_model(encoder_input_data.shape[-1])"
      ],
      "execution_count": 12,
      "outputs": [
        {
          "output_type": "stream",
          "text": [
            "Using TensorFlow backend.\n"
          ],
          "name": "stderr"
        },
        {
          "output_type": "display_data",
          "data": {
            "text/html": [
              "<p style=\"color: red;\">\n",
              "The default version of TensorFlow in Colab will soon switch to TensorFlow 2.x.<br>\n",
              "We recommend you <a href=\"https://www.tensorflow.org/guide/migrate\" target=\"_blank\">upgrade</a> now \n",
              "or ensure your notebook will continue to use TensorFlow 1.x via the <code>%tensorflow_version 1.x</code> magic:\n",
              "<a href=\"https://colab.research.google.com/notebooks/tensorflow_version.ipynb\" target=\"_blank\">more info</a>.</p>\n"
            ],
            "text/plain": [
              "<IPython.core.display.HTML object>"
            ]
          },
          "metadata": {
            "tags": []
          }
        }
      ]
    },
    {
      "cell_type": "code",
      "metadata": {
        "id": "SSZ3v7VRgWpc",
        "colab_type": "code",
        "outputId": "143f60d9-29d4-4aaa-b0f8-dd3ebefd12c3",
        "colab": {
          "base_uri": "https://localhost:8080/",
          "height": 1000
        }
      },
      "source": [
        "conv_model.summary()"
      ],
      "execution_count": 13,
      "outputs": [
        {
          "output_type": "stream",
          "text": [
            "Model: \"model_1\"\n",
            "__________________________________________________________________________________________________\n",
            "Layer (type)                    Output Shape         Param #     Connected to                     \n",
            "==================================================================================================\n",
            "input_1 (InputLayer)            (None, None, 11)     0                                            \n",
            "__________________________________________________________________________________________________\n",
            "conv1d_1 (Conv1D)               (None, None, 32)     384         input_1[0][0]                    \n",
            "__________________________________________________________________________________________________\n",
            "conv1d_2 (Conv1D)               (None, None, 32)     2080        conv1d_1[0][0]                   \n",
            "__________________________________________________________________________________________________\n",
            "conv1d_3 (Conv1D)               (None, None, 32)     2080        conv1d_1[0][0]                   \n",
            "__________________________________________________________________________________________________\n",
            "activation_1 (Activation)       (None, None, 32)     0           conv1d_2[0][0]                   \n",
            "__________________________________________________________________________________________________\n",
            "activation_2 (Activation)       (None, None, 32)     0           conv1d_3[0][0]                   \n",
            "__________________________________________________________________________________________________\n",
            "multiply_1 (Multiply)           (None, None, 32)     0           activation_1[0][0]               \n",
            "                                                                 activation_2[0][0]               \n",
            "__________________________________________________________________________________________________\n",
            "conv1d_4 (Conv1D)               (None, None, 32)     1056        multiply_1[0][0]                 \n",
            "__________________________________________________________________________________________________\n",
            "add_1 (Add)                     (None, None, 32)     0           conv1d_1[0][0]                   \n",
            "                                                                 conv1d_4[0][0]                   \n",
            "__________________________________________________________________________________________________\n",
            "conv1d_5 (Conv1D)               (None, None, 32)     1056        add_1[0][0]                      \n",
            "__________________________________________________________________________________________________\n",
            "conv1d_6 (Conv1D)               (None, None, 32)     2080        conv1d_5[0][0]                   \n",
            "__________________________________________________________________________________________________\n",
            "conv1d_7 (Conv1D)               (None, None, 32)     2080        conv1d_5[0][0]                   \n",
            "__________________________________________________________________________________________________\n",
            "activation_3 (Activation)       (None, None, 32)     0           conv1d_6[0][0]                   \n",
            "__________________________________________________________________________________________________\n",
            "activation_4 (Activation)       (None, None, 32)     0           conv1d_7[0][0]                   \n",
            "__________________________________________________________________________________________________\n",
            "multiply_2 (Multiply)           (None, None, 32)     0           activation_3[0][0]               \n",
            "                                                                 activation_4[0][0]               \n",
            "__________________________________________________________________________________________________\n",
            "conv1d_8 (Conv1D)               (None, None, 32)     1056        multiply_2[0][0]                 \n",
            "__________________________________________________________________________________________________\n",
            "add_2 (Add)                     (None, None, 32)     0           conv1d_5[0][0]                   \n",
            "                                                                 conv1d_8[0][0]                   \n",
            "__________________________________________________________________________________________________\n",
            "conv1d_9 (Conv1D)               (None, None, 32)     1056        add_2[0][0]                      \n",
            "__________________________________________________________________________________________________\n",
            "conv1d_10 (Conv1D)              (None, None, 32)     2080        conv1d_9[0][0]                   \n",
            "__________________________________________________________________________________________________\n",
            "conv1d_11 (Conv1D)              (None, None, 32)     2080        conv1d_9[0][0]                   \n",
            "__________________________________________________________________________________________________\n",
            "activation_5 (Activation)       (None, None, 32)     0           conv1d_10[0][0]                  \n",
            "__________________________________________________________________________________________________\n",
            "activation_6 (Activation)       (None, None, 32)     0           conv1d_11[0][0]                  \n",
            "__________________________________________________________________________________________________\n",
            "multiply_3 (Multiply)           (None, None, 32)     0           activation_5[0][0]               \n",
            "                                                                 activation_6[0][0]               \n",
            "__________________________________________________________________________________________________\n",
            "conv1d_12 (Conv1D)              (None, None, 32)     1056        multiply_3[0][0]                 \n",
            "__________________________________________________________________________________________________\n",
            "add_3 (Add)                     (None, None, 32)     0           conv1d_9[0][0]                   \n",
            "                                                                 conv1d_12[0][0]                  \n",
            "__________________________________________________________________________________________________\n",
            "conv1d_13 (Conv1D)              (None, None, 32)     1056        add_3[0][0]                      \n",
            "__________________________________________________________________________________________________\n",
            "conv1d_14 (Conv1D)              (None, None, 32)     2080        conv1d_13[0][0]                  \n",
            "__________________________________________________________________________________________________\n",
            "conv1d_15 (Conv1D)              (None, None, 32)     2080        conv1d_13[0][0]                  \n",
            "__________________________________________________________________________________________________\n",
            "activation_7 (Activation)       (None, None, 32)     0           conv1d_14[0][0]                  \n",
            "__________________________________________________________________________________________________\n",
            "activation_8 (Activation)       (None, None, 32)     0           conv1d_15[0][0]                  \n",
            "__________________________________________________________________________________________________\n",
            "multiply_4 (Multiply)           (None, None, 32)     0           activation_7[0][0]               \n",
            "                                                                 activation_8[0][0]               \n",
            "__________________________________________________________________________________________________\n",
            "conv1d_16 (Conv1D)              (None, None, 32)     1056        multiply_4[0][0]                 \n",
            "__________________________________________________________________________________________________\n",
            "add_4 (Add)                     (None, None, 32)     0           conv1d_13[0][0]                  \n",
            "                                                                 conv1d_16[0][0]                  \n",
            "__________________________________________________________________________________________________\n",
            "conv1d_17 (Conv1D)              (None, None, 32)     1056        add_4[0][0]                      \n",
            "__________________________________________________________________________________________________\n",
            "conv1d_18 (Conv1D)              (None, None, 32)     2080        conv1d_17[0][0]                  \n",
            "__________________________________________________________________________________________________\n",
            "conv1d_19 (Conv1D)              (None, None, 32)     2080        conv1d_17[0][0]                  \n",
            "__________________________________________________________________________________________________\n",
            "activation_9 (Activation)       (None, None, 32)     0           conv1d_18[0][0]                  \n",
            "__________________________________________________________________________________________________\n",
            "activation_10 (Activation)      (None, None, 32)     0           conv1d_19[0][0]                  \n",
            "__________________________________________________________________________________________________\n",
            "multiply_5 (Multiply)           (None, None, 32)     0           activation_9[0][0]               \n",
            "                                                                 activation_10[0][0]              \n",
            "__________________________________________________________________________________________________\n",
            "conv1d_20 (Conv1D)              (None, None, 32)     1056        multiply_5[0][0]                 \n",
            "__________________________________________________________________________________________________\n",
            "add_5 (Add)                     (None, None, 32)     0           conv1d_17[0][0]                  \n",
            "                                                                 conv1d_20[0][0]                  \n",
            "__________________________________________________________________________________________________\n",
            "conv1d_21 (Conv1D)              (None, None, 32)     1056        add_5[0][0]                      \n",
            "__________________________________________________________________________________________________\n",
            "conv1d_22 (Conv1D)              (None, None, 32)     2080        conv1d_21[0][0]                  \n",
            "__________________________________________________________________________________________________\n",
            "conv1d_23 (Conv1D)              (None, None, 32)     2080        conv1d_21[0][0]                  \n",
            "__________________________________________________________________________________________________\n",
            "activation_11 (Activation)      (None, None, 32)     0           conv1d_22[0][0]                  \n",
            "__________________________________________________________________________________________________\n",
            "activation_12 (Activation)      (None, None, 32)     0           conv1d_23[0][0]                  \n",
            "__________________________________________________________________________________________________\n",
            "multiply_6 (Multiply)           (None, None, 32)     0           activation_11[0][0]              \n",
            "                                                                 activation_12[0][0]              \n",
            "__________________________________________________________________________________________________\n",
            "conv1d_24 (Conv1D)              (None, None, 32)     1056        multiply_6[0][0]                 \n",
            "__________________________________________________________________________________________________\n",
            "add_6 (Add)                     (None, None, 32)     0           conv1d_21[0][0]                  \n",
            "                                                                 conv1d_24[0][0]                  \n",
            "__________________________________________________________________________________________________\n",
            "conv1d_25 (Conv1D)              (None, None, 32)     1056        add_6[0][0]                      \n",
            "__________________________________________________________________________________________________\n",
            "conv1d_26 (Conv1D)              (None, None, 32)     2080        conv1d_25[0][0]                  \n",
            "__________________________________________________________________________________________________\n",
            "conv1d_27 (Conv1D)              (None, None, 32)     2080        conv1d_25[0][0]                  \n",
            "__________________________________________________________________________________________________\n",
            "activation_13 (Activation)      (None, None, 32)     0           conv1d_26[0][0]                  \n",
            "__________________________________________________________________________________________________\n",
            "activation_14 (Activation)      (None, None, 32)     0           conv1d_27[0][0]                  \n",
            "__________________________________________________________________________________________________\n",
            "multiply_7 (Multiply)           (None, None, 32)     0           activation_13[0][0]              \n",
            "                                                                 activation_14[0][0]              \n",
            "__________________________________________________________________________________________________\n",
            "conv1d_28 (Conv1D)              (None, None, 32)     1056        multiply_7[0][0]                 \n",
            "__________________________________________________________________________________________________\n",
            "add_7 (Add)                     (None, None, 32)     0           conv1d_25[0][0]                  \n",
            "                                                                 conv1d_28[0][0]                  \n",
            "__________________________________________________________________________________________________\n",
            "conv1d_29 (Conv1D)              (None, None, 32)     1056        add_7[0][0]                      \n",
            "__________________________________________________________________________________________________\n",
            "conv1d_30 (Conv1D)              (None, None, 32)     2080        conv1d_29[0][0]                  \n",
            "__________________________________________________________________________________________________\n",
            "conv1d_31 (Conv1D)              (None, None, 32)     2080        conv1d_29[0][0]                  \n",
            "__________________________________________________________________________________________________\n",
            "activation_15 (Activation)      (None, None, 32)     0           conv1d_30[0][0]                  \n",
            "__________________________________________________________________________________________________\n",
            "activation_16 (Activation)      (None, None, 32)     0           conv1d_31[0][0]                  \n",
            "__________________________________________________________________________________________________\n",
            "multiply_8 (Multiply)           (None, None, 32)     0           activation_15[0][0]              \n",
            "                                                                 activation_16[0][0]              \n",
            "__________________________________________________________________________________________________\n",
            "conv1d_32 (Conv1D)              (None, None, 32)     1056        multiply_8[0][0]                 \n",
            "__________________________________________________________________________________________________\n",
            "add_8 (Add)                     (None, None, 32)     0           conv1d_29[0][0]                  \n",
            "                                                                 conv1d_32[0][0]                  \n",
            "__________________________________________________________________________________________________\n",
            "conv1d_33 (Conv1D)              (None, None, 32)     1056        add_8[0][0]                      \n",
            "__________________________________________________________________________________________________\n",
            "conv1d_34 (Conv1D)              (None, None, 32)     2080        conv1d_33[0][0]                  \n",
            "__________________________________________________________________________________________________\n",
            "conv1d_35 (Conv1D)              (None, None, 32)     2080        conv1d_33[0][0]                  \n",
            "__________________________________________________________________________________________________\n",
            "activation_17 (Activation)      (None, None, 32)     0           conv1d_34[0][0]                  \n",
            "__________________________________________________________________________________________________\n",
            "activation_18 (Activation)      (None, None, 32)     0           conv1d_35[0][0]                  \n",
            "__________________________________________________________________________________________________\n",
            "multiply_9 (Multiply)           (None, None, 32)     0           activation_17[0][0]              \n",
            "                                                                 activation_18[0][0]              \n",
            "__________________________________________________________________________________________________\n",
            "conv1d_36 (Conv1D)              (None, None, 32)     1056        multiply_9[0][0]                 \n",
            "__________________________________________________________________________________________________\n",
            "add_9 (Add)                     (None, None, 32)     0           conv1d_33[0][0]                  \n",
            "                                                                 conv1d_36[0][0]                  \n",
            "__________________________________________________________________________________________________\n",
            "conv1d_37 (Conv1D)              (None, None, 32)     1056        add_9[0][0]                      \n",
            "__________________________________________________________________________________________________\n",
            "conv1d_38 (Conv1D)              (None, None, 32)     2080        conv1d_37[0][0]                  \n",
            "__________________________________________________________________________________________________\n",
            "conv1d_39 (Conv1D)              (None, None, 32)     2080        conv1d_37[0][0]                  \n",
            "__________________________________________________________________________________________________\n",
            "activation_19 (Activation)      (None, None, 32)     0           conv1d_38[0][0]                  \n",
            "__________________________________________________________________________________________________\n",
            "activation_20 (Activation)      (None, None, 32)     0           conv1d_39[0][0]                  \n",
            "__________________________________________________________________________________________________\n",
            "multiply_10 (Multiply)          (None, None, 32)     0           activation_19[0][0]              \n",
            "                                                                 activation_20[0][0]              \n",
            "__________________________________________________________________________________________________\n",
            "conv1d_40 (Conv1D)              (None, None, 32)     1056        multiply_10[0][0]                \n",
            "__________________________________________________________________________________________________\n",
            "add_10 (Add)                    (None, None, 32)     0           conv1d_37[0][0]                  \n",
            "                                                                 conv1d_40[0][0]                  \n",
            "__________________________________________________________________________________________________\n",
            "conv1d_41 (Conv1D)              (None, None, 32)     1056        add_10[0][0]                     \n",
            "__________________________________________________________________________________________________\n",
            "conv1d_42 (Conv1D)              (None, None, 32)     2080        conv1d_41[0][0]                  \n",
            "__________________________________________________________________________________________________\n",
            "conv1d_43 (Conv1D)              (None, None, 32)     2080        conv1d_41[0][0]                  \n",
            "__________________________________________________________________________________________________\n",
            "activation_21 (Activation)      (None, None, 32)     0           conv1d_42[0][0]                  \n",
            "__________________________________________________________________________________________________\n",
            "activation_22 (Activation)      (None, None, 32)     0           conv1d_43[0][0]                  \n",
            "__________________________________________________________________________________________________\n",
            "multiply_11 (Multiply)          (None, None, 32)     0           activation_21[0][0]              \n",
            "                                                                 activation_22[0][0]              \n",
            "__________________________________________________________________________________________________\n",
            "conv1d_44 (Conv1D)              (None, None, 32)     1056        multiply_11[0][0]                \n",
            "__________________________________________________________________________________________________\n",
            "add_11 (Add)                    (None, None, 32)     0           conv1d_41[0][0]                  \n",
            "                                                                 conv1d_44[0][0]                  \n",
            "__________________________________________________________________________________________________\n",
            "conv1d_45 (Conv1D)              (None, None, 32)     1056        add_11[0][0]                     \n",
            "__________________________________________________________________________________________________\n",
            "conv1d_46 (Conv1D)              (None, None, 32)     2080        conv1d_45[0][0]                  \n",
            "__________________________________________________________________________________________________\n",
            "conv1d_47 (Conv1D)              (None, None, 32)     2080        conv1d_45[0][0]                  \n",
            "__________________________________________________________________________________________________\n",
            "activation_23 (Activation)      (None, None, 32)     0           conv1d_46[0][0]                  \n",
            "__________________________________________________________________________________________________\n",
            "activation_24 (Activation)      (None, None, 32)     0           conv1d_47[0][0]                  \n",
            "__________________________________________________________________________________________________\n",
            "multiply_12 (Multiply)          (None, None, 32)     0           activation_23[0][0]              \n",
            "                                                                 activation_24[0][0]              \n",
            "__________________________________________________________________________________________________\n",
            "conv1d_48 (Conv1D)              (None, None, 32)     1056        multiply_12[0][0]                \n",
            "__________________________________________________________________________________________________\n",
            "add_12 (Add)                    (None, None, 32)     0           conv1d_45[0][0]                  \n",
            "                                                                 conv1d_48[0][0]                  \n",
            "__________________________________________________________________________________________________\n",
            "conv1d_49 (Conv1D)              (None, None, 32)     1056        add_12[0][0]                     \n",
            "__________________________________________________________________________________________________\n",
            "conv1d_50 (Conv1D)              (None, None, 32)     2080        conv1d_49[0][0]                  \n",
            "__________________________________________________________________________________________________\n",
            "conv1d_51 (Conv1D)              (None, None, 32)     2080        conv1d_49[0][0]                  \n",
            "__________________________________________________________________________________________________\n",
            "activation_25 (Activation)      (None, None, 32)     0           conv1d_50[0][0]                  \n",
            "__________________________________________________________________________________________________\n",
            "activation_26 (Activation)      (None, None, 32)     0           conv1d_51[0][0]                  \n",
            "__________________________________________________________________________________________________\n",
            "multiply_13 (Multiply)          (None, None, 32)     0           activation_25[0][0]              \n",
            "                                                                 activation_26[0][0]              \n",
            "__________________________________________________________________________________________________\n",
            "conv1d_52 (Conv1D)              (None, None, 32)     1056        multiply_13[0][0]                \n",
            "__________________________________________________________________________________________________\n",
            "add_13 (Add)                    (None, None, 32)     0           conv1d_49[0][0]                  \n",
            "                                                                 conv1d_52[0][0]                  \n",
            "__________________________________________________________________________________________________\n",
            "conv1d_53 (Conv1D)              (None, None, 32)     1056        add_13[0][0]                     \n",
            "__________________________________________________________________________________________________\n",
            "conv1d_54 (Conv1D)              (None, None, 32)     2080        conv1d_53[0][0]                  \n",
            "__________________________________________________________________________________________________\n",
            "conv1d_55 (Conv1D)              (None, None, 32)     2080        conv1d_53[0][0]                  \n",
            "__________________________________________________________________________________________________\n",
            "activation_27 (Activation)      (None, None, 32)     0           conv1d_54[0][0]                  \n",
            "__________________________________________________________________________________________________\n",
            "activation_28 (Activation)      (None, None, 32)     0           conv1d_55[0][0]                  \n",
            "__________________________________________________________________________________________________\n",
            "multiply_14 (Multiply)          (None, None, 32)     0           activation_27[0][0]              \n",
            "                                                                 activation_28[0][0]              \n",
            "__________________________________________________________________________________________________\n",
            "conv1d_56 (Conv1D)              (None, None, 32)     1056        multiply_14[0][0]                \n",
            "__________________________________________________________________________________________________\n",
            "add_14 (Add)                    (None, None, 32)     0           conv1d_53[0][0]                  \n",
            "                                                                 conv1d_56[0][0]                  \n",
            "__________________________________________________________________________________________________\n",
            "conv1d_57 (Conv1D)              (None, None, 32)     1056        add_14[0][0]                     \n",
            "__________________________________________________________________________________________________\n",
            "conv1d_58 (Conv1D)              (None, None, 32)     2080        conv1d_57[0][0]                  \n",
            "__________________________________________________________________________________________________\n",
            "conv1d_59 (Conv1D)              (None, None, 32)     2080        conv1d_57[0][0]                  \n",
            "__________________________________________________________________________________________________\n",
            "activation_29 (Activation)      (None, None, 32)     0           conv1d_58[0][0]                  \n",
            "__________________________________________________________________________________________________\n",
            "activation_30 (Activation)      (None, None, 32)     0           conv1d_59[0][0]                  \n",
            "__________________________________________________________________________________________________\n",
            "multiply_15 (Multiply)          (None, None, 32)     0           activation_29[0][0]              \n",
            "                                                                 activation_30[0][0]              \n",
            "__________________________________________________________________________________________________\n",
            "conv1d_60 (Conv1D)              (None, None, 32)     1056        multiply_15[0][0]                \n",
            "__________________________________________________________________________________________________\n",
            "add_15 (Add)                    (None, None, 32)     0           conv1d_57[0][0]                  \n",
            "                                                                 conv1d_60[0][0]                  \n",
            "__________________________________________________________________________________________________\n",
            "conv1d_61 (Conv1D)              (None, None, 32)     1056        add_15[0][0]                     \n",
            "__________________________________________________________________________________________________\n",
            "conv1d_62 (Conv1D)              (None, None, 32)     2080        conv1d_61[0][0]                  \n",
            "__________________________________________________________________________________________________\n",
            "conv1d_63 (Conv1D)              (None, None, 32)     2080        conv1d_61[0][0]                  \n",
            "__________________________________________________________________________________________________\n",
            "activation_31 (Activation)      (None, None, 32)     0           conv1d_62[0][0]                  \n",
            "__________________________________________________________________________________________________\n",
            "activation_32 (Activation)      (None, None, 32)     0           conv1d_63[0][0]                  \n",
            "__________________________________________________________________________________________________\n",
            "multiply_16 (Multiply)          (None, None, 32)     0           activation_31[0][0]              \n",
            "                                                                 activation_32[0][0]              \n",
            "__________________________________________________________________________________________________\n",
            "conv1d_64 (Conv1D)              (None, None, 32)     1056        multiply_16[0][0]                \n",
            "__________________________________________________________________________________________________\n",
            "add_17 (Add)                    (None, None, 32)     0           conv1d_4[0][0]                   \n",
            "                                                                 conv1d_8[0][0]                   \n",
            "                                                                 conv1d_12[0][0]                  \n",
            "                                                                 conv1d_16[0][0]                  \n",
            "                                                                 conv1d_20[0][0]                  \n",
            "                                                                 conv1d_24[0][0]                  \n",
            "                                                                 conv1d_28[0][0]                  \n",
            "                                                                 conv1d_32[0][0]                  \n",
            "                                                                 conv1d_36[0][0]                  \n",
            "                                                                 conv1d_40[0][0]                  \n",
            "                                                                 conv1d_44[0][0]                  \n",
            "                                                                 conv1d_48[0][0]                  \n",
            "                                                                 conv1d_52[0][0]                  \n",
            "                                                                 conv1d_56[0][0]                  \n",
            "                                                                 conv1d_60[0][0]                  \n",
            "                                                                 conv1d_64[0][0]                  \n",
            "__________________________________________________________________________________________________\n",
            "activation_33 (Activation)      (None, None, 32)     0           add_17[0][0]                     \n",
            "__________________________________________________________________________________________________\n",
            "conv1d_65 (Conv1D)              (None, None, 128)    4224        activation_33[0][0]              \n",
            "__________________________________________________________________________________________________\n",
            "activation_34 (Activation)      (None, None, 128)    0           conv1d_65[0][0]                  \n",
            "__________________________________________________________________________________________________\n",
            "dropout_1 (Dropout)             (None, None, 128)    0           activation_34[0][0]              \n",
            "__________________________________________________________________________________________________\n",
            "conv1d_66 (Conv1D)              (None, None, 1)      129         dropout_1[0][0]                  \n",
            "__________________________________________________________________________________________________\n",
            "lambda_1 (Lambda)               (None, None, 1)      0           conv1d_66[0][0]                  \n",
            "==================================================================================================\n",
            "Total params: 104,033\n",
            "Trainable params: 104,033\n",
            "Non-trainable params: 0\n",
            "__________________________________________________________________________________________________\n"
          ],
          "name": "stdout"
        }
      ]
    },
    {
      "cell_type": "markdown",
      "metadata": {
        "id": "_46ZBYBcgWpf",
        "colab_type": "text"
      },
      "source": [
        "With our training architecture defined, we're ready to train the model! We'll leverage the transformer utility functions we defined earlier, and train using mean absolute error loss.\n",
        "\n",
        "For this expansion of the full-fledged model, once again we end up more than doubling the total number of trainable parameters and incur the cost of slower training time. These additional parameters are due to the increase in filters for the pre/postprocessing layers. Training a model at this scale will take quite a while if you're not running fancy hardware - I'd recommend using a GPU. When constructing this notebook, I used an AWS EC2 instance with a GPU (p2.xlarge) and the Amazon Deep Learning AMI, and training took about an hour. \n",
        "\n",
        "This time around, we'll go ahead and use all of the series in the dataset for training, and train for 15 epochs to give this more complex model more time to try to reach its full potential. \n",
        "\n",
        "This is only a starting point, and I would encourage you to play around with this pipeline to see if you can get even better results! You could try selecting/engineering different exogenous features, adjusting the model architecture/hyperparameters, tuning the learning rate and number of epochs, etc."
      ]
    },
    {
      "cell_type": "markdown",
      "metadata": {
        "id": "OCh0enP8WdXu",
        "colab_type": "text"
      },
      "source": [
        "## 3. Trainging Model"
      ]
    },
    {
      "cell_type": "code",
      "metadata": {
        "id": "2JWJZSWRgWph",
        "colab_type": "code",
        "outputId": "44e46c13-3bd8-4020-ab4b-ecda963dcad5",
        "colab": {
          "base_uri": "https://localhost:8080/",
          "height": 521
        }
      },
      "source": [
        "batch_size = 2**10 \n",
        "epochs = 15\n",
        "\n",
        "conv_model.compile(Adam(), loss='mean_absolute_error')\n",
        "conv_history = conv_model.fit(encoder_input_data, decoder_target_data,\n",
        "                    batch_size=batch_size,\n",
        "                    epochs=epochs)  "
      ],
      "execution_count": 14,
      "outputs": [
        {
          "output_type": "stream",
          "text": [
            "Epoch 1/15\n",
            "13/13 [==============================] - 7s 512ms/step - loss: 0.8387\n",
            "Epoch 2/15\n",
            "13/13 [==============================] - 0s 29ms/step - loss: 0.7247\n",
            "Epoch 3/15\n",
            "13/13 [==============================] - 0s 28ms/step - loss: 0.6692\n",
            "Epoch 4/15\n",
            "13/13 [==============================] - 0s 26ms/step - loss: 0.6474\n",
            "Epoch 5/15\n",
            "13/13 [==============================] - 0s 27ms/step - loss: 0.6410\n",
            "Epoch 6/15\n",
            "13/13 [==============================] - 0s 27ms/step - loss: 0.6456\n",
            "Epoch 7/15\n",
            "13/13 [==============================] - 0s 30ms/step - loss: 0.6458\n",
            "Epoch 8/15\n",
            "13/13 [==============================] - 0s 27ms/step - loss: 0.6244\n",
            "Epoch 9/15\n",
            "13/13 [==============================] - 0s 27ms/step - loss: 0.6161\n",
            "Epoch 10/15\n",
            "13/13 [==============================] - 0s 26ms/step - loss: 0.6004\n",
            "Epoch 11/15\n",
            "13/13 [==============================] - 0s 26ms/step - loss: 0.5894\n",
            "Epoch 12/15\n",
            "13/13 [==============================] - 0s 27ms/step - loss: 0.5846\n",
            "Epoch 13/15\n",
            "13/13 [==============================] - 0s 27ms/step - loss: 0.5796\n",
            "Epoch 14/15\n",
            "13/13 [==============================] - 0s 26ms/step - loss: 0.5656\n",
            "Epoch 15/15\n",
            "13/13 [==============================] - 0s 26ms/step - loss: 0.5499\n"
          ],
          "name": "stdout"
        }
      ]
    },
    {
      "cell_type": "markdown",
      "metadata": {
        "id": "hISZY_kpreHz",
        "colab_type": "text"
      },
      "source": [
        "## 4. Saving Model with weights"
      ]
    },
    {
      "cell_type": "code",
      "metadata": {
        "id": "j74up-dCrdgo",
        "colab_type": "code",
        "colab": {}
      },
      "source": [
        "from keras.models import load_model\n",
        "\n",
        "model_file='conv_model.h5'\n",
        "conv_model.save(model_file)  \n",
        "\n",
        "from google.colab import files\n",
        "\n",
        "files.download(model_file)"
      ],
      "execution_count": 0,
      "outputs": []
    }
  ]
}