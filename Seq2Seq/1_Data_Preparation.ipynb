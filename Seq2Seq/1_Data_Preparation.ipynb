{
  "nbformat": 4,
  "nbformat_minor": 0,
  "metadata": {
    "kernelspec": {
      "display_name": "Python 3",
      "language": "python",
      "name": "python3"
    },
    "language_info": {
      "codemirror_mode": {
        "name": "ipython",
        "version": 3
      },
      "file_extension": ".py",
      "mimetype": "text/x-python",
      "name": "python",
      "nbconvert_exporter": "python",
      "pygments_lexer": "ipython3",
      "version": "3.6.2"
    },
    "colab": {
      "name": "1. Data Preparation.ipynb",
      "provenance": [],
      "collapsed_sections": []
    }
  },
  "cells": [
    {
      "cell_type": "markdown",
      "metadata": {
        "id": "_hvlBsYXTnHc",
        "colab_type": "text"
      },
      "source": [
        "# Data Preparation for Seq2Seq model\n",
        "\n",
        "This notebook was mainly digested from https://github.com/JEddy92/TimeSeries_Seq2Seq/blob/master/notebooks/TS_Seq2Seq_Conv_Full_Exog.ipynb.\n",
        "\n",
        "\n",
        "\n",
        "\n",
        "\n"
      ]
    },
    {
      "cell_type": "markdown",
      "metadata": {
        "id": "x3BsR26ka8-A",
        "colab_type": "text"
      },
      "source": [
        "1. Data Source:\n",
        "We'll be using the same daily wikipedia web page traffic dataset, available here on [Kaggle](https://www.kaggle.com/c/web-traffic-time-series-forecasting/data). \n",
        "\n",
        "In order to make the progress quick, I digested part data  into https://MrYingLee.Github.io/Seq2Seq/train_1.csv .\n",
        "\n",
        "2. I only add the last part, **4. Saving Data**"
      ]
    },
    {
      "cell_type": "markdown",
      "metadata": {
        "id": "b8IS5iCnTnHf",
        "colab_type": "text"
      },
      "source": [
        "## 1. Loading and Previewing the Data \n",
        "\n",
        "First thing's first, let's load up the data and get a quick feel for it (reminder that the dataset is available [here](https://www.kaggle.com/c/web-traffic-time-series-forecasting/data)). \n",
        "\n",
        "Note that there are a good number of NaN values in the data that don't disambiguate missing from zero. For the sake of simplicity in this tutorial, we'll naively fill these with 0 later on."
      ]
    },
    {
      "cell_type": "code",
      "metadata": {
        "id": "3qG4brL1TnHh",
        "colab_type": "code",
        "outputId": "388c8917-0b94-4b99-beea-8e66b9fac280",
        "colab": {
          "base_uri": "https://localhost:8080/",
          "height": 294
        }
      },
      "source": [
        "import pandas as pd\n",
        "import numpy as np\n",
        "import matplotlib.pyplot as plt\n",
        "%matplotlib inline\n",
        "\n",
        "import seaborn as sns\n",
        "sns.set()\n",
        "\n",
        "df = pd.read_csv('https://MrYingLee.Github.io/Seq2Seq/train_1.csv') \n",
        "df.head()"
      ],
      "execution_count": 2,
      "outputs": [
        {
          "output_type": "execute_result",
          "data": {
            "text/html": [
              "<div>\n",
              "<style scoped>\n",
              "    .dataframe tbody tr th:only-of-type {\n",
              "        vertical-align: middle;\n",
              "    }\n",
              "\n",
              "    .dataframe tbody tr th {\n",
              "        vertical-align: top;\n",
              "    }\n",
              "\n",
              "    .dataframe thead th {\n",
              "        text-align: right;\n",
              "    }\n",
              "</style>\n",
              "<table border=\"1\" class=\"dataframe\">\n",
              "  <thead>\n",
              "    <tr style=\"text-align: right;\">\n",
              "      <th></th>\n",
              "      <th>Page</th>\n",
              "      <th>2015/7/1</th>\n",
              "      <th>2015/7/2</th>\n",
              "      <th>2015/7/3</th>\n",
              "      <th>2015/7/4</th>\n",
              "      <th>2015/7/5</th>\n",
              "      <th>2015/7/6</th>\n",
              "      <th>2015/7/7</th>\n",
              "      <th>2015/7/8</th>\n",
              "      <th>2015/7/9</th>\n",
              "      <th>2015/7/10</th>\n",
              "      <th>2015/7/11</th>\n",
              "      <th>2015/7/12</th>\n",
              "      <th>2015/7/13</th>\n",
              "      <th>2015/7/14</th>\n",
              "      <th>2015/7/15</th>\n",
              "      <th>2015/7/16</th>\n",
              "      <th>2015/7/17</th>\n",
              "      <th>2015/7/18</th>\n",
              "      <th>2015/7/19</th>\n",
              "      <th>2015/7/20</th>\n",
              "      <th>2015/7/21</th>\n",
              "      <th>2015/7/22</th>\n",
              "      <th>2015/7/23</th>\n",
              "      <th>2015/7/24</th>\n",
              "      <th>2015/7/25</th>\n",
              "      <th>2015/7/26</th>\n",
              "      <th>2015/7/27</th>\n",
              "      <th>2015/7/28</th>\n",
              "      <th>2015/7/29</th>\n",
              "      <th>2015/7/30</th>\n",
              "      <th>2015/7/31</th>\n",
              "      <th>2015/8/1</th>\n",
              "      <th>2015/8/2</th>\n",
              "      <th>2015/8/3</th>\n",
              "      <th>2015/8/4</th>\n",
              "      <th>2015/8/5</th>\n",
              "      <th>2015/8/6</th>\n",
              "      <th>2015/8/7</th>\n",
              "      <th>2015/8/8</th>\n",
              "      <th>...</th>\n",
              "      <th>2016/11/22</th>\n",
              "      <th>2016/11/23</th>\n",
              "      <th>2016/11/24</th>\n",
              "      <th>2016/11/25</th>\n",
              "      <th>2016/11/26</th>\n",
              "      <th>2016/11/27</th>\n",
              "      <th>2016/11/28</th>\n",
              "      <th>2016/11/29</th>\n",
              "      <th>2016/11/30</th>\n",
              "      <th>2016/12/1</th>\n",
              "      <th>2016/12/2</th>\n",
              "      <th>2016/12/3</th>\n",
              "      <th>2016/12/4</th>\n",
              "      <th>2016/12/5</th>\n",
              "      <th>2016/12/6</th>\n",
              "      <th>2016/12/7</th>\n",
              "      <th>2016/12/8</th>\n",
              "      <th>2016/12/9</th>\n",
              "      <th>2016/12/10</th>\n",
              "      <th>2016/12/11</th>\n",
              "      <th>2016/12/12</th>\n",
              "      <th>2016/12/13</th>\n",
              "      <th>2016/12/14</th>\n",
              "      <th>2016/12/15</th>\n",
              "      <th>2016/12/16</th>\n",
              "      <th>2016/12/17</th>\n",
              "      <th>2016/12/18</th>\n",
              "      <th>2016/12/19</th>\n",
              "      <th>2016/12/20</th>\n",
              "      <th>2016/12/21</th>\n",
              "      <th>2016/12/22</th>\n",
              "      <th>2016/12/23</th>\n",
              "      <th>2016/12/24</th>\n",
              "      <th>2016/12/25</th>\n",
              "      <th>2016/12/26</th>\n",
              "      <th>2016/12/27</th>\n",
              "      <th>2016/12/28</th>\n",
              "      <th>2016/12/29</th>\n",
              "      <th>2016/12/30</th>\n",
              "      <th>2016/12/31</th>\n",
              "    </tr>\n",
              "  </thead>\n",
              "  <tbody>\n",
              "    <tr>\n",
              "      <th>0</th>\n",
              "      <td>2NE1_zh.wikipedia.org_all-access_spider</td>\n",
              "      <td>18.0</td>\n",
              "      <td>11.0</td>\n",
              "      <td>5.0</td>\n",
              "      <td>13.0</td>\n",
              "      <td>14.0</td>\n",
              "      <td>9.0</td>\n",
              "      <td>9.0</td>\n",
              "      <td>22.0</td>\n",
              "      <td>26.0</td>\n",
              "      <td>24.0</td>\n",
              "      <td>19.0</td>\n",
              "      <td>10.0</td>\n",
              "      <td>14.0</td>\n",
              "      <td>15.0</td>\n",
              "      <td>8.0</td>\n",
              "      <td>16.0</td>\n",
              "      <td>8.0</td>\n",
              "      <td>8.0</td>\n",
              "      <td>16.0</td>\n",
              "      <td>7.0</td>\n",
              "      <td>11.0</td>\n",
              "      <td>10.0</td>\n",
              "      <td>20.0</td>\n",
              "      <td>18.0</td>\n",
              "      <td>15.0</td>\n",
              "      <td>14.0</td>\n",
              "      <td>49.0</td>\n",
              "      <td>10.0</td>\n",
              "      <td>16.0</td>\n",
              "      <td>18.0</td>\n",
              "      <td>8.0</td>\n",
              "      <td>5.0</td>\n",
              "      <td>9.0</td>\n",
              "      <td>7.0</td>\n",
              "      <td>13.0</td>\n",
              "      <td>9.0</td>\n",
              "      <td>7.0</td>\n",
              "      <td>4.0</td>\n",
              "      <td>11.0</td>\n",
              "      <td>...</td>\n",
              "      <td>24</td>\n",
              "      <td>14</td>\n",
              "      <td>11</td>\n",
              "      <td>204</td>\n",
              "      <td>14</td>\n",
              "      <td>45</td>\n",
              "      <td>33</td>\n",
              "      <td>28</td>\n",
              "      <td>18</td>\n",
              "      <td>14</td>\n",
              "      <td>47</td>\n",
              "      <td>15</td>\n",
              "      <td>14</td>\n",
              "      <td>18</td>\n",
              "      <td>20</td>\n",
              "      <td>14</td>\n",
              "      <td>16</td>\n",
              "      <td>14</td>\n",
              "      <td>20</td>\n",
              "      <td>60</td>\n",
              "      <td>22</td>\n",
              "      <td>15</td>\n",
              "      <td>17</td>\n",
              "      <td>19</td>\n",
              "      <td>18</td>\n",
              "      <td>21</td>\n",
              "      <td>21</td>\n",
              "      <td>47</td>\n",
              "      <td>65</td>\n",
              "      <td>17</td>\n",
              "      <td>32</td>\n",
              "      <td>63</td>\n",
              "      <td>15</td>\n",
              "      <td>26</td>\n",
              "      <td>14</td>\n",
              "      <td>20</td>\n",
              "      <td>22</td>\n",
              "      <td>19</td>\n",
              "      <td>18</td>\n",
              "      <td>20</td>\n",
              "    </tr>\n",
              "    <tr>\n",
              "      <th>1</th>\n",
              "      <td>2PM_zh.wikipedia.org_all-access_spider</td>\n",
              "      <td>11.0</td>\n",
              "      <td>14.0</td>\n",
              "      <td>15.0</td>\n",
              "      <td>18.0</td>\n",
              "      <td>11.0</td>\n",
              "      <td>13.0</td>\n",
              "      <td>22.0</td>\n",
              "      <td>11.0</td>\n",
              "      <td>10.0</td>\n",
              "      <td>4.0</td>\n",
              "      <td>41.0</td>\n",
              "      <td>65.0</td>\n",
              "      <td>57.0</td>\n",
              "      <td>38.0</td>\n",
              "      <td>20.0</td>\n",
              "      <td>62.0</td>\n",
              "      <td>44.0</td>\n",
              "      <td>15.0</td>\n",
              "      <td>10.0</td>\n",
              "      <td>47.0</td>\n",
              "      <td>24.0</td>\n",
              "      <td>17.0</td>\n",
              "      <td>22.0</td>\n",
              "      <td>9.0</td>\n",
              "      <td>39.0</td>\n",
              "      <td>13.0</td>\n",
              "      <td>11.0</td>\n",
              "      <td>12.0</td>\n",
              "      <td>21.0</td>\n",
              "      <td>19.0</td>\n",
              "      <td>9.0</td>\n",
              "      <td>15.0</td>\n",
              "      <td>33.0</td>\n",
              "      <td>8.0</td>\n",
              "      <td>8.0</td>\n",
              "      <td>7.0</td>\n",
              "      <td>13.0</td>\n",
              "      <td>2.0</td>\n",
              "      <td>23.0</td>\n",
              "      <td>...</td>\n",
              "      <td>14</td>\n",
              "      <td>15</td>\n",
              "      <td>15</td>\n",
              "      <td>11</td>\n",
              "      <td>20</td>\n",
              "      <td>13</td>\n",
              "      <td>19</td>\n",
              "      <td>621</td>\n",
              "      <td>57</td>\n",
              "      <td>17</td>\n",
              "      <td>23</td>\n",
              "      <td>19</td>\n",
              "      <td>21</td>\n",
              "      <td>47</td>\n",
              "      <td>28</td>\n",
              "      <td>22</td>\n",
              "      <td>22</td>\n",
              "      <td>65</td>\n",
              "      <td>27</td>\n",
              "      <td>17</td>\n",
              "      <td>17</td>\n",
              "      <td>13</td>\n",
              "      <td>9</td>\n",
              "      <td>18</td>\n",
              "      <td>22</td>\n",
              "      <td>17</td>\n",
              "      <td>15</td>\n",
              "      <td>22</td>\n",
              "      <td>23</td>\n",
              "      <td>19</td>\n",
              "      <td>17</td>\n",
              "      <td>42</td>\n",
              "      <td>28</td>\n",
              "      <td>15</td>\n",
              "      <td>9</td>\n",
              "      <td>30</td>\n",
              "      <td>52</td>\n",
              "      <td>45</td>\n",
              "      <td>26</td>\n",
              "      <td>20</td>\n",
              "    </tr>\n",
              "    <tr>\n",
              "      <th>2</th>\n",
              "      <td>3C_zh.wikipedia.org_all-access_spider</td>\n",
              "      <td>1.0</td>\n",
              "      <td>0.0</td>\n",
              "      <td>1.0</td>\n",
              "      <td>1.0</td>\n",
              "      <td>0.0</td>\n",
              "      <td>4.0</td>\n",
              "      <td>0.0</td>\n",
              "      <td>3.0</td>\n",
              "      <td>4.0</td>\n",
              "      <td>4.0</td>\n",
              "      <td>1.0</td>\n",
              "      <td>1.0</td>\n",
              "      <td>1.0</td>\n",
              "      <td>6.0</td>\n",
              "      <td>8.0</td>\n",
              "      <td>6.0</td>\n",
              "      <td>4.0</td>\n",
              "      <td>5.0</td>\n",
              "      <td>1.0</td>\n",
              "      <td>2.0</td>\n",
              "      <td>3.0</td>\n",
              "      <td>8.0</td>\n",
              "      <td>8.0</td>\n",
              "      <td>6.0</td>\n",
              "      <td>6.0</td>\n",
              "      <td>2.0</td>\n",
              "      <td>2.0</td>\n",
              "      <td>3.0</td>\n",
              "      <td>2.0</td>\n",
              "      <td>4.0</td>\n",
              "      <td>3.0</td>\n",
              "      <td>3.0</td>\n",
              "      <td>5.0</td>\n",
              "      <td>3.0</td>\n",
              "      <td>5.0</td>\n",
              "      <td>4.0</td>\n",
              "      <td>2.0</td>\n",
              "      <td>5.0</td>\n",
              "      <td>1.0</td>\n",
              "      <td>...</td>\n",
              "      <td>9</td>\n",
              "      <td>3</td>\n",
              "      <td>5</td>\n",
              "      <td>4</td>\n",
              "      <td>0</td>\n",
              "      <td>1</td>\n",
              "      <td>4</td>\n",
              "      <td>5</td>\n",
              "      <td>8</td>\n",
              "      <td>8</td>\n",
              "      <td>1</td>\n",
              "      <td>1</td>\n",
              "      <td>2</td>\n",
              "      <td>5</td>\n",
              "      <td>3</td>\n",
              "      <td>3</td>\n",
              "      <td>3</td>\n",
              "      <td>7</td>\n",
              "      <td>3</td>\n",
              "      <td>9</td>\n",
              "      <td>8</td>\n",
              "      <td>3</td>\n",
              "      <td>210</td>\n",
              "      <td>5</td>\n",
              "      <td>4</td>\n",
              "      <td>6</td>\n",
              "      <td>2</td>\n",
              "      <td>2</td>\n",
              "      <td>4</td>\n",
              "      <td>3</td>\n",
              "      <td>3</td>\n",
              "      <td>1</td>\n",
              "      <td>1</td>\n",
              "      <td>7</td>\n",
              "      <td>4</td>\n",
              "      <td>4</td>\n",
              "      <td>6</td>\n",
              "      <td>3</td>\n",
              "      <td>4</td>\n",
              "      <td>17</td>\n",
              "    </tr>\n",
              "    <tr>\n",
              "      <th>3</th>\n",
              "      <td>4minute_zh.wikipedia.org_all-access_spider</td>\n",
              "      <td>35.0</td>\n",
              "      <td>13.0</td>\n",
              "      <td>10.0</td>\n",
              "      <td>94.0</td>\n",
              "      <td>4.0</td>\n",
              "      <td>26.0</td>\n",
              "      <td>14.0</td>\n",
              "      <td>9.0</td>\n",
              "      <td>11.0</td>\n",
              "      <td>16.0</td>\n",
              "      <td>16.0</td>\n",
              "      <td>11.0</td>\n",
              "      <td>23.0</td>\n",
              "      <td>145.0</td>\n",
              "      <td>14.0</td>\n",
              "      <td>17.0</td>\n",
              "      <td>85.0</td>\n",
              "      <td>4.0</td>\n",
              "      <td>30.0</td>\n",
              "      <td>22.0</td>\n",
              "      <td>9.0</td>\n",
              "      <td>10.0</td>\n",
              "      <td>11.0</td>\n",
              "      <td>7.0</td>\n",
              "      <td>7.0</td>\n",
              "      <td>11.0</td>\n",
              "      <td>9.0</td>\n",
              "      <td>11.0</td>\n",
              "      <td>44.0</td>\n",
              "      <td>8.0</td>\n",
              "      <td>14.0</td>\n",
              "      <td>19.0</td>\n",
              "      <td>10.0</td>\n",
              "      <td>17.0</td>\n",
              "      <td>17.0</td>\n",
              "      <td>10.0</td>\n",
              "      <td>7.0</td>\n",
              "      <td>10.0</td>\n",
              "      <td>1.0</td>\n",
              "      <td>...</td>\n",
              "      <td>7</td>\n",
              "      <td>10</td>\n",
              "      <td>7</td>\n",
              "      <td>10</td>\n",
              "      <td>14</td>\n",
              "      <td>17</td>\n",
              "      <td>11</td>\n",
              "      <td>9</td>\n",
              "      <td>11</td>\n",
              "      <td>5</td>\n",
              "      <td>10</td>\n",
              "      <td>8</td>\n",
              "      <td>17</td>\n",
              "      <td>13</td>\n",
              "      <td>23</td>\n",
              "      <td>40</td>\n",
              "      <td>16</td>\n",
              "      <td>17</td>\n",
              "      <td>41</td>\n",
              "      <td>17</td>\n",
              "      <td>8</td>\n",
              "      <td>9</td>\n",
              "      <td>18</td>\n",
              "      <td>12</td>\n",
              "      <td>12</td>\n",
              "      <td>18</td>\n",
              "      <td>13</td>\n",
              "      <td>18</td>\n",
              "      <td>23</td>\n",
              "      <td>10</td>\n",
              "      <td>32</td>\n",
              "      <td>10</td>\n",
              "      <td>26</td>\n",
              "      <td>27</td>\n",
              "      <td>16</td>\n",
              "      <td>11</td>\n",
              "      <td>17</td>\n",
              "      <td>19</td>\n",
              "      <td>10</td>\n",
              "      <td>11</td>\n",
              "    </tr>\n",
              "    <tr>\n",
              "      <th>4</th>\n",
              "      <td>52_Hz_I_Love_You_zh.wikipedia.org_all-access_s...</td>\n",
              "      <td>NaN</td>\n",
              "      <td>NaN</td>\n",
              "      <td>NaN</td>\n",
              "      <td>NaN</td>\n",
              "      <td>NaN</td>\n",
              "      <td>NaN</td>\n",
              "      <td>NaN</td>\n",
              "      <td>NaN</td>\n",
              "      <td>NaN</td>\n",
              "      <td>NaN</td>\n",
              "      <td>NaN</td>\n",
              "      <td>NaN</td>\n",
              "      <td>NaN</td>\n",
              "      <td>NaN</td>\n",
              "      <td>NaN</td>\n",
              "      <td>NaN</td>\n",
              "      <td>NaN</td>\n",
              "      <td>NaN</td>\n",
              "      <td>NaN</td>\n",
              "      <td>NaN</td>\n",
              "      <td>NaN</td>\n",
              "      <td>NaN</td>\n",
              "      <td>NaN</td>\n",
              "      <td>NaN</td>\n",
              "      <td>NaN</td>\n",
              "      <td>NaN</td>\n",
              "      <td>NaN</td>\n",
              "      <td>NaN</td>\n",
              "      <td>NaN</td>\n",
              "      <td>NaN</td>\n",
              "      <td>NaN</td>\n",
              "      <td>NaN</td>\n",
              "      <td>NaN</td>\n",
              "      <td>NaN</td>\n",
              "      <td>NaN</td>\n",
              "      <td>NaN</td>\n",
              "      <td>NaN</td>\n",
              "      <td>NaN</td>\n",
              "      <td>NaN</td>\n",
              "      <td>...</td>\n",
              "      <td>14</td>\n",
              "      <td>13</td>\n",
              "      <td>15</td>\n",
              "      <td>14</td>\n",
              "      <td>16</td>\n",
              "      <td>9</td>\n",
              "      <td>178</td>\n",
              "      <td>64</td>\n",
              "      <td>12</td>\n",
              "      <td>10</td>\n",
              "      <td>11</td>\n",
              "      <td>6</td>\n",
              "      <td>8</td>\n",
              "      <td>7</td>\n",
              "      <td>9</td>\n",
              "      <td>8</td>\n",
              "      <td>5</td>\n",
              "      <td>11</td>\n",
              "      <td>8</td>\n",
              "      <td>4</td>\n",
              "      <td>15</td>\n",
              "      <td>5</td>\n",
              "      <td>8</td>\n",
              "      <td>8</td>\n",
              "      <td>6</td>\n",
              "      <td>7</td>\n",
              "      <td>15</td>\n",
              "      <td>4</td>\n",
              "      <td>11</td>\n",
              "      <td>7</td>\n",
              "      <td>48</td>\n",
              "      <td>9</td>\n",
              "      <td>25</td>\n",
              "      <td>13</td>\n",
              "      <td>3</td>\n",
              "      <td>11</td>\n",
              "      <td>27</td>\n",
              "      <td>13</td>\n",
              "      <td>36</td>\n",
              "      <td>10</td>\n",
              "    </tr>\n",
              "  </tbody>\n",
              "</table>\n",
              "<p>5 rows × 551 columns</p>\n",
              "</div>"
            ],
            "text/plain": [
              "                                                Page  ...  2016/12/31\n",
              "0            2NE1_zh.wikipedia.org_all-access_spider  ...          20\n",
              "1             2PM_zh.wikipedia.org_all-access_spider  ...          20\n",
              "2              3C_zh.wikipedia.org_all-access_spider  ...          17\n",
              "3         4minute_zh.wikipedia.org_all-access_spider  ...          11\n",
              "4  52_Hz_I_Love_You_zh.wikipedia.org_all-access_s...  ...          10\n",
              "\n",
              "[5 rows x 551 columns]"
            ]
          },
          "metadata": {
            "tags": []
          },
          "execution_count": 2
        }
      ]
    },
    {
      "cell_type": "code",
      "metadata": {
        "id": "HpKUjHu0TnHm",
        "colab_type": "code",
        "outputId": "c28e977a-f2dc-421b-833a-69eb3ab5939b",
        "colab": {
          "base_uri": "https://localhost:8080/",
          "height": 101
        }
      },
      "source": [
        "df.info()"
      ],
      "execution_count": 3,
      "outputs": [
        {
          "output_type": "stream",
          "text": [
            "<class 'pandas.core.frame.DataFrame'>\n",
            "RangeIndex: 13 entries, 0 to 12\n",
            "Columns: 551 entries, Page to 2016/12/31\n",
            "dtypes: float64(365), int64(185), object(1)\n",
            "memory usage: 56.1+ KB\n"
          ],
          "name": "stdout"
        }
      ]
    },
    {
      "cell_type": "code",
      "metadata": {
        "id": "QvANpoVRTnHr",
        "colab_type": "code",
        "outputId": "4f179266-00e5-48c5-8469-9759cf4b20fb",
        "colab": {
          "base_uri": "https://localhost:8080/",
          "height": 34
        }
      },
      "source": [
        "data_start_date = df.columns[1]\n",
        "data_end_date = df.columns[-1]\n",
        "print('Data ranges from %s to %s' % (data_start_date, data_end_date))"
      ],
      "execution_count": 4,
      "outputs": [
        {
          "output_type": "stream",
          "text": [
            "Data ranges from 2015/7/1 to 2016/12/31\n"
          ],
          "name": "stdout"
        }
      ]
    },
    {
      "cell_type": "markdown",
      "metadata": {
        "id": "VRhH5RXRTnHv",
        "colab_type": "text"
      },
      "source": [
        "We can define a function that lets us visualize some random webpage series as below. For the sake of smoothing out the scale of traffic across different series, we apply a log1p transformation before plotting - i.e. take $\\log(1+x)$ for each value $x$ in a series."
      ]
    },
    {
      "cell_type": "code",
      "metadata": {
        "id": "EQyDige3TnHw",
        "colab_type": "code",
        "outputId": "d1772e17-f3cf-4269-90a5-a43de50764a6",
        "colab": {
          "base_uri": "https://localhost:8080/",
          "height": 393
        }
      },
      "source": [
        "def plot_random_series(df, n_series):\n",
        "    \n",
        "    sample = df.sample(n_series, random_state=8)\n",
        "    page_labels = sample['Page'].tolist()\n",
        "    series_samples = sample.loc[:,data_start_date:data_end_date]\n",
        "    \n",
        "    plt.figure(figsize=(10,6))\n",
        "    \n",
        "    for i in range(series_samples.shape[0]):\n",
        "        np.log1p(pd.Series(series_samples.iloc[i]).astype(np.float64)).plot(linewidth=1.5)\n",
        "    \n",
        "    plt.title('Randomly Selected Wikipedia Page Daily Views Over Time (Log(views) + 1)')\n",
        "    plt.legend(page_labels)\n",
        "    \n",
        "plot_random_series(df, 6)"
      ],
      "execution_count": 5,
      "outputs": [
        {
          "output_type": "display_data",
          "data": {
            "image/png": "[encoded data removed]",
            "text/plain": [
              "<Figure size 720x432 with 1 Axes>"
            ]
          },
          "metadata": {
            "tags": []
          }
        }
      ]
    },
    {
      "cell_type": "markdown",
      "metadata": {
        "id": "OC8sdkGeTnH1",
        "colab_type": "text"
      },
      "source": [
        "## 2. Exogenous Feature Engineering"
      ]
    },
    {
      "cell_type": "markdown",
      "metadata": {
        "id": "XAc-T0hyTnH2",
        "colab_type": "text"
      },
      "source": [
        "Glancing back at our preview of the data above, we see that we have information that isn't directly captured by the raw traffic time series. The **page column** gives us metadata on each series that might guide our model in identifying shared patterns across related series. For example, pages written in the same language may exhibit similar seasonality patterns. Similarly, the **date column headers** let us explicitly encode day of the week information as a way of anchoring the model's understanding of weekly seasonality. In the code to follow, we'll extract numeric features from both of these sources and wrangle them into a format that keras will cleanly accept as input when combined with the raw series.\n",
        "\n",
        "\n",
        "\n",
        "![architecture](https://github.com/JEddy92/TimeSeries_Seq2Seq/blob/master/notebooks/images/Page_exog.png?raw=1)\n",
        "\n",
        "\n",
        "\n",
        "Let's start by converting dates to **one-hot-encoded** / **dummy variable** representations of day of the week, following the standard approach for handling categorical features. It's simple to do this using pandas:  "
      ]
    },
    {
      "cell_type": "code",
      "metadata": {
        "id": "7ixks6waTnH4",
        "colab_type": "code",
        "outputId": "3d45a1dd-fc26-4c02-c81a-7e47d5c11158",
        "colab": {
          "base_uri": "https://localhost:8080/",
          "height": 284
        }
      },
      "source": [
        "dow_ohe = pd.get_dummies(pd.to_datetime(df.columns[1:]).dayofweek)\n",
        "dow_ohe.head(8)"
      ],
      "execution_count": 6,
      "outputs": [
        {
          "output_type": "execute_result",
          "data": {
            "text/html": [
              "<div>\n",
              "<style scoped>\n",
              "    .dataframe tbody tr th:only-of-type {\n",
              "        vertical-align: middle;\n",
              "    }\n",
              "\n",
              "    .dataframe tbody tr th {\n",
              "        vertical-align: top;\n",
              "    }\n",
              "\n",
              "    .dataframe thead th {\n",
              "        text-align: right;\n",
              "    }\n",
              "</style>\n",
              "<table border=\"1\" class=\"dataframe\">\n",
              "  <thead>\n",
              "    <tr style=\"text-align: right;\">\n",
              "      <th></th>\n",
              "      <th>0</th>\n",
              "      <th>1</th>\n",
              "      <th>2</th>\n",
              "      <th>3</th>\n",
              "      <th>4</th>\n",
              "      <th>5</th>\n",
              "      <th>6</th>\n",
              "    </tr>\n",
              "  </thead>\n",
              "  <tbody>\n",
              "    <tr>\n",
              "      <th>0</th>\n",
              "      <td>0</td>\n",
              "      <td>0</td>\n",
              "      <td>1</td>\n",
              "      <td>0</td>\n",
              "      <td>0</td>\n",
              "      <td>0</td>\n",
              "      <td>0</td>\n",
              "    </tr>\n",
              "    <tr>\n",
              "      <th>1</th>\n",
              "      <td>0</td>\n",
              "      <td>0</td>\n",
              "      <td>0</td>\n",
              "      <td>1</td>\n",
              "      <td>0</td>\n",
              "      <td>0</td>\n",
              "      <td>0</td>\n",
              "    </tr>\n",
              "    <tr>\n",
              "      <th>2</th>\n",
              "      <td>0</td>\n",
              "      <td>0</td>\n",
              "      <td>0</td>\n",
              "      <td>0</td>\n",
              "      <td>1</td>\n",
              "      <td>0</td>\n",
              "      <td>0</td>\n",
              "    </tr>\n",
              "    <tr>\n",
              "      <th>3</th>\n",
              "      <td>0</td>\n",
              "      <td>0</td>\n",
              "      <td>0</td>\n",
              "      <td>0</td>\n",
              "      <td>0</td>\n",
              "      <td>1</td>\n",
              "      <td>0</td>\n",
              "    </tr>\n",
              "    <tr>\n",
              "      <th>4</th>\n",
              "      <td>0</td>\n",
              "      <td>0</td>\n",
              "      <td>0</td>\n",
              "      <td>0</td>\n",
              "      <td>0</td>\n",
              "      <td>0</td>\n",
              "      <td>1</td>\n",
              "    </tr>\n",
              "    <tr>\n",
              "      <th>5</th>\n",
              "      <td>1</td>\n",
              "      <td>0</td>\n",
              "      <td>0</td>\n",
              "      <td>0</td>\n",
              "      <td>0</td>\n",
              "      <td>0</td>\n",
              "      <td>0</td>\n",
              "    </tr>\n",
              "    <tr>\n",
              "      <th>6</th>\n",
              "      <td>0</td>\n",
              "      <td>1</td>\n",
              "      <td>0</td>\n",
              "      <td>0</td>\n",
              "      <td>0</td>\n",
              "      <td>0</td>\n",
              "      <td>0</td>\n",
              "    </tr>\n",
              "    <tr>\n",
              "      <th>7</th>\n",
              "      <td>0</td>\n",
              "      <td>0</td>\n",
              "      <td>1</td>\n",
              "      <td>0</td>\n",
              "      <td>0</td>\n",
              "      <td>0</td>\n",
              "      <td>0</td>\n",
              "    </tr>\n",
              "  </tbody>\n",
              "</table>\n",
              "</div>"
            ],
            "text/plain": [
              "   0  1  2  3  4  5  6\n",
              "0  0  0  1  0  0  0  0\n",
              "1  0  0  0  1  0  0  0\n",
              "2  0  0  0  0  1  0  0\n",
              "3  0  0  0  0  0  1  0\n",
              "4  0  0  0  0  0  0  1\n",
              "5  1  0  0  0  0  0  0\n",
              "6  0  1  0  0  0  0  0\n",
              "7  0  0  1  0  0  0  0"
            ]
          },
          "metadata": {
            "tags": []
          },
          "execution_count": 6
        }
      ]
    },
    {
      "cell_type": "markdown",
      "metadata": {
        "id": "aqjRGyDdTnH-",
        "colab_type": "text"
      },
      "source": [
        "Right now we have a dataframe of shape (n_timesteps, 7), with binary columns corresponding to each day of the week. We need to do a bit more for keras-friendly formatting: when processing a sequence of features, keras expects input arrays (tensors) of shape **(n_samples, n_timesteps, n_features)**. In this case, the day of week features are shared across all of the individual page series (our samples), so we want to just repeat the one-hot-encoded data n_samples (~145,000) times to get the 3-dimensional array we need. We can accomplish this using the handy numpy functions **expand_dims** and **tile** as below."
      ]
    },
    {
      "cell_type": "code",
      "metadata": {
        "id": "wGWN2whXTnH_",
        "colab_type": "code",
        "outputId": "2bd6963b-5378-405a-cd43-796f250747f2",
        "colab": {
          "base_uri": "https://localhost:8080/",
          "height": 34
        }
      },
      "source": [
        "dow_array = np.expand_dims(dow_ohe.values, axis=0) # add sample dimension\n",
        "dow_array = np.tile(dow_array,(df.shape[0],1,1)) # repeat OHE array along sample dimension\n",
        "dow_array.shape"
      ],
      "execution_count": 7,
      "outputs": [
        {
          "output_type": "execute_result",
          "data": {
            "text/plain": [
              "(13, 550, 7)"
            ]
          },
          "metadata": {
            "tags": []
          },
          "execution_count": 7
        }
      ]
    },
    {
      "cell_type": "markdown",
      "metadata": {
        "id": "ycAR2h-6TnID",
        "colab_type": "text"
      },
      "source": [
        "Great, that's the exact format we need for an input array; now we'll just add the **page metadata** to this array. Let's take a quick look at the raw format of that metadata:"
      ]
    },
    {
      "cell_type": "code",
      "metadata": {
        "id": "elybv64WTnIE",
        "colab_type": "code",
        "outputId": "ac5c3219-1dd1-44b8-b0f2-88f15497ee4d",
        "colab": {
          "base_uri": "https://localhost:8080/",
          "height": 168
        }
      },
      "source": [
        "df['Page'].head(8)"
      ],
      "execution_count": 8,
      "outputs": [
        {
          "output_type": "execute_result",
          "data": {
            "text/plain": [
              "0              2NE1_zh.wikipedia.org_all-access_spider\n",
              "1               2PM_zh.wikipedia.org_all-access_spider\n",
              "2                3C_zh.wikipedia.org_all-access_spider\n",
              "3           4minute_zh.wikipedia.org_all-access_spider\n",
              "4    52_Hz_I_Love_You_zh.wikipedia.org_all-access_s...\n",
              "5              5566_zh.wikipedia.org_all-access_spider\n",
              "6            91Days_zh.wikipedia.org_all-access_spider\n",
              "7             A'N'D_zh.wikipedia.org_all-access_spider\n",
              "Name: Page, dtype: object"
            ]
          },
          "metadata": {
            "tags": []
          },
          "execution_count": 8
        }
      ]
    },
    {
      "cell_type": "markdown",
      "metadata": {
        "id": "zGvXpxK1TnIJ",
        "colab_type": "text"
      },
      "source": [
        "It turns out that this data is underscore delimited as **name_project_access_agent**. We should split that out into distinct columns, with the one tricky part being that underscores can occur in the _name_ field that would throw off a simple split on underscore. A quick workaround is to use the **rsplit** function to work from right to left and limit the number of splits to 3. "
      ]
    },
    {
      "cell_type": "code",
      "metadata": {
        "id": "CgChErQjTnIL",
        "colab_type": "code",
        "outputId": "b85a7ec5-077c-4318-b4f7-8fbd22f24a82",
        "colab": {
          "base_uri": "https://localhost:8080/",
          "height": 195
        }
      },
      "source": [
        "page_df = df['Page'].str.rsplit('_', n=3, expand=True) # split page string and expand to multiple columns \n",
        "page_df.columns = ['name','project','access','agent']\n",
        "page_df.head()"
      ],
      "execution_count": 9,
      "outputs": [
        {
          "output_type": "execute_result",
          "data": {
            "text/html": [
              "<div>\n",
              "<style scoped>\n",
              "    .dataframe tbody tr th:only-of-type {\n",
              "        vertical-align: middle;\n",
              "    }\n",
              "\n",
              "    .dataframe tbody tr th {\n",
              "        vertical-align: top;\n",
              "    }\n",
              "\n",
              "    .dataframe thead th {\n",
              "        text-align: right;\n",
              "    }\n",
              "</style>\n",
              "<table border=\"1\" class=\"dataframe\">\n",
              "  <thead>\n",
              "    <tr style=\"text-align: right;\">\n",
              "      <th></th>\n",
              "      <th>name</th>\n",
              "      <th>project</th>\n",
              "      <th>access</th>\n",
              "      <th>agent</th>\n",
              "    </tr>\n",
              "  </thead>\n",
              "  <tbody>\n",
              "    <tr>\n",
              "      <th>0</th>\n",
              "      <td>2NE1</td>\n",
              "      <td>zh.wikipedia.org</td>\n",
              "      <td>all-access</td>\n",
              "      <td>spider</td>\n",
              "    </tr>\n",
              "    <tr>\n",
              "      <th>1</th>\n",
              "      <td>2PM</td>\n",
              "      <td>zh.wikipedia.org</td>\n",
              "      <td>all-access</td>\n",
              "      <td>spider</td>\n",
              "    </tr>\n",
              "    <tr>\n",
              "      <th>2</th>\n",
              "      <td>3C</td>\n",
              "      <td>zh.wikipedia.org</td>\n",
              "      <td>all-access</td>\n",
              "      <td>spider</td>\n",
              "    </tr>\n",
              "    <tr>\n",
              "      <th>3</th>\n",
              "      <td>4minute</td>\n",
              "      <td>zh.wikipedia.org</td>\n",
              "      <td>all-access</td>\n",
              "      <td>spider</td>\n",
              "    </tr>\n",
              "    <tr>\n",
              "      <th>4</th>\n",
              "      <td>52_Hz_I_Love_You</td>\n",
              "      <td>zh.wikipedia.org</td>\n",
              "      <td>all-access</td>\n",
              "      <td>spider</td>\n",
              "    </tr>\n",
              "  </tbody>\n",
              "</table>\n",
              "</div>"
            ],
            "text/plain": [
              "               name           project      access   agent\n",
              "0              2NE1  zh.wikipedia.org  all-access  spider\n",
              "1               2PM  zh.wikipedia.org  all-access  spider\n",
              "2                3C  zh.wikipedia.org  all-access  spider\n",
              "3           4minute  zh.wikipedia.org  all-access  spider\n",
              "4  52_Hz_I_Love_You  zh.wikipedia.org  all-access  spider"
            ]
          },
          "metadata": {
            "tags": []
          },
          "execution_count": 9
        }
      ]
    },
    {
      "cell_type": "markdown",
      "metadata": {
        "id": "YGiEG04bTnIO",
        "colab_type": "text"
      },
      "source": [
        "That looks great, so let's do a quick cardinality check on each of these categorical variables before we one-hot-encode them like we did for day of the week."
      ]
    },
    {
      "cell_type": "code",
      "metadata": {
        "id": "1MjJl76iTnIQ",
        "colab_type": "code",
        "outputId": "d83d05a6-24d4-4218-9cd3-9e0855a43adf",
        "colab": {
          "base_uri": "https://localhost:8080/",
          "height": 101
        }
      },
      "source": [
        "page_df.nunique()"
      ],
      "execution_count": 10,
      "outputs": [
        {
          "output_type": "execute_result",
          "data": {
            "text/plain": [
              "name       13\n",
              "project     1\n",
              "access      1\n",
              "agent       1\n",
              "dtype: int64"
            ]
          },
          "metadata": {
            "tags": []
          },
          "execution_count": 10
        }
      ]
    },
    {
      "cell_type": "markdown",
      "metadata": {
        "id": "biyv7q6iTnIT",
        "colab_type": "text"
      },
      "source": [
        "Since there are so many different names, it's likely more trouble than it's worth to include name in our feature set (it would mean an increase of ~50000 features in our input array!). So we'll drop name and one-hot-encode the low cardinality features to get a dataframe of shape (n_samples, n_features). Then we can repeat these features along the timesteps dimension to get the needed 3-dimensional array.      "
      ]
    },
    {
      "cell_type": "code",
      "metadata": {
        "id": "EBftAEYpTnIU",
        "colab_type": "code",
        "outputId": "b54f319f-a901-4836-ce06-1b17ac2d39ec",
        "colab": {
          "base_uri": "https://localhost:8080/",
          "height": 34
        }
      },
      "source": [
        "page_df = page_df.drop('name', axis=1)\n",
        "\n",
        "page_array = pd.get_dummies(page_df).values\n",
        "page_array = np.expand_dims(page_array, axis=1) # add timesteps dimension\n",
        "page_array = np.tile(page_array,(1,dow_array.shape[1],1)) # repeat OHE array along timesteps dimension \n",
        "page_array.shape"
      ],
      "execution_count": 11,
      "outputs": [
        {
          "output_type": "execute_result",
          "data": {
            "text/plain": [
              "(13, 550, 3)"
            ]
          },
          "metadata": {
            "tags": []
          },
          "execution_count": 11
        }
      ]
    },
    {
      "cell_type": "markdown",
      "metadata": {
        "id": "VPI4f6N9TnIa",
        "colab_type": "text"
      },
      "source": [
        "The final step to complete our exogenous feature array is simply to concatenate the day of week information and page metadata into one shared array."
      ]
    },
    {
      "cell_type": "code",
      "metadata": {
        "id": "bc8520J9TnIb",
        "colab_type": "code",
        "outputId": "afbcd72f-6ff4-4f8f-82a1-2f3ad9735643",
        "colab": {
          "base_uri": "https://localhost:8080/",
          "height": 34
        }
      },
      "source": [
        "exog_array = np.concatenate([dow_array, page_array], axis=-1)\n",
        "exog_array.shape"
      ],
      "execution_count": 12,
      "outputs": [
        {
          "output_type": "execute_result",
          "data": {
            "text/plain": [
              "(13, 550, 10)"
            ]
          },
          "metadata": {
            "tags": []
          },
          "execution_count": 12
        }
      ]
    },
    {
      "cell_type": "markdown",
      "metadata": {
        "id": "LgvxPLesTnIe",
        "colab_type": "text"
      },
      "source": [
        "That's it, our exogenous feature extraction is all done! In the next section we'll write a function that lets us combine this exogenous feature array with the endogenous time series data in order to prepare for model training and prediction.   "
      ]
    },
    {
      "cell_type": "markdown",
      "metadata": {
        "id": "-qTnf9S0TnIg",
        "colab_type": "text"
      },
      "source": [
        "## 3. Formatting the Data for Modeling \n",
        "\n",
        "Sadly we can't just throw the time series dataframe and exogenous array we've created into keras and let it work its magic. Instead, we have to set up a few more data transformation steps to extract the exact numpy arrays that we'll later pass to keras. But even before doing that, we have to know how to appropriately partition the time series into encoding and prediction intervals for the purposes of training and validation. Note that for our simple convolutional model we won't use an encoder-decoder architecture like in the first notebook in this repo, but **we'll keep the \"encoding\" and \"decoding\" (prediction) terminology to be consistent** -- in this case, the encoding interval represents the entire series history that we will use for the network's feature learning, but not output any predictions on. \n",
        "\n",
        "We'll use a style of **walk-forward validation**, where our validation set spans the same time-range as our training set, but shifted forward in time (in this case by 60 days). This way, we simulate how our model will perform on unseen data that comes in the future. \n",
        "\n",
        "[Artur Suilin](https://github.com/Arturus/kaggle-web-traffic/blob/master/how_it_works.md) has created a very nice image that visualizes this validation style and contrasts it with traditional validation. I highly recommend checking out his entire repo, as he's implemented a truly state of the art (and competition winning) seq2seq model on this data set. \n",
        "\n",
        "![architecture](https://github.com/JEddy92/TimeSeries_Seq2Seq/blob/master/notebooks/images/ArturSuilin_validation.png?raw=1)\n",
        "\n",
        "### Train and Validation Series Partioning\n",
        "\n",
        "We need to create 4 sub-segments of the data:\n",
        "\n",
        "    1. Train encoding period\n",
        "    2. Train decoding period (train targets, 60 days)\n",
        "    3. Validation encoding period\n",
        "    4. Validation decoding period (validation targets, 60 days)\n",
        "    \n",
        "We'll do this by finding the appropriate start and end dates for each segment. Starting from the end of the data we've loaded, we'll work backwards to get validation and training prediction intervals. Then we'll work forward from the start to get training and validation encoding intervals. "
      ]
    },
    {
      "cell_type": "code",
      "metadata": {
        "id": "7nMUgN9dTnIh",
        "colab_type": "code",
        "colab": {}
      },
      "source": [
        "from datetime import timedelta\n",
        "\n",
        "pred_steps = 60 \n",
        "pred_length=timedelta(pred_steps)\n",
        "\n",
        "first_day = pd.to_datetime(data_start_date) \n",
        "last_day = pd.to_datetime(data_end_date)\n",
        "\n",
        "val_pred_start = last_day - pred_length + timedelta(1)\n",
        "val_pred_end = last_day\n",
        "\n",
        "train_pred_start = val_pred_start - pred_length\n",
        "train_pred_end = val_pred_start - timedelta(days=1) "
      ],
      "execution_count": 0,
      "outputs": []
    },
    {
      "cell_type": "code",
      "metadata": {
        "id": "VcfHXqyDTnIl",
        "colab_type": "code",
        "colab": {}
      },
      "source": [
        "enc_length = train_pred_start - first_day\n",
        "\n",
        "train_enc_start = first_day\n",
        "train_enc_end = train_enc_start + enc_length - timedelta(1)\n",
        "\n",
        "val_enc_start = train_enc_start + pred_length\n",
        "val_enc_end = val_enc_start + enc_length - timedelta(1) "
      ],
      "execution_count": 0,
      "outputs": []
    },
    {
      "cell_type": "code",
      "metadata": {
        "id": "yV8XWY8cTnIq",
        "colab_type": "code",
        "outputId": "c5ae291f-8c61-4073-e02f-a205576fb31c",
        "colab": {
          "base_uri": "https://localhost:8080/",
          "height": 151
        }
      },
      "source": [
        "print('Train encoding:', train_enc_start, '-', train_enc_end)\n",
        "print('Train prediction:', train_pred_start, '-', train_pred_end, '\\n')\n",
        "print('Val encoding:', val_enc_start, '-', val_enc_end)\n",
        "print('Val prediction:', val_pred_start, '-', val_pred_end)\n",
        "\n",
        "print('\\nEncoding interval:', enc_length.days)\n",
        "print('Prediction interval:', pred_length.days)"
      ],
      "execution_count": 15,
      "outputs": [
        {
          "output_type": "stream",
          "text": [
            "Train encoding: 2015-07-01 00:00:00 - 2016-09-02 00:00:00\n",
            "Train prediction: 2016-09-03 00:00:00 - 2016-11-01 00:00:00 \n",
            "\n",
            "Val encoding: 2015-08-30 00:00:00 - 2016-11-01 00:00:00\n",
            "Val prediction: 2016-11-02 00:00:00 - 2016-12-31 00:00:00\n",
            "\n",
            "Encoding interval: 430\n",
            "Prediction interval: 60\n"
          ],
          "name": "stdout"
        }
      ]
    },
    {
      "cell_type": "markdown",
      "metadata": {
        "id": "ZrnmoDkDTnIt",
        "colab_type": "text"
      },
      "source": [
        "### Keras Data Formatting\n",
        "\n",
        "Now that we have the time segment dates, we'll define the functions we need to extract the data in keras friendly format. Here are the steps:\n",
        "\n",
        "* Pull the time series into an array, save a date_to_index mapping as a utility for referencing into the array \n",
        "* Create function to extract specified time interval from all the series \n",
        "* Create functions to transform all the series. \n",
        "    - Here we smooth out the scale by taking log1p and de-meaning each series using the encoder series mean, then reshape to the **(n_series, n_timesteps, n_features) tensor format** that keras will expect. \n",
        "    - Note that if we want to generate true predictions instead of log scale ones, we can easily apply a reverse transformation at prediction time. \n",
        "* Create final function to extract complete encoding and target arrays, leveraging prior functions \n",
        "    - This will act as a one-shot function that grabs what we need to train or predict\n",
        "    - It will extract (transformed) endogenous series data and combine it with our exogenous features"
      ]
    },
    {
      "cell_type": "markdown",
      "metadata": {
        "id": "efzLEbz3TnIu",
        "colab_type": "text"
      },
      "source": [
        "The first code block below accomplishes the first 3 steps, unchanged from the earlier notebooks in this series."
      ]
    },
    {
      "cell_type": "code",
      "metadata": {
        "id": "ZkCT2m-KTnIw",
        "colab_type": "code",
        "colab": {}
      },
      "source": [
        "date_to_index = pd.Series(index=pd.Index([pd.to_datetime(c) for c in df.columns[1:]]),\n",
        "                          data=[i for i in range(len(df.columns[1:]))])\n",
        "\n",
        "series_array = df[df.columns[1:]].values\n",
        "\n",
        "def get_time_block_series(series_array, date_to_index, start_date, end_date):\n",
        "    \n",
        "    inds = date_to_index[start_date:end_date]\n",
        "    return series_array[:,inds]\n",
        "\n",
        "def transform_series_encode(series_array):\n",
        "    \n",
        "    series_array = np.log1p(np.nan_to_num(series_array)) # filling NaN with 0\n",
        "    series_mean = series_array.mean(axis=1).reshape(-1,1) \n",
        "    series_array = series_array - series_mean\n",
        "    series_array = series_array.reshape((series_array.shape[0],series_array.shape[1], 1))\n",
        "    \n",
        "    return series_array, series_mean\n",
        "\n",
        "def transform_series_decode(series_array, encode_series_mean):\n",
        "    \n",
        "    series_array = np.log1p(np.nan_to_num(series_array)) # filling NaN with 0\n",
        "    series_array = series_array - encode_series_mean\n",
        "    series_array = series_array.reshape((series_array.shape[0],series_array.shape[1], 1))\n",
        "    \n",
        "    return series_array"
      ],
      "execution_count": 0,
      "outputs": []
    },
    {
      "cell_type": "markdown",
      "metadata": {
        "id": "TEcd7UWyTnI0",
        "colab_type": "text"
      },
      "source": [
        "Now we can leverage the first 3 processing steps built out above in order to create a one-shot preprocessing function for extracting encoder/input data (with the correct exogenous features attached) and decoder/target data. We'll include arguments that let us choose the number of time series samples to extract and which periods to sample from. With this function written, we'll be ready to set up the model!      "
      ]
    },
    {
      "cell_type": "code",
      "metadata": {
        "id": "WmYa6QRGTnI2",
        "colab_type": "code",
        "colab": {}
      },
      "source": [
        "def get_data_encode_decode(series_array, exog_array, first_n_samples,\n",
        "                           date_to_index, enc_start, enc_end, pred_start, pred_end):\n",
        "\n",
        "    exog_inds = date_to_index[enc_start:pred_end]\n",
        "    \n",
        "    # sample of series from enc_start to enc_end  \n",
        "    encoder_input_data = get_time_block_series(series_array, date_to_index, \n",
        "                                               enc_start, enc_end)[:first_n_samples]\n",
        "    encoder_input_data, encode_series_mean = transform_series_encode(encoder_input_data)\n",
        "    \n",
        "    # sample of series from pred_start to pred_end \n",
        "    decoder_target_data = get_time_block_series(series_array, date_to_index, \n",
        "                                                pred_start, pred_end)[:first_n_samples]\n",
        "    decoder_target_data = transform_series_decode(decoder_target_data, encode_series_mean)\n",
        "    \n",
        "    # we append a lagged history of the target series to the input data, \n",
        "    # so that we can train with teacher forcing\n",
        "    lagged_target_history = decoder_target_data[:,:-1,:1]\n",
        "    encoder_input_data = np.concatenate([encoder_input_data, lagged_target_history], axis=1)\n",
        "    \n",
        "    # we add the exogenous features corresponding to day after input series\n",
        "    # values to the input data (exog should match day we are predicting)\n",
        "    exog_input_data = exog_array[:first_n_samples,exog_inds,:][:,1:,:]\n",
        "    encoder_input_data = np.concatenate([encoder_input_data, exog_input_data], axis=-1)\n",
        "    \n",
        "    return encoder_input_data, decoder_target_data"
      ],
      "execution_count": 0,
      "outputs": []
    },
    {
      "cell_type": "code",
      "metadata": {
        "id": "C1O-7lwaWVXm",
        "colab_type": "code",
        "colab": {}
      },
      "source": [
        "first_n_samples = df.shape[0]\n",
        "encoder_input_data, decoder_target_data = \\\n",
        "    get_data_encode_decode(series_array, exog_array, first_n_samples, date_to_index, \n",
        "                           train_enc_start, train_enc_end, train_pred_start, train_pred_end)"
      ],
      "execution_count": 0,
      "outputs": []
    },
    {
      "cell_type": "markdown",
      "metadata": {
        "id": "7EBfpM6IWt3F",
        "colab_type": "text"
      },
      "source": [
        "## 4. Saving Data\n",
        "\n",
        "This is the only part I added by myself."
      ]
    },
    {
      "cell_type": "code",
      "metadata": {
        "id": "Y5mvF-O6XJq2",
        "colab_type": "code",
        "colab": {}
      },
      "source": [
        "encoder_input_file=\"encoder_input.npy\"\n",
        "decoder_target_file=\"decoder_target.npy\""
      ],
      "execution_count": 0,
      "outputs": []
    },
    {
      "cell_type": "code",
      "metadata": {
        "id": "O0ktUH12WXKV",
        "colab_type": "code",
        "colab": {}
      },
      "source": [
        "np.save(encoder_input_file, encoder_input_data)\n",
        "np.save(decoder_target_file, decoder_target_data)"
      ],
      "execution_count": 0,
      "outputs": []
    },
    {
      "cell_type": "code",
      "metadata": {
        "id": "plRKRoc-ybbh",
        "colab_type": "code",
        "outputId": "e91a5d92-9524-433e-daaa-50228e7e83cc",
        "colab": {
          "base_uri": "https://localhost:8080/",
          "height": 34
        }
      },
      "source": [
        "encoder_input_data.shape"
      ],
      "execution_count": 21,
      "outputs": [
        {
          "output_type": "execute_result",
          "data": {
            "text/plain": [
              "(13, 489, 11)"
            ]
          },
          "metadata": {
            "tags": []
          },
          "execution_count": 21
        }
      ]
    },
    {
      "cell_type": "code",
      "metadata": {
        "id": "d-hYR1-hyrw4",
        "colab_type": "code",
        "outputId": "2b7a65c9-43e2-433b-b424-ff349d1c3a7b",
        "colab": {
          "base_uri": "https://localhost:8080/",
          "height": 67
        }
      },
      "source": [
        "encoder_input_data[0,0,:]"
      ],
      "execution_count": 22,
      "outputs": [
        {
          "output_type": "execute_result",
          "data": {
            "text/plain": [
              "array([0.11255579, 0.        , 0.        , 0.        , 1.        ,\n",
              "       0.        , 0.        , 0.        , 1.        , 1.        ,\n",
              "       1.        ])"
            ]
          },
          "metadata": {
            "tags": []
          },
          "execution_count": 22
        }
      ]
    },
    {
      "cell_type": "code",
      "metadata": {
        "id": "v2CO8y6kygF9",
        "colab_type": "code",
        "outputId": "d30a7c7c-7c9d-458e-bff0-915fd300b9b2",
        "colab": {
          "base_uri": "https://localhost:8080/",
          "height": 34
        }
      },
      "source": [
        "decoder_target_data.shape"
      ],
      "execution_count": 23,
      "outputs": [
        {
          "output_type": "execute_result",
          "data": {
            "text/plain": [
              "(13, 60, 1)"
            ]
          },
          "metadata": {
            "tags": []
          },
          "execution_count": 23
        }
      ]
    },
    {
      "cell_type": "code",
      "metadata": {
        "id": "j-jpp1rQy2go",
        "colab_type": "code",
        "outputId": "3aa2adaf-1d31-45ae-f81b-2faa933faa4d",
        "colab": {
          "base_uri": "https://localhost:8080/",
          "height": 1000
        }
      },
      "source": [
        "decoder_target_data[0,:,:]"
      ],
      "execution_count": 24,
      "outputs": [
        {
          "output_type": "execute_result",
          "data": {
            "text/plain": [
              "array([[ 4.26213344e-01],\n",
              "       [ 1.63849080e-01],\n",
              "       [ 3.46170637e-01],\n",
              "       [ 1.12555785e-01],\n",
              "       [ 1.63849080e-01],\n",
              "       [ 1.12555785e-01],\n",
              "       [ 1.19346850e+00],\n",
              "       [ 1.33015029e-03],\n",
              "       [ 1.35777155e+00],\n",
              "       [-3.46976544e-01],\n",
              "       [-3.46976544e-01],\n",
              "       [-1.92825864e-01],\n",
              "       [ 2.12639244e-01],\n",
              "       [ 2.59159260e-01],\n",
              "       [-1.92825864e-01],\n",
              "       [ 3.86992631e-01],\n",
              "       [ 2.12639244e-01],\n",
              "       [-1.92825864e-01],\n",
              "       [ 6.64624368e-01],\n",
              "       [ 1.33015029e-03],\n",
              "       [-4.33987921e-01],\n",
              "       [-1.92825864e-01],\n",
              "       [ 9.74779296e-01],\n",
              "       [ 5.84885641e-02],\n",
              "       [-1.92825864e-01],\n",
              "       [ 1.45857625e+00],\n",
              "       [ 8.81688873e-01],\n",
              "       [ 1.63849080e-01],\n",
              "       [-1.23832993e-01],\n",
              "       [-1.92825864e-01],\n",
              "       [-2.66933836e-01],\n",
              "       [-1.23832993e-01],\n",
              "       [-4.33987921e-01],\n",
              "       [ 4.63953672e-01],\n",
              "       [-1.92825864e-01],\n",
              "       [ 3.03611022e-01],\n",
              "       [-1.23832993e-01],\n",
              "       [ 3.46170637e-01],\n",
              "       [-2.66933836e-01],\n",
              "       [-6.34658616e-01],\n",
              "       [ 1.09994244e+00],\n",
              "       [-1.92825864e-01],\n",
              "       [-4.33987921e-01],\n",
              "       [ 1.33015029e-03],\n",
              "       [-1.23832993e-01],\n",
              "       [-4.33987921e-01],\n",
              "       [ 3.86992631e-01],\n",
              "       [-4.33987921e-01],\n",
              "       [ 2.12639244e-01],\n",
              "       [-4.33987921e-01],\n",
              "       [ 4.63953672e-01],\n",
              "       [ 4.26213344e-01],\n",
              "       [ 1.33015029e-03],\n",
              "       [ 1.63849080e-01],\n",
              "       [ 2.12639244e-01],\n",
              "       [-2.66933836e-01],\n",
              "       [ 1.63849080e-01],\n",
              "       [ 1.09994244e+00],\n",
              "       [ 1.33015029e-03],\n",
              "       [ 6.02104011e-01]])"
            ]
          },
          "metadata": {
            "tags": []
          },
          "execution_count": 24
        }
      ]
    },
    {
      "cell_type": "code",
      "metadata": {
        "id": "5rL6PBPPWhT0",
        "colab_type": "code",
        "colab": {}
      },
      "source": [
        "from google.colab import files\n",
        "\n",
        "files.download(encoder_input_file)\n",
        "files.download(decoder_target_file)"
      ],
      "execution_count": 0,
      "outputs": []
    }
  ]
}